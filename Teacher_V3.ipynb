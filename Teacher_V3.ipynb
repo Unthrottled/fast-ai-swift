{
 "cells": [
  {
   "cell_type": "code",
   "execution_count": 1,
   "metadata": {},
   "outputs": [
    {
     "name": "stdout",
     "output_type": "stream",
     "text": [
      "Installing packages:\n",
      "\t.package(path: \"/home/ubuntu/workspace/fast-ai-swift/SchwiftyNotebook_Annealing\")\n",
      "\t\tSchwiftyNotebook_Annealing\n",
      "With SwiftPM flags: []\n",
      "Working in: /tmp/tmpoctgcs2t/swift-install\n",
      "warning: /home/ubuntu/swift/usr/bin/swiftc: /home/ubuntu/anaconda3/envs/swift-env/lib/libuuid.so.1: no version information available (required by /home/ubuntu/swift/usr/bin/swiftc)\n",
      "/home/ubuntu/swift/usr/bin/swift: /home/ubuntu/anaconda3/envs/swift-env/lib/libuuid.so.1: no version information available (required by /home/ubuntu/swift/usr/bin/swift)\n",
      "warning: /home/ubuntu/swift/usr/bin/swiftc: /home/ubuntu/anaconda3/envs/swift-env/lib/libuuid.so.1: no version information available (required by /home/ubuntu/swift/usr/bin/swiftc)\n",
      "/home/ubuntu/swift/usr/bin/swift: /home/ubuntu/anaconda3/envs/swift-env/lib/libuuid.so.1: no version information available (required by /home/ubuntu/swift/usr/bin/swift)\n",
      "warning: /home/ubuntu/swift/usr/bin/swiftc: /home/ubuntu/anaconda3/envs/swift-env/lib/libuuid.so.1: no version information available (required by /home/ubuntu/swift/usr/bin/swiftc)\n",
      "/home/ubuntu/swift/usr/bin/swift: /home/ubuntu/anaconda3/envs/swift-env/lib/libuuid.so.1: no version information available (required by /home/ubuntu/swift/usr/bin/swift)\n",
      "warning: /home/ubuntu/swift/usr/bin/swiftc: /home/ubuntu/anaconda3/envs/swift-env/lib/libuuid.so.1: no version information available (required by /home/ubuntu/swift/usr/bin/swiftc)\n",
      "/home/ubuntu/swift/usr/bin/swift: /home/ubuntu/anaconda3/envs/swift-env/lib/libuuid.so.1: no version information available (required by /home/ubuntu/swift/usr/bin/swift)\n",
      "warning: /home/ubuntu/swift/usr/bin/swiftc: /home/ubuntu/anaconda3/envs/swift-env/lib/libuuid.so.1: no version information available (required by /home/ubuntu/swift/usr/bin/swiftc)\n",
      "/home/ubuntu/swift/usr/bin/swift: /home/ubuntu/anaconda3/envs/swift-env/lib/libuuid.so.1: no version information available (required by /home/ubuntu/swift/usr/bin/swift)\n",
      "warning: /home/ubuntu/swift/usr/bin/swiftc: /home/ubuntu/anaconda3/envs/swift-env/lib/libuuid.so.1: no version information available (required by /home/ubuntu/swift/usr/bin/swiftc)\n",
      "/home/ubuntu/swift/usr/bin/swift: /home/ubuntu/anaconda3/envs/swift-env/lib/libuuid.so.1: no version information available (required by /home/ubuntu/swift/usr/bin/swift)\n",
      "warning: /home/ubuntu/swift/usr/bin/swiftc: /home/ubuntu/anaconda3/envs/swift-env/lib/libuuid.so.1: no version information available (required by /home/ubuntu/swift/usr/bin/swiftc)\n",
      "/home/ubuntu/swift/usr/bin/swift: /home/ubuntu/anaconda3/envs/swift-env/lib/libuuid.so.1: no version information available (required by /home/ubuntu/swift/usr/bin/swift)\n",
      "warning: /home/ubuntu/swift/usr/bin/swiftc: /home/ubuntu/anaconda3/envs/swift-env/lib/libuuid.so.1: no version information available (required by /home/ubuntu/swift/usr/bin/swiftc)\n",
      "/home/ubuntu/swift/usr/bin/swift: /home/ubuntu/anaconda3/envs/swift-env/lib/libuuid.so.1: no version information available (required by /home/ubuntu/swift/usr/bin/swift)\n",
      "warning: /home/ubuntu/swift/usr/bin/swiftc: /home/ubuntu/anaconda3/envs/swift-env/lib/libuuid.so.1: no version information available (required by /home/ubuntu/swift/usr/bin/swiftc)\n",
      "/home/ubuntu/swift/usr/bin/swift: /home/ubuntu/anaconda3/envs/swift-env/lib/libuuid.so.1: no version information available (required by /home/ubuntu/swift/usr/bin/swift)\n",
      "warning: /home/ubuntu/swift/usr/bin/swiftc: /home/ubuntu/anaconda3/envs/swift-env/lib/libuuid.so.1: no version information available (required by /home/ubuntu/swift/usr/bin/swiftc)\n",
      "/home/ubuntu/swift/usr/bin/swift: /home/ubuntu/anaconda3/envs/swift-env/lib/libuuid.so.1: no version information available (required by /home/ubuntu/swift/usr/bin/swift)\n",
      "warning: /home/ubuntu/swift/usr/bin/swiftc: /home/ubuntu/anaconda3/envs/swift-env/lib/libuuid.so.1: no version information available (required by /home/ubuntu/swift/usr/bin/swiftc)\n",
      "/home/ubuntu/swift/usr/bin/swift: /home/ubuntu/anaconda3/envs/swift-env/lib/libuuid.so.1: no version information available (required by /home/ubuntu/swift/usr/bin/swift)\n",
      "/home/ubuntu/swift/usr/bin/swiftc: /home/ubuntu/anaconda3/envs/swift-env/lib/libuuid.so.1: no version information available (required by /home/ubuntu/swift/usr/bin/swiftc)\n",
      "/home/ubuntu/swift/usr/bin/swiftc: /home/ubuntu/anaconda3/envs/swift-env/lib/libuuid.so.1: no version information available (required by /home/ubuntu/swift/usr/bin/swiftc)[1/2] Compiling jupyterInstalledPackages jupyterInstalledPackages.swift\n",
      "/home/ubuntu/swift/usr/bin/swift: /home/ubuntu/anaconda3/envs/swift-env/lib/libuuid.so.1: no version information available (required by /home/ubuntu/swift/usr/bin/swift)\n",
      "[2/3] Merging module jupyterInstalledPackages\n",
      "/home/ubuntu/swift/usr/bin/swift: /home/ubuntu/anaconda3/envs/swift-env/lib/libuuid.so.1: no version information available (required by /home/ubuntu/swift/usr/bin/swift)\n",
      "Initializing Swift...\n",
      "Installation complete!\n"
     ]
    }
   ],
   "source": [
    "%install-location $cwd/swift-install\n",
    "%install '.package(path: \"$cwd/SchwiftyNotebook_Annealing\")' SchwiftyNotebook_Annealing"
   ]
  },
  {
   "cell_type": "code",
   "execution_count": 5,
   "metadata": {},
   "outputs": [],
   "source": [
    "//export\n",
    "import Path\n",
    "import TensorFlow\n",
    "import SchwiftyNotebook_Annealing"
   ]
  },
  {
   "cell_type": "markdown",
   "metadata": {},
   "source": [
    "### Things Needed\n",
    "----\n",
    "- Layer Activations Statistics (mean/standard deviation)\n",
    "- Optimization\n",
    "- Learning Rate over Time"
   ]
  },
  {
   "cell_type": "code",
   "execution_count": 15,
   "metadata": {},
   "outputs": [
    {
     "name": "stdout",
     "output_type": "stream",
     "text": [
      "9 10\r\n",
      "8 9\r\n",
      "7 8\r\n",
      "6 7\r\n",
      "5 6\r\n",
      "4 5\r\n",
      "3 4\r\n",
      "2 3\r\n",
      "1 2\r\n",
      "0 1\r\n"
     ]
    }
   ],
   "source": [
    "Array(1...10).enumerated().reversed().forEach {\n",
    "    print($0, $1)\n",
    "}"
   ]
  },
  {
   "cell_type": "code",
   "execution_count": 7,
   "metadata": {},
   "outputs": [
    {
     "name": "stdout",
     "output_type": "stream",
     "text": [
      "Fam\r\n",
      "Ravioli\r\n"
     ]
    }
   ],
   "source": [
    "protocol Fam {\n",
    "    func fam()\n",
    "}\n",
    "\n",
    "extension Fam {\n",
    "    func fam() {\n",
    "        print(\"Fam\")\n",
    "    }\n",
    "}\n",
    "\n",
    "protocol Ravioli {\n",
    "    func ravioli()\n",
    "}\n",
    "\n",
    "extension Ravioli {\n",
    "    func ravioli() {\n",
    "        print(\"Ravioli\")\n",
    "    }\n",
    "}\n",
    "\n",
    "struct FamRavioli: Fam, Ravioli {}\n",
    "\n",
    "let famRav = FamRavioli()\n",
    "\n",
    "famRav.fam()\n",
    "famRav.ravioli()"
   ]
  },
  {
   "cell_type": "markdown",
   "metadata": {},
   "source": [
    "## Model\n"
   ]
  },
  {
   "cell_type": "code",
   "execution_count": 8,
   "metadata": {},
   "outputs": [],
   "source": [
    "//export\n",
    "public struct HyperParameters {\n",
    "    public let learningRate: Float\n",
    "}"
   ]
  },
  {
   "cell_type": "code",
   "execution_count": 9,
   "metadata": {},
   "outputs": [],
   "source": [
    "//export\n",
    "public protocol TeachableModel {\n",
    "    \n",
    "    func apply(inputTensor: TensorFloat) -> TensorFloat\n",
    "    \n",
    "    func forwardPass(inputTensor: TensorFloat) -> (TensorFloat, TeachableModel)\n",
    "    \n",
    "    func backwardsPass(ddx: TensorFloat, hyperParameters: HyperParameters) -> TeachableModel    \n",
    "}"
   ]
  },
  {
   "cell_type": "code",
   "execution_count": 10,
   "metadata": {},
   "outputs": [],
   "source": [
    "//export\n",
    "public protocol ModelParameterV2  {\n",
    "    \n",
    "    func forwardPass(inputTensor: TensorFloat) -> (TensorFloat, ModelParameterV2)\n",
    "    \n",
    "    func apply(_ inputTensor: TensorFloat) -> TensorFloat \n",
    "    \n",
    "    func backwardPass(ddx: TensorFloat, hyperParameters: HyperParameters) -> (TensorFloat, ModelParameterV2)\n",
    "}"
   ]
  },
  {
   "cell_type": "code",
   "execution_count": 11,
   "metadata": {},
   "outputs": [],
   "source": [
    "//export\n",
    "public struct SequentialParameter: ModelParameterV2 {\n",
    "    \n",
    "    private let parameters: [ModelParameterV2]\n",
    "    \n",
    "    public func apply(_ inputTensor: TensorFloat) -> TensorFloat {\n",
    "        return parameters.reduce(inputTensor) {\n",
    "            (layerInput, nextParameter) in nextParameter.apply(layerInput)\n",
    "        }\n",
    "    }\n",
    "    \n",
    "    public func forwardPass(inputTensor: TensorFloat) -> (TensorFloat, ModelParameterV2) {\n",
    "        return runThroughLayers({self.parameters}, inputTensor) {\n",
    "            $1.forwardPass(inputTensor: $0)\n",
    "        }\n",
    "    }\n",
    "    \n",
    "    public func backwardPass(ddx: TensorFloat, \n",
    "                             hyperParameters: HyperParameters) -> (TensorFloat, ModelParameterV2) {\n",
    "        return runThroughLayers({self.parameters.reversed()}, ddx) {\n",
    "            $1.backwardPass(ddx: $0, hyperParameters: hyperParameters)\n",
    "        }\n",
    "    }\n",
    "    \n",
    "    \n",
    "    private func runThroughLayers(\n",
    "        _ parameterSupplier: () -> [ModelParameterV2],\n",
    "        _ initialValue: TensorFloat,\n",
    "        _ paramActivator: (TensorFloat, ModelParameterV2) -> (TensorFloat, ModelParameterV2)) \n",
    "                                                                            -> (TensorFloat, ModelParameterV2){\n",
    "        var nextParamters : [ModelParameterV2] = []\n",
    "        let (output, forwardParams) = parameterSupplier().reduce(\n",
    "            (activations: initialValue, \n",
    "                           params:  nextParamters)) {\n",
    "            (accum, nextParameter) in \n",
    "            var (activations, params) = accum\n",
    "            let (nextInput, modifiedParam) = paramActivator(activations, nextParameter)\n",
    "            params.append(modifiedParam)\n",
    "            return (activations: nextInput,\n",
    "                    params: params)\n",
    "        }\n",
    "\n",
    "        return (output, SequentialParameter(parameters: forwardParams))\n",
    "    }\n",
    "    \n",
    "}"
   ]
  },
  {
   "cell_type": "code",
   "execution_count": 12,
   "metadata": {},
   "outputs": [],
   "source": [
    "//export\n",
    "public struct ReLUParameter: ModelParameterV2 {\n",
    "    \n",
    "    private let gradientChain: (TensorFloat) -> TensorFloat\n",
    "    \n",
    "    public init() {\n",
    "        gradientChain = { $0 }\n",
    "    }\n",
    "    \n",
    "    private init(_ gradChain: @escaping (TensorFloat) -> TensorFloat) {\n",
    "        gradientChain = gradChain\n",
    "    }\n",
    "    \n",
    "    public func apply(_ inputTensor: TensorFloat) -> TensorFloat {\n",
    "        return reLU(tensor: inputTensor)\n",
    "    }\n",
    "    \n",
    "    public func forwardPass(inputTensor: TensorFloat) -> (TensorFloat, ModelParameterV2) {\n",
    "        let (value, gradientDude) = reLUAndGradient(inputTensor: inputTensor)\n",
    "        return (value, ReLUParameter(gradientDude))\n",
    "    }\n",
    "    \n",
    "    public func backwardPass(ddx: TensorFloat,\n",
    "                             hyperParameters: HyperParameters) -> (TensorFloat, ModelParameterV2) {\n",
    "        let reluDDX = gradientChain(ddx)\n",
    "        return (reluDDX, self)\n",
    "    }\n",
    "}"
   ]
  },
  {
   "cell_type": "code",
   "execution_count": 13,
   "metadata": {},
   "outputs": [],
   "source": [
    "//export\n",
    "public struct DenseLayerV2: ModelParameterV2 {\n",
    "    let weightParameter: TensorFloat\n",
    "    let biasParameter: TensorFloat\n",
    "    private let gradientChain: ThreeInputGradient\n",
    "\n",
    "    private init(weightParameter: TensorFloat,\n",
    "                 biasParameter: TensorFloat,\n",
    "                 gradientChain: @escaping ThreeInputGradient) {        \n",
    "        self.weightParameter = weightParameter\n",
    "        self.biasParameter = biasParameter\n",
    "        self.gradientChain = gradientChain\n",
    "    }\n",
    "\n",
    "    private init(denseLayer: DenseLayerV2,\n",
    "                 gradientChain: @escaping ThreeInputGradient) {\n",
    "        self.weightParameter = denseLayer.weightParameter\n",
    "        self.biasParameter = denseLayer.biasParameter\n",
    "        self.gradientChain = gradientChain\n",
    "    }\n",
    "\n",
    "    public init(inputSize: Int,\n",
    "                outputSize: Int){\n",
    "        self.weightParameter = TensorFloat(kaimingUniform: TensorShape([inputSize, outputSize]))\n",
    "        self.biasParameter = TensorFloat(zeros: [outputSize])\n",
    "        self.gradientChain = { (x: TensorFloat)  in (TensorFloat([1]), TensorFloat([1]), TensorFloat([1]))}\n",
    "    }\n",
    "\n",
    "    public func forwardPass(inputTensor: TensorFloat) -> (TensorFloat, ModelParameterV2) {\n",
    "        let (parameterOutput, parameterGradientChain) =\n",
    "          linearCombinationAndGradient(inputTensor: inputTensor,\n",
    "                                       weightParameter: self.weightParameter,\n",
    "                                       biasParameter: self.biasParameter)\n",
    "\n",
    "        return (parameterOutput, DenseLayerV2(denseLayer: self,\n",
    "                                       gradientChain: {ddx in parameterGradientChain(ddx)}))\n",
    "    }\n",
    "\n",
    "    public func apply(_ inputTensor: TensorFloat) -> TensorFloat {\n",
    "        return linearCombination(inputs: inputTensor,\n",
    "                                       weights: self.weightParameter,\n",
    "                                       bias: self.biasParameter)\n",
    "    }\n",
    "\n",
    "    public func backwardPass(ddx: TensorFloat, \n",
    "                             hyperParameters: HyperParameters) -> (TensorFloat, ModelParameterV2) {\n",
    "        let (ddxInput, ddxParameter, ddxBias) = self.gradientChain(ddx)\n",
    "        return (ddxInput, DenseLayerV2(\n",
    "            weightParameter: self.weightParameter - hyperParameters.learningRate * ddxParameter,\n",
    "            biasParameter: self.biasParameter - hyperParameters.learningRate * ddxBias,\n",
    "            gradientChain: self.gradientChain))\n",
    "    }\n",
    "}\n",
    "\n"
   ]
  },
  {
   "cell_type": "code",
   "execution_count": 14,
   "metadata": {},
   "outputs": [],
   "source": [
    "struct SimpleModel : TeachableModel {\n",
    "    \n",
    "    private let denseLayer: ModelParameterV2\n",
    "    \n",
    "    private init(denseLayer: ModelParameterV2){\n",
    "        self.denseLayer = denseLayer\n",
    "    }\n",
    "    \n",
    "    public init(inputSize: Int, \n",
    "                numberOfClasses: Int) {\n",
    "        self.denseLayer = DenseLayerV2(inputSize: inputSize, \n",
    "                                       outputSize: numberOfClasses)\n",
    "    }\n",
    "    \n",
    "    public func apply(inputTensor: TensorFloat) -> TensorFloat {\n",
    "        return self.denseLayer.apply(inputTensor)\n",
    "    }\n",
    "    \n",
    "    public func forwardPass(inputTensor: TensorFloat) -> (TensorFloat, TeachableModel) {\n",
    "        let (activations, newDenseLayer) = self.denseLayer.forwardPass(inputTensor: inputTensor)\n",
    "        return (activations, SimpleModel(denseLayer: newDenseLayer))\n",
    "    }\n",
    "    \n",
    "    public func backwardsPass(ddx: TensorFloat, \n",
    "                              hyperParameters: HyperParameters) -> TeachableModel {\n",
    "        let (ddxDenseLayer, optimizedDenseLayer) = self.denseLayer.backwardPass(ddx: ddx, \n",
    "                                                          hyperParameters: hyperParameters)\n",
    "        return SimpleModel(denseLayer: optimizedDenseLayer)\n",
    "    }\n",
    "}"
   ]
  },
  {
   "cell_type": "code",
   "execution_count": 76,
   "metadata": {},
   "outputs": [],
   "source": [
    "struct SequentialModel : TeachableModel {\n",
    "    \n",
    "    private let sequentialParameter: ModelParameterV2\n",
    "    \n",
    "    private init(sequentialParameter: ModelParameterV2){\n",
    "        self.sequentialParameter = sequentialParameter\n",
    "    }\n",
    "    \n",
    "    public init(layerSizes: [Int]) {\n",
    "        let denseLayers = layerSizes.prefix(upTo: layerSizes.count - 1)\n",
    "                                        .enumerated()\n",
    "                                        .flatMap { \n",
    "                                            (element: (Int, Int)) -> [ModelParameterV2] in                                       \n",
    "                                           [DenseLayerV2(inputSize: element.1, \n",
    "                                                           outputSize: layerSizes[element.0 + 1]), \n",
    "                                            ReLUParameter()]\n",
    "                                        }\n",
    "        self.sequentialParameter = SequentialParameter(parameters: denseLayers)\n",
    "    }\n",
    "    \n",
    "    public func apply(inputTensor: TensorFloat) -> TensorFloat {\n",
    "        return self.sequentialParameter.apply(inputTensor)\n",
    "    }\n",
    "    \n",
    "    public func forwardPass(inputTensor: TensorFloat) -> (TensorFloat, TeachableModel) {\n",
    "        let (activations, newSequentialModel) = self.sequentialParameter\n",
    "                                                        .forwardPass(inputTensor: inputTensor)\n",
    "        return (activations, SequentialModel(sequentialParameter: newSequentialModel))\n",
    "    }\n",
    "    \n",
    "    public func backwardsPass(ddx: TensorFloat, \n",
    "                              hyperParameters: HyperParameters) -> TeachableModel {\n",
    "        let (_, optimizedSequentialLayer) = self.sequentialParameter.backwardPass(ddx: ddx, \n",
    "                                                          hyperParameters: hyperParameters)\n",
    "        return SequentialModel(sequentialParameter: optimizedSequentialLayer)\n",
    "    }\n",
    "}"
   ]
  },
  {
   "cell_type": "code",
   "execution_count": 77,
   "metadata": {},
   "outputs": [
    {
     "data": {
      "text/plain": [
       "▿ SequentialModel\n",
       "  ▿ sequentialParameter : SequentialParameter\n",
       "    ▿ parameters : 6 elements\n",
       "      ▿ 0 : DenseLayerV2\n",
       "        - weightParameter : [[   0.13287877,   -0.23836017,     -0.325843,   -0.57909465,   -0.52804166,    0.45237064],\n",
       " [   0.26536012,   -0.35344696,     0.5143007,     0.0827351,     0.4541342,    0.10720523],\n",
       " [    0.5977298,    0.19598097,    -0.5468038, -0.0030351412,    0.51769906,    0.22231685],\n",
       " [  -0.45978072,    0.18148512,    0.08045697,    0.23028062,    0.29790643,   -0.49436316],\n",
       " [   -0.5249767,    -0.4831614,  -0.069195844,    -0.3958652,    -0.5645545,   -0.56425387],\n",
       " [   0.22612981,    0.47190288,   -0.39574966,   -0.13461807,    0.22521198,     0.5889704],\n",
       " [   0.44566703,   -0.15374136,  -0.036323436,   -0.52806556,    0.03486664,    0.17062527],\n",
       " [    0.5192144,     0.2282469,     0.3110063,   0.011920833,   0.012191592,    0.28024784]]\n",
       "        - biasParameter : [0.0, 0.0, 0.0, 0.0, 0.0, 0.0]\n",
       "        - gradientChain : (Function)\n",
       "      ▿ 1 : ReLUParameter\n",
       "        - gradientChain : (Function)\n",
       "      ▿ 2 : DenseLayerV2\n",
       "        - weightParameter : [[0.012081394,   0.6255987, -0.60153437],\n",
       " [ 0.06773099,  0.53038085,   0.6768202],\n",
       " [ 0.59715104, 0.026210029, -0.27450165],\n",
       " [ -0.1497045,  0.22761962,  -0.2740191],\n",
       " [ 0.62592083,  0.23760487, -0.33564603],\n",
       " [-0.39695114,  -0.5243127, -0.53869915]]\n",
       "        - biasParameter : [0.0, 0.0, 0.0]\n",
       "        - gradientChain : (Function)\n",
       "      ▿ 3 : ReLUParameter\n",
       "        - gradientChain : (Function)\n",
       "      ▿ 4 : DenseLayerV2\n",
       "        - weightParameter : [[ 0.11498475],\n",
       " [-0.33752644],\n",
       " [-0.34539282]]\n",
       "        - biasParameter : [0.0]\n",
       "        - gradientChain : (Function)\n",
       "      ▿ 5 : ReLUParameter\n",
       "        - gradientChain : (Function)\n"
      ]
     },
     "execution_count": 77,
     "metadata": {},
     "output_type": "execute_result"
    }
   ],
   "source": [
    "let testSequentialModel = SequentialModel(layerSizes: [8, 6, 3, 1])\n",
    "testSequentialModel"
   ]
  },
  {
   "cell_type": "markdown",
   "metadata": {},
   "source": [
    "## Data"
   ]
  },
  {
   "cell_type": "code",
   "execution_count": 33,
   "metadata": {},
   "outputs": [],
   "source": [
    "//export\n",
    "public struct DataBunch<T> where T: TensorGroup {\n",
    "    public let trainingDataset: Dataset<T>\n",
    "    public let validationDataset: Dataset<T>\n",
    "}"
   ]
  },
  {
   "cell_type": "code",
   "execution_count": 34,
   "metadata": {},
   "outputs": [],
   "source": [
    "// export\n",
    "public struct SupervisedLearningGroup {\n",
    "    let features: TensorFloat\n",
    "    let labels: TensorFloat\n",
    "}\n",
    "\n",
    "extension SupervisedLearningGroup: TensorGroup {\n",
    "    \n",
    "    public static var _typeList: [TensorDataType] = [\n",
    "        Float.tensorFlowDataType,\n",
    "        Float.tensorFlowDataType\n",
    "    ]\n",
    "    public static var _unknownShapeList: [TensorShape?] = [nil, nil]\n",
    "    public var _tensorHandles: [_AnyTensorHandle] {\n",
    "        fatalError(\"unimplemented\")\n",
    "    }\n",
    "    public func _unpackTensorHandles(into address: UnsafeMutablePointer<CTensorHandle>?) {\n",
    "        address!.advanced(by: 0).initialize(to: features.handle._cTensorHandle)\n",
    "        address!.advanced(by: 1).initialize(to: labels.handle._cTensorHandle)\n",
    "    }\n",
    "    public init(_owning tensorHandles: UnsafePointer<CTensorHandle>?) {\n",
    "        features = Tensor(handle: TensorHandle(_owning: tensorHandles!.advanced(by: 0).pointee))\n",
    "        labels = Tensor(handle: TensorHandle(_owning: tensorHandles!.advanced(by: 1).pointee))\n",
    "    }\n",
    "    public init<C: RandomAccessCollection>(_handles: C) where C.Element: _AnyTensorHandle {\n",
    "        fatalError(\"unimplemented\")\n",
    "    }\n",
    "}\n",
    "\n",
    "public extension Sequence where Element == SupervisedLearningGroup {\n",
    "    var first: SupervisedLearningGroup? {\n",
    "        return first(where: { _ in true })\n",
    "    }\n",
    "}\n",
    "\n",
    "public extension Dataset where Element == SupervisedLearningGroup {\n",
    "    init(featuresTensor: TensorFloat, labelsTensor: TensorFloat) {\n",
    "        self.init(elements: SupervisedLearningGroup(\n",
    "                                                    features: featuresTensor, \n",
    "                                                    labels: labelsTensor.expandingShape(at: 1)))\n",
    "    }\n",
    "}"
   ]
  },
  {
   "cell_type": "code",
   "execution_count": 35,
   "metadata": {},
   "outputs": [],
   "source": [
    "import Python"
   ]
  },
  {
   "cell_type": "markdown",
   "metadata": {},
   "source": [
    "\n",
    "## Teach"
   ]
  },
  {
   "cell_type": "code",
   "execution_count": 36,
   "metadata": {},
   "outputs": [],
   "source": [
    "//export \n",
    "public protocol TeachingDelegate {\n",
    "    \n",
    "    func preTeach(epochs: Int)\n",
    "    \n",
    "    func postTeach()\n",
    "    \n",
    "    func preEpoch(epochNumber: Int, dataSet: Dataset<SupervisedLearningGroup>)\n",
    "    \n",
    "    func postEpoch(epochNumber: Int)\n",
    "    \n",
    "    func processBatch(model: TeachableModel, \n",
    "                      xDataPoints: TensorFloat,\n",
    "                      yValidationPoints: TensorFloat) -> TeachableModel    \n",
    "}"
   ]
  },
  {
   "cell_type": "code",
   "execution_count": 37,
   "metadata": {},
   "outputs": [],
   "source": [
    "//export\n",
    "public struct Teacher {\n",
    "    \n",
    "    private let dataBunch: DataBunch<SupervisedLearningGroup>\n",
    "    private let trainingDelegate: TeachingDelegate\n",
    "    private let validationDelegate: TeachingDelegate\n",
    "    \n",
    "    \n",
    "    public func teachModel(model: TeachableModel,\n",
    "                           numberOfEpochs: Int) -> TeachableModel {\n",
    "        notifyPreTeach(epochs: numberOfEpochs)\n",
    "        let taughtModel = (1...numberOfEpochs)\n",
    "            .reduce(into: model) { (currentModel: inout TeachableModel, \n",
    "                                    epoch: Int) in\n",
    "                let trainedModel = trainModel(modelToTeach: currentModel,\n",
    "                                              currentEpoch: epoch)\n",
    "                currentModel = validateModel(modelToValidate: trainedModel,\n",
    "                                             currentEpoch: epoch)\n",
    "            }\n",
    "        notifyPostTeach()\n",
    "        return taughtModel\n",
    "    }\n",
    "    \n",
    "    private func trainModel(modelToTeach: TeachableModel, \n",
    "                            currentEpoch: Int) -> TeachableModel {\n",
    "        return processDataSet(model: modelToTeach,\n",
    "                           epoch: currentEpoch,\n",
    "                           dataSet: dataBunch.trainingDataset,\n",
    "                           teachingDelegate: trainingDelegate)\n",
    "    }\n",
    "    \n",
    "    private func validateModel(modelToValidate: TeachableModel, \n",
    "                               currentEpoch: Int) -> TeachableModel {\n",
    "        return processDataSet(model: modelToValidate,\n",
    "                              epoch: currentEpoch,\n",
    "                              dataSet: dataBunch.validationDataset,\n",
    "                              teachingDelegate: validationDelegate)\n",
    "    }\n",
    "    \n",
    "    private func processDataSet(model: TeachableModel,\n",
    "                             epoch: Int,\n",
    "                             dataSet: Dataset<SupervisedLearningGroup>,\n",
    "                             teachingDelegate: TeachingDelegate\n",
    "                            ) -> TeachableModel {\n",
    "        \n",
    "        teachingDelegate.preEpoch(epochNumber: epoch, \n",
    "                                  dataSet: dataSet)\n",
    "        \n",
    "        let taughtModel: TeachableModel = dataSet.reduce(model) {\n",
    "            (currentModel:TeachableModel, dataGroup: SupervisedLearningGroup) in\n",
    "            return teachingDelegate.processBatch(model: currentModel, \n",
    "                                                         xDataPoints: dataGroup.features, \n",
    "                                                         yValidationPoints: dataGroup.labels)\n",
    "        }\n",
    "        \n",
    "        teachingDelegate.postEpoch(epochNumber: epoch)\n",
    "        \n",
    "        return taughtModel\n",
    "    }\n",
    "    \n",
    "    \n",
    "    private func notifyPreTeach(epochs: Int) {\n",
    "        trainingDelegate.preTeach(epochs: epochs)\n",
    "        validationDelegate.preTeach(epochs: epochs)\n",
    "    }\n",
    "    \n",
    "    private func notifyPostTeach() {\n",
    "        trainingDelegate.postTeach()\n",
    "        validationDelegate.postTeach()\n",
    "    }\n",
    "}"
   ]
  },
  {
   "cell_type": "markdown",
   "metadata": {},
   "source": [
    "## Teaching Delegates"
   ]
  },
  {
   "cell_type": "code",
   "execution_count": 38,
   "metadata": {},
   "outputs": [],
   "source": [
    "//export\n",
    "public protocol LossFunction {\n",
    "    func lossAndGradient(expectedTensor: TensorFloat,\n",
    "                         actualTensor: TensorFloat) -> (loss: TensorFloat,\n",
    "                                                        gradientSupplier: () -> TensorFloat)\n",
    "    func calculateLoss(expectedTensor: TensorFloat,\n",
    "                       actualTensor: TensorFloat) -> TensorFloat\n",
    "}"
   ]
  },
  {
   "cell_type": "code",
   "execution_count": 39,
   "metadata": {},
   "outputs": [],
   "source": [
    "//export\n",
    "public struct MeanSquaredErrorLossFunction: LossFunction {\n",
    "        \n",
    "    public func calculateLoss(expectedTensor: TensorFloat, \n",
    "                              actualTensor: TensorFloat) -> TensorFloat {\n",
    "        let error: TensorFloat = calculateError(expectedTensor: expectedTensor,\n",
    "                                   actualTensor: actualTensor)\n",
    "        return error.squared().mean()\n",
    "    }\n",
    "    \n",
    "    public func lossAndGradient(expectedTensor: TensorFloat, \n",
    "                                actualTensor: TensorFloat) -> (loss: TensorFloat, \n",
    "                                                               gradientSupplier: () -> TensorFloat) {\n",
    "        let error = calculateError(expectedTensor:expectedTensor, \n",
    "                                   actualTensor: actualTensor)\n",
    "        let (squareValue, squareGradient) = squaredWithGradient(inputTensor: error)\n",
    "        let (meanValue, meanGradient) = meanWithGradient(inputTensor: squareValue)\n",
    "\n",
    "        return (loss: meanValue, gradientSupplier: { squareGradient(meanGradient(TensorFloat([1]))) })\n",
    "    }\n",
    "    \n",
    "    private func calculateError(expectedTensor: TensorFloat,\n",
    "                                actualTensor: TensorFloat) -> TensorFloat {\n",
    "        assert(expectedTensor.shape == actualTensor.shape, \"Expected \\(expectedTensor.shape) to be the same as \\(actualTensor.shape)\")\n",
    "        return actualTensor - expectedTensor // order is SUPER important here\n",
    "    }\n",
    "}"
   ]
  },
  {
   "cell_type": "code",
   "execution_count": 40,
   "metadata": {},
   "outputs": [],
   "source": [
    "class ValidationDelegate: TeachingDelegate {\n",
    "    \n",
    "    let lossFunction: LossFunction\n",
    "    \n",
    "    public init(lossFunction: LossFunction) {\n",
    "        self.lossFunction = lossFunction\n",
    "    }\n",
    "    \n",
    "    private var epochNumber: Int = 0\n",
    "    private var numberOfBatches: Int = 0\n",
    "    private var totalLoss: TensorFloat = TensorFloat([0.0])\n",
    "    var lossCount: [Float] = []\n",
    "    \n",
    "    public func postEpoch(epochNumber: Int) {\n",
    "        let loss = totalLoss / Float(numberOfBatches) \n",
    "        lossCount.append(loss.scalarized())\n",
    "        \n",
    "    }\n",
    "    \n",
    "    public func preEpoch(epochNumber: Int, \n",
    "                         dataSet: Dataset<SupervisedLearningGroup>) {\n",
    "        numberOfBatches = 0\n",
    "        totalLoss = TensorFloat([0.0])\n",
    "    }\n",
    "    \n",
    "    public func preTeach(epochs: Int) {\n",
    "    \n",
    "    }\n",
    "    \n",
    "    public func postTeach() {\n",
    "    \n",
    "    }\n",
    "    \n",
    "    \n",
    "    public func processBatch(model: TeachableModel, \n",
    "                             xDataPoints: TensorFloat, \n",
    "                             yValidationPoints: TensorFloat) -> TeachableModel {\n",
    "\n",
    "        let predictions = model.apply(inputTensor: xDataPoints)\n",
    "        \n",
    "        let loss = lossFunction.calculateLoss(expectedTensor: yValidationPoints, \n",
    "                                                                    actualTensor: predictions)\n",
    "        totalLoss += loss\n",
    "        numberOfBatches += 1\n",
    "        \n",
    "        return model\n",
    "    }\n",
    "    \n",
    "}"
   ]
  },
  {
   "cell_type": "code",
   "execution_count": 41,
   "metadata": {},
   "outputs": [],
   "source": [
    "class TrainingDelegate: TeachingDelegate {\n",
    "    \n",
    "    let lossFunction: LossFunction\n",
    "    \n",
    "    public init(lossFunction: LossFunction) {\n",
    "        self.lossFunction = lossFunction\n",
    "    }\n",
    "    \n",
    "    private var epochNumber: Int = 0\n",
    "    private var numberOfBatches: Int = 0\n",
    "    private var totalLoss: TensorFloat = TensorFloat([0.0])\n",
    "    var lossCount: [Float] = []\n",
    "    \n",
    "    public func postEpoch(epochNumber: Int) {\n",
    "        let loss = totalLoss / Float(numberOfBatches)\n",
    "        lossCount.append(loss.scalarized())\n",
    "    }\n",
    "    \n",
    "    public func preEpoch(epochNumber: Int, \n",
    "                         dataSet: Dataset<SupervisedLearningGroup>) {\n",
    "        numberOfBatches = 0\n",
    "        totalLoss = TensorFloat([0.0])\n",
    "    }\n",
    "    \n",
    "    public func preTeach(epochs: Int) {\n",
    "    \n",
    "    }\n",
    "    \n",
    "    public func postTeach() {\n",
    "    \n",
    "    }\n",
    "    \n",
    "    \n",
    "    public func processBatch(model: TeachableModel, \n",
    "                             xDataPoints: TensorFloat, \n",
    "                             yValidationPoints: TensorFloat) -> TeachableModel {\n",
    "\n",
    "        let (predictions, modelWithChain) = model.forwardPass(inputTensor: xDataPoints)\n",
    "        \n",
    "        let (lossyBoi, predictionGradientSupplier) = lossFunction.lossAndGradient(expectedTensor: yValidationPoints, \n",
    "                                                                    actualTensor: predictions)\n",
    "        \n",
    "        totalLoss += lossyBoi\n",
    "        numberOfBatches += 1\n",
    "        \n",
    "        // todo: Optimize Hyper Parameters beforehand\n",
    "        let hyperParameters = HyperParameters(learningRate: 1e-2)\n",
    "        \n",
    "        return modelWithChain.backwardsPass(ddx: predictionGradientSupplier(),\n",
    "                                            hyperParameters: hyperParameters)\n",
    "    }\n",
    "    \n",
    "}"
   ]
  },
  {
   "cell_type": "markdown",
   "metadata": {},
   "source": [
    "# Point Data Trials\n",
    "---"
   ]
  },
  {
   "cell_type": "code",
   "execution_count": 42,
   "metadata": {},
   "outputs": [
    {
     "data": {
      "text/plain": [
       "▿ [100, 2]\n",
       "  ▿ dimensions : 2 elements\n",
       "    - 0 : 100\n",
       "    - 1 : 2\n"
      ]
     },
     "execution_count": 42,
     "metadata": {},
     "output_type": "execute_result"
    }
   ],
   "source": [
    "let n = 100\n",
    "let inputPoints = TensorFloat(randomNormal: [100, 1])\n",
    "let A = inputPoints.concatenated(with: TensorFloat(ones: inputPoints.shape), alongAxis: 1)\n",
    "A.shape"
   ]
  },
  {
   "cell_type": "code",
   "execution_count": 43,
   "metadata": {},
   "outputs": [
    {
     "data": {
      "text/plain": [
       "▿ [100, 1]\n",
       "  ▿ dimensions : 2 elements\n",
       "    - 0 : 100\n",
       "    - 1 : 1\n"
      ]
     },
     "execution_count": 43,
     "metadata": {},
     "output_type": "execute_result"
    }
   ],
   "source": [
    "let yValidationPoints = matmul(A, TensorFloat([-2, 7]).expandingShape(at: 1)) + \n",
    "                (TensorFloat(randomNormal: inputPoints.shape, seed: (69, 420)) * 2.5)\n",
    "yValidationPoints.shape"
   ]
  },
  {
   "cell_type": "code",
   "execution_count": 44,
   "metadata": {},
   "outputs": [
    {
     "data": {
      "text/plain": [
       "('inline', 'module://ipykernel.pylab.backend_inline')\n"
      ]
     },
     "execution_count": 44,
     "metadata": {},
     "output_type": "execute_result"
    }
   ],
   "source": [
    "import Python\n",
    "%include \"EnableIPythonDisplay.swift\"\n",
    "IPythonDisplay.shell.enable_matplotlib(\"inline\")"
   ]
  },
  {
   "cell_type": "code",
   "execution_count": 45,
   "metadata": {},
   "outputs": [],
   "source": [
    "public let plotter = Python.import(\"matplotlib.pyplot\")"
   ]
  },
  {
   "cell_type": "code",
   "execution_count": 46,
   "metadata": {},
   "outputs": [
    {
     "data": {
      "image/png": "[encoded data removed]",
      "text/plain": [
       "<Figure size 432x288 with 1 Axes>"
      ]
     },
     "metadata": {
      "needs_background": "light"
     },
     "output_type": "display_data"
    },
    {
     "data": {
      "text/plain": [
       "None\n"
      ]
     },
     "execution_count": 46,
     "metadata": {},
     "output_type": "execute_result"
    }
   ],
   "source": [
    "plotter.scatter(x: A.slice(lowerBounds: [0, 0], upperBounds:[A.shape[0], 1] ).makeNumpyArray(), \n",
    "                y: yValidationPoints.makeNumpyArray())\n",
    "plotter.show()"
   ]
  },
  {
   "cell_type": "code",
   "execution_count": 47,
   "metadata": {},
   "outputs": [],
   "source": [
    "func showYHat(yHat: TensorFloat) {\n",
    "    plotter.scatter(x: A.slice(lowerBounds: [0, 0], upperBounds:[A.shape[0], 1] ).makeNumpyArray(), \n",
    "                y: yValidationPoints.makeNumpyArray())\n",
    "    plotter.scatter(x: A.slice(lowerBounds: [0, 0], upperBounds:[A.shape[0], 1] ).makeNumpyArray(), \n",
    "                y: yHat.makeNumpyArray())\n",
    "    plotter.show()\n",
    "}"
   ]
  },
  {
   "cell_type": "code",
   "execution_count": 48,
   "metadata": {},
   "outputs": [
    {
     "data": {
      "text/plain": [
       "▿ SimpleModel\n",
       "  ▿ denseLayer : DenseLayerV2\n",
       "    - activationFunction : (Function)\n",
       "    - weightParameter : [[0.56194663],\n",
       " [0.47721294]]\n",
       "    - biasParameter : [0.0]\n",
       "    - gradientChain : (Function)\n"
      ]
     },
     "execution_count": 48,
     "metadata": {},
     "output_type": "execute_result"
    }
   ],
   "source": [
    "let linearModel = SimpleModel(inputSize: 2, \n",
    "                              numberOfClasses: 1)\n",
    "linearModel"
   ]
  },
  {
   "cell_type": "code",
   "execution_count": 49,
   "metadata": {},
   "outputs": [
    {
     "data": {
      "image/png": "[encoded data removed]",
      "text/plain": [
       "<Figure size 432x288 with 1 Axes>"
      ]
     },
     "metadata": {
      "needs_background": "light"
     },
     "output_type": "display_data"
    }
   ],
   "source": [
    "showYHat(yHat: linearModel.apply(inputTensor: A))"
   ]
  },
  {
   "cell_type": "code",
   "execution_count": 50,
   "metadata": {},
   "outputs": [],
   "source": [
    "//export\n",
    "public extension Dataset where Element == SupervisedLearningGroup {\n",
    "    init(featureTensor: TensorFloat, labelTensor: TensorFloat) {\n",
    "        self.init(elements: SupervisedLearningGroup(features: featureTensor, \n",
    "                                     labels: labelTensor))\n",
    "    }\n",
    "}"
   ]
  },
  {
   "cell_type": "code",
   "execution_count": 51,
   "metadata": {},
   "outputs": [],
   "source": [
    "let linearDataSet = Dataset(featureTensor: A, labelTensor: yValidationPoints).batched(100)\n",
    "let linearDataBunch = DataBunch(trainingDataset: linearDataSet,\n",
    "                               validationDataset: linearDataSet)"
   ]
  },
  {
   "cell_type": "code",
   "execution_count": 52,
   "metadata": {},
   "outputs": [],
   "source": [
    "let meanSquaredLossFunction = MeanSquaredErrorLossFunction()\n",
    "let simpleTrainingDelegate = TrainingDelegate(lossFunction: meanSquaredLossFunction)\n",
    "let simpleValidationDelegate = ValidationDelegate(lossFunction: meanSquaredLossFunction)"
   ]
  },
  {
   "cell_type": "code",
   "execution_count": 53,
   "metadata": {},
   "outputs": [],
   "source": [
    "let linearTeacher = Teacher(dataBunch: linearDataBunch, \n",
    "                            trainingDelegate: simpleTrainingDelegate, \n",
    "                            validationDelegate: simpleValidationDelegate)"
   ]
  },
  {
   "cell_type": "code",
   "execution_count": 54,
   "metadata": {},
   "outputs": [],
   "source": [
    "let taughtLinearModel = linearTeacher.teachModel(model: linearModel, \n",
    "                                                 numberOfEpochs: 100)"
   ]
  },
  {
   "cell_type": "code",
   "execution_count": 55,
   "metadata": {},
   "outputs": [
    {
     "data": {
      "image/png": "[encoded data removed]",
      "text/plain": [
       "<Figure size 432x288 with 1 Axes>"
      ]
     },
     "metadata": {
      "needs_background": "light"
     },
     "output_type": "display_data"
    }
   ],
   "source": [
    "showYHat(yHat: taughtLinearModel.apply(inputTensor: A))"
   ]
  },
  {
   "cell_type": "code",
   "execution_count": 56,
   "metadata": {},
   "outputs": [],
   "source": [
    "func plotLoss(lossArray: [Float]){\n",
    "    plotter.figure(figsize: [12, 8])\n",
    "\n",
    "    let lossAxes = plotter.subplot(2, 1, 2)\n",
    "    lossAxes.set_ylabel(\"Loss\")\n",
    "    lossAxes.set_xlabel(\"Epoch\")\n",
    "    lossAxes.plot(lossArray)\n",
    "\n",
    "    plotter.show()\n",
    "}"
   ]
  },
  {
   "cell_type": "code",
   "execution_count": 57,
   "metadata": {},
   "outputs": [
    {
     "data": {
      "image/png": "[encoded data removed]",
      "text/plain": [
       "<Figure size 864x576 with 1 Axes>"
      ]
     },
     "metadata": {
      "needs_background": "light"
     },
     "output_type": "display_data"
    }
   ],
   "source": [
    "plotLoss(lossArray: simpleTrainingDelegate.lossCount)"
   ]
  },
  {
   "cell_type": "code",
   "execution_count": 58,
   "metadata": {},
   "outputs": [
    {
     "data": {
      "image/png": "[encoded data removed]",
      "text/plain": [
       "<Figure size 864x576 with 1 Axes>"
      ]
     },
     "metadata": {
      "needs_background": "light"
     },
     "output_type": "display_data"
    }
   ],
   "source": [
    "plotLoss(lossArray: simpleValidationDelegate.lossCount)"
   ]
  },
  {
   "cell_type": "markdown",
   "metadata": {},
   "source": [
    "----"
   ]
  },
  {
   "cell_type": "markdown",
   "metadata": {},
   "source": [
    "# Car Data!\n",
    "----"
   ]
  },
  {
   "cell_type": "code",
   "execution_count": 59,
   "metadata": {},
   "outputs": [],
   "source": [
    "//export\n",
    "let carDataYCSV = \"/home/ubuntu/.machine-learning/data/car_stuff/pakistan_car_labels.csv\"\n",
    "let carDataXCSV = \"/home/ubuntu/.machine-learning/data/car_stuff/pakistan_car_x_data.csv\"\n",
    "\n",
    "public let numpy = Python.import(\"numpy\")\n",
    "\n",
    "func createDataSet(featureTensor: TensorFloat, \n",
    "                   labelTensor: TensorFloat, \n",
    "                   batchSize: Int) -> Dataset<SupervisedLearningGroup> {\n",
    "    return Dataset(featuresTensor: featureTensor, labelsTensor: labelTensor)\n",
    "                    .batched(batchSize)\n",
    "                    .shuffled(sampleCount: 64, \n",
    "                              randomSeed: 69, \n",
    "                              reshuffleForEachIterator: true)\n",
    "}\n",
    "\n",
    "public func getUsedCarDataBunch(validationSize: Double = 0.2,\n",
    "                             batchSize: Int = 1028\n",
    "                            ) -> DataBunch<SupervisedLearningGroup> {\n",
    "    let usedCarFeaturesArray = numpy.loadtxt(carDataXCSV, \n",
    "                                delimiter: \",\", \n",
    "                                skiprows: 1, \n",
    "                                usecols: Array(1...8), \n",
    "                                dtype: Float.numpyScalarTypes.first!)\n",
    "    let categoricalVariableSet: Set = [0,1,2,3,4,5,6,7]\n",
    "    let continousVariableSet: Set = [-1]\n",
    "    let usedCarFeatureTensor = reScaleFeatures(featureTensor: TensorFloat(numpy: usedCarFeaturesArray)!, \n",
    "                                               catVars: categoricalVariableSet, \n",
    "                                               contVars: continousVariableSet)\n",
    "    \n",
    "    let usedCarPrices = numpy.loadtxt(carDataYCSV, \n",
    "                                delimiter: \",\", \n",
    "                                skiprows: 0, \n",
    "                                usecols: [1], \n",
    "                                dtype: Float.numpyScalarTypes.first!)\n",
    "    let usedCarLabelsTensor = TensorFloat(numpy: usedCarPrices)!\n",
    "    \n",
    "    let numberOfUsedCars = usedCarFeatureTensor.shape[0]\n",
    "    let numberOfUsedCarFeatures = usedCarFeatureTensor.shape[1]\n",
    "    \n",
    "    let validationDatasetSize = Int32(floor(validationSize * Double(numberOfUsedCars)))\n",
    "    let trainingDataSetSize = Int32(numberOfUsedCars) - validationDatasetSize\n",
    "    \n",
    "    \n",
    "    let splitFeatures = usedCarFeatureTensor\n",
    "                                .split(sizes: Tensor<Int32>([validationDatasetSize, trainingDataSetSize]), \n",
    "                                       alongAxis: 0)\n",
    "    let splitLabels = usedCarLabelsTensor\n",
    "                            .split(sizes: Tensor<Int32>([validationDatasetSize, trainingDataSetSize]), \n",
    "                                   alongAxis: 0)\n",
    "    \n",
    "    let validationDataSet = createDataSet(featureTensor: splitFeatures[0],\n",
    "                                        labelTensor: splitLabels[0], batchSize: batchSize)\n",
    "    let trainingDataSet = createDataSet(featureTensor: splitFeatures[1],\n",
    "                                        labelTensor: splitLabels[1], batchSize: batchSize)\n",
    "    return DataBunch(trainingDataset: trainingDataSet, \n",
    "                     validationDataset: validationDataSet)\n",
    "}"
   ]
  },
  {
   "cell_type": "code",
   "execution_count": 60,
   "metadata": {},
   "outputs": [],
   "source": [
    "let usedCarDataBunch = getUsedCarDataBunch()"
   ]
  },
  {
   "cell_type": "code",
   "execution_count": 61,
   "metadata": {},
   "outputs": [],
   "source": [
    "let meanSquaredErrorLossy = MeanSquaredErrorLossFunction()\n",
    "let protoTrainingDelegate = TrainingDelegate(lossFunction: meanSquaredErrorLossy)\n",
    "let protoValidationDelegate = ValidationDelegate(lossFunction: meanSquaredErrorLossy)"
   ]
  },
  {
   "cell_type": "code",
   "execution_count": 62,
   "metadata": {},
   "outputs": [],
   "source": [
    "let protoModelTeacher = Teacher(dataBunch: usedCarDataBunch, \n",
    "                                trainingDelegate: protoTrainingDelegate, \n",
    "                                validationDelegate: protoValidationDelegate)"
   ]
  },
  {
   "cell_type": "code",
   "execution_count": 63,
   "metadata": {},
   "outputs": [
    {
     "data": {
      "text/plain": [
       "▿ SimpleModel\n",
       "  ▿ denseLayer : DenseLayerV2\n",
       "    - activationFunction : (Function)\n",
       "    - weightParameter : [[ -0.013850748],\n",
       " [ -0.103617914],\n",
       " [   0.03350401],\n",
       " [-0.0057695205],\n",
       " [ 0.0059026005],\n",
       " [   0.39641973],\n",
       " [  0.040808804],\n",
       " [  -0.46131232]]\n",
       "    - biasParameter : [0.0]\n",
       "    - gradientChain : (Function)\n"
      ]
     },
     "execution_count": 63,
     "metadata": {},
     "output_type": "execute_result"
    }
   ],
   "source": [
    "let firstValidationBatch = usedCarDataBunch.validationDataset.first!\n",
    "let simpleUntrainedModel = SimpleModel(inputSize: firstValidationBatch.features.shape[1], \n",
    "                                       numberOfClasses: 1)\n",
    "simpleUntrainedModel"
   ]
  },
  {
   "cell_type": "code",
   "execution_count": 64,
   "metadata": {},
   "outputs": [
    {
     "data": {
      "text/plain": [
       "1.6359745e+12\n"
      ]
     },
     "execution_count": 64,
     "metadata": {},
     "output_type": "execute_result"
    }
   ],
   "source": [
    "let predictions = simpleUntrainedModel.apply(inputTensor: firstValidationBatch.features)\n",
    "meanSquaredErrorLossy.calculateLoss(expectedTensor: firstValidationBatch.labels, \n",
    "                                    actualTensor: predictions)"
   ]
  },
  {
   "cell_type": "code",
   "execution_count": 89,
   "metadata": {},
   "outputs": [
    {
     "name": "stdout",
     "output_type": "stream",
     "text": [
      "elapsed time: 8.782651375 s\r\n"
     ]
    }
   ],
   "source": [
    "let simpleTrainedModel = withTime { protoModelTeacher.teachModel(model: simpleUntrainedModel, \n",
    "                                                      numberOfEpochs: 100)\n",
    "                                  }"
   ]
  },
  {
   "cell_type": "code",
   "execution_count": 66,
   "metadata": {},
   "outputs": [
    {
     "data": {
      "text/plain": [
       "7.729757e+11\n"
      ]
     },
     "execution_count": 66,
     "metadata": {},
     "output_type": "execute_result"
    }
   ],
   "source": [
    "let predictions = simpleTrainedModel.apply(inputTensor: firstValidationBatch.features)\n",
    "meanSquaredErrorLossy.calculateLoss(expectedTensor: firstValidationBatch.labels, \n",
    "                                    actualTensor: predictions)"
   ]
  },
  {
   "cell_type": "code",
   "execution_count": 67,
   "metadata": {},
   "outputs": [
    {
     "data": {
      "text/plain": [
       "▿ SimpleModel\n",
       "  ▿ denseLayer : DenseLayerV2\n",
       "    - activationFunction : (Function)\n",
       "    - weightParameter : [[-268249.44],\n",
       " [ 899888.25],\n",
       " [-436120.47],\n",
       " [  869103.5],\n",
       " [  407068.4],\n",
       " [-361947.75],\n",
       " [ 397638.97],\n",
       " [ -92752.69]]\n",
       "    - biasParameter : [468051.0]\n",
       "    - gradientChain : (Function)\n"
      ]
     },
     "execution_count": 67,
     "metadata": {},
     "output_type": "execute_result"
    }
   ],
   "source": [
    "simpleTrainedModel"
   ]
  },
  {
   "cell_type": "code",
   "execution_count": 68,
   "metadata": {},
   "outputs": [
    {
     "data": {
      "image/png": "[encoded data removed]",
      "text/plain": [
       "<Figure size 864x576 with 1 Axes>"
      ]
     },
     "metadata": {
      "needs_background": "light"
     },
     "output_type": "display_data"
    }
   ],
   "source": [
    "plotLoss(lossArray: protoTrainingDelegate.lossCount)"
   ]
  },
  {
   "cell_type": "code",
   "execution_count": 69,
   "metadata": {},
   "outputs": [
    {
     "data": {
      "image/png": "[encoded data removed]",
      "text/plain": [
       "<Figure size 864x576 with 1 Axes>"
      ]
     },
     "metadata": {
      "needs_background": "light"
     },
     "output_type": "display_data"
    }
   ],
   "source": [
    "plotLoss(lossArray: protoValidationDelegate.lossCount)"
   ]
  },
  {
   "cell_type": "markdown",
   "metadata": {},
   "source": [
    "# Tensor Flow Stuff"
   ]
  },
  {
   "cell_type": "code",
   "execution_count": 70,
   "metadata": {},
   "outputs": [],
   "source": [
    "let inputSize = firstValidationBatch.features.shape[1]\n",
    "let hiddenSize = inputSize - 2\n",
    "\n",
    "\n",
    "struct UsedCarModel: Layer {\n",
    "    var layer1 = Dense<Float>(inputSize: inputSize, outputSize: 1)\n",
    "    \n",
    "    @differentiable\n",
    "    func callAsFunction(_ input: Tensor<Float>) -> Tensor<Float> {\n",
    "        return layer1(input)\n",
    "    }\n",
    "}"
   ]
  },
  {
   "cell_type": "code",
   "execution_count": 71,
   "metadata": {},
   "outputs": [],
   "source": [
    "var model = UsedCarModel()"
   ]
  },
  {
   "cell_type": "code",
   "execution_count": 72,
   "metadata": {},
   "outputs": [
    {
     "data": {
      "text/plain": [
       "[[0.24138351],\n",
       " [ 0.8589846],\n",
       " [0.95328826],\n",
       " [0.30817246],\n",
       " [0.30817246]]\n"
      ]
     },
     "execution_count": 72,
     "metadata": {},
     "output_type": "execute_result"
    }
   ],
   "source": [
    "let firstTrainPredictions = model(firstValidationBatch.features)\n",
    "firstTrainPredictions[0..<5]"
   ]
  },
  {
   "cell_type": "code",
   "execution_count": 73,
   "metadata": {},
   "outputs": [
    {
     "data": {
      "text/plain": [
       "1.6359745e+12\n"
      ]
     },
     "execution_count": 73,
     "metadata": {},
     "output_type": "execute_result"
    }
   ],
   "source": [
    "let libLoss = meanSquaredError(predicted: firstTrainPredictions, expected:firstValidationBatch.labels)\n",
    "libLoss"
   ]
  },
  {
   "cell_type": "code",
   "execution_count": 74,
   "metadata": {},
   "outputs": [
    {
     "data": {
      "text/plain": [
       "1.6359745e+12\n"
      ]
     },
     "execution_count": 74,
     "metadata": {},
     "output_type": "execute_result"
    }
   ],
   "source": [
    "let (myLoss, myGrad) = meanSquaredErrorAndGradient(yHat: firstTrainPredictions, y: firstValidationBatch.labels)\n",
    "myLoss"
   ]
  },
  {
   "cell_type": "code",
   "execution_count": 75,
   "metadata": {},
   "outputs": [],
   "source": [
    "let optimizer = SGD(for: model, learningRate: 0.01)"
   ]
  },
  {
   "cell_type": "code",
   "execution_count": 76,
   "metadata": {},
   "outputs": [
    {
     "data": {
      "text/plain": [
       "1.6359745e+12\n"
      ]
     },
     "execution_count": 76,
     "metadata": {},
     "output_type": "execute_result"
    }
   ],
   "source": [
    "let (libLoss2, libGrads) = model.valueWithGradient {\n",
    "    model -> TensorFloat in\n",
    "    let libPreds = model(firstValidationBatch.features)\n",
    "    return meanSquaredError(predicted: libPreds, expected: firstValidationBatch.labels)\n",
    "}\n",
    "libLoss2"
   ]
  },
  {
   "cell_type": "code",
   "execution_count": 77,
   "metadata": {},
   "outputs": [],
   "source": [
    "optimizer.update(&model.allDifferentiableVariables, along: libGrads)"
   ]
  },
  {
   "cell_type": "code",
   "execution_count": 78,
   "metadata": {},
   "outputs": [
    {
     "data": {
      "text/plain": [
       "1.5735052e+12\n"
      ]
     },
     "execution_count": 78,
     "metadata": {},
     "output_type": "execute_result"
    }
   ],
   "source": [
    "let libLossEnhanced = meanSquaredError(predicted: model(firstValidationBatch.features), \n",
    "                                       expected:firstValidationBatch.labels)\n",
    "libLossEnhanced"
   ]
  },
  {
   "cell_type": "code",
   "execution_count": 79,
   "metadata": {},
   "outputs": [],
   "source": [
    "func accuracy(expected: TensorFloat, actual: TensorFloat) -> Float {\n",
    "    return (actual - expected).mean().scalarized()\n",
    "}"
   ]
  },
  {
   "cell_type": "code",
   "execution_count": 90,
   "metadata": {},
   "outputs": [],
   "source": [
    "let epochCount = 100\n",
    "var trainingLoss: [Float] = []"
   ]
  },
  {
   "cell_type": "code",
   "execution_count": 91,
   "metadata": {},
   "outputs": [],
   "source": [
    "var model3 = UsedCarModel()"
   ]
  },
  {
   "cell_type": "code",
   "execution_count": 92,
   "metadata": {},
   "outputs": [],
   "source": [
    "let optimizer = SGD(for: model3, learningRate: 1e-1)"
   ]
  },
  {
   "cell_type": "code",
   "execution_count": 94,
   "metadata": {},
   "outputs": [
    {
     "name": "stdout",
     "output_type": "stream",
     "text": [
      "elapsed time: 9.290753867 s\r\n"
     ]
    }
   ],
   "source": [
    "withTime { \n",
    "    for epoch in 1...100 {\n",
    "        var epochLoss: Float = 0\n",
    "        var epochAccuracy: Float = 0\n",
    "        var batchCount: Int = 0\n",
    "\n",
    "        for dataGroup in usedCarDataBunch.trainingDataset {\n",
    "            let (loss, libraryGradients) = model3.valueWithGradient {\n",
    "                model -> TensorFloat in\n",
    "                let libPreds = model(dataGroup.features)\n",
    "                return  meanSquaredError(predicted: libPreds, expected: dataGroup.labels)\n",
    "            }\n",
    "\n",
    "            optimizer.update(&model3.allDifferentiableVariables, along: libraryGradients)\n",
    "\n",
    "            let preds = model(dataGroup.features)\n",
    "            let batchAccuracy = accuracy(expected: dataGroup.labels, \n",
    "                                      actual: preds)\n",
    "            let batchLoss = loss.scalarized()\n",
    "            epochAccuracy += batchAccuracy\n",
    "            epochLoss += batchLoss\n",
    "\n",
    "            batchCount += 1\n",
    "        }\n",
    "        trainingLoss.append(epochLoss / Float(batchCount))\n",
    "    }\n",
    "}"
   ]
  },
  {
   "cell_type": "code",
   "execution_count": 84,
   "metadata": {},
   "outputs": [
    {
     "data": {
      "image/png": "[encoded data removed]",
      "text/plain": [
       "<Figure size 864x576 with 1 Axes>"
      ]
     },
     "metadata": {
      "needs_background": "light"
     },
     "output_type": "display_data"
    }
   ],
   "source": [
    "plotLoss(lossArray: trainingLoss)"
   ]
  },
  {
   "cell_type": "code",
   "execution_count": 88,
   "metadata": {},
   "outputs": [
    {
     "name": "stdout",
     "output_type": "stream",
     "text": [
      "7.729757e+11 7.433934e+11\r\n"
     ]
    }
   ],
   "source": [
    "let firstValidationBatch = usedCarDataBunch.validationDataset.first!\n",
    "let myFinalLoss = meanSquaredError(predicted: simpleTrainedModel.apply(inputTensor: firstValidationBatch.features), \n",
    "                                   expected: firstValidationBatch.labels)\n",
    "let tfFinalLoss = meanSquaredError(predicted: model3(firstValidationBatch.features), \n",
    "                                   expected: firstValidationBatch.labels)\n",
    "\n",
    "print(myFinalLoss, tfFinalLoss)"
   ]
  },
  {
   "cell_type": "markdown",
   "metadata": {},
   "source": [
    "# 😠"
   ]
  },
  {
   "cell_type": "markdown",
   "metadata": {},
   "source": [
    "# Tensorflow simple"
   ]
  },
  {
   "cell_type": "code",
   "execution_count": 95,
   "metadata": {},
   "outputs": [],
   "source": [
    "struct SimpleModelTF: Layer {\n",
    "    var layer1 = Dense<Float>(inputSize: 2, outputSize: 1)\n",
    "    \n",
    "    @differentiable\n",
    "    func callAsFunction(_ input: Tensor<Float>) -> Tensor<Float> {\n",
    "        return layer1(input)\n",
    "    }\n",
    "}"
   ]
  },
  {
   "cell_type": "code",
   "execution_count": 96,
   "metadata": {},
   "outputs": [],
   "source": [
    "var tfSimpleModel = SimpleModelTF()"
   ]
  },
  {
   "cell_type": "code",
   "execution_count": 97,
   "metadata": {},
   "outputs": [],
   "source": [
    "let optimizerTF = SGD(for: tfSimpleModel, learningRate: 1e-2)"
   ]
  },
  {
   "cell_type": "code",
   "execution_count": 98,
   "metadata": {},
   "outputs": [
    {
     "data": {
      "image/png": "[encoded data removed]",
      "text/plain": [
       "<Figure size 432x288 with 1 Axes>"
      ]
     },
     "metadata": {
      "needs_background": "light"
     },
     "output_type": "display_data"
    }
   ],
   "source": [
    "showYHat(yHat: tfSimpleModel(A))"
   ]
  },
  {
   "cell_type": "code",
   "execution_count": 99,
   "metadata": {},
   "outputs": [],
   "source": [
    "var simpleTrainingAccuracy: [Float] = []\n",
    "var simpleTrainingLoss: [Float] = []"
   ]
  },
  {
   "cell_type": "code",
   "execution_count": 100,
   "metadata": {},
   "outputs": [],
   "source": [
    "for epoch in 1...50 {\n",
    "    var epochLoss: Float = 0\n",
    "    var epochAccuracy: Float = 0\n",
    "    var batchCount: Int = 0\n",
    "    \n",
    "    for dataGroup in linearDataBunch.trainingDataset {\n",
    "        let (loss, libraryGradients) = tfSimpleModel.valueWithGradient {\n",
    "            model -> TensorFloat in\n",
    "            let libPreds = model(dataGroup.features)            \n",
    "            return  meanSquaredError(predicted: libPreds, expected: dataGroup.labels)\n",
    "        }\n",
    "        \n",
    "        optimizerTF.update(&tfSimpleModel.allDifferentiableVariables, along: libraryGradients)\n",
    "        \n",
    "        let preds = tfSimpleModel(dataGroup.features)\n",
    "        let batchAccuracy = accuracy(expected: dataGroup.labels, \n",
    "                                  actual: preds)\n",
    "        let batchLoss = loss.scalarized()\n",
    "        \n",
    "        simpleTrainingAccuracy.append(batchAccuracy)\n",
    "        simpleTrainingLoss.append(batchLoss)\n",
    "    }\n",
    "}"
   ]
  },
  {
   "cell_type": "code",
   "execution_count": 101,
   "metadata": {},
   "outputs": [
    {
     "data": {
      "image/png": "[encoded data removed]",
      "text/plain": [
       "<Figure size 864x576 with 1 Axes>"
      ]
     },
     "metadata": {
      "needs_background": "light"
     },
     "output_type": "display_data"
    }
   ],
   "source": [
    "plotLoss(lossArray: simpleTrainingLoss)"
   ]
  },
  {
   "cell_type": "code",
   "execution_count": 102,
   "metadata": {},
   "outputs": [
    {
     "data": {
      "image/png": "[encoded data removed]",
      "text/plain": [
       "<Figure size 432x288 with 1 Axes>"
      ]
     },
     "metadata": {
      "needs_background": "light"
     },
     "output_type": "display_data"
    }
   ],
   "source": [
    "showYHat(yHat: tfSimpleModel(A))"
   ]
  },
  {
   "cell_type": "code",
   "execution_count": null,
   "metadata": {},
   "outputs": [],
   "source": []
  }
 ],
 "metadata": {
  "kernelspec": {
   "display_name": "Swift",
   "language": "swift",
   "name": "swift"
  },
  "language_info": {
   "file_extension": ".swift",
   "mimetype": "text/x-swift",
   "name": "swift",
   "version": ""
  }
 },
 "nbformat": 4,
 "nbformat_minor": 2
}
