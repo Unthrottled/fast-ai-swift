{
  "nbformat": 4,
  "nbformat_minor": 0,
  "metadata": {
    "colab": {
      "name": "notebook_0.ipynb",
      "version": "0.3.2",
      "provenance": [],
      "collapsed_sections": [],
      "include_colab_link": true
    },
    "kernelspec": {
      "name": "swift",
      "display_name": "Swift"
    }
  },
  "cells": [
    {
      "cell_type": "markdown",
      "metadata": {
        "id": "view-in-github",
        "colab_type": "text"
      },
      "source": [
        "<a href=\"https://colab.research.google.com/github/cyclic-reference/fast-ai-swift/blob/master/notebook_0.ipynb\" target=\"_parent\"><img src=\"https://colab.research.google.com/assets/colab-badge.svg\" alt=\"Open In Colab\"/></a>"
      ]
    },
    {
      "cell_type": "code",
      "metadata": {
        "id": "kZRlD4utdPuX",
        "colab_type": "code",
        "colab": {
          "base_uri": "https://localhost:8080/",
          "height": 737
        },
        "outputId": "1cab13f9-0d4a-4ff1-ad40-1af0ce4993c5"
      },
      "source": [
        "%install-location $cwd/swift-install\n",
        "%install '.package(url: \"https://github.com/mxcl/Path.swift\", from: \"0.16.1\")' Path\n",
        "%install '.package(url: \"https://github.com/saeta/Just\", from: \"0.7.2\")' Just\n",
        "%install '.package(url: \"https://github.com/latenitesoft/NotebookExport\", from: \"0.5.0\")' NotebookExport"
      ],
      "execution_count": 1,
      "outputs": [
        {
          "output_type": "stream",
          "text": [
            "Installing packages:\n",
            "\t.package(url: \"https://github.com/mxcl/Path.swift\", from: \"0.16.1\")\n",
            "\t\tPath\n",
            "\t.package(url: \"https://github.com/saeta/Just\", from: \"0.7.2\")\n",
            "\t\tJust\n",
            "\t.package(url: \"https://github.com/latenitesoft/NotebookExport\", from: \"0.5.0\")\n",
            "\t\tNotebookExport\n",
            "With SwiftPM flags: []\n",
            "Working in: /tmp/tmpkfsgdfpp/swift-install\n",
            "Fetching https://github.com/mxcl/Path.swift\n",
            "Fetching https://github.com/saeta/Just\n",
            "Fetching https://github.com/latenitesoft/NotebookExport\n",
            "Completed resolution in 3.41s\n",
            "Cloning https://github.com/latenitesoft/NotebookExport\n",
            "Resolving https://github.com/latenitesoft/NotebookExport at 0.6.0\n",
            "Cloning https://github.com/mxcl/Path.swift\n",
            "Resolving https://github.com/mxcl/Path.swift at 0.16.3\n",
            "Cloning https://github.com/saeta/Just\n",
            "Resolving https://github.com/saeta/Just at 0.7.3\n",
            "[1/11] Compiling Path Extensions.swift\n",
            "[2/11] Compiling Path Path+Attributes.swift\n",
            "[3/11] Compiling Path Path+Codable.swift\n",
            "[4/11] Compiling Path Path+CommonDirectories.swift\n",
            "[5/11] Compiling Path Path+FileManager.swift\n",
            "[6/11] Compiling Path Path+StringConvertibles.swift\n",
            "[7/11] Compiling Path Path+ls.swift\n",
            "[8/11] Compiling Path Path->Bool.swift\n",
            "[9/11] Compiling Path Path.swift\n",
            "[10/12] Merging module Path\n",
            "[11/16] Compiling NotebookExport DependencyDescription.swift\n",
            "[12/16] Compiling NotebookExport ExtensionUtils.swift\n",
            "[14/17] Merging module Just\n",
            "[15/17] Compiling NotebookExport NotebookExport.swift\n",
            "[16/17] Compiling NotebookExport PackageManifest.swift\n",
            "[17/18] Merging module NotebookExport\n",
            "[18/19] Compiling jupyterInstalledPackages jupyterInstalledPackages.swift\n",
            "[19/20] Merging module jupyterInstalledPackages\n",
            "[20/20] Linking libjupyterInstalledPackages.so\n",
            "Initializing Swift...\n",
            "Installation complete!\n"
          ],
          "name": "stdout"
        }
      ]
    },
    {
      "cell_type": "code",
      "metadata": {
        "id": "TEgn21V2VDie",
        "colab_type": "code",
        "colab": {}
      },
      "source": [
        "// export\n",
        "precedencegroup ExponentiationPrecedence {\n",
        "    associativity: right\n",
        "    higherThan: MultiplicationPrecedence\n",
        "}\n",
        "infix operator ** : ExponentiationPrecedence\n",
        "\n",
        "precedencegroup CompositionPrecedence { associativity: left }\n",
        "infix operator >| : CompositionPrecedence"
      ],
      "execution_count": 0,
      "outputs": []
    },
    {
      "cell_type": "code",
      "metadata": {
        "id": "VllAhiM0VTHS",
        "colab_type": "code",
        "colab": {}
      },
      "source": [
        "//export\n",
        "import Foundation\n",
        "import Just\n",
        "import Path\n"
      ],
      "execution_count": 0,
      "outputs": []
    },
    {
      "cell_type": "code",
      "metadata": {
        "id": "DzAFmDdIVXeJ",
        "colab_type": "code",
        "colab": {}
      },
      "source": [
        "//export\n",
        "public extension String {\n",
        "    @discardableResult\n",
        "    func shell(_ args: String...) -> String {\n",
        "        let (task,pipe) = (Process(),Pipe())\n",
        "        task.executableURL = URL(fileURLWithPath: self)\n",
        "        (task.arguments,task.standardOutput) = (args,pipe)\n",
        "        do    { try task.run() }\n",
        "        catch { print(\"Unexpected error: \\(error).\") }\n",
        "\n",
        "        let data = pipe.fileHandleForReading.readDataToEndOfFile()\n",
        "        return String(data: data, encoding: String.Encoding.utf8) ?? \"\"\n",
        "    }\n",
        "}"
      ],
      "execution_count": 0,
      "outputs": []
    },
    {
      "cell_type": "code",
      "metadata": {
        "id": "_a7eDtiEVceE",
        "colab_type": "code",
        "colab": {
          "base_uri": "https://localhost:8080/",
          "height": 107
        },
        "outputId": "5e099091-851c-41a8-ab45-6d56b5c68dd3"
      },
      "source": [
        "print(\"/bin/ls\".shell(\"-lh\"))"
      ],
      "execution_count": 27,
      "outputs": [
        {
          "output_type": "stream",
          "text": [
            "total 9.5M\r\n",
            "drwxr-xr-x 1 root root 4.0K Aug 27 16:17 sample_data\r\n",
            "drwxr-xr-x 4 root root 4.0K Sep  3 22:52 swift-install\r\n",
            "-rw------- 1 root root 9.5M Sep  3 22:55 train-images-idx3-ubyte.gz\r\n",
            "\r\n"
          ],
          "name": "stdout"
        }
      ]
    },
    {
      "cell_type": "code",
      "metadata": {
        "id": "OVOG51fOVjS1",
        "colab_type": "code",
        "colab": {}
      },
      "source": [
        "//export\n",
        "public func downloadFile(_ url: String, dest: String? = nil, force: Bool = false) {\n",
        "    let dest_name = dest ?? (Path.cwd/url.split(separator: \"/\").last!).string\n",
        "    let url_dest = URL(fileURLWithPath: (dest ?? (Path.cwd/url.split(separator: \"/\").last!).string))\n",
        "    if !force && Path(dest_name)!.exists { return }\n",
        "\n",
        "    print(\"Downloading \\(url)...\")\n",
        "\n",
        "    if let cts = Just.get(url).content {\n",
        "        do    {try cts.write(to: URL(fileURLWithPath:dest_name))}\n",
        "        catch {print(\"Can't write to \\(url_dest).\\n\\(error)\")}\n",
        "    } else {\n",
        "        print(\"Can't reach \\(url)\")\n",
        "    }\n",
        "}"
      ],
      "execution_count": 0,
      "outputs": []
    },
    {
      "cell_type": "code",
      "metadata": {
        "id": "WzOr_8_DVsyG",
        "colab_type": "code",
        "colab": {
          "base_uri": "https://localhost:8080/",
          "height": 35
        },
        "outputId": "8363839b-f30e-44b8-e420-4d07869c77f3"
      },
      "source": [
        "downloadFile(\"https://storage.googleapis.com/cvdf-datasets/mnist/train-images-idx3-ubyte.gz\")"
      ],
      "execution_count": 8,
      "outputs": [
        {
          "output_type": "stream",
          "text": [
            "Downloading https://storage.googleapis.com/cvdf-datasets/mnist/train-images-idx3-ubyte.gz...\r\n"
          ],
          "name": "stdout"
        }
      ]
    },
    {
      "cell_type": "code",
      "metadata": {
        "id": "RuHyy2nPV032",
        "colab_type": "code",
        "colab": {}
      },
      "source": [
        "//export\n",
        "import TensorFlow"
      ],
      "execution_count": 0,
      "outputs": []
    },
    {
      "cell_type": "code",
      "metadata": {
        "id": "ct4PKMVPWQOa",
        "colab_type": "code",
        "colab": {}
      },
      "source": [
        "//export\n",
        "protocol ConvertibleFromByte: TensorFlowScalar {\n",
        "    init(_ d:UInt8)\n",
        "}"
      ],
      "execution_count": 0,
      "outputs": []
    },
    {
      "cell_type": "code",
      "metadata": {
        "id": "LE1sGi0FYfm1",
        "colab_type": "code",
        "colab": {}
      },
      "source": [
        "//export\n",
        "extension Float : ConvertibleFromByte {}\n",
        "extension Int32 : ConvertibleFromByte {}"
      ],
      "execution_count": 0,
      "outputs": []
    },
    {
      "cell_type": "code",
      "metadata": {
        "id": "tOxfojpyV6A0",
        "colab_type": "code",
        "colab": {}
      },
      "source": [
        "func loadMNISTData<T: ConvertibleFromByte>(training: Bool, labels: Bool, path: Path, flat: Bool) -> Tensor<T> {\n",
        "    let split = training ? \"train\" : \"t10k\"\n",
        "    let kind = labels ? \"labels\" : \"images\"\n",
        "    let batch = training ? 60000 : 10000\n",
        "    let shape: TensorShape = labels ? [batch] : (flat ? [batch, 784] : [batch, 28, 28])\n",
        "    let dropK = labels ? 8 : 16\n",
        "    let baseUrl = \"https://storage.googleapis.com/cvdf-datasets/mnist/\"\n",
        "    let fname = split + \"-\" + kind + \"-idx\\(labels ? 1 : 3)-ubyte\"\n",
        "    let file = path/fname\n",
        "    if !file.exists {\n",
        "        downloadFile(\"\\(baseUrl)\\(fname).gz\", dest:(path/\"\\(fname).gz\").string)\n",
        "        \"/bin/gunzip\".shell(\"-fq\", (path/\"\\(fname).gz\").string)\n",
        "    }\n",
        "    let data = try! Data(contentsOf: URL(fileURLWithPath: file.string)).dropFirst(dropK)\n",
        "    if labels { return Tensor(data.map(T.init)) }\n",
        "    else      { return Tensor(data.map(T.init)).reshaped(to: shape)}\n",
        "}"
      ],
      "execution_count": 0,
      "outputs": []
    },
    {
      "cell_type": "code",
      "metadata": {
        "id": "LiaEhyr_WFAZ",
        "colab_type": "code",
        "colab": {}
      },
      "source": [
        "public func loadMNIST(path:Path, flat:Bool = false)\n",
        "        -> (Tensor<Float>, Tensor<Int32>, Tensor<Float>, Tensor<Int32>) {\n",
        "    try! path.mkdir(.p)\n",
        "    return (\n",
        "        loadMNISTData(training: true,  labels: false, path: path, flat: flat) / 255.0,\n",
        "        loadMNISTData(training: true,  labels: true,  path: path, flat: flat),\n",
        "        loadMNISTData(training: false, labels: false, path: path, flat: flat) / 255.0,\n",
        "        loadMNISTData(training: false, labels: true,  path: path, flat: flat)\n",
        "    )\n",
        "}"
      ],
      "execution_count": 0,
      "outputs": []
    },
    {
      "cell_type": "code",
      "metadata": {
        "id": "26z3LE7CX3y6",
        "colab_type": "code",
        "colab": {}
      },
      "source": [
        "//export\n",
        "public let mnistPath = Path.cwd"
      ],
      "execution_count": 0,
      "outputs": []
    },
    {
      "cell_type": "code",
      "metadata": {
        "id": "CPvAl5dDZB4H",
        "colab_type": "code",
        "colab": {
          "base_uri": "https://localhost:8080/",
          "height": 120
        },
        "outputId": "7c06aea2-a27a-4ccb-cd40-e8e2590622ad"
      },
      "source": [
        "let (xTraining, yTraining, xValidation, yValidation) = loadMNIST(path: mnistPath)\n",
        "xTraining.shape"
      ],
      "execution_count": 38,
      "outputs": [
        {
          "output_type": "error",
          "ename": "",
          "evalue": "ignored",
          "traceback": [
            "error: Execution was interrupted, reason: signal SIGSEGV: invalid address (fault address: 0xeef66).\nThe process has been left at the point where it was interrupted, use \"thread return -x\" to return to the state before expression evaluation.\n"
          ]
        }
      ]
    },
    {
      "cell_type": "code",
      "metadata": {
        "id": "_Kv46DuJZT-9",
        "colab_type": "code",
        "colab": {
          "base_uri": "https://localhost:8080/",
          "height": 109
        },
        "outputId": "840b7fe3-e87e-4af3-d916-74e0087b0d8d"
      },
      "source": [
        ""
      ],
      "execution_count": 26,
      "outputs": [
        {
          "output_type": "execute_result",
          "data": {
            "text/plain": [
              "expression produced error: error: /tmp/expr186-43f5df..swift:1:70: error: 'Path' is not a member type of 'Path'\n",
              "Swift._DebuggerSupport.stringForPrintObject(Swift.UnsafePointer<Path.Path>(bitPattern: 0x7fb46d79f6e0)!.pointee)\n",
              "                                                                ~~~~ ^\n",
              "\n"
            ]
          },
          "metadata": {
            "tags": []
          },
          "execution_count": 26
        }
      ]
    },
    {
      "cell_type": "code",
      "metadata": {
        "id": "l5JW84WgZcmd",
        "colab_type": "code",
        "colab": {}
      },
      "source": [
        ""
      ],
      "execution_count": 0,
      "outputs": []
    }
  ]
}