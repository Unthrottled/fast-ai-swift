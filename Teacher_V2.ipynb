{
 "cells": [
  {
   "cell_type": "code",
   "execution_count": 1,
   "metadata": {},
   "outputs": [
    {
     "name": "stdout",
     "output_type": "stream",
     "text": [
      "Installing packages:\n",
      "\t.package(path: \"/home/ubuntu/workspace/fast-ai-swift/SchwiftyNotebook_Annealing\")\n",
      "\t\tSchwiftyNotebook_Annealing\n",
      "With SwiftPM flags: []\n",
      "Working in: /tmp/tmpdgqbdsxf/swift-install\n",
      "warning: /home/ubuntu/swift/usr/bin/swiftc: /home/ubuntu/anaconda3/envs/swift-env/lib/libuuid.so.1: no version information available (required by /home/ubuntu/swift/usr/bin/swiftc)\n",
      "/home/ubuntu/swift/usr/bin/swift: /home/ubuntu/anaconda3/envs/swift-env/lib/libuuid.so.1: no version information available (required by /home/ubuntu/swift/usr/bin/swift)\n",
      "warning: /home/ubuntu/swift/usr/bin/swiftc: /home/ubuntu/anaconda3/envs/swift-env/lib/libuuid.so.1: no version information available (required by /home/ubuntu/swift/usr/bin/swiftc)\n",
      "/home/ubuntu/swift/usr/bin/swift: /home/ubuntu/anaconda3/envs/swift-env/lib/libuuid.so.1: no version information available (required by /home/ubuntu/swift/usr/bin/swift)\n",
      "warning: /home/ubuntu/swift/usr/bin/swiftc: /home/ubuntu/anaconda3/envs/swift-env/lib/libuuid.so.1: no version information available (required by /home/ubuntu/swift/usr/bin/swiftc)\n",
      "/home/ubuntu/swift/usr/bin/swift: /home/ubuntu/anaconda3/envs/swift-env/lib/libuuid.so.1: no version information available (required by /home/ubuntu/swift/usr/bin/swift)\n",
      "warning: /home/ubuntu/swift/usr/bin/swiftc: /home/ubuntu/anaconda3/envs/swift-env/lib/libuuid.so.1: no version information available (required by /home/ubuntu/swift/usr/bin/swiftc)\n",
      "/home/ubuntu/swift/usr/bin/swift: /home/ubuntu/anaconda3/envs/swift-env/lib/libuuid.so.1: no version information available (required by /home/ubuntu/swift/usr/bin/swift)\n",
      "warning: /home/ubuntu/swift/usr/bin/swiftc: /home/ubuntu/anaconda3/envs/swift-env/lib/libuuid.so.1: no version information available (required by /home/ubuntu/swift/usr/bin/swiftc)\n",
      "/home/ubuntu/swift/usr/bin/swift: /home/ubuntu/anaconda3/envs/swift-env/lib/libuuid.so.1: no version information available (required by /home/ubuntu/swift/usr/bin/swift)\n",
      "warning: /home/ubuntu/swift/usr/bin/swiftc: /home/ubuntu/anaconda3/envs/swift-env/lib/libuuid.so.1: no version information available (required by /home/ubuntu/swift/usr/bin/swiftc)\n",
      "/home/ubuntu/swift/usr/bin/swift: /home/ubuntu/anaconda3/envs/swift-env/lib/libuuid.so.1: no version information available (required by /home/ubuntu/swift/usr/bin/swift)\n",
      "warning: /home/ubuntu/swift/usr/bin/swiftc: /home/ubuntu/anaconda3/envs/swift-env/lib/libuuid.so.1: no version information available (required by /home/ubuntu/swift/usr/bin/swiftc)\n",
      "/home/ubuntu/swift/usr/bin/swift: /home/ubuntu/anaconda3/envs/swift-env/lib/libuuid.so.1: no version information available (required by /home/ubuntu/swift/usr/bin/swift)\n",
      "warning: /home/ubuntu/swift/usr/bin/swiftc: /home/ubuntu/anaconda3/envs/swift-env/lib/libuuid.so.1: no version information available (required by /home/ubuntu/swift/usr/bin/swiftc)\n",
      "/home/ubuntu/swift/usr/bin/swift: /home/ubuntu/anaconda3/envs/swift-env/lib/libuuid.so.1: no version information available (required by /home/ubuntu/swift/usr/bin/swift)\n",
      "warning: /home/ubuntu/swift/usr/bin/swiftc: /home/ubuntu/anaconda3/envs/swift-env/lib/libuuid.so.1: no version information available (required by /home/ubuntu/swift/usr/bin/swiftc)\n",
      "/home/ubuntu/swift/usr/bin/swift: /home/ubuntu/anaconda3/envs/swift-env/lib/libuuid.so.1: no version information available (required by /home/ubuntu/swift/usr/bin/swift)\n",
      "warning: /home/ubuntu/swift/usr/bin/swiftc: /home/ubuntu/anaconda3/envs/swift-env/lib/libuuid.so.1: no version information available (required by /home/ubuntu/swift/usr/bin/swiftc)\n",
      "/home/ubuntu/swift/usr/bin/swift: /home/ubuntu/anaconda3/envs/swift-env/lib/libuuid.so.1: no version information available (required by /home/ubuntu/swift/usr/bin/swift)\n",
      "warning: /home/ubuntu/swift/usr/bin/swiftc: /home/ubuntu/anaconda3/envs/swift-env/lib/libuuid.so.1: no version information available (required by /home/ubuntu/swift/usr/bin/swiftc)\n",
      "/home/ubuntu/swift/usr/bin/swift: /home/ubuntu/anaconda3/envs/swift-env/lib/libuuid.so.1: no version information available (required by /home/ubuntu/swift/usr/bin/swift)\n",
      "/home/ubuntu/swift/usr/bin/swiftc: /home/ubuntu/anaconda3/envs/swift-env/lib/libuuid.so.1: no version information available (required by /home/ubuntu/swift/usr/bin/swiftc)\n",
      "/home/ubuntu/swift/usr/bin/swiftc: /home/ubuntu/anaconda3/envs/swift-env/lib/libuuid.so.1: no version information available (required by /home/ubuntu/swift/usr/bin/swiftc)[1/2] Compiling jupyterInstalledPackages jupyterInstalledPackages.swift\n",
      "/home/ubuntu/swift/usr/bin/swift: /home/ubuntu/anaconda3/envs/swift-env/lib/libuuid.so.1: no version information available (required by /home/ubuntu/swift/usr/bin/swift)\n",
      "[2/3] Merging module jupyterInstalledPackages\n",
      "/home/ubuntu/swift/usr/bin/swift: /home/ubuntu/anaconda3/envs/swift-env/lib/libuuid.so.1: no version information available (required by /home/ubuntu/swift/usr/bin/swift)\n",
      "Initializing Swift...\n",
      "Installation complete!\n"
     ]
    }
   ],
   "source": [
    "%install-location $cwd/swift-install\n",
    "%install '.package(path: \"$cwd/SchwiftyNotebook_Annealing\")' SchwiftyNotebook_Annealing"
   ]
  },
  {
   "cell_type": "code",
   "execution_count": 2,
   "metadata": {},
   "outputs": [],
   "source": [
    "//export\n",
    "import Path\n",
    "import TensorFlow\n",
    "import SchwiftyNotebook_Annealing"
   ]
  },
  {
   "cell_type": "markdown",
   "metadata": {},
   "source": [
    "## Model\n"
   ]
  },
  {
   "cell_type": "code",
   "execution_count": 3,
   "metadata": {},
   "outputs": [],
   "source": [
    "//export\n",
    "public struct HyperParameters {\n",
    "    public let learningRate: Float\n",
    "}"
   ]
  },
  {
   "cell_type": "code",
   "execution_count": 4,
   "metadata": {},
   "outputs": [],
   "source": [
    "//export\n",
    "public protocol TeachableModel {\n",
    "    \n",
    "    func apply(inputTensor: TensorFloat) -> TensorFloat\n",
    "    \n",
    "    func forwardPass(inputTensor: TensorFloat) -> (TensorFloat, TeachableModel)\n",
    "    \n",
    "    func backwardsPass(ddx: TensorFloat, hyperParameters: HyperParameters) -> TeachableModel    \n",
    "}"
   ]
  },
  {
   "cell_type": "code",
   "execution_count": 5,
   "metadata": {},
   "outputs": [],
   "source": [
    "//export\n",
    "public protocol ModelParameterV2  {\n",
    "    \n",
    "    func forwardPass(inputTensor: TensorFloat) -> (TensorFloat, ModelParameterV2)\n",
    "    \n",
    "    func apply(_ inputTensor: TensorFloat) -> TensorFloat \n",
    "    \n",
    "    func backwardPass(ddx: TensorFloat, hyperParameters: HyperParameters) -> (TensorFloat, ModelParameterV2)\n",
    "}"
   ]
  },
  {
   "cell_type": "code",
   "execution_count": 6,
   "metadata": {},
   "outputs": [],
   "source": [
    "//export\n",
    "public struct DenseLayerV2: ModelParameterV2 {\n",
    "    let activationFunction: SingleInputDifferentiable<TensorFloat>\n",
    "    let weightParameter: TensorFloat\n",
    "    let biasParameter: TensorFloat\n",
    "    private let gradientChain: ThreeInputGradient\n",
    "\n",
    "    private init(activationFunction: @escaping SingleInputDifferentiable<TensorFloat>,\n",
    "                 weightParameter: TensorFloat,\n",
    "                 biasParameter: TensorFloat,\n",
    "                 gradientChain: @escaping ThreeInputGradient) {\n",
    "        self.activationFunction = activationFunction\n",
    "        self.weightParameter = weightParameter\n",
    "        self.biasParameter = biasParameter\n",
    "        self.gradientChain = gradientChain\n",
    "    }\n",
    "\n",
    "    private init(denseLayer: DenseLayerV2,\n",
    "                 gradientChain: @escaping ThreeInputGradient) {\n",
    "        self.activationFunction = denseLayer.activationFunction\n",
    "        self.weightParameter = denseLayer.weightParameter\n",
    "        self.biasParameter = denseLayer.biasParameter\n",
    "        self.gradientChain = gradientChain\n",
    "    }\n",
    "\n",
    "    public init(inputSize: Int,\n",
    "         outputSize: Int,\n",
    "         activationFunction: @escaping SingleInputDifferentiable<TensorFloat> = identititySVGC){\n",
    "        self.activationFunction = activationFunction\n",
    "        self.weightParameter = TensorFloat(kaimingUniform: TensorShape([inputSize, outputSize]))\n",
    "        self.biasParameter = TensorFloat(zeros: [outputSize])\n",
    "        self.gradientChain = { (x: TensorFloat)  in (TensorFloat([1]), TensorFloat([1]), TensorFloat([1]))}\n",
    "    }\n",
    "\n",
    "    public func forwardPass(inputTensor: TensorFloat) -> (TensorFloat, ModelParameterV2) {\n",
    "        let (parameterOutput, parameterGradientChain) =\n",
    "          linearCombinationAndGradient(inputTensor: inputTensor,\n",
    "                                       weightParameter: self.weightParameter,\n",
    "                                       biasParameter: self.biasParameter)\n",
    "        \n",
    "        let (activations, activationsGradientChain) = activationFunction(parameterOutput)\n",
    "\n",
    "        return (activations, DenseLayerV2(denseLayer: self,\n",
    "                                       gradientChain: {ddx in parameterGradientChain(activationsGradientChain(ddx))}))\n",
    "    }\n",
    "\n",
    "    public func apply(_ inputTensor: TensorFloat) -> TensorFloat {\n",
    "        let parameterOutput =\n",
    "          linearCombination(inputs: inputTensor,\n",
    "                                       weights: self.weightParameter,\n",
    "                                       bias: self.biasParameter)\n",
    "        let (activations, activationsGradientChain) = activationFunction(parameterOutput)\n",
    "        return activations\n",
    "    }\n",
    "\n",
    "    public func backwardPass(ddx: TensorFloat, hyperParameters: HyperParameters) -> \n",
    "    (TensorFloat, ModelParameterV2) {\n",
    "        let (ddxInput, ddxParameter, ddxBias) = self.gradientChain(ddx)\n",
    "        return (ddxInput, DenseLayerV2(activationFunction: activationFunction,\n",
    "                                    weightParameter: self.weightParameter - hyperParameters.learningRate * ddxParameter,\n",
    "                                    biasParameter: self.biasParameter - hyperParameters.learningRate * ddxBias,\n",
    "                                    gradientChain: self.gradientChain))\n",
    "    }\n",
    "}\n",
    "\n"
   ]
  },
  {
   "cell_type": "code",
   "execution_count": 7,
   "metadata": {},
   "outputs": [],
   "source": [
    "struct SimpleModel : TeachableModel {\n",
    "    \n",
    "    private let denseLayer: ModelParameterV2\n",
    "    \n",
    "    private init(denseLayer: ModelParameterV2){\n",
    "        self.denseLayer = denseLayer\n",
    "    }\n",
    "    \n",
    "    public init(inputSize: Int, \n",
    "                numberOfClasses: Int) {\n",
    "        self.denseLayer = DenseLayerV2(inputSize: inputSize, outputSize: numberOfClasses)\n",
    "    }\n",
    "    \n",
    "    public func apply(inputTensor: TensorFloat) -> TensorFloat {\n",
    "        return self.denseLayer.apply(inputTensor)\n",
    "    }\n",
    "    \n",
    "    public func forwardPass(inputTensor: TensorFloat) -> (TensorFloat, TeachableModel) {\n",
    "        let (activations, newDenseLayer) = self.denseLayer.forwardPass(inputTensor: inputTensor)\n",
    "        return (activations, SimpleModel(denseLayer: newDenseLayer))\n",
    "    }\n",
    "    \n",
    "    public func backwardsPass(ddx: TensorFloat, \n",
    "                              hyperParameters: HyperParameters) -> TeachableModel {\n",
    "        let (ddxDenseLayer, optimizedDenseLayer) = self.denseLayer.backwardPass(ddx: ddx, \n",
    "                                                          hyperParameters: hyperParameters)\n",
    "        return SimpleModel(denseLayer: optimizedDenseLayer)\n",
    "    }\n",
    "}"
   ]
  },
  {
   "cell_type": "markdown",
   "metadata": {},
   "source": [
    "## Data"
   ]
  },
  {
   "cell_type": "code",
   "execution_count": 8,
   "metadata": {},
   "outputs": [],
   "source": [
    "//export\n",
    "public struct DataBunch<T> where T: TensorGroup {\n",
    "    public let trainingDataset: Dataset<T>\n",
    "    public let validationDataset: Dataset<T>\n",
    "}"
   ]
  },
  {
   "cell_type": "code",
   "execution_count": 9,
   "metadata": {},
   "outputs": [],
   "source": [
    "// export\n",
    "public struct SupervisedLearningGroup {\n",
    "    let features: TensorFloat\n",
    "    let labels: TensorFloat\n",
    "}\n",
    "\n",
    "extension SupervisedLearningGroup: TensorGroup {\n",
    "    \n",
    "    public static var _typeList: [TensorDataType] = [\n",
    "        Float.tensorFlowDataType,\n",
    "        Float.tensorFlowDataType\n",
    "    ]\n",
    "    public static var _unknownShapeList: [TensorShape?] = [nil, nil]\n",
    "    public var _tensorHandles: [_AnyTensorHandle] {\n",
    "        fatalError(\"unimplemented\")\n",
    "    }\n",
    "    public func _unpackTensorHandles(into address: UnsafeMutablePointer<CTensorHandle>?) {\n",
    "        address!.advanced(by: 0).initialize(to: features.handle._cTensorHandle)\n",
    "        address!.advanced(by: 1).initialize(to: labels.handle._cTensorHandle)\n",
    "    }\n",
    "    public init(_owning tensorHandles: UnsafePointer<CTensorHandle>?) {\n",
    "        features = Tensor(handle: TensorHandle(_owning: tensorHandles!.advanced(by: 0).pointee))\n",
    "        labels = Tensor(handle: TensorHandle(_owning: tensorHandles!.advanced(by: 1).pointee))\n",
    "    }\n",
    "    public init<C: RandomAccessCollection>(_handles: C) where C.Element: _AnyTensorHandle {\n",
    "        fatalError(\"unimplemented\")\n",
    "    }\n",
    "}\n",
    "\n",
    "public extension Sequence where Element == SupervisedLearningGroup {\n",
    "    var first: SupervisedLearningGroup? {\n",
    "        return first(where: { _ in true })\n",
    "    }\n",
    "}\n",
    "\n",
    "public extension Dataset where Element == SupervisedLearningGroup {\n",
    "    init(featuresTensor: TensorFloat, labelsTensor: TensorFloat) {\n",
    "        self.init(elements: SupervisedLearningGroup(\n",
    "                                                    features: featuresTensor, \n",
    "                                                    labels: labelsTensor.expandingShape(at: 1)))\n",
    "    }\n",
    "}"
   ]
  },
  {
   "cell_type": "code",
   "execution_count": 10,
   "metadata": {},
   "outputs": [],
   "source": [
    "import Python"
   ]
  },
  {
   "cell_type": "markdown",
   "metadata": {},
   "source": [
    "\n",
    "## Teach"
   ]
  },
  {
   "cell_type": "code",
   "execution_count": 11,
   "metadata": {},
   "outputs": [],
   "source": [
    "//export \n",
    "public protocol TeachingDelegate {\n",
    "    \n",
    "    func preTeach(epochs: Int)\n",
    "    \n",
    "    func postTeach()\n",
    "    \n",
    "    func preEpoch(epochNumber: Int, dataSet: Dataset<SupervisedLearningGroup>)\n",
    "    \n",
    "    func postEpoch(epochNumber: Int)\n",
    "    \n",
    "    func processBatch(model: TeachableModel, \n",
    "                      xDataPoints: TensorFloat,\n",
    "                      yValidationPoints: TensorFloat) -> TeachableModel    \n",
    "}"
   ]
  },
  {
   "cell_type": "code",
   "execution_count": 12,
   "metadata": {},
   "outputs": [],
   "source": [
    "//export\n",
    "public struct Teacher {\n",
    "    \n",
    "    private let dataBunch: DataBunch<SupervisedLearningGroup>\n",
    "    private let trainingDelegate: TeachingDelegate\n",
    "    private let validationDelegate: TeachingDelegate\n",
    "    \n",
    "    \n",
    "    public func teachModel(model: TeachableModel,\n",
    "                           numberOfEpochs: Int) -> TeachableModel {\n",
    "        notifyPreTeach(epochs: numberOfEpochs)\n",
    "        let taughtModel = (1...numberOfEpochs)\n",
    "            .reduce(into: model) { (currentModel: inout TeachableModel, \n",
    "                                    epoch: Int) in\n",
    "                let trainedModel = trainModel(modelToTeach: currentModel,\n",
    "                                              currentEpoch: epoch)\n",
    "                currentModel = validateModel(modelToValidate: trainedModel,\n",
    "                                             currentEpoch: epoch)\n",
    "            }\n",
    "        notifyPostTeach()\n",
    "        return taughtModel\n",
    "    }\n",
    "    \n",
    "    private func trainModel(modelToTeach: TeachableModel, \n",
    "                            currentEpoch: Int) -> TeachableModel {\n",
    "        return processDataSet(model: modelToTeach,\n",
    "                           epoch: currentEpoch,\n",
    "                           dataSet: dataBunch.trainingDataset,\n",
    "                           teachingDelegate: trainingDelegate)\n",
    "    }\n",
    "    \n",
    "    private func validateModel(modelToValidate: TeachableModel, \n",
    "                               currentEpoch: Int) -> TeachableModel {\n",
    "        return processDataSet(model: modelToValidate,\n",
    "                              epoch: currentEpoch,\n",
    "                              dataSet: dataBunch.validationDataset,\n",
    "                              teachingDelegate: validationDelegate)\n",
    "    }\n",
    "    \n",
    "    private func processDataSet(model: TeachableModel,\n",
    "                             epoch: Int,\n",
    "                             dataSet: Dataset<SupervisedLearningGroup>,\n",
    "                             teachingDelegate: TeachingDelegate\n",
    "                            ) -> TeachableModel {\n",
    "        \n",
    "        teachingDelegate.preEpoch(epochNumber: epoch, \n",
    "                                  dataSet: dataSet)\n",
    "        \n",
    "        let taughtModel: TeachableModel = dataSet.reduce(into: model) {\n",
    "            (currentModel: inout TeachableModel, dataGroup: SupervisedLearningGroup) in\n",
    "            currentModel = teachingDelegate.processBatch(model: currentModel, \n",
    "                                                         xDataPoints: dataGroup.features, \n",
    "                                                         yValidationPoints: dataGroup.labels)\n",
    "        }\n",
    "        \n",
    "        teachingDelegate.postEpoch(epochNumber: epoch)\n",
    "        \n",
    "        return taughtModel\n",
    "    }\n",
    "    \n",
    "    \n",
    "    private func notifyPreTeach(epochs: Int) {\n",
    "        trainingDelegate.preTeach(epochs: epochs)\n",
    "        validationDelegate.preTeach(epochs: epochs)\n",
    "    }\n",
    "    \n",
    "    private func notifyPostTeach() {\n",
    "        trainingDelegate.postTeach()\n",
    "        validationDelegate.postTeach()\n",
    "    }\n",
    "}"
   ]
  },
  {
   "cell_type": "markdown",
   "metadata": {},
   "source": [
    "## Teaching Delegates"
   ]
  },
  {
   "cell_type": "code",
   "execution_count": 13,
   "metadata": {},
   "outputs": [],
   "source": [
    "//export\n",
    "public protocol LossFunction {\n",
    "    func lossAndGradient(expectedTensor: TensorFloat,\n",
    "                         actualTensor: TensorFloat) -> (loss: TensorFloat,\n",
    "                                                        gradientSupplier: () -> TensorFloat)\n",
    "    func calculateLoss(expectedTensor: TensorFloat,\n",
    "                       actualTensor: TensorFloat) -> TensorFloat\n",
    "}"
   ]
  },
  {
   "cell_type": "code",
   "execution_count": 14,
   "metadata": {},
   "outputs": [],
   "source": [
    "class ValidationDelegate: TeachingDelegate {\n",
    "    \n",
    "    let lossFunction: LossFunction\n",
    "    \n",
    "    public init(lossFunction: LossFunction) {\n",
    "        self.lossFunction = lossFunction\n",
    "    }\n",
    "    \n",
    "    private var epochNumber: Int = 0\n",
    "    private var numberOfBatches: Int = 0\n",
    "    private var totalLoss: TensorFloat = TensorFloat([0.0])\n",
    "    \n",
    "    public func postEpoch(epochNumber: Int) {\n",
    "        let loss = totalLoss / Float(numberOfBatches)\n",
    "        print(\"Validation Loss for Epoch #\\(epochNumber): \\(loss)\")\n",
    "    }\n",
    "    \n",
    "    public func preEpoch(epochNumber: Int, \n",
    "                         dataSet: Dataset<SupervisedLearningGroup>) {\n",
    "        numberOfBatches = 0\n",
    "        totalLoss = TensorFloat([0.0])\n",
    "    }\n",
    "    \n",
    "    public func preTeach(epochs: Int) {\n",
    "    \n",
    "    }\n",
    "    \n",
    "    public func postTeach() {\n",
    "    \n",
    "    }\n",
    "    \n",
    "    \n",
    "    public func processBatch(model: TeachableModel, \n",
    "                             xDataPoints: TensorFloat, \n",
    "                             yValidationPoints: TensorFloat) -> TeachableModel {\n",
    "\n",
    "        let predictions = model.apply(inputTensor: xDataPoints)\n",
    "        \n",
    "        let loss = lossFunction.calculateLoss(expectedTensor: yValidationPoints, \n",
    "                                                                    actualTensor: predictions)\n",
    "        totalLoss += loss\n",
    "        numberOfBatches += 1\n",
    "        \n",
    "        return model\n",
    "    }\n",
    "    \n",
    "}"
   ]
  },
  {
   "cell_type": "code",
   "execution_count": 15,
   "metadata": {},
   "outputs": [],
   "source": [
    "class TrainingDelegate: TeachingDelegate {\n",
    "    \n",
    "    let lossFunction: LossFunction\n",
    "    \n",
    "    public init(lossFunction: LossFunction) {\n",
    "        self.lossFunction = lossFunction\n",
    "    }\n",
    "    \n",
    "    private var epochNumber: Int = 0\n",
    "    private var numberOfBatches: Int = 0\n",
    "    private var totalLoss: TensorFloat = TensorFloat([0.0])\n",
    "    \n",
    "    public func postEpoch(epochNumber: Int) {\n",
    "        let loss = totalLoss / Float(numberOfBatches)\n",
    "        print(\"Training Loss for Epoch #\\(epochNumber): \\(loss)\")\n",
    "    }\n",
    "    \n",
    "    public func preEpoch(epochNumber: Int, \n",
    "                         dataSet: Dataset<SupervisedLearningGroup>) {\n",
    "        numberOfBatches = 0\n",
    "        totalLoss = TensorFloat([0.0])\n",
    "    }\n",
    "    \n",
    "    public func preTeach(epochs: Int) {\n",
    "    \n",
    "    }\n",
    "    \n",
    "    public func postTeach() {\n",
    "    \n",
    "    }\n",
    "    \n",
    "    \n",
    "    public func processBatch(model: TeachableModel, \n",
    "                             xDataPoints: TensorFloat, \n",
    "                             yValidationPoints: TensorFloat) -> TeachableModel {\n",
    "\n",
    "        let (predictions, modelWithChain) = model.forwardPass(inputTensor: xDataPoints)\n",
    "        \n",
    "        let (lossyBoi, predictionGradientSupplier) = lossFunction.lossAndGradient(expectedTensor: yValidationPoints, \n",
    "                                                                    actualTensor: predictions)\n",
    "        \n",
    "        totalLoss += lossyBoi\n",
    "        numberOfBatches += 1\n",
    "        \n",
    "        // todo: Optimize Hyper Parameters beforehand\n",
    "        let hyperParameters = HyperParameters(learningRate: 1e-2)\n",
    "        \n",
    "        return modelWithChain.backwardsPass(ddx: predictionGradientSupplier(),\n",
    "                                            hyperParameters: hyperParameters)\n",
    "    }\n",
    "    \n",
    "}"
   ]
  },
  {
   "cell_type": "code",
   "execution_count": 16,
   "metadata": {},
   "outputs": [],
   "source": [
    "//export\n",
    "public struct MeanSquaredErrorLossFunction: LossFunction {\n",
    "        \n",
    "    public func calculateLoss(expectedTensor: TensorFloat, \n",
    "                              actualTensor: TensorFloat) -> TensorFloat {\n",
    "        let error: TensorFloat = calculateError(expectedTensor: expectedTensor,\n",
    "                                   actualTensor: actualTensor)\n",
    "        return error.squared().mean()\n",
    "    }\n",
    "    \n",
    "    public func lossAndGradient(expectedTensor: TensorFloat, \n",
    "                                actualTensor: TensorFloat) -> (loss: TensorFloat, gradientSupplier: () -> TensorFloat) {\n",
    "        let error = calculateError(expectedTensor:expectedTensor, \n",
    "                                   actualTensor: actualTensor)\n",
    "        let (squareValue, squareGradient) = squaredWithGradient(inputTensor: error)\n",
    "        let (meanValue, meanGradient) = meanWithGradient(inputTensor: squareValue)\n",
    "\n",
    "        return (loss: meanValue, gradientSupplier: { squareGradient(meanGradient(TensorFloat([1]))) })\n",
    "    }\n",
    "    \n",
    "    private func calculateError(expectedTensor: TensorFloat,\n",
    "                                actualTensor: TensorFloat) -> TensorFloat {\n",
    "        assert(expectedTensor.shape == actualTensor.shape, \"Expected \\(expectedTensor.shape) to be the same as \\(actualTensor.shape)\")\n",
    "        return expectedTensor - actualTensor\n",
    "    }\n",
    "}"
   ]
  },
  {
   "cell_type": "markdown",
   "metadata": {},
   "source": [
    "## Point Data Trials"
   ]
  },
  {
   "cell_type": "code",
   "execution_count": 17,
   "metadata": {},
   "outputs": [
    {
     "data": {
      "text/plain": [
       "▿ [100, 2]\n",
       "  ▿ dimensions : 2 elements\n",
       "    - 0 : 100\n",
       "    - 1 : 2\n"
      ]
     },
     "execution_count": 17,
     "metadata": {},
     "output_type": "execute_result"
    }
   ],
   "source": [
    "let n = 100\n",
    "let inputPoints = TensorFloat(randomNormal: [100, 1])\n",
    "let A = inputPoints.concatenated(with: TensorFloat(ones: inputPoints.shape), alongAxis: 1)\n",
    "A.shape"
   ]
  },
  {
   "cell_type": "code",
   "execution_count": 18,
   "metadata": {},
   "outputs": [
    {
     "data": {
      "text/plain": [
       "▿ [100, 1]\n",
       "  ▿ dimensions : 2 elements\n",
       "    - 0 : 100\n",
       "    - 1 : 1\n"
      ]
     },
     "execution_count": 18,
     "metadata": {},
     "output_type": "execute_result"
    }
   ],
   "source": [
    "let yValidationPoints = matmul(A, TensorFloat([-2, 7]).expandingShape(at: 1)) + \n",
    "                (TensorFloat(randomNormal: inputPoints.shape, seed: (69, 420)) * 2.5)\n",
    "yValidationPoints.shape"
   ]
  },
  {
   "cell_type": "code",
   "execution_count": 19,
   "metadata": {},
   "outputs": [
    {
     "data": {
      "text/plain": [
       "('inline', 'module://ipykernel.pylab.backend_inline')\n"
      ]
     },
     "execution_count": 19,
     "metadata": {},
     "output_type": "execute_result"
    }
   ],
   "source": [
    "import Python\n",
    "%include \"EnableIPythonDisplay.swift\"\n",
    "IPythonDisplay.shell.enable_matplotlib(\"inline\")"
   ]
  },
  {
   "cell_type": "code",
   "execution_count": 20,
   "metadata": {},
   "outputs": [],
   "source": [
    "public let plotter = Python.import(\"matplotlib.pyplot\")"
   ]
  },
  {
   "cell_type": "code",
   "execution_count": 21,
   "metadata": {},
   "outputs": [
    {
     "data": {
      "image/png": "[encoded data removed]",
      "text/plain": [
       "<Figure size 432x288 with 1 Axes>"
      ]
     },
     "metadata": {
      "needs_background": "light"
     },
     "output_type": "display_data"
    },
    {
     "data": {
      "text/plain": [
       "None\n"
      ]
     },
     "execution_count": 21,
     "metadata": {},
     "output_type": "execute_result"
    }
   ],
   "source": [
    "plotter.scatter(x: A.slice(lowerBounds: [0, 0], upperBounds:[A.shape[0], 1] ).makeNumpyArray(), \n",
    "                y: yValidationPoints.makeNumpyArray())\n",
    "plotter.show()"
   ]
  },
  {
   "cell_type": "code",
   "execution_count": 22,
   "metadata": {},
   "outputs": [],
   "source": [
    "func showYHat(yHat: TensorFloat) {\n",
    "    plotter.scatter(x: A.slice(lowerBounds: [0, 0], upperBounds:[A.shape[0], 1] ).makeNumpyArray(), \n",
    "                y: yValidationPoints.makeNumpyArray())\n",
    "    plotter.scatter(x: A.slice(lowerBounds: [0, 0], upperBounds:[A.shape[0], 1] ).makeNumpyArray(), \n",
    "                y: yHat.makeNumpyArray())\n",
    "    plotter.show()\n",
    "}"
   ]
  },
  {
   "cell_type": "code",
   "execution_count": 23,
   "metadata": {},
   "outputs": [
    {
     "data": {
      "text/plain": [
       "▿ SimpleModel\n",
       "  ▿ denseLayer : DenseLayerV2\n",
       "    - activationFunction : (Function)\n",
       "    - weightParameter : [[ -1.0922749],\n",
       " [-0.22838056]]\n",
       "    - biasParameter : [0.0]\n",
       "    - gradientChain : (Function)\n"
      ]
     },
     "execution_count": 23,
     "metadata": {},
     "output_type": "execute_result"
    }
   ],
   "source": [
    "let linearModel = SimpleModel(inputSize: 2, \n",
    "                              numberOfClasses: 1)\n",
    "linearModel"
   ]
  },
  {
   "cell_type": "code",
   "execution_count": 24,
   "metadata": {},
   "outputs": [
    {
     "data": {
      "image/png": "[encoded data removed]",
      "text/plain": [
       "<Figure size 432x288 with 1 Axes>"
      ]
     },
     "metadata": {
      "needs_background": "light"
     },
     "output_type": "display_data"
    }
   ],
   "source": [
    "showYHat(yHat: linearModel.apply(inputTensor: A))"
   ]
  },
  {
   "cell_type": "code",
   "execution_count": 25,
   "metadata": {},
   "outputs": [],
   "source": [
    "//export\n",
    "public extension Dataset where Element == SupervisedLearningGroup {\n",
    "    init(featureTensor: TensorFloat, labelTensor: TensorFloat) {\n",
    "        self.init(elements: SupervisedLearningGroup(features: featureTensor, \n",
    "                                     labels: labelTensor))\n",
    "    }\n",
    "}"
   ]
  },
  {
   "cell_type": "code",
   "execution_count": 26,
   "metadata": {},
   "outputs": [],
   "source": [
    "let linearDataSet = Dataset(featureTensor: A, labelTensor: yValidationPoints).batched(100)\n",
    "let linearDataBunch = DataBunch(trainingDataset: linearDataSet,\n",
    "                               validationDataset: linearDataSet)"
   ]
  },
  {
   "cell_type": "code",
   "execution_count": 27,
   "metadata": {},
   "outputs": [],
   "source": [
    "let meanSquaredLossFunction = MeanSquaredErrorLossFunction()\n",
    "let simpleTrainingDelegate = TrainingDelegate(lossFunction: meanSquaredLossFunction)\n",
    "let simpleValidationDelegate = ValidationDelegate(lossFunction: meanSquaredLossFunction)"
   ]
  },
  {
   "cell_type": "code",
   "execution_count": 28,
   "metadata": {},
   "outputs": [],
   "source": [
    "let linearTeacher = Teacher(dataBunch: linearDataBunch, \n",
    "                            trainingDelegate: simpleTrainingDelegate, \n",
    "                            validationDelegate: simpleValidationDelegate)"
   ]
  },
  {
   "cell_type": "code",
   "execution_count": 29,
   "metadata": {},
   "outputs": [
    {
     "name": "stdout",
     "output_type": "stream",
     "text": [
      "Training Loss for Epoch #1: [59.67972]\n",
      "Validation Loss for Epoch #1: [64.04552]\n",
      "Training Loss for Epoch #2: [64.04552]\n",
      "Validation Loss for Epoch #2: [68.76612]\n",
      "Training Loss for Epoch #3: [68.76612]\n",
      "Validation Loss for Epoch #3: [73.87045]\n",
      "Training Loss for Epoch #4: [73.87045]\n",
      "Validation Loss for Epoch #4: [79.38982]\n",
      "Training Loss for Epoch #5: [79.38982]\n",
      "Validation Loss for Epoch #5: [85.35805]\n",
      "Training Loss for Epoch #6: [85.35805]\n",
      "Validation Loss for Epoch #6: [91.811775]\n",
      "Training Loss for Epoch #7: [91.811775]\n",
      "Validation Loss for Epoch #7: [98.79057]\n",
      "Training Loss for Epoch #8: [98.79057]\n",
      "Validation Loss for Epoch #8: [106.33729]\n",
      "Training Loss for Epoch #9: [106.33729]\n",
      "Validation Loss for Epoch #9: [114.498245]\n",
      "Training Loss for Epoch #10: [114.498245]\n",
      "Validation Loss for Epoch #10: [123.32358]\n",
      "Training Loss for Epoch #11: [123.32358]\n",
      "Validation Loss for Epoch #11: [132.86748]\n",
      "Training Loss for Epoch #12: [132.86748]\n",
      "Validation Loss for Epoch #12: [143.18857]\n",
      "Training Loss for Epoch #13: [143.18857]\n",
      "Validation Loss for Epoch #13: [154.35031]\n",
      "Training Loss for Epoch #14: [154.35031]\n",
      "Validation Loss for Epoch #14: [166.42131]\n",
      "Training Loss for Epoch #15: [166.42131]\n",
      "Validation Loss for Epoch #15: [179.47574]\n",
      "Training Loss for Epoch #16: [179.47574]\n",
      "Validation Loss for Epoch #16: [193.59395]\n",
      "Training Loss for Epoch #17: [193.59395]\n",
      "Validation Loss for Epoch #17: [208.86267]\n",
      "Training Loss for Epoch #18: [208.86267]\n",
      "Validation Loss for Epoch #18: [225.37593]\n",
      "Training Loss for Epoch #19: [225.37593]\n",
      "Validation Loss for Epoch #19: [243.23528]\n",
      "Training Loss for Epoch #20: [243.23528]\n",
      "Validation Loss for Epoch #20: [262.55063]\n"
     ]
    }
   ],
   "source": [
    "let taughtLinearModel = linearTeacher.teachModel(model: linearModel, \n",
    "                                                 numberOfEpochs: 20)"
   ]
  },
  {
   "cell_type": "code",
   "execution_count": 30,
   "metadata": {},
   "outputs": [
    {
     "data": {
      "image/png": "[encoded data removed]",
      "text/plain": [
       "<Figure size 432x288 with 1 Axes>"
      ]
     },
     "metadata": {
      "needs_background": "light"
     },
     "output_type": "display_data"
    }
   ],
   "source": [
    "showYHat(yHat: taughtLinearModel.apply(inputTensor: A))"
   ]
  },
  {
   "cell_type": "code",
   "execution_count": null,
   "metadata": {},
   "outputs": [],
   "source": []
  }
 ],
 "metadata": {
  "kernelspec": {
   "display_name": "Swift",
   "language": "swift",
   "name": "swift"
  },
  "language_info": {
   "file_extension": ".swift",
   "mimetype": "text/x-swift",
   "name": "swift",
   "version": ""
  }
 },
 "nbformat": 4,
 "nbformat_minor": 2
}
