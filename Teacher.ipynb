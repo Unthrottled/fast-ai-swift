{
 "cells": [
  {
   "cell_type": "code",
   "execution_count": 1,
   "metadata": {},
   "outputs": [
    {
     "name": "stdout",
     "output_type": "stream",
     "text": [
      "Installing packages:\n",
      "\t.package(path: \"/home/ubuntu/workspace/fast-ai-swift/SchwiftyNotebook_Annealing\")\n",
      "\t\tSchwiftyNotebook_Annealing\n",
      "With SwiftPM flags: []\n",
      "Working in: /tmp/tmpk2xy69iw/swift-install\n",
      "warning: /home/ubuntu/swift/usr/bin/swiftc: /home/ubuntu/anaconda3/envs/swift-env/lib/libuuid.so.1: no version information available (required by /home/ubuntu/swift/usr/bin/swiftc)\n",
      "/home/ubuntu/swift/usr/bin/swift: /home/ubuntu/anaconda3/envs/swift-env/lib/libuuid.so.1: no version information available (required by /home/ubuntu/swift/usr/bin/swift)\n",
      "warning: /home/ubuntu/swift/usr/bin/swiftc: /home/ubuntu/anaconda3/envs/swift-env/lib/libuuid.so.1: no version information available (required by /home/ubuntu/swift/usr/bin/swiftc)\n",
      "/home/ubuntu/swift/usr/bin/swift: /home/ubuntu/anaconda3/envs/swift-env/lib/libuuid.so.1: no version information available (required by /home/ubuntu/swift/usr/bin/swift)\n",
      "warning: /home/ubuntu/swift/usr/bin/swiftc: /home/ubuntu/anaconda3/envs/swift-env/lib/libuuid.so.1: no version information available (required by /home/ubuntu/swift/usr/bin/swiftc)\n",
      "/home/ubuntu/swift/usr/bin/swift: /home/ubuntu/anaconda3/envs/swift-env/lib/libuuid.so.1: no version information available (required by /home/ubuntu/swift/usr/bin/swift)\n",
      "warning: /home/ubuntu/swift/usr/bin/swiftc: /home/ubuntu/anaconda3/envs/swift-env/lib/libuuid.so.1: no version information available (required by /home/ubuntu/swift/usr/bin/swiftc)\n",
      "/home/ubuntu/swift/usr/bin/swift: /home/ubuntu/anaconda3/envs/swift-env/lib/libuuid.so.1: no version information available (required by /home/ubuntu/swift/usr/bin/swift)\n",
      "warning: /home/ubuntu/swift/usr/bin/swiftc: /home/ubuntu/anaconda3/envs/swift-env/lib/libuuid.so.1: no version information available (required by /home/ubuntu/swift/usr/bin/swiftc)\n",
      "/home/ubuntu/swift/usr/bin/swift: /home/ubuntu/anaconda3/envs/swift-env/lib/libuuid.so.1: no version information available (required by /home/ubuntu/swift/usr/bin/swift)\n",
      "warning: /home/ubuntu/swift/usr/bin/swiftc: /home/ubuntu/anaconda3/envs/swift-env/lib/libuuid.so.1: no version information available (required by /home/ubuntu/swift/usr/bin/swiftc)\n",
      "/home/ubuntu/swift/usr/bin/swift: /home/ubuntu/anaconda3/envs/swift-env/lib/libuuid.so.1: no version information available (required by /home/ubuntu/swift/usr/bin/swift)\n",
      "warning: /home/ubuntu/swift/usr/bin/swiftc: /home/ubuntu/anaconda3/envs/swift-env/lib/libuuid.so.1: no version information available (required by /home/ubuntu/swift/usr/bin/swiftc)\n",
      "/home/ubuntu/swift/usr/bin/swift: /home/ubuntu/anaconda3/envs/swift-env/lib/libuuid.so.1: no version information available (required by /home/ubuntu/swift/usr/bin/swift)\n",
      "warning: /home/ubuntu/swift/usr/bin/swiftc: /home/ubuntu/anaconda3/envs/swift-env/lib/libuuid.so.1: no version information available (required by /home/ubuntu/swift/usr/bin/swiftc)\n",
      "/home/ubuntu/swift/usr/bin/swift: /home/ubuntu/anaconda3/envs/swift-env/lib/libuuid.so.1: no version information available (required by /home/ubuntu/swift/usr/bin/swift)\n",
      "warning: /home/ubuntu/swift/usr/bin/swiftc: /home/ubuntu/anaconda3/envs/swift-env/lib/libuuid.so.1: no version information available (required by /home/ubuntu/swift/usr/bin/swiftc)\n",
      "/home/ubuntu/swift/usr/bin/swift: /home/ubuntu/anaconda3/envs/swift-env/lib/libuuid.so.1: no version information available (required by /home/ubuntu/swift/usr/bin/swift)\n",
      "warning: /home/ubuntu/swift/usr/bin/swiftc: /home/ubuntu/anaconda3/envs/swift-env/lib/libuuid.so.1: no version information available (required by /home/ubuntu/swift/usr/bin/swiftc)\n",
      "/home/ubuntu/swift/usr/bin/swift: /home/ubuntu/anaconda3/envs/swift-env/lib/libuuid.so.1: no version information available (required by /home/ubuntu/swift/usr/bin/swift)\n",
      "warning: /home/ubuntu/swift/usr/bin/swiftc: /home/ubuntu/anaconda3/envs/swift-env/lib/libuuid.so.1: no version information available (required by /home/ubuntu/swift/usr/bin/swiftc)\n",
      "/home/ubuntu/swift/usr/bin/swift: /home/ubuntu/anaconda3/envs/swift-env/lib/libuuid.so.1: no version information available (required by /home/ubuntu/swift/usr/bin/swift)\n",
      "/home/ubuntu/swift/usr/bin/swiftc: /home/ubuntu/anaconda3/envs/swift-env/lib/libuuid.so.1: no version information available (required by /home/ubuntu/swift/usr/bin/swiftc)\n",
      "/home/ubuntu/swift/usr/bin/swiftc: /home/ubuntu/anaconda3/envs/swift-env/lib/libuuid.so.1: no version information available (required by /home/ubuntu/swift/usr/bin/swiftc)[1/2] Compiling jupyterInstalledPackages jupyterInstalledPackages.swift\n",
      "/home/ubuntu/swift/usr/bin/swift: /home/ubuntu/anaconda3/envs/swift-env/lib/libuuid.so.1: no version information available (required by /home/ubuntu/swift/usr/bin/swift)\n",
      "[2/3] Merging module jupyterInstalledPackages\n",
      "/home/ubuntu/swift/usr/bin/swift: /home/ubuntu/anaconda3/envs/swift-env/lib/libuuid.so.1: no version information available (required by /home/ubuntu/swift/usr/bin/swift)\n",
      "Initializing Swift...\n",
      "Installation complete!\n"
     ]
    }
   ],
   "source": [
    "%install-location $cwd/swift-install\n",
    "%install '.package(path: \"$cwd/SchwiftyNotebook_Annealing\")' SchwiftyNotebook_Annealing"
   ]
  },
  {
   "cell_type": "code",
   "execution_count": 2,
   "metadata": {},
   "outputs": [],
   "source": [
    "//export\n",
    "import Path\n",
    "import TensorFlow\n",
    "import SchwiftyNotebook_Annealing"
   ]
  },
  {
   "cell_type": "markdown",
   "metadata": {},
   "source": [
    "## Model"
   ]
  },
  {
   "cell_type": "code",
   "execution_count": 3,
   "metadata": {},
   "outputs": [],
   "source": [
    "//export\n",
    "public struct HyperParameters {\n",
    "    public let learningRate: Float\n",
    "}"
   ]
  },
  {
   "cell_type": "code",
   "execution_count": 4,
   "metadata": {},
   "outputs": [],
   "source": [
    "//export\n",
    "public protocol TeachableModel {\n",
    "    \n",
    "    func apply(inputTensor: TensorFloat) -> TensorFloat\n",
    "    \n",
    "    func forwardPass(inputTensor: TensorFloat) -> (TensorFloat, TeachableModel)\n",
    "    \n",
    "    func backwardsPass(ddx: TensorFloat, hyperParameters: HyperParameters) -> TeachableModel    \n",
    "}"
   ]
  },
  {
   "cell_type": "code",
   "execution_count": 5,
   "metadata": {},
   "outputs": [],
   "source": [
    "//export\n",
    "public protocol ModelParameter_V2  {\n",
    "    \n",
    "    func forwardPass(inputTensor: TensorFloat) -> (TensorFloat, ModelParameter_V2)\n",
    "    \n",
    "    func apply(_ inputTensor: TensorFloat) -> TensorFloat \n",
    "    \n",
    "    func backwardPass(ddx: TensorFloat, hyperParameters: HyperParameters) -> (TensorFloat, ModelParameter_V2)\n",
    "}"
   ]
  },
  {
   "cell_type": "code",
   "execution_count": 6,
   "metadata": {},
   "outputs": [],
   "source": [
    "//export\n",
    "public struct DenseLayer_V2: ModelParameter_V2 {\n",
    "    let activationFunction: SingleInputDifferentiable<TensorFloat>\n",
    "    let weightParameter: TensorFloat\n",
    "    let biasParameter: TensorFloat\n",
    "    private let gradientChain: ThreeInputGradient\n",
    "\n",
    "    private init(activationFunction: @escaping SingleInputDifferentiable<TensorFloat>,\n",
    "                 weightParameter: TensorFloat,\n",
    "                 biasParameter: TensorFloat,\n",
    "                 gradientChain: @escaping ThreeInputGradient) {\n",
    "        self.activationFunction = activationFunction\n",
    "        self.weightParameter = weightParameter\n",
    "        self.biasParameter = biasParameter\n",
    "        self.gradientChain = gradientChain\n",
    "    }\n",
    "\n",
    "    private init(denseLayer: DenseLayer_V2,\n",
    "                 gradientChain: @escaping ThreeInputGradient) {\n",
    "        self.activationFunction = denseLayer.activationFunction\n",
    "        self.weightParameter = denseLayer.weightParameter\n",
    "        self.biasParameter = denseLayer.biasParameter\n",
    "        self.gradientChain = gradientChain\n",
    "    }\n",
    "\n",
    "    public init(inputSize: Int,\n",
    "         outputSize: Int,\n",
    "         activationFunction: @escaping SingleInputDifferentiable<TensorFloat> = identititySVGC){\n",
    "        self.activationFunction = activationFunction\n",
    "        self.weightParameter = TensorFloat(kaimingUniform: TensorShape([inputSize, outputSize]))\n",
    "        self.biasParameter = TensorFloat(zeros: [outputSize])\n",
    "        self.gradientChain = { (x: TensorFloat)  in (TensorFloat([1]), TensorFloat([1]), TensorFloat([1]))}\n",
    "    }\n",
    "\n",
    "    public func forwardPass(inputTensor: TensorFloat) -> (TensorFloat, ModelParameter_V2) {\n",
    "        let (parameterOutput, parameterGradientChain) =\n",
    "          linearCombinationAndGradient(inputTensor: inputTensor,\n",
    "                                       weightParameter: self.weightParameter,\n",
    "                                       biasParameter: self.biasParameter)\n",
    "        \n",
    "        let (activations, activationsGradientChain) = activationFunction(parameterOutput)\n",
    "\n",
    "        return (activations, DenseLayer_V2(denseLayer: self,\n",
    "                                       gradientChain: {ddx in parameterGradientChain(activationsGradientChain(ddx))}))\n",
    "    }\n",
    "\n",
    "    public func apply(_ inputTensor: TensorFloat) -> TensorFloat {\n",
    "        let parameterOutput =\n",
    "          linearCombination(inputs: inputTensor,\n",
    "                                       weights: self.weightParameter,\n",
    "                                       bias: self.biasParameter)\n",
    "        let (activations, activationsGradientChain) = activationFunction(parameterOutput)\n",
    "        return activations\n",
    "    }\n",
    "\n",
    "    public func backwardPass(ddx: TensorFloat, hyperParameters: HyperParameters) -> \n",
    "    (TensorFloat, ModelParameter_V2) {\n",
    "        let (ddxInput, ddxParameter, ddxBias) = self.gradientChain(ddx)\n",
    "        return (ddxInput, DenseLayer_V2(activationFunction: activationFunction,\n",
    "                                    weightParameter: self.weightParameter - hyperParameters.learningRate * ddxParameter,\n",
    "                                    biasParameter: self.biasParameter - hyperParameters.learningRate * ddxBias,\n",
    "                                    gradientChain: self.gradientChain))\n",
    "    }\n",
    "}"
   ]
  },
  {
   "cell_type": "code",
   "execution_count": 7,
   "metadata": {},
   "outputs": [],
   "source": [
    "struct SimpleModel : TeachableModel {\n",
    "    \n",
    "    private let denseLayer: ModelParameter_V2\n",
    "    \n",
    "    private init(denseLayer: ModelParameter_V2){\n",
    "        self.denseLayer = denseLayer\n",
    "    }\n",
    "    \n",
    "    public init(inputSize: Int, \n",
    "                numberOfClasses: Int) {\n",
    "        denseLayer = DenseLayer_V2(inputSize: inputSize, outputSize: numberOfClasses)\n",
    "    }\n",
    "    \n",
    "    public func apply(inputTensor: TensorFloat) -> TensorFloat {\n",
    "        return denseLayer.apply(inputTensor)\n",
    "    }\n",
    "    \n",
    "    public func forwardPass(inputTensor: TensorFloat) -> (TensorFloat, TeachableModel) {\n",
    "        let (activations, newDenseLayer) = denseLayer.forwardPass(inputTensor: inputTensor)\n",
    "        return (activations, SimpleModel(denseLayer: newDenseLayer))\n",
    "    }\n",
    "    \n",
    "    public func backwardsPass(ddx: TensorFloat, \n",
    "                              hyperParameters: HyperParameters) -> TeachableModel {\n",
    "        let (ddxDenseLayer, optimizedDenseLayer) = denseLayer.backwardPass(ddx: ddx, \n",
    "                                                          hyperParameters: hyperParameters)\n",
    "        return SimpleModel(denseLayer: optimizedDenseLayer)\n",
    "    }\n",
    "}"
   ]
  },
  {
   "cell_type": "markdown",
   "metadata": {},
   "source": [
    "## Data"
   ]
  },
  {
   "cell_type": "code",
   "execution_count": 8,
   "metadata": {},
   "outputs": [],
   "source": [
    "//export\n",
    "public struct DataBunch<T> where T: TensorGroup {\n",
    "    public let trainingDataset: Dataset<T>\n",
    "    public let validationDataset: Dataset<T>\n",
    "}"
   ]
  },
  {
   "cell_type": "code",
   "execution_count": 9,
   "metadata": {},
   "outputs": [],
   "source": [
    "// export\n",
    "public struct SupervisedLearningGroup {\n",
    "    let features: TensorFloat\n",
    "    let labels: TensorFloat\n",
    "}\n",
    "\n",
    "extension SupervisedLearningGroup: TensorGroup {\n",
    "    \n",
    "    public static var _typeList: [TensorDataType] = [\n",
    "        Float.tensorFlowDataType,\n",
    "        Float.tensorFlowDataType\n",
    "    ]\n",
    "    public static var _unknownShapeList: [TensorShape?] = [nil, nil]\n",
    "    public var _tensorHandles: [_AnyTensorHandle] {\n",
    "        fatalError(\"unimplemented\")\n",
    "    }\n",
    "    public func _unpackTensorHandles(into address: UnsafeMutablePointer<CTensorHandle>?) {\n",
    "        address!.advanced(by: 0).initialize(to: features.handle._cTensorHandle)\n",
    "        address!.advanced(by: 1).initialize(to: labels.handle._cTensorHandle)\n",
    "    }\n",
    "    public init(_owning tensorHandles: UnsafePointer<CTensorHandle>?) {\n",
    "        features = Tensor(handle: TensorHandle(_owning: tensorHandles!.advanced(by: 0).pointee))\n",
    "        labels = Tensor(handle: TensorHandle(_owning: tensorHandles!.advanced(by: 1).pointee))\n",
    "    }\n",
    "    public init<C: RandomAccessCollection>(_handles: C) where C.Element: _AnyTensorHandle {\n",
    "        fatalError(\"unimplemented\")\n",
    "    }\n",
    "}\n",
    "\n",
    "public extension Sequence where Element == SupervisedLearningGroup {\n",
    "    var first: SupervisedLearningGroup? {\n",
    "        return first(where: { _ in true })\n",
    "    }\n",
    "}\n",
    "\n",
    "public extension Dataset where Element == SupervisedLearningGroup {\n",
    "    init(featuresTensor: TensorFloat, labelsTensor: TensorFloat) {\n",
    "        self.init(elements: SupervisedLearningGroup(\n",
    "                                                    features: featuresTensor, \n",
    "                                                    labels: labelsTensor.expandingShape(at: 1)))\n",
    "    }\n",
    "}"
   ]
  },
  {
   "cell_type": "code",
   "execution_count": 10,
   "metadata": {},
   "outputs": [],
   "source": [
    "import Python"
   ]
  },
  {
   "cell_type": "code",
   "execution_count": 11,
   "metadata": {},
   "outputs": [],
   "source": [
    "//export\n",
    "let carDataYCSV = \"/home/ubuntu/.machine-learning/data/car_stuff/pakistan_car_labels.csv\"\n",
    "let carDataXCSV = \"/home/ubuntu/.machine-learning/data/car_stuff/pakistan_car_x_data.csv\"\n",
    "\n",
    "public let numpy = Python.import(\"numpy\")\n",
    "\n",
    "func createDataSet(featureTensor: TensorFloat, \n",
    "                   labelTensor: TensorFloat, \n",
    "                   batchSize: Int) -> Dataset<SupervisedLearningGroup> {\n",
    "    return Dataset(featuresTensor: featureTensor, labelsTensor: labelTensor)\n",
    "                    .batched(batchSize)\n",
    "                    .shuffled(sampleCount: 64, \n",
    "                              randomSeed: 69, \n",
    "                              reshuffleForEachIterator: true)\n",
    "}\n",
    "\n",
    "public func getUsedCarDataBunch(validationSize: Double = 0.2,\n",
    "                             batchSize: Int = 1028\n",
    "                            ) -> DataBunch<SupervisedLearningGroup> {\n",
    "    let usedCarFeaturesArray = numpy.loadtxt(carDataXCSV, \n",
    "                                delimiter: \",\", \n",
    "                                skiprows: 1, \n",
    "                                usecols: Array(1...8), \n",
    "                                dtype: Float.numpyScalarTypes.first!)\n",
    "    let categoricalVariableSet: Set = [0,1,2,3,4,5,6,7]\n",
    "    let continousVariableSet: Set = [-1]\n",
    "    let usedCarFeatureTensor = reScaleFeatures(featureTensor: TensorFloat(numpy: usedCarFeaturesArray)!, \n",
    "                                               catVars: categoricalVariableSet, \n",
    "                                               contVars: continousVariableSet)\n",
    "    \n",
    "    let usedCarPrices = numpy.loadtxt(carDataYCSV, \n",
    "                                delimiter: \",\", \n",
    "                                skiprows: 0, \n",
    "                                usecols: [1], \n",
    "                                dtype: Float.numpyScalarTypes.first!)\n",
    "    let usedCarLabelsTensor = TensorFloat(numpy: usedCarPrices)!\n",
    "    \n",
    "    let numberOfUsedCars = usedCarFeatureTensor.shape[0]\n",
    "    let numberOfUsedCarFeatures = usedCarFeatureTensor.shape[1]\n",
    "    \n",
    "    let validationDatasetSize = Int32(floor(validationSize * Double(numberOfUsedCars)))\n",
    "    let trainingDataSetSize = Int32(numberOfUsedCars) - validationDatasetSize\n",
    "    \n",
    "    \n",
    "    let splitFeatures = usedCarFeatureTensor\n",
    "                                .split(sizes: Tensor<Int32>([validationDatasetSize, trainingDataSetSize]), \n",
    "                                       alongAxis: 0)\n",
    "    let splitLabels = usedCarLabelsTensor\n",
    "                            .split(sizes: Tensor<Int32>([validationDatasetSize, trainingDataSetSize]), \n",
    "                                   alongAxis: 0)\n",
    "    \n",
    "    let validationDataSet = createDataSet(featureTensor: splitFeatures[0],\n",
    "                                        labelTensor: splitLabels[0], batchSize: batchSize)\n",
    "    let trainingDataSet = createDataSet(featureTensor: splitFeatures[1],\n",
    "                                        labelTensor: splitLabels[1], batchSize: batchSize)\n",
    "    return DataBunch(trainingDataset: trainingDataSet, \n",
    "                     validationDataset: validationDataSet)\n",
    "}"
   ]
  },
  {
   "cell_type": "markdown",
   "metadata": {},
   "source": [
    "## Teach"
   ]
  },
  {
   "cell_type": "code",
   "execution_count": 12,
   "metadata": {},
   "outputs": [],
   "source": [
    "//export \n",
    "public protocol TeachingDelegate {\n",
    "    \n",
    "    func preTeach(epochs: Int)\n",
    "    \n",
    "    func postTeach()\n",
    "    \n",
    "    func preEpoch(epochNumber: Int, dataSet: Dataset<SupervisedLearningGroup>)\n",
    "    \n",
    "    func postEpoch(epochNumber: Int)\n",
    "    \n",
    "    func processBatch(model: TeachableModel, \n",
    "                      xDataPoints: TensorFloat,\n",
    "                      yValidationPoints: TensorFloat) -> TeachableModel    \n",
    "}"
   ]
  },
  {
   "cell_type": "code",
   "execution_count": 13,
   "metadata": {},
   "outputs": [],
   "source": [
    "let usedCarDataBunch = getUsedCarDataBunch()"
   ]
  },
  {
   "cell_type": "code",
   "execution_count": 14,
   "metadata": {},
   "outputs": [],
   "source": [
    "//export\n",
    "public struct Teacher {\n",
    "    \n",
    "    private let dataBunch: DataBunch<SupervisedLearningGroup>\n",
    "    private let trainingDelegate: TeachingDelegate\n",
    "    private let validationDelegate: TeachingDelegate\n",
    "    \n",
    "    \n",
    "    public func teachModel(model: TeachableModel,\n",
    "                           numberOfEpochs: Int) -> TeachableModel {\n",
    "        notifyPreTeach(epochs: numberOfEpochs)\n",
    "        let taughtModel = (1...numberOfEpochs)\n",
    "            .reduce(into: model) { (currentModel: inout TeachableModel, \n",
    "                                    epoch: Int) in\n",
    "                let trainedModel = trainModel(modelToTeach: currentModel,\n",
    "                                              currentEpoch: epoch)\n",
    "                currentModel = validateModel(modelToValidate: trainedModel,\n",
    "                                             currentEpoch: epoch)\n",
    "            }\n",
    "        notifyPostTeach()\n",
    "        return taughtModel\n",
    "    }\n",
    "    \n",
    "    private func trainModel(modelToTeach: TeachableModel, \n",
    "                            currentEpoch: Int) -> TeachableModel {\n",
    "        return processDataSet(model: modelToTeach,\n",
    "                           epoch: currentEpoch,\n",
    "                           dataSet: dataBunch.trainingDataset,\n",
    "                           teachingDelegate: trainingDelegate)\n",
    "    }\n",
    "    \n",
    "    private func validateModel(modelToValidate: TeachableModel, \n",
    "                               currentEpoch: Int) -> TeachableModel {\n",
    "        return processDataSet(model: modelToValidate,\n",
    "                              epoch: currentEpoch,\n",
    "                              dataSet: dataBunch.validationDataset,\n",
    "                              teachingDelegate: validationDelegate)\n",
    "    }\n",
    "    \n",
    "    private func processDataSet(model: TeachableModel,\n",
    "                             epoch: Int,\n",
    "                             dataSet: Dataset<SupervisedLearningGroup>,\n",
    "                             teachingDelegate: TeachingDelegate\n",
    "                            ) -> TeachableModel {\n",
    "        \n",
    "        teachingDelegate.preEpoch(epochNumber: epoch, \n",
    "                                  dataSet: dataSet)\n",
    "        \n",
    "        let taughtModel: TeachableModel = dataSet.reduce(into: model) {\n",
    "            (currentModel: inout TeachableModel, dataGroup: SupervisedLearningGroup) in\n",
    "            currentModel = teachingDelegate.processBatch(model: currentModel, \n",
    "                                                         xDataPoints: dataGroup.features, \n",
    "                                                         yValidationPoints: dataGroup.labels)\n",
    "        }\n",
    "        \n",
    "        teachingDelegate.postEpoch(epochNumber: epoch)\n",
    "        \n",
    "        return taughtModel\n",
    "    }\n",
    "    \n",
    "    \n",
    "    private func notifyPreTeach(epochs: Int) {\n",
    "        trainingDelegate.preTeach(epochs: epochs)\n",
    "        validationDelegate.preTeach(epochs: epochs)\n",
    "    }\n",
    "    \n",
    "    private func notifyPostTeach() {\n",
    "        trainingDelegate.postTeach()\n",
    "        validationDelegate.postTeach()\n",
    "    }\n",
    "}"
   ]
  },
  {
   "cell_type": "code",
   "execution_count": 15,
   "metadata": {},
   "outputs": [],
   "source": [
    "struct DummyDelegate: TeachingDelegate {\n",
    "    let name: String\n",
    "    \n",
    "    public func postEpoch(epochNumber: Int) {\n",
    "        print(\"\\(name): Post epoch #\\(epochNumber)\")\n",
    "    }\n",
    "    \n",
    "    public func preEpoch(epochNumber: Int, \n",
    "                         dataSet: Dataset<SupervisedLearningGroup>) {\n",
    "        print(\"\\(name): pre epoch #\\(epochNumber)\")\n",
    "    }\n",
    "    \n",
    "    public func preTeach(epochs: Int) {\n",
    "        print(\"\\(name): pre teach epochs: \\(epochs)\")\n",
    "    }\n",
    "    \n",
    "    public func postTeach() {\n",
    "        print(\"\\(name): Post Teach\")\n",
    "    }\n",
    "    \n",
    "    \n",
    "    public func processBatch(model: TeachableModel, \n",
    "                             xDataPoints: TensorFloat, \n",
    "                             yValidationPoints: TensorFloat) -> TeachableModel {\n",
    "        print(\"\\(name): processing data with model \\(model)\")\n",
    "        return model\n",
    "    }\n",
    "    \n",
    "}"
   ]
  },
  {
   "cell_type": "code",
   "execution_count": 16,
   "metadata": {},
   "outputs": [],
   "source": [
    "let steve = DummyDelegate(name: \"Steve\")\n",
    "let jimmy = DummyDelegate(name: \"Jimmy\")"
   ]
  },
  {
   "cell_type": "code",
   "execution_count": 17,
   "metadata": {},
   "outputs": [],
   "source": [
    "let protoTeacher = Teacher(dataBunch: usedCarDataBunch, \n",
    "                           trainingDelegate: steve, \n",
    "                           validationDelegate: jimmy)"
   ]
  },
  {
   "cell_type": "code",
   "execution_count": 18,
   "metadata": {},
   "outputs": [],
   "source": [
    "struct DummyModel: TeachableModel {\n",
    "    let name: String\n",
    "    \n",
    "    public func apply(inputTensor: TensorFloat) -> TensorFloat {\n",
    "        return inputTensor\n",
    "    }\n",
    "    \n",
    "    public func backwardsPass(ddx: TensorFloat, hyperParameters: HyperParameters) -> TeachableModel {\n",
    "        return self\n",
    "    }\n",
    "    \n",
    "    public func forwardPass(inputTensor: TensorFloat) -> (TensorFloat, TeachableModel) {\n",
    "        return (inputTensor, self)\n",
    "    }\n",
    "}"
   ]
  },
  {
   "cell_type": "code",
   "execution_count": 19,
   "metadata": {},
   "outputs": [],
   "source": [
    "let dummyModel = DummyModel(name: \"Busty Models 4\")"
   ]
  },
  {
   "cell_type": "code",
   "execution_count": 20,
   "metadata": {},
   "outputs": [
    {
     "name": "stdout",
     "output_type": "stream",
     "text": [
      "Steve: pre teach epochs: 2\n",
      "Jimmy: pre teach epochs: 2\n",
      "Steve: pre epoch #1\n",
      "Steve: processing data with model DummyModel(name: \"Busty Models 4\")\n",
      "Steve: processing data with model DummyModel(name: \"Busty Models 4\")\n",
      "Steve: processing data with model DummyModel(name: \"Busty Models 4\")\n",
      "Steve: processing data with model DummyModel(name: \"Busty Models 4\")\n",
      "Steve: processing data with model DummyModel(name: \"Busty Models 4\")\n",
      "Steve: processing data with model DummyModel(name: \"Busty Models 4\")\n",
      "Steve: processing data with model DummyModel(name: \"Busty Models 4\")\n",
      "Steve: processing data with model DummyModel(name: \"Busty Models 4\")\n",
      "Steve: processing data with model DummyModel(name: \"Busty Models 4\")\n",
      "Steve: processing data with model DummyModel(name: \"Busty Models 4\")\n",
      "Steve: processing data with model DummyModel(name: \"Busty Models 4\")\n",
      "Steve: processing data with model DummyModel(name: \"Busty Models 4\")\n",
      "Steve: processing data with model DummyModel(name: \"Busty Models 4\")\n",
      "Steve: processing data with model DummyModel(name: \"Busty Models 4\")\n",
      "Steve: processing data with model DummyModel(name: \"Busty Models 4\")\n",
      "Steve: processing data with model DummyModel(name: \"Busty Models 4\")\n",
      "Steve: processing data with model DummyModel(name: \"Busty Models 4\")\n",
      "Steve: processing data with model DummyModel(name: \"Busty Models 4\")\n",
      "Steve: processing data with model DummyModel(name: \"Busty Models 4\")\n",
      "Steve: processing data with model DummyModel(name: \"Busty Models 4\")\n",
      "Steve: Post epoch #1\n",
      "Jimmy: pre epoch #1\n",
      "Jimmy: processing data with model DummyModel(name: \"Busty Models 4\")\n",
      "Jimmy: processing data with model DummyModel(name: \"Busty Models 4\")\n",
      "Jimmy: processing data with model DummyModel(name: \"Busty Models 4\")\n",
      "Jimmy: processing data with model DummyModel(name: \"Busty Models 4\")\n",
      "Jimmy: processing data with model DummyModel(name: \"Busty Models 4\")\n",
      "Jimmy: Post epoch #1\n",
      "Steve: pre epoch #2\n",
      "Steve: processing data with model DummyModel(name: \"Busty Models 4\")\n",
      "Steve: processing data with model DummyModel(name: \"Busty Models 4\")\n",
      "Steve: processing data with model DummyModel(name: \"Busty Models 4\")\n",
      "Steve: processing data with model DummyModel(name: \"Busty Models 4\")\n",
      "Steve: processing data with model DummyModel(name: \"Busty Models 4\")\n",
      "Steve: processing data with model DummyModel(name: \"Busty Models 4\")\n",
      "Steve: processing data with model DummyModel(name: \"Busty Models 4\")\n",
      "Steve: processing data with model DummyModel(name: \"Busty Models 4\")\n",
      "Steve: processing data with model DummyModel(name: \"Busty Models 4\")\n",
      "Steve: processing data with model DummyModel(name: \"Busty Models 4\")\n",
      "Steve: processing data with model DummyModel(name: \"Busty Models 4\")\n",
      "Steve: processing data with model DummyModel(name: \"Busty Models 4\")\n",
      "Steve: processing data with model DummyModel(name: \"Busty Models 4\")\n",
      "Steve: processing data with model DummyModel(name: \"Busty Models 4\")\n",
      "Steve: processing data with model DummyModel(name: \"Busty Models 4\")\n",
      "Steve: processing data with model DummyModel(name: \"Busty Models 4\")\n",
      "Steve: processing data with model DummyModel(name: \"Busty Models 4\")\n",
      "Steve: processing data with model DummyModel(name: \"Busty Models 4\")\n",
      "Steve: processing data with model DummyModel(name: \"Busty Models 4\")\n",
      "Steve: processing data with model DummyModel(name: \"Busty Models 4\")\n",
      "Steve: Post epoch #2\n",
      "Jimmy: pre epoch #2\n",
      "Jimmy: processing data with model DummyModel(name: \"Busty Models 4\")\n",
      "Jimmy: processing data with model DummyModel(name: \"Busty Models 4\")\n",
      "Jimmy: processing data with model DummyModel(name: \"Busty Models 4\")\n",
      "Jimmy: processing data with model DummyModel(name: \"Busty Models 4\")\n",
      "Jimmy: processing data with model DummyModel(name: \"Busty Models 4\")\n",
      "Jimmy: Post epoch #2\n",
      "Steve: Post Teach\n",
      "Jimmy: Post Teach\n"
     ]
    }
   ],
   "source": [
    "let taughtModel =  protoTeacher.teachModel(model: dummyModel, \n",
    "                        numberOfEpochs: 2)"
   ]
  },
  {
   "cell_type": "markdown",
   "metadata": {},
   "source": [
    "## Teaching Delegates"
   ]
  },
  {
   "cell_type": "code",
   "execution_count": 21,
   "metadata": {},
   "outputs": [],
   "source": [
    "//export\n",
    "public protocol LossFunction {\n",
    "    func lossAndGradient(expectedTensor: TensorFloat,\n",
    "                         actualTensor: TensorFloat) -> (loss: TensorFloat,\n",
    "                                                        gradientSupplier: () -> TensorFloat)\n",
    "    func calculateLoss(expectedTensor: TensorFloat,\n",
    "                       actualTensor: TensorFloat) -> TensorFloat\n",
    "}"
   ]
  },
  {
   "cell_type": "code",
   "execution_count": 22,
   "metadata": {},
   "outputs": [],
   "source": [
    "class ValidationDelegate: TeachingDelegate {\n",
    "    \n",
    "    let lossFunction: LossFunction\n",
    "    \n",
    "    public init(lossFunction: LossFunction) {\n",
    "        self.lossFunction = lossFunction\n",
    "    }\n",
    "    \n",
    "    private var epochNumber: Int = 0\n",
    "    private var numberOfBatches: Int = 0\n",
    "    private var totalLoss: TensorFloat = TensorFloat([0.0])\n",
    "    \n",
    "    public func postEpoch(epochNumber: Int) {\n",
    "        let loss = totalLoss / Float(numberOfBatches)\n",
    "        print(\"Validation Loss for Epoch #\\(epochNumber): \\(loss)\")\n",
    "    }\n",
    "    \n",
    "    public func preEpoch(epochNumber: Int, \n",
    "                         dataSet: Dataset<SupervisedLearningGroup>) {\n",
    "        numberOfBatches = 0\n",
    "        totalLoss = TensorFloat([0.0])\n",
    "    }\n",
    "    \n",
    "    public func preTeach(epochs: Int) {\n",
    "    \n",
    "    }\n",
    "    \n",
    "    public func postTeach() {\n",
    "    \n",
    "    }\n",
    "    \n",
    "    \n",
    "    public func processBatch(model: TeachableModel, \n",
    "                             xDataPoints: TensorFloat, \n",
    "                             yValidationPoints: TensorFloat) -> TeachableModel {\n",
    "\n",
    "        let predictions = model.apply(inputTensor: xDataPoints)\n",
    "        \n",
    "        let loss = lossFunction.calculateLoss(expectedTensor: yValidationPoints, \n",
    "                                                                    actualTensor: predictions)\n",
    "        totalLoss += loss\n",
    "        numberOfBatches += 1\n",
    "        \n",
    "        return model\n",
    "    }\n",
    "    \n",
    "}"
   ]
  },
  {
   "cell_type": "code",
   "execution_count": 23,
   "metadata": {},
   "outputs": [],
   "source": [
    "class TrainingDelegate: TeachingDelegate {\n",
    "    \n",
    "    let lossFunction: LossFunction\n",
    "    \n",
    "    public init(lossFunction: LossFunction) {\n",
    "        self.lossFunction = lossFunction\n",
    "    }\n",
    "    \n",
    "    private var epochNumber: Int = 0\n",
    "    private var numberOfBatches: Int = 0\n",
    "    private var totalLoss: TensorFloat = TensorFloat([0.0])\n",
    "    \n",
    "    public func postEpoch(epochNumber: Int) {\n",
    "        let loss = totalLoss / Float(numberOfBatches)\n",
    "        print(\"Training Loss for Epoch #\\(epochNumber): \\(loss)\")\n",
    "    }\n",
    "    \n",
    "    public func preEpoch(epochNumber: Int, \n",
    "                         dataSet: Dataset<SupervisedLearningGroup>) {\n",
    "        numberOfBatches = 0\n",
    "        totalLoss = TensorFloat([0.0])\n",
    "    }\n",
    "    \n",
    "    public func preTeach(epochs: Int) {\n",
    "    \n",
    "    }\n",
    "    \n",
    "    public func postTeach() {\n",
    "    \n",
    "    }\n",
    "    \n",
    "    \n",
    "    public func processBatch(model: TeachableModel, \n",
    "                             xDataPoints: TensorFloat, \n",
    "                             yValidationPoints: TensorFloat) -> TeachableModel {\n",
    "\n",
    "        let (predictions, modelWithChain) = model.forwardPass(inputTensor: xDataPoints)\n",
    "        \n",
    "        let (loss, gradientSupplier) = lossFunction.lossAndGradient(expectedTensor: yValidationPoints, \n",
    "                                                                    actualTensor: predictions)\n",
    "        \n",
    "        totalLoss += loss\n",
    "        numberOfBatches += 1\n",
    "        \n",
    "        // todo: Optimize Hyper Parameters beforehand\n",
    "        let hyperParameters = HyperParameters(learningRate: 1e-3)\n",
    "        \n",
    "        return modelWithChain.backwardsPass(ddx: gradientSupplier(),\n",
    "                                            hyperParameters: hyperParameters)\n",
    "    }\n",
    "    \n",
    "}"
   ]
  },
  {
   "cell_type": "code",
   "execution_count": 24,
   "metadata": {},
   "outputs": [],
   "source": [
    "//export\n",
    "public struct MeanSquaredErrorLossFunction: LossFunction {\n",
    "        \n",
    "    public func calculateLoss(expectedTensor: TensorFloat, \n",
    "                              actualTensor: TensorFloat) -> TensorFloat {\n",
    "        let error: TensorFloat = calculateError(expectedTensor: expectedTensor,\n",
    "                                   actualTensor: actualTensor)\n",
    "        return error.squared().mean()\n",
    "    }\n",
    "    \n",
    "    public func lossAndGradient(expectedTensor: TensorFloat, \n",
    "                                actualTensor: TensorFloat) -> (loss: TensorFloat, gradientSupplier: () -> TensorFloat) {\n",
    "        let error = calculateError(expectedTensor:expectedTensor, \n",
    "                                   actualTensor: actualTensor)\n",
    "        let (squareValue, squareGradient) = squaredWithGradient(inputTensor: error)\n",
    "        let (meanValue, meanGradient) = meanWithGradient(inputTensor: squareValue)\n",
    "\n",
    "        return (loss: meanValue, gradientSupplier: { squareGradient(meanGradient(TensorFloat([1]))) })\n",
    "    }\n",
    "    \n",
    "    private func calculateError(expectedTensor: TensorFloat,\n",
    "                                actualTensor: TensorFloat) -> TensorFloat {\n",
    "        assert(expectedTensor.shape == actualTensor.shape, \"Expected \\(expectedTensor.shape) to be the same as \\(actualTensor.shape)\")\n",
    "        return expectedTensor - actualTensor\n",
    "    }\n",
    "}"
   ]
  },
  {
   "cell_type": "code",
   "execution_count": 25,
   "metadata": {},
   "outputs": [],
   "source": [
    "let meanSquaredErrorLossy = MeanSquaredErrorLossFunction()\n",
    "let protoTrainingDelegate = TrainingDelegate(lossFunction: meanSquaredErrorLossy)\n",
    "let protoValidationDelegate = ValidationDelegate(lossFunction: meanSquaredErrorLossy)"
   ]
  },
  {
   "cell_type": "code",
   "execution_count": 26,
   "metadata": {},
   "outputs": [],
   "source": [
    "let protoModelTeacher = Teacher(dataBunch: usedCarDataBunch, \n",
    "                                trainingDelegate: protoTrainingDelegate, \n",
    "                                validationDelegate: protoValidationDelegate)"
   ]
  },
  {
   "cell_type": "code",
   "execution_count": 27,
   "metadata": {},
   "outputs": [
    {
     "data": {
      "text/plain": [
       "▿ SimpleModel\n",
       "  ▿ denseLayer : DenseLayer_V2\n",
       "    - activationFunction : (Function)\n",
       "    - weightParameter : [[  0.4932123],\n",
       " [-0.47819018],\n",
       " [ 0.37106365],\n",
       " [-0.12580502],\n",
       " [ 0.24723746],\n",
       " [ 0.26628074],\n",
       " [0.061208427],\n",
       " [-0.48628214]]\n",
       "    - biasParameter : [0.0]\n",
       "    - gradientChain : (Function)\n"
      ]
     },
     "execution_count": 27,
     "metadata": {},
     "output_type": "execute_result"
    }
   ],
   "source": [
    "let firstValidationBatch = usedCarDataBunch.validationDataset.first!\n",
    "let simpleUntrainedModel = SimpleModel(inputSize: firstValidationBatch.features.shape[1], \n",
    "                                       numberOfClasses: 1)\n",
    "simpleUntrainedModel"
   ]
  },
  {
   "cell_type": "code",
   "execution_count": 28,
   "metadata": {},
   "outputs": [
    {
     "data": {
      "text/plain": [
       "1.6359744e+12\n"
      ]
     },
     "execution_count": 28,
     "metadata": {},
     "output_type": "execute_result"
    }
   ],
   "source": [
    "let predictions = simpleUntrainedModel.apply(inputTensor: firstValidationBatch.features)\n",
    "meanSquaredErrorLossy.calculateLoss(expectedTensor: firstValidationBatch.labels, \n",
    "                                    actualTensor: predictions)"
   ]
  },
  {
   "cell_type": "code",
   "execution_count": 29,
   "metadata": {},
   "outputs": [
    {
     "name": "stdout",
     "output_type": "stream",
     "text": [
      "Training Loss for Epoch #1: [3.6489388e+12]\n",
      "Validation Loss for Epoch #1: [1.7118576e+12]\n",
      "Training Loss for Epoch #2: [3.8139973e+12]\n",
      "Validation Loss for Epoch #2: [1.8787517e+12]\n",
      "Training Loss for Epoch #3: [4.008067e+12]\n",
      "Validation Loss for Epoch #3: [2.076122e+12]\n",
      "Training Loss for Epoch #4: [4.2362504e+12]\n",
      "Validation Loss for Epoch #4: [2.3094291e+12]\n",
      "Training Loss for Epoch #5: [4.5045556e+12]\n",
      "Validation Loss for Epoch #5: [2.585102e+12]\n",
      "Training Loss for Epoch #6: [4.820043e+12]\n",
      "Validation Loss for Epoch #6: [2.910712e+12]\n",
      "Training Loss for Epoch #7: [5.191017e+12]\n",
      "Validation Loss for Epoch #7: [3.2951692e+12]\n",
      "Training Loss for Epoch #8: [5.6272413e+12]\n",
      "Validation Loss for Epoch #8: [3.7489662e+12]\n",
      "Training Loss for Epoch #9: [6.1402026e+12]\n",
      "Validation Loss for Epoch #9: [4.28445e+12]\n",
      "Training Loss for Epoch #10: [6.743405e+12]\n",
      "Validation Loss for Epoch #10: [4.9161563e+12]\n",
      "Training Loss for Epoch #11: [7.452733e+12]\n",
      "Validation Loss for Epoch #11: [5.661188e+12]\n",
      "Training Loss for Epoch #12: [8.28686e+12]\n",
      "Validation Loss for Epoch #12: [6.5396765e+12]\n",
      "Training Loss for Epoch #13: [9.26775e+12]\n",
      "Validation Loss for Epoch #13: [7.575309e+12]\n",
      "Training Loss for Epoch #14: [1.0421233e+13]\n",
      "Validation Loss for Epoch #14: [8.795959e+12]\n",
      "Training Loss for Epoch #15: [1.1777684e+13]\n",
      "Validation Loss for Epoch #15: [1.0234427e+13]\n",
      "Training Loss for Epoch #16: [1.3372823e+13]\n",
      "Validation Loss for Epoch #16: [1.1929298e+13]\n",
      "Training Loss for Epoch #17: [1.5248655e+13]\n",
      "Validation Loss for Epoch #17: [1.3925978e+13]\n",
      "Training Loss for Epoch #18: [1.7454581e+13]\n",
      "Validation Loss for Epoch #18: [1.6277886e+13]\n",
      "Training Loss for Epoch #19: [2.0048685e+13]\n",
      "Validation Loss for Epoch #19: [1.9047855e+13]\n",
      "Training Loss for Epoch #20: [2.3099282e+13]\n",
      "Validation Loss for Epoch #20: [2.2309818e+13]\n"
     ]
    }
   ],
   "source": [
    "let simpleTrainedModel = protoModelTeacher.teachModel(model: simpleUntrainedModel, \n",
    "                                                      numberOfEpochs: 20)"
   ]
  },
  {
   "cell_type": "code",
   "execution_count": 30,
   "metadata": {},
   "outputs": [
    {
     "data": {
      "text/plain": [
       "▿ SimpleModel\n",
       "  ▿ denseLayer : DenseLayer_V2\n",
       "    - activationFunction : (Function)\n",
       "    - weightParameter : [[-259538.88],\n",
       " [-354092.94],\n",
       " [ -616019.0],\n",
       " [-300366.53],\n",
       " [-183697.84],\n",
       " [-201654.23],\n",
       " [-1687007.4],\n",
       " [-18598.889]]\n",
       "    - biasParameter : [-1857326.0]\n",
       "    - gradientChain : (Function)\n"
      ]
     },
     "execution_count": 30,
     "metadata": {},
     "output_type": "execute_result"
    }
   ],
   "source": [
    "simpleTrainedModel"
   ]
  },
  {
   "cell_type": "code",
   "execution_count": 31,
   "metadata": {},
   "outputs": [],
   "source": [
    "let simpleDenseLayer = DenseLayer_V2(inputSize: firstValidationBatch.features.shape[1], \n",
    "                                     outputSize: 1,\n",
    "                                    activationFunction: reLUAndGradient)"
   ]
  },
  {
   "cell_type": "code",
   "execution_count": 32,
   "metadata": {},
   "outputs": [
    {
     "name": "stdout",
     "output_type": "stream",
     "text": [
      "Training Loss: [2.8369874e+12]\n",
      "Validation Loss: [8.195352e+11]\n",
      "Training Loss: [2.6013716e+12]\n",
      "Validation Loss: [7.561084e+11]\n",
      "Training Loss: [2.5826558e+12]\n",
      "Validation Loss: [7.4736396e+11]\n",
      "Training Loss: [2.5762238e+12]\n",
      "Validation Loss: [7.439231e+11]\n",
      "Training Loss: [2.572774e+12]\n",
      "Validation Loss: [7.415084e+11]\n",
      "Training Loss: [2.5704024e+12]\n",
      "Validation Loss: [7.396234e+11]\n",
      "Training Loss: [2.568527e+12]\n",
      "Validation Loss: [7.379589e+11]\n",
      "Training Loss: [2.5671007e+12]\n",
      "Validation Loss: [7.3651906e+11]\n",
      "Training Loss: [2.565996e+12]\n",
      "Validation Loss: [7.353658e+11]\n",
      "Training Loss: [2.5650785e+12]\n",
      "Validation Loss: [7.3424634e+11]\n",
      "Training Loss: [2.5643597e+12]\n",
      "Validation Loss: [7.334185e+11]\n",
      "Training Loss: [2.5637363e+12]\n",
      "Validation Loss: [7.326456e+11]\n",
      "Training Loss: [2.5631562e+12]\n",
      "Validation Loss: [7.3181816e+11]\n",
      "Training Loss: [2.5625819e+12]\n",
      "Validation Loss: [7.310458e+11]\n",
      "Training Loss: [2.5618303e+12]\n",
      "Validation Loss: [7.30285e+11]\n",
      "Training Loss: [2.5611914e+12]\n",
      "Validation Loss: [7.295242e+11]\n",
      "Training Loss: [2.5606423e+12]\n",
      "Validation Loss: [7.287813e+11]\n",
      "Training Loss: [2.5601583e+12]\n",
      "Validation Loss: [7.2811676e+11]\n",
      "Training Loss: [2.559735e+12]\n",
      "Validation Loss: [7.2751527e+11]\n",
      "Training Loss: [2.55936e+12]\n",
      "Validation Loss: [7.269503e+11]\n",
      "Training Loss: [2.55904e+12]\n",
      "Validation Loss: [7.264476e+11]\n",
      "average: 94.74227191 ms,   min: 88.743386 ms,   max: 102.935611 ms\n",
      "elapsed time: 19.964819082 s\n"
     ]
    }
   ],
   "source": [
    "var currentDenseLayer: ModelParameter_V2 = simpleDenseLayer\n",
    "let trialsHyperParameter = HyperParameters(learningRate: 1e-1)\n",
    "withTime {\n",
    "    var trial = 0\n",
    "    timeTrials(trials: 200) { \n",
    "        var accumulatedTrainingLoss = TensorFloat([0])\n",
    "        var trainingItems = TensorFloat([0])\n",
    "        for batch in usedCarDataBunch.trainingDataset {\n",
    "            let (alexYHat, alexLayer) = currentDenseLayer.forwardPass(inputTensor: batch.features)\n",
    "            \n",
    "            let (loss, lossGradientSupplier) = meanSquaredErrorAndGradient(yHat: alexYHat, \n",
    "                                                                           y:batch.labels)\n",
    "            accumulatedTrainingLoss += loss\n",
    "            trainingItems += 1\n",
    "            \n",
    "            let (ddxAlexLayer, enhancedLayer) = alexLayer.backwardPass(ddx: lossGradientSupplier(), \n",
    "                                                                       hyperParameters: trialsHyperParameter)\n",
    "            currentDenseLayer = enhancedLayer   \n",
    "        }\n",
    "        \n",
    "        \n",
    "        var accumulatedValidationLoss = TensorFloat([0])\n",
    "        var validationItems = TensorFloat([0])\n",
    "        for validationBatch in usedCarDataBunch.validationDataset {\n",
    "            let (validationLoss, _) = meanSquaredErrorAndGradient(yHat: currentDenseLayer.apply(validationBatch.features), \n",
    "                                                                  y: validationBatch.labels)\n",
    "            \n",
    "            accumulatedValidationLoss += validationLoss\n",
    "            validationItems += 1\n",
    "        }\n",
    "        \n",
    "        if(trial % 10 == 0) {\n",
    "            print(\"Training Loss: \\(accumulatedTrainingLoss/trainingItems)\")\n",
    "            print(\"Validation Loss: \\(accumulatedValidationLoss/validationItems)\")   \n",
    "        }\n",
    "        trial += 1\n",
    "    }\n",
    "}"
   ]
  },
  {
   "cell_type": "code",
   "execution_count": 89,
   "metadata": {},
   "outputs": [
    {
     "data": {
      "text/plain": [
       "▿ DenseLayer_V2\n",
       "  - activationFunction : (Function)\n",
       "  - weightParameter : [[-1362714.8],\n",
       " [ 1141372.4],\n",
       " [-944537.56],\n",
       " [ 1818164.8],\n",
       " [ 671667.25],\n",
       " [-1286894.8],\n",
       " [-1140293.8],\n",
       " [ -682291.3]]\n",
       "  - biasParameter : [2017634.4]\n",
       "  - gradientChain : (Function)\n"
      ]
     },
     "execution_count": 89,
     "metadata": {},
     "output_type": "execute_result"
    }
   ],
   "source": [
    "currentDenseLayer"
   ]
  },
  {
   "cell_type": "code",
   "execution_count": 33,
   "metadata": {},
   "outputs": [
    {
     "data": {
      "text/plain": [
       "▿ [100, 2]\n",
       "  ▿ dimensions : 2 elements\n",
       "    - 0 : 100\n",
       "    - 1 : 2\n"
      ]
     },
     "execution_count": 33,
     "metadata": {},
     "output_type": "execute_result"
    }
   ],
   "source": [
    "let n = 100\n",
    "let inputPoints = TensorFloat(randomNormal: [100, 1])\n",
    "let A = inputPoints.concatenated(with: TensorFloat(ones: inputPoints.shape), alongAxis: 1)\n",
    "A.shape"
   ]
  },
  {
   "cell_type": "code",
   "execution_count": 34,
   "metadata": {},
   "outputs": [
    {
     "data": {
      "text/plain": [
       "▿ [100, 1]\n",
       "  ▿ dimensions : 2 elements\n",
       "    - 0 : 100\n",
       "    - 1 : 1\n"
      ]
     },
     "execution_count": 34,
     "metadata": {},
     "output_type": "execute_result"
    }
   ],
   "source": [
    "let yValidationPoints = matmul(A, TensorFloat([-2, 7]).expandingShape(at: 1)) + \n",
    "                (TensorFloat(randomNormal: inputPoints.shape, seed: (69, 420)) * 2.5)\n",
    "yValidationPoints.shape"
   ]
  },
  {
   "cell_type": "code",
   "execution_count": 35,
   "metadata": {},
   "outputs": [
    {
     "data": {
      "text/plain": [
       "('inline', 'module://ipykernel.pylab.backend_inline')\n"
      ]
     },
     "execution_count": 35,
     "metadata": {},
     "output_type": "execute_result"
    }
   ],
   "source": [
    "import Python\n",
    "%include \"EnableIPythonDisplay.swift\"\n",
    "IPythonDisplay.shell.enable_matplotlib(\"inline\")"
   ]
  },
  {
   "cell_type": "code",
   "execution_count": 36,
   "metadata": {},
   "outputs": [],
   "source": [
    "public let plotter = Python.import(\"matplotlib.pyplot\")"
   ]
  },
  {
   "cell_type": "code",
   "execution_count": 37,
   "metadata": {},
   "outputs": [
    {
     "data": {
      "image/png": "[encoded data removed]",
      "text/plain": [
       "<Figure size 432x288 with 1 Axes>"
      ]
     },
     "metadata": {
      "needs_background": "light"
     },
     "output_type": "display_data"
    },
    {
     "data": {
      "text/plain": [
       "None\n"
      ]
     },
     "execution_count": 37,
     "metadata": {},
     "output_type": "execute_result"
    }
   ],
   "source": [
    "plotter.scatter(x: A.slice(lowerBounds: [0, 0], upperBounds:[A.shape[0], 1] ).makeNumpyArray(), \n",
    "                y: yValidationPoints.makeNumpyArray())\n",
    "plotter.show()"
   ]
  },
  {
   "cell_type": "code",
   "execution_count": 38,
   "metadata": {},
   "outputs": [],
   "source": [
    "func showYHat(yHat: TensorFloat) {\n",
    "    plotter.scatter(x: A.slice(lowerBounds: [0, 0], upperBounds:[A.shape[0], 1] ).makeNumpyArray(), \n",
    "                y: yValidationPoints.makeNumpyArray())\n",
    "    plotter.scatter(x: A.slice(lowerBounds: [0, 0], upperBounds:[A.shape[0], 1] ).makeNumpyArray(), \n",
    "                y: yHat.makeNumpyArray())\n",
    "    plotter.show()\n",
    "}"
   ]
  },
  {
   "cell_type": "code",
   "execution_count": 39,
   "metadata": {},
   "outputs": [],
   "source": [
    "let linearModel = SimpleModel(inputSize: 2, \n",
    "                              numberOfClasses: 1)"
   ]
  },
  {
   "cell_type": "code",
   "execution_count": 40,
   "metadata": {},
   "outputs": [
    {
     "data": {
      "text/plain": [
       "▿ SimpleModel\n",
       "  ▿ denseLayer : DenseLayer_V2\n",
       "    - activationFunction : (Function)\n",
       "    - weightParameter : [[0.75186676],\n",
       " [ 1.2175626]]\n",
       "    - biasParameter : [0.0]\n",
       "    - gradientChain : (Function)\n"
      ]
     },
     "execution_count": 40,
     "metadata": {},
     "output_type": "execute_result"
    }
   ],
   "source": [
    "linearModel"
   ]
  },
  {
   "cell_type": "code",
   "execution_count": 41,
   "metadata": {},
   "outputs": [
    {
     "data": {
      "image/png": "[encoded data removed]",
      "text/plain": [
       "<Figure size 432x288 with 1 Axes>"
      ]
     },
     "metadata": {
      "needs_background": "light"
     },
     "output_type": "display_data"
    }
   ],
   "source": [
    "showYHat(yHat: linearModel.apply(inputTensor: A))"
   ]
  },
  {
   "cell_type": "code",
   "execution_count": 42,
   "metadata": {},
   "outputs": [],
   "source": [
    "let pointGroup = createDataSet(featureTensor: A, \n",
    "                               labelTensor: yValidationPoints.squeezingShape(at: 1), \n",
    "                               batchSize: 10)\n",
    "let sillyDataBunch = DataBunch(trainingDataset: pointGroup,\n",
    "                               validationDataset: pointGroup)"
   ]
  },
  {
   "cell_type": "code",
   "execution_count": 44,
   "metadata": {},
   "outputs": [],
   "source": [
    "let simpleTrainingDelegate = TrainingDelegate(lossFunction: meanSquaredErrorLossy)\n",
    "let simpleValidationDelegate = ValidationDelegate(lossFunction: meanSquaredErrorLossy)"
   ]
  },
  {
   "cell_type": "code",
   "execution_count": 45,
   "metadata": {},
   "outputs": [],
   "source": [
    "let pointTeacher = Teacher(dataBunch: sillyDataBunch, \n",
    "                           trainingDelegate: simpleTrainingDelegate, \n",
    "                           validationDelegate: simpleValidationDelegate)"
   ]
  },
  {
   "cell_type": "code",
   "execution_count": 46,
   "metadata": {},
   "outputs": [
    {
     "name": "stdout",
     "output_type": "stream",
     "text": [
      "Training Loss for Epoch #1: [54.026386]\n",
      "Validation Loss for Epoch #1: [56.081177]\n",
      "Training Loss for Epoch #2: [57.83584]\n",
      "Validation Loss for Epoch #2: [60.057686]\n",
      "Training Loss for Epoch #3: [61.955433]\n",
      "Validation Loss for Epoch #3: [64.35817]\n",
      "Training Loss for Epoch #4: [66.41087]\n",
      "Validation Loss for Epoch #4: [69.00949]\n",
      "Training Loss for Epoch #5: [71.22997]\n",
      "Validation Loss for Epoch #5: [74.040726]\n",
      "Training Loss for Epoch #6: [76.44291]\n",
      "Validation Loss for Epoch #6: [79.48337]\n",
      "Training Loss for Epoch #7: [82.08235]\n",
      "Validation Loss for Epoch #7: [85.37158]\n",
      "Training Loss for Epoch #8: [88.1837]\n",
      "Validation Loss for Epoch #8: [91.742386]\n",
      "Training Loss for Epoch #9: [94.785324]\n",
      "Validation Loss for Epoch #9: [98.635826]\n",
      "Training Loss for Epoch #10: [101.92881]\n",
      "Validation Loss for Epoch #10: [106.09538]\n"
     ]
    }
   ],
   "source": [
    "let taughtLinearModel = pointTeacher.teachModel(model: linearModel, \n",
    "                                                numberOfEpochs: 10)"
   ]
  },
  {
   "cell_type": "code",
   "execution_count": 47,
   "metadata": {},
   "outputs": [
    {
     "data": {
      "image/png": "[encoded data removed]",
      "text/plain": [
       "<Figure size 432x288 with 1 Axes>"
      ]
     },
     "metadata": {
      "needs_background": "light"
     },
     "output_type": "display_data"
    }
   ],
   "source": [
    "showYHat(yHat: taughtLinearModel.apply(inputTensor: A))"
   ]
  },
  {
   "cell_type": "code",
   "execution_count": 96,
   "metadata": {},
   "outputs": [],
   "source": [
    "typealias ThreeInputGradient = (TensorFloat) -> (TensorFloat, TensorFloat, TensorFloat)\n",
    "\n",
    "struct AlexLayer {\n",
    "    let activationFunction: SingleInputDifferentiable<TensorFloat>\n",
    "    let weightParameter: TensorFloat\n",
    "    let biasParameter: TensorFloat\n",
    "    private let gradientChain: ThreeInputGradient\n",
    "    \n",
    "    private init(activationFunction: @escaping SingleInputDifferentiable<TensorFloat>,\n",
    "                 weightParameter: TensorFloat,\n",
    "                 biasParameter: TensorFloat,\n",
    "                 gradientChain: @escaping ThreeInputGradient) {\n",
    "        self.activationFunction = activationFunction\n",
    "        self.weightParameter = weightParameter\n",
    "        self.biasParameter = biasParameter\n",
    "        self.gradientChain = gradientChain\n",
    "    }\n",
    "    \n",
    "    private init(alexLayer: AlexLayer,\n",
    "                 gradientChain: @escaping ThreeInputGradient) {\n",
    "        self.activationFunction = alexLayer.activationFunction\n",
    "        self.weightParameter = alexLayer.weightParameter\n",
    "        self.biasParameter = alexLayer.biasParameter\n",
    "        self.gradientChain = gradientChain\n",
    "    }\n",
    "    \n",
    "    init(inputSize: Int,\n",
    "         outputSize: Int,\n",
    "         activationFunction: @escaping SingleInputDifferentiable<TensorFloat> = identititySVGC){\n",
    "        self.activationFunction = activationFunction\n",
    "        self.weightParameter = TensorFloat(kaimingUniform: TensorShape([inputSize, outputSize]))\n",
    "        self.biasParameter = TensorFloat(zeros: [outputSize])\n",
    "        self.gradientChain = { (x: TensorFloat)  in (TensorFloat([1]), TensorFloat([1]), TensorFloat([1]))}\n",
    "    }\n",
    "    \n",
    "    func forwardPass(inputTensor: TensorFloat) -> (TensorFloat, AlexLayer) {\n",
    "        let (parameterOutput, parameterGradientChain) = \n",
    "          linearCombinationAndGradient(inputTensor: inputTensor, \n",
    "                                       weightParameter: self.weightParameter, \n",
    "                                       biasParameter: self.biasParameter)\n",
    "        let (activations, activationsGradientChain) = activationFunction(parameterOutput)\n",
    "        \n",
    "        return (activations, AlexLayer(alexLayer: self, \n",
    "                                       gradientChain: {ddx in parameterGradientChain(activationsGradientChain(ddx))}))\n",
    "    }\n",
    "    \n",
    "    func apply(_ inputTensor: TensorFloat) -> TensorFloat {\n",
    "        let (ret, _) = forwardPass(inputTensor: inputTensor)\n",
    "        return ret\n",
    "    }\n",
    "    \n",
    "    func backwardPass(ddx: TensorFloat, hyperParams: HyperParameters) -> (TensorFloat, AlexLayer) {\n",
    "        let (ddxInput, ddxParameter, ddxBias) = self.gradientChain(ddx)\n",
    "        return (ddxInput, AlexLayer(activationFunction: activationFunction, \n",
    "                                    weightParameter: self.weightParameter - hyperParams.learningRate * ddxParameter, \n",
    "                                    biasParameter: self.biasParameter - hyperParams.learningRate * ddxBias, \n",
    "                                    gradientChain: self.gradientChain))\n",
    "    }\n",
    "}"
   ]
  },
  {
   "cell_type": "code",
   "execution_count": 97,
   "metadata": {},
   "outputs": [],
   "source": [
    "let pointDenseLayer = AlexLayer(inputSize: 2, \n",
    "                                    outputSize: 1)\n",
    "\n",
    "let pointHyperParameters = HyperParameters(learningRate: 1e-2)"
   ]
  },
  {
   "cell_type": "code",
   "execution_count": 98,
   "metadata": {},
   "outputs": [
    {
     "data": {
      "text/plain": [
       "▿ AlexLayer\n",
       "  - activationFunction : (Function)\n",
       "  - weightParameter : [[  -1.215238],\n",
       " [-0.26584893]]\n",
       "  - biasParameter : [0.0]\n",
       "  - gradientChain : (Function)\n"
      ]
     },
     "execution_count": 98,
     "metadata": {},
     "output_type": "execute_result"
    }
   ],
   "source": [
    "pointDenseLayer"
   ]
  },
  {
   "cell_type": "code",
   "execution_count": 99,
   "metadata": {},
   "outputs": [
    {
     "name": "stdout",
     "output_type": "stream",
     "text": [
      "[100, 1]\r\n",
      "[100, 1]\r\n",
      "[100, 1]\r\n",
      "[100, 1]\r\n"
     ]
    }
   ],
   "source": [
    "print(matmul(A, pointDenseLayer.weightParameter).shape)\n",
    "let (wombo, _) = linearCombinationAndGradient(inputTensor: A, \n",
    "                                              weightParameter: pointDenseLayer.weightParameter, \n",
    "                                              biasParameter: pointDenseLayer.biasParameter)\n",
    "print(wombo.shape)\n",
    "let womboActivations = pointDenseLayer.apply(A)\n",
    "print(womboActivations.shape)\n",
    "let (wombo2, _) = pointDenseLayer.forwardPass(inputTensor: A)\n",
    "print(wombo2.shape)"
   ]
  },
  {
   "cell_type": "code",
   "execution_count": 110,
   "metadata": {},
   "outputs": [
    {
     "data": {
      "text/plain": [
       "▿ AlexLayer\n",
       "  - activationFunction : (Function)\n",
       "  - weightParameter : [[  -1.215238],\n",
       " [-0.26584893]]\n",
       "  - biasParameter : [0.0]\n",
       "  - gradientChain : (Function)\n"
      ]
     },
     "execution_count": 110,
     "metadata": {},
     "output_type": "execute_result"
    }
   ],
   "source": [
    "pointDenseLayer"
   ]
  },
  {
   "cell_type": "code",
   "execution_count": 111,
   "metadata": {},
   "outputs": [
    {
     "name": "stdout",
     "output_type": "stream",
     "text": [
      "average: 1.038008604 ms,   min: 947.22 µs,   max: 1.346449 ms\r\n"
     ]
    }
   ],
   "source": [
    "var currentPointDenseLayer = pointDenseLayer\n",
    "timeTrials(trials: 500) {\n",
    "    let (layerForwardPass, pointLayerToUpdate) = currentPointDenseLayer.forwardPass(inputTensor: A)\n",
    "    \n",
    "    let (_, gradientSupplier) = meanSquaredErrorAndGradient(yHat: layerForwardPass, y: yValidationPoints)\n",
    "//     let (loss, gradientSupplier) = meanSquaredErrorLossy.lossAndGradient(expectedTensor: yValidationPoints, \n",
    "//                                                                        actualTensor: layerForwardPass)\n",
    "    \n",
    "    let (_, taughtPointLayer) = currentPointDenseLayer.backwardPass(ddx: gradientSupplier(), \n",
    "                                                                hyperParams: pointHyperParameters)\n",
    "    currentPointDenseLayer = taughtPointLayer\n",
    "}"
   ]
  },
  {
   "cell_type": "code",
   "execution_count": 112,
   "metadata": {},
   "outputs": [
    {
     "data": {
      "text/plain": [
       "▿ AlexLayer\n",
       "  - activationFunction : (Function)\n",
       "  - weightParameter : [[-6.2252865],\n",
       " [-5.2758746]]\n",
       "  - biasParameter : [-5.01002]\n",
       "  - gradientChain : (Function)\n"
      ]
     },
     "execution_count": 112,
     "metadata": {},
     "output_type": "execute_result"
    }
   ],
   "source": [
    "currentPointDenseLayer"
   ]
  },
  {
   "cell_type": "code",
   "execution_count": 109,
   "metadata": {},
   "outputs": [
    {
     "data": {
      "image/png": "[encoded data removed]",
      "text/plain": [
       "<Figure size 432x288 with 1 Axes>"
      ]
     },
     "metadata": {
      "needs_background": "light"
     },
     "output_type": "display_data"
    }
   ],
   "source": [
    "showYHat(yHat: currentPointDenseLayer.apply(A))"
   ]
  },
  {
   "cell_type": "code",
   "execution_count": 129,
   "metadata": {},
   "outputs": [],
   "source": [
    "let trialsHyperParameter = HyperParameters(learningRate: 1e-2)\n",
    "\n",
    "var currentAlexLayer = AlexLayer(inputSize: 2, \n",
    "                                 outputSize: 1)"
   ]
  },
  {
   "cell_type": "code",
   "execution_count": 114,
   "metadata": {},
   "outputs": [],
   "source": [
    "func showLoss(alexLayer: AlexLayer) {\n",
    "    let (alexYHat3, testLayer) = alexLayer.forwardPass(inputTensor: A)\n",
    "    let (lossyBoi3, lossGradient2) = meanSquaredErrorAndGradient(yHat: alexYHat3, y: yValidationPoints)\n",
    "    print(\"MSE: \\(lossyBoi3)\")\n",
    "    showYHat(yHat: alexYHat3)\n",
    "}"
   ]
  },
  {
   "cell_type": "code",
   "execution_count": 130,
   "metadata": {},
   "outputs": [
    {
     "name": "stdout",
     "output_type": "stream",
     "text": [
      "MSE: 70.7853\r\n"
     ]
    },
    {
     "data": {
      "image/png": "[encoded data removed]",
      "text/plain": [
       "<Figure size 432x288 with 1 Axes>"
      ]
     },
     "metadata": {
      "needs_background": "light"
     },
     "output_type": "display_data"
    }
   ],
   "source": [
    "showLoss(alexLayer: currentAlexLayer)"
   ]
  },
  {
   "cell_type": "code",
   "execution_count": 131,
   "metadata": {},
   "outputs": [
    {
     "name": "stdout",
     "output_type": "stream",
     "text": [
      "average: 1.6458980120000002 ms,   min: 1.504732 ms,   max: 1.964963 ms\r\n"
     ]
    }
   ],
   "source": [
    "timeTrials(trials: 500) { \n",
    "    let (alexYHat, alexLayer) = currentAlexLayer.forwardPass(inputTensor: A)\n",
    "    let (loss, lossGradientSupplier) = meanSquaredErrorAndGradient(yHat: alexYHat, y:yValidationPoints)\n",
    "    let (ddxAlexLayer, enhancedLayer) = alexLayer.backwardPass(ddx: lossGradientSupplier(), \n",
    "                                                               hyperParams: trialsHyperParameter)\n",
    "    currentAlexLayer = enhancedLayer\n",
    "}"
   ]
  },
  {
   "cell_type": "code",
   "execution_count": 132,
   "metadata": {},
   "outputs": [
    {
     "name": "stdout",
     "output_type": "stream",
     "text": [
      "MSE: 5.4885206\r\n"
     ]
    },
    {
     "data": {
      "image/png": "[encoded data removed]",
      "text/plain": [
       "<Figure size 432x288 with 1 Axes>"
      ]
     },
     "metadata": {
      "needs_background": "light"
     },
     "output_type": "display_data"
    }
   ],
   "source": [
    "showLoss(alexLayer: currentAlexLayer)"
   ]
  },
  {
   "cell_type": "code",
   "execution_count": 133,
   "metadata": {},
   "outputs": [
    {
     "data": {
      "image/png": "[encoded data removed]",
      "text/plain": [
       "<Figure size 432x288 with 1 Axes>"
      ]
     },
     "metadata": {
      "needs_background": "light"
     },
     "output_type": "display_data"
    }
   ],
   "source": [
    "showYHat(yHat: currentAlexLayer.apply(A))"
   ]
  },
  {
   "cell_type": "code",
   "execution_count": 134,
   "metadata": {},
   "outputs": [
    {
     "data": {
      "text/plain": [
       "▿ AlexLayer\n",
       "  - activationFunction : (Function)\n",
       "  - weightParameter : [[-2.3152823],\n",
       " [ 3.5089054]]\n",
       "  - biasParameter : [3.5770028]\n",
       "  - gradientChain : (Function)\n"
      ]
     },
     "execution_count": 134,
     "metadata": {},
     "output_type": "execute_result"
    }
   ],
   "source": [
    "currentAlexLayer"
   ]
  },
  {
   "cell_type": "code",
   "execution_count": 120,
   "metadata": {},
   "outputs": [],
   "source": [
    "let testDenseLayer = DenseLayer_V2(inputSize: 2, outputSize: 1)\n",
    "let testHyperParameter = HyperParameters(learningRate: 1e-2)"
   ]
  },
  {
   "cell_type": "code",
   "execution_count": 121,
   "metadata": {},
   "outputs": [
    {
     "data": {
      "image/png": "[encoded data removed]",
      "text/plain": [
       "<Figure size 432x288 with 1 Axes>"
      ]
     },
     "metadata": {
      "needs_background": "light"
     },
     "output_type": "display_data"
    }
   ],
   "source": [
    "showYHat(yHat: testDenseLayer.apply(A))"
   ]
  },
  {
   "cell_type": "code",
   "execution_count": 124,
   "metadata": {},
   "outputs": [
    {
     "name": "stdout",
     "output_type": "stream",
     "text": [
      "average: 1.0832183160000002 ms,   min: 961.042 µs,   max: 1.94352 ms\r\n"
     ]
    }
   ],
   "source": [
    "var currentTestDenseLayer: ModelParameter_V2 = testDenseLayer\n",
    "timeTrials(trials: 500) {\n",
    "    let (testForwardPass, testDenseLayerForward) = \n",
    "        currentTestDenseLayer.forwardPass(inputTensor: A)\n",
    "    \n",
    "    let (_, testLayerGradientSupplier) = meanSquaredErrorAndGradient(yHat: testForwardPass, \n",
    "                                                            y: yValidationPoints)\n",
    "    \n",
    "    let (_, taughtTestLayerLayer) = currentTestDenseLayer.backwardPass(ddx: testLayerGradientSupplier(), \n",
    "                                                                   hyperParameters: testHyperParameter)\n",
    "    currentTestDenseLayer = taughtTestLayerLayer\n",
    "}"
   ]
  },
  {
   "cell_type": "code",
   "execution_count": 127,
   "metadata": {},
   "outputs": [
    {
     "data": {
      "image/png": "[encoded data removed]",
      "text/plain": [
       "<Figure size 432x288 with 1 Axes>"
      ]
     },
     "metadata": {
      "needs_background": "light"
     },
     "output_type": "display_data"
    }
   ],
   "source": [
    "let (yHatTest, _) = currentTestDenseLayer.forwardPass(inputTensor: A)\n",
    "showYHat(yHat: yHatTest)"
   ]
  },
  {
   "cell_type": "code",
   "execution_count": null,
   "metadata": {},
   "outputs": [],
   "source": []
  }
 ],
 "metadata": {
  "kernelspec": {
   "display_name": "Swift",
   "language": "swift",
   "name": "swift"
  },
  "language_info": {
   "file_extension": ".swift",
   "mimetype": "text/x-swift",
   "name": "swift",
   "version": ""
  }
 },
 "nbformat": 4,
 "nbformat_minor": 2
}
