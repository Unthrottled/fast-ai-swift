{
 "cells": [
  {
   "cell_type": "code",
   "execution_count": 1,
   "metadata": {},
   "outputs": [
    {
     "name": "stdout",
     "output_type": "stream",
     "text": [
      "Installing packages:\n",
      "\t.package(path: \"/home/ubuntu/workspace/fast-ai-swift/SchwiftyNotebook_Annealing\")\n",
      "\t\tSchwiftyNotebook_Annealing\n",
      "With SwiftPM flags: []\n",
      "Working in: /tmp/tmp5mgbwfm2/swift-install\n",
      "warning: /home/ubuntu/swift/usr/bin/swiftc: /home/ubuntu/anaconda3/envs/swift-env/lib/libuuid.so.1: no version information available (required by /home/ubuntu/swift/usr/bin/swiftc)\n",
      "/home/ubuntu/swift/usr/bin/swift: /home/ubuntu/anaconda3/envs/swift-env/lib/libuuid.so.1: no version information available (required by /home/ubuntu/swift/usr/bin/swift)\n",
      "warning: /home/ubuntu/swift/usr/bin/swiftc: /home/ubuntu/anaconda3/envs/swift-env/lib/libuuid.so.1: no version information available (required by /home/ubuntu/swift/usr/bin/swiftc)\n",
      "/home/ubuntu/swift/usr/bin/swift: /home/ubuntu/anaconda3/envs/swift-env/lib/libuuid.so.1: no version information available (required by /home/ubuntu/swift/usr/bin/swift)\n",
      "warning: /home/ubuntu/swift/usr/bin/swiftc: /home/ubuntu/anaconda3/envs/swift-env/lib/libuuid.so.1: no version information available (required by /home/ubuntu/swift/usr/bin/swiftc)\n",
      "/home/ubuntu/swift/usr/bin/swift: /home/ubuntu/anaconda3/envs/swift-env/lib/libuuid.so.1: no version information available (required by /home/ubuntu/swift/usr/bin/swift)\n",
      "warning: /home/ubuntu/swift/usr/bin/swiftc: /home/ubuntu/anaconda3/envs/swift-env/lib/libuuid.so.1: no version information available (required by /home/ubuntu/swift/usr/bin/swiftc)\n",
      "/home/ubuntu/swift/usr/bin/swift: /home/ubuntu/anaconda3/envs/swift-env/lib/libuuid.so.1: no version information available (required by /home/ubuntu/swift/usr/bin/swift)\n",
      "warning: /home/ubuntu/swift/usr/bin/swiftc: /home/ubuntu/anaconda3/envs/swift-env/lib/libuuid.so.1: no version information available (required by /home/ubuntu/swift/usr/bin/swiftc)\n",
      "/home/ubuntu/swift/usr/bin/swift: /home/ubuntu/anaconda3/envs/swift-env/lib/libuuid.so.1: no version information available (required by /home/ubuntu/swift/usr/bin/swift)\n",
      "warning: /home/ubuntu/swift/usr/bin/swiftc: /home/ubuntu/anaconda3/envs/swift-env/lib/libuuid.so.1: no version information available (required by /home/ubuntu/swift/usr/bin/swiftc)\n",
      "/home/ubuntu/swift/usr/bin/swift: /home/ubuntu/anaconda3/envs/swift-env/lib/libuuid.so.1: no version information available (required by /home/ubuntu/swift/usr/bin/swift)\n",
      "warning: /home/ubuntu/swift/usr/bin/swiftc: /home/ubuntu/anaconda3/envs/swift-env/lib/libuuid.so.1: no version information available (required by /home/ubuntu/swift/usr/bin/swiftc)\n",
      "/home/ubuntu/swift/usr/bin/swift: /home/ubuntu/anaconda3/envs/swift-env/lib/libuuid.so.1: no version information available (required by /home/ubuntu/swift/usr/bin/swift)\n",
      "warning: /home/ubuntu/swift/usr/bin/swiftc: /home/ubuntu/anaconda3/envs/swift-env/lib/libuuid.so.1: no version information available (required by /home/ubuntu/swift/usr/bin/swiftc)\n",
      "/home/ubuntu/swift/usr/bin/swift: /home/ubuntu/anaconda3/envs/swift-env/lib/libuuid.so.1: no version information available (required by /home/ubuntu/swift/usr/bin/swift)\n",
      "warning: /home/ubuntu/swift/usr/bin/swiftc: /home/ubuntu/anaconda3/envs/swift-env/lib/libuuid.so.1: no version information available (required by /home/ubuntu/swift/usr/bin/swiftc)\n",
      "/home/ubuntu/swift/usr/bin/swift: /home/ubuntu/anaconda3/envs/swift-env/lib/libuuid.so.1: no version information available (required by /home/ubuntu/swift/usr/bin/swift)\n",
      "warning: /home/ubuntu/swift/usr/bin/swiftc: /home/ubuntu/anaconda3/envs/swift-env/lib/libuuid.so.1: no version information available (required by /home/ubuntu/swift/usr/bin/swiftc)\n",
      "/home/ubuntu/swift/usr/bin/swift: /home/ubuntu/anaconda3/envs/swift-env/lib/libuuid.so.1: no version information available (required by /home/ubuntu/swift/usr/bin/swift)\n",
      "warning: /home/ubuntu/swift/usr/bin/swiftc: /home/ubuntu/anaconda3/envs/swift-env/lib/libuuid.so.1: no version information available (required by /home/ubuntu/swift/usr/bin/swiftc)\n",
      "/home/ubuntu/swift/usr/bin/swift: /home/ubuntu/anaconda3/envs/swift-env/lib/libuuid.so.1: no version information available (required by /home/ubuntu/swift/usr/bin/swift)\n",
      "/home/ubuntu/swift/usr/bin/swiftc: /home/ubuntu/anaconda3/envs/swift-env/lib/libuuid.so.1: no version information available (required by /home/ubuntu/swift/usr/bin/swiftc)\n",
      "/home/ubuntu/swift/usr/bin/swiftc: /home/ubuntu/anaconda3/envs/swift-env/lib/libuuid.so.1: no version information available (required by /home/ubuntu/swift/usr/bin/swiftc)[1/8] Compiling SchwiftyNotebook_Annealing matrix_multiplication.swift\n",
      "/home/ubuntu/swift/usr/bin/swift: /home/ubuntu/anaconda3/envs/swift-env/lib/libuuid.so.1: no version information available (required by /home/ubuntu/swift/usr/bin/swift)\n",
      "[2/8] Compiling SchwiftyNotebook_Annealing Annealing.swift\n",
      "/home/ubuntu/swift/usr/bin/swift: /home/ubuntu/anaconda3/envs/swift-env/lib/libuuid.so.1: no version information available (required by /home/ubuntu/swift/usr/bin/swift)\n",
      "/home/ubuntu/workspace/fast-ai-swift/SchwiftyNotebook_Annealing/Sources/SchwiftyNotebook_Annealing/Layer_Refined.swift:94:27: warning: immutable value 'activationsGradientChain' was never used; consider replacing with '_' or removing it\n",
      "        let (activations, activationsGradientChain) = activationFunction(parameterOutput)\n",
      "                          ^~~~~~~~~~~~~~~~~~~~~~~~\n",
      "                          _\n",
      "[3/8] Compiling SchwiftyNotebook_Annealing Layer_Refined.swift\n",
      "/home/ubuntu/swift/usr/bin/swift: /home/ubuntu/anaconda3/envs/swift-env/lib/libuuid.so.1: no version information available (required by /home/ubuntu/swift/usr/bin/swift)\n",
      "/home/ubuntu/workspace/fast-ai-swift/SchwiftyNotebook_Annealing/Sources/SchwiftyNotebook_Annealing/Layer_Refined.swift:94:27: warning: immutable value 'activationsGradientChain' was never used; consider replacing with '_' or removing it\n",
      "        let (activations, activationsGradientChain) = activationFunction(parameterOutput)\n",
      "                          ^~~~~~~~~~~~~~~~~~~~~~~~\n",
      "                          _\n",
      "[4/8] Compiling SchwiftyNotebook_Annealing auto_diffy.swift\n",
      "/home/ubuntu/swift/usr/bin/swift: /home/ubuntu/anaconda3/envs/swift-env/lib/libuuid.so.1: no version information available (required by /home/ubuntu/swift/usr/bin/swift)\n",
      "/home/ubuntu/workspace/fast-ai-swift/SchwiftyNotebook_Annealing/Sources/SchwiftyNotebook_Annealing/batch_boi.swift:123:9: warning: initialization of immutable value 'numberOfUsedCarFeatures' was never used; consider replacing with assignment to '_' or removing it\n",
      "    let numberOfUsedCarFeatures = usedCarFeatureTensor.shape[1]\n",
      "    ~~~~^~~~~~~~~~~~~~~~~~~~~~~\n",
      "    _\n",
      "[5/8] Compiling SchwiftyNotebook_Annealing batch_boi.swift\n",
      "/home/ubuntu/swift/usr/bin/swift: /home/ubuntu/anaconda3/envs/swift-env/lib/libuuid.so.1: no version information available (required by /home/ubuntu/swift/usr/bin/swift)\n",
      "/home/ubuntu/workspace/fast-ai-swift/SchwiftyNotebook_Annealing/Sources/SchwiftyNotebook_Annealing/batch_boi.swift:123:9: warning: initialization of immutable value 'numberOfUsedCarFeatures' was never used; consider replacing with assignment to '_' or removing it\n",
      "    let numberOfUsedCarFeatures = usedCarFeatureTensor.shape[1]\n",
      "    ~~~~^~~~~~~~~~~~~~~~~~~~~~~\n",
      "    _\n",
      "[6/8] Compiling SchwiftyNotebook_Annealing convolution_model.swift\n",
      "/home/ubuntu/swift/usr/bin/swift: /home/ubuntu/anaconda3/envs/swift-env/lib/libuuid.so.1: no version information available (required by /home/ubuntu/swift/usr/bin/swift)\n",
      "[7/8] Compiling SchwiftyNotebook_Annealing initial_setup.swift\n",
      "/home/ubuntu/swift/usr/bin/swift: /home/ubuntu/anaconda3/envs/swift-env/lib/libuuid.so.1: no version information available (required by /home/ubuntu/swift/usr/bin/swift)\n",
      "[8/9] Merging module SchwiftyNotebook_Annealing\n",
      "/home/ubuntu/swift/usr/bin/swift: /home/ubuntu/anaconda3/envs/swift-env/lib/libuuid.so.1: no version information available (required by /home/ubuntu/swift/usr/bin/swift)\n",
      "/home/ubuntu/swift/usr/bin/swiftc: /home/ubuntu/anaconda3/envs/swift-env/lib/libuuid.so.1: no version information available (required by /home/ubuntu/swift/usr/bin/swiftc)[9/10] Compiling jupyterInstalledPackages jupyterInstalledPackages.swift\n",
      "/home/ubuntu/swift/usr/bin/swift: /home/ubuntu/anaconda3/envs/swift-env/lib/libuuid.so.1: no version information available (required by /home/ubuntu/swift/usr/bin/swift)\n"
     ]
    },
    {
     "name": "stdout",
     "output_type": "stream",
     "text": [
      "[10/11] Merging module jupyterInstalledPackages\n",
      "/home/ubuntu/swift/usr/bin/swift: /home/ubuntu/anaconda3/envs/swift-env/lib/libuuid.so.1: no version information available (required by /home/ubuntu/swift/usr/bin/swift)\n",
      "/home/ubuntu/swift/usr/bin/swiftc: /home/ubuntu/anaconda3/envs/swift-env/lib/libuuid.so.1: no version information available (required by /home/ubuntu/swift/usr/bin/swiftc)\n",
      "/home/ubuntu/swift/usr/bin/swift-autolink-extract: /home/ubuntu/anaconda3/envs/swift-env/lib/libuuid.so.1: no version information available (required by /home/ubuntu/swift/usr/bin/swift-autolink-extract)\n",
      "[11/11] Linking libjupyterInstalledPackages.so\n",
      "Initializing Swift...\n",
      "Installation complete!\n"
     ]
    }
   ],
   "source": [
    "%install-location $cwd/swift-install\n",
    "%install '.package(path: \"$cwd/SchwiftyNotebook_Annealing\")' SchwiftyNotebook_Annealing"
   ]
  },
  {
   "cell_type": "code",
   "execution_count": 2,
   "metadata": {},
   "outputs": [],
   "source": [
    "//export\n",
    "import Path\n",
    "import TensorFlow\n",
    "import SchwiftyNotebook_Annealing"
   ]
  },
  {
   "cell_type": "markdown",
   "metadata": {},
   "source": [
    "## Model"
   ]
  },
  {
   "cell_type": "code",
   "execution_count": 3,
   "metadata": {},
   "outputs": [],
   "source": [
    "//export\n",
    "public struct HyperParameters {\n",
    "    public let learningRate: Float\n",
    "}"
   ]
  },
  {
   "cell_type": "code",
   "execution_count": 4,
   "metadata": {},
   "outputs": [],
   "source": [
    "//export\n",
    "public protocol TeachableModel {\n",
    "    \n",
    "    func apply(inputTensor: TensorFloat) -> TensorFloat\n",
    "    \n",
    "    func forwardPass(inputTensor: TensorFloat) -> (TensorFloat, TeachableModel)\n",
    "    \n",
    "    func backwardsPass(ddx: TensorFloat, hyperParameters: HyperParameters) -> TeachableModel    \n",
    "}"
   ]
  },
  {
   "cell_type": "code",
   "execution_count": 13,
   "metadata": {},
   "outputs": [],
   "source": [
    "//export\n",
    "public protocol ModelParameter_V2  {\n",
    "    \n",
    "    func forwardPass(inputTensor: TensorFloat) -> (TensorFloat, ModelParameter_V2)\n",
    "    \n",
    "    func apply(_ inputTensor: TensorFloat) -> TensorFloat \n",
    "    \n",
    "    func backwardPass(ddx: TensorFloat, hyperParameters: HyperParameters) -> (TensorFloat, ModelParameter_V2)\n",
    "}"
   ]
  },
  {
   "cell_type": "code",
   "execution_count": 20,
   "metadata": {},
   "outputs": [],
   "source": [
    "//export\n",
    "public struct DenseLayer_V2: ModelParameter_V2 {\n",
    "    let activationFunction: SingleInputDifferentiable<TensorFloat>\n",
    "    let weightParameter: TensorFloat\n",
    "    let biasParameter: TensorFloat\n",
    "    private let gradientChain: ThreeInputGradient\n",
    "\n",
    "    private init(activationFunction: @escaping SingleInputDifferentiable<TensorFloat>,\n",
    "                 weightParameter: TensorFloat,\n",
    "                 biasParameter: TensorFloat,\n",
    "                 gradientChain: @escaping ThreeInputGradient) {\n",
    "        self.activationFunction = activationFunction\n",
    "        self.weightParameter = weightParameter\n",
    "        self.biasParameter = biasParameter\n",
    "        self.gradientChain = gradientChain\n",
    "    }\n",
    "\n",
    "    private init(denseLayer: DenseLayer_V2,\n",
    "                 gradientChain: @escaping ThreeInputGradient) {\n",
    "        self.activationFunction = denseLayer.activationFunction\n",
    "        self.weightParameter = denseLayer.weightParameter\n",
    "        self.biasParameter = denseLayer.biasParameter\n",
    "        self.gradientChain = gradientChain\n",
    "    }\n",
    "\n",
    "    public init(inputSize: Int,\n",
    "         outputSize: Int,\n",
    "         activationFunction: @escaping SingleInputDifferentiable<TensorFloat> = identititySVGC){\n",
    "        self.activationFunction = activationFunction\n",
    "        self.weightParameter = TensorFloat(kaimingUniform: TensorShape([inputSize, outputSize]))\n",
    "        self.biasParameter = TensorFloat(zeros: [outputSize])\n",
    "        self.gradientChain = { (x: TensorFloat)  in (TensorFloat([1]), TensorFloat([1]), TensorFloat([1]))}\n",
    "    }\n",
    "\n",
    "    public func forwardPass(inputTensor: TensorFloat) -> (TensorFloat, ModelParameter_V2) {\n",
    "        let (parameterOutput, parameterGradientChain) =\n",
    "          linearCombinationAndGradient(inputTensor: inputTensor,\n",
    "                                       weightParameter: self.weightParameter,\n",
    "                                       biasParameter: self.biasParameter)\n",
    "        let (activations, activationsGradientChain) = activationFunction(parameterOutput)\n",
    "\n",
    "        return (activations, DenseLayer_V2(denseLayer: self,\n",
    "                                       gradientChain: {ddx in parameterGradientChain(activationsGradientChain(ddx))}))\n",
    "    }\n",
    "\n",
    "    public func apply(_ inputTensor: TensorFloat) -> TensorFloat {\n",
    "        let parameterOutput =\n",
    "          linearCombination(inputs: inputTensor,\n",
    "                                       weights: self.weightParameter,\n",
    "                                       bias: self.biasParameter)\n",
    "        let (activations, activationsGradientChain) = activationFunction(parameterOutput)\n",
    "        return activations\n",
    "    }\n",
    "\n",
    "    public func backwardPass(ddx: TensorFloat, hyperParameters: HyperParameters) -> \n",
    "    (TensorFloat, ModelParameter_V2) {\n",
    "        let (ddxInput, ddxParameter, ddxBias) = self.gradientChain(ddx)\n",
    "        return (ddxInput, DenseLayer_V2(activationFunction: activationFunction,\n",
    "                                    weightParameter: self.weightParameter - hyperParameters.learningRate * ddxParameter,\n",
    "                                    biasParameter: self.biasParameter - hyperParameters.learningRate * ddxBias,\n",
    "                                    gradientChain: self.gradientChain))\n",
    "    }\n",
    "}"
   ]
  },
  {
   "cell_type": "code",
   "execution_count": 21,
   "metadata": {},
   "outputs": [],
   "source": [
    "struct SimpleModel : TeachableModel {\n",
    "    \n",
    "    private let denseLayer: ModelParameter_V2\n",
    "    \n",
    "    private init(denseLayer: ModelParameter_V2){\n",
    "        self.denseLayer = denseLayer\n",
    "    }\n",
    "    \n",
    "    public init(inputSize: Int, \n",
    "                numberOfClasses: Int) {\n",
    "        denseLayer = DenseLayer_V2(inputSize: inputSize, outputSize: numberOfClasses)\n",
    "    }\n",
    "    \n",
    "    public func apply(inputTensor: TensorFloat) -> TensorFloat {\n",
    "        return denseLayer.apply(inputTensor)\n",
    "    }\n",
    "    \n",
    "    public func forwardPass(inputTensor: TensorFloat) -> (TensorFloat, TeachableModel) {\n",
    "        let (activations, newDenseLayer) = denseLayer.forwardPass(inputTensor: inputTensor)\n",
    "        return (activations, SimpleModel(denseLayer: newDenseLayer))\n",
    "    }\n",
    "    \n",
    "    public func backwardsPass(ddx: TensorFloat, \n",
    "                              hyperParameters: HyperParameters) -> TeachableModel {\n",
    "        let (ddxDenseLayer, optimizedDenseLayer) = denseLayer.backwardPass(ddx: ddx, \n",
    "                                                          hyperParameters: hyperParameters)\n",
    "        return SimpleModel(denseLayer: optimizedDenseLayer)\n",
    "    }\n",
    "}"
   ]
  },
  {
   "cell_type": "markdown",
   "metadata": {},
   "source": [
    "## Data"
   ]
  },
  {
   "cell_type": "code",
   "execution_count": 22,
   "metadata": {},
   "outputs": [],
   "source": [
    "//export\n",
    "public struct DataBunch<T> where T: TensorGroup {\n",
    "    public let trainingDataset: Dataset<T>\n",
    "    public let validationDataset: Dataset<T>\n",
    "}"
   ]
  },
  {
   "cell_type": "code",
   "execution_count": 24,
   "metadata": {},
   "outputs": [],
   "source": [
    "// export\n",
    "public struct SupervisedLearningGroup {\n",
    "    let features: TensorFloat\n",
    "    let labels: TensorFloat\n",
    "}\n",
    "\n",
    "extension SupervisedLearningGroup: TensorGroup {\n",
    "    \n",
    "    public static var _typeList: [TensorDataType] = [\n",
    "        Float.tensorFlowDataType,\n",
    "        Float.tensorFlowDataType\n",
    "    ]\n",
    "    public static var _unknownShapeList: [TensorShape?] = [nil, nil]\n",
    "    public var _tensorHandles: [_AnyTensorHandle] {\n",
    "        fatalError(\"unimplemented\")\n",
    "    }\n",
    "    public func _unpackTensorHandles(into address: UnsafeMutablePointer<CTensorHandle>?) {\n",
    "        address!.advanced(by: 0).initialize(to: features.handle._cTensorHandle)\n",
    "        address!.advanced(by: 1).initialize(to: labels.handle._cTensorHandle)\n",
    "    }\n",
    "    public init(_owning tensorHandles: UnsafePointer<CTensorHandle>?) {\n",
    "        features = Tensor(handle: TensorHandle(_owning: tensorHandles!.advanced(by: 0).pointee))\n",
    "        labels = Tensor(handle: TensorHandle(_owning: tensorHandles!.advanced(by: 1).pointee))\n",
    "    }\n",
    "    public init<C: RandomAccessCollection>(_handles: C) where C.Element: _AnyTensorHandle {\n",
    "        fatalError(\"unimplemented\")\n",
    "    }\n",
    "}\n",
    "\n",
    "public extension Sequence where Element == SupervisedLearningGroup {\n",
    "    var first: SupervisedLearningGroup? {\n",
    "        return first(where: { _ in true })\n",
    "    }\n",
    "}\n",
    "\n",
    "public extension Dataset where Element == SupervisedLearningGroup {\n",
    "    init(featuresTensor: TensorFloat, labelsTensor: TensorFloat) {\n",
    "        self.init(elements: SupervisedLearningGroup(\n",
    "                                                    features: featuresTensor, \n",
    "                                                    labels: labelsTensor.expandingShape(at: 1)))\n",
    "    }\n",
    "}"
   ]
  },
  {
   "cell_type": "code",
   "execution_count": 25,
   "metadata": {},
   "outputs": [],
   "source": [
    "import Python"
   ]
  },
  {
   "cell_type": "code",
   "execution_count": 26,
   "metadata": {},
   "outputs": [],
   "source": [
    "//export\n",
    "let carDataYCSV = \"/home/ubuntu/.machine-learning/data/car_stuff/pakistan_car_labels.csv\"\n",
    "let carDataXCSV = \"/home/ubuntu/.machine-learning/data/car_stuff/pakistan_car_x_data.csv\"\n",
    "\n",
    "public let numpy = Python.import(\"numpy\")\n",
    "\n",
    "func createDataSet(featureTensor: TensorFloat, \n",
    "                   labelTensor: TensorFloat, \n",
    "                   batchSize: Int) -> Dataset<SupervisedLearningGroup> {\n",
    "    return Dataset(featuresTensor: featureTensor, labelsTensor: labelTensor)\n",
    "                    .batched(batchSize)\n",
    "                    .shuffled(sampleCount: 64, \n",
    "                              randomSeed: 69, \n",
    "                              reshuffleForEachIterator: true)\n",
    "}\n",
    "\n",
    "public func getUsedCarDataBunch(validationSize: Double = 0.2,\n",
    "                             batchSize: Int = 1028\n",
    "                            ) -> DataBunch<SupervisedLearningGroup> {\n",
    "    let usedCarFeaturesArray = numpy.loadtxt(carDataXCSV, \n",
    "                                delimiter: \",\", \n",
    "                                skiprows: 1, \n",
    "                                usecols: Array(1...8), \n",
    "                                dtype: Float.numpyScalarTypes.first!)\n",
    "    let categoricalVariableSet: Set = [0,1,2,3,4,5,6,7]\n",
    "    let continousVariableSet: Set = [-1]\n",
    "    let usedCarFeatureTensor = reScaleFeatures(featureTensor: TensorFloat(numpy: usedCarFeaturesArray)!, \n",
    "                                               catVars: categoricalVariableSet, \n",
    "                                               contVars: continousVariableSet)\n",
    "    \n",
    "    let usedCarPrices = numpy.loadtxt(carDataYCSV, \n",
    "                                delimiter: \",\", \n",
    "                                skiprows: 0, \n",
    "                                usecols: [1], \n",
    "                                dtype: Float.numpyScalarTypes.first!)\n",
    "    let usedCarLabelsTensor = TensorFloat(numpy: usedCarPrices)!\n",
    "    \n",
    "    let numberOfUsedCars = usedCarFeatureTensor.shape[0]\n",
    "    let numberOfUsedCarFeatures = usedCarFeatureTensor.shape[1]\n",
    "    \n",
    "    let validationDatasetSize = Int32(floor(validationSize * Double(numberOfUsedCars)))\n",
    "    let trainingDataSetSize = Int32(numberOfUsedCars) - validationDatasetSize\n",
    "    \n",
    "    \n",
    "    let splitFeatures = usedCarFeatureTensor\n",
    "                                .split(sizes: Tensor<Int32>([validationDatasetSize, trainingDataSetSize]), \n",
    "                                       alongAxis: 0)\n",
    "    let splitLabels = usedCarLabelsTensor\n",
    "                            .split(sizes: Tensor<Int32>([validationDatasetSize, trainingDataSetSize]), \n",
    "                                   alongAxis: 0)\n",
    "    \n",
    "    let validationDataSet = createDataSet(featureTensor: splitFeatures[0],\n",
    "                                        labelTensor: splitLabels[0], batchSize: batchSize)\n",
    "    let trainingDataSet = createDataSet(featureTensor: splitFeatures[1],\n",
    "                                        labelTensor: splitLabels[1], batchSize: batchSize)\n",
    "    return DataBunch(trainingDataset: trainingDataSet, \n",
    "                     validationDataset: validationDataSet)\n",
    "}"
   ]
  },
  {
   "cell_type": "markdown",
   "metadata": {
    "heading_collapsed": true
   },
   "source": [
    "## Teach"
   ]
  },
  {
   "cell_type": "code",
   "execution_count": 27,
   "metadata": {
    "hidden": true
   },
   "outputs": [],
   "source": [
    "//export \n",
    "public protocol TeachingDelegate {\n",
    "    \n",
    "    func preTeach(epochs: Int)\n",
    "    \n",
    "    func postTeach()\n",
    "    \n",
    "    func preEpoch(epochNumber: Int, dataSet: Dataset<SupervisedLearningGroup>)\n",
    "    \n",
    "    func postEpoch(epochNumber: Int)\n",
    "    \n",
    "    func processBatch(model: TeachableModel, \n",
    "                      xDataPoints: TensorFloat,\n",
    "                      yValidationPoints: TensorFloat) -> TeachableModel    \n",
    "}"
   ]
  },
  {
   "cell_type": "code",
   "execution_count": 28,
   "metadata": {
    "hidden": true
   },
   "outputs": [],
   "source": [
    "let usedCarDataBunch = getUsedCarDataBunch()"
   ]
  },
  {
   "cell_type": "code",
   "execution_count": 29,
   "metadata": {
    "hidden": true
   },
   "outputs": [],
   "source": [
    "//export\n",
    "public struct Teacher {\n",
    "    \n",
    "    private let dataBunch: DataBunch<SupervisedLearningGroup>\n",
    "    private let trainingDelegate: TeachingDelegate\n",
    "    private let validationDelegate: TeachingDelegate\n",
    "    \n",
    "    \n",
    "    public func teachModel(model: TeachableModel,\n",
    "                           numberOfEpochs: Int) -> TeachableModel {\n",
    "        notifyPreTeach(epochs: numberOfEpochs)\n",
    "        let taughtModel = (1...numberOfEpochs)\n",
    "            .reduce(into: model) { (currentModel: inout TeachableModel, \n",
    "                                    epoch: Int) in\n",
    "                let trainedModel = trainModel(modelToTeach: currentModel,\n",
    "                                              currentEpoch: epoch)\n",
    "                currentModel = validateModel(modelToValidate: trainedModel,\n",
    "                                             currentEpoch: epoch)\n",
    "            }\n",
    "        notifyPostTeach()\n",
    "        return taughtModel\n",
    "    }\n",
    "    \n",
    "    private func trainModel(modelToTeach: TeachableModel, \n",
    "                            currentEpoch: Int) -> TeachableModel {\n",
    "        return processDataSet(model: modelToTeach,\n",
    "                           epoch: currentEpoch,\n",
    "                           dataSet: dataBunch.trainingDataset,\n",
    "                           teachingDelegate: trainingDelegate)\n",
    "    }\n",
    "    \n",
    "    private func validateModel(modelToValidate: TeachableModel, \n",
    "                               currentEpoch: Int) -> TeachableModel {\n",
    "        return processDataSet(model: modelToValidate,\n",
    "                              epoch: currentEpoch,\n",
    "                              dataSet: dataBunch.validationDataset,\n",
    "                              teachingDelegate: validationDelegate)\n",
    "    }\n",
    "    \n",
    "    private func processDataSet(model: TeachableModel,\n",
    "                             epoch: Int,\n",
    "                             dataSet: Dataset<SupervisedLearningGroup>,\n",
    "                             teachingDelegate: TeachingDelegate\n",
    "                            ) -> TeachableModel {\n",
    "        \n",
    "        teachingDelegate.preEpoch(epochNumber: epoch, \n",
    "                                  dataSet: dataSet)\n",
    "        \n",
    "        let taughtModel: TeachableModel = dataSet.reduce(into: model) {\n",
    "            (currentModel: inout TeachableModel, dataGroup: SupervisedLearningGroup) in\n",
    "            currentModel = teachingDelegate.processBatch(model: currentModel, \n",
    "                                                         xDataPoints: dataGroup.features, \n",
    "                                                         yValidationPoints: dataGroup.labels)\n",
    "        }\n",
    "        \n",
    "        teachingDelegate.postEpoch(epochNumber: epoch)\n",
    "        \n",
    "        return taughtModel\n",
    "    }\n",
    "    \n",
    "    \n",
    "    private func notifyPreTeach(epochs: Int) {\n",
    "        trainingDelegate.preTeach(epochs: epochs)\n",
    "        validationDelegate.preTeach(epochs: epochs)\n",
    "    }\n",
    "    \n",
    "    private func notifyPostTeach() {\n",
    "        trainingDelegate.postTeach()\n",
    "        validationDelegate.postTeach()\n",
    "    }\n",
    "}"
   ]
  },
  {
   "cell_type": "code",
   "execution_count": 30,
   "metadata": {
    "hidden": true
   },
   "outputs": [],
   "source": [
    "struct DummyDelegate: TeachingDelegate {\n",
    "    let name: String\n",
    "    \n",
    "    public func postEpoch(epochNumber: Int) {\n",
    "        print(\"\\(name): Post epoch #\\(epochNumber)\")\n",
    "    }\n",
    "    \n",
    "    public func preEpoch(epochNumber: Int, \n",
    "                         dataSet: Dataset<SupervisedLearningGroup>) {\n",
    "        print(\"\\(name): pre epoch #\\(epochNumber)\")\n",
    "    }\n",
    "    \n",
    "    public func preTeach(epochs: Int) {\n",
    "        print(\"\\(name): pre teach epochs: \\(epochs)\")\n",
    "    }\n",
    "    \n",
    "    public func postTeach() {\n",
    "        print(\"\\(name): Post Teach\")\n",
    "    }\n",
    "    \n",
    "    \n",
    "    public func processBatch(model: TeachableModel, \n",
    "                             xDataPoints: TensorFloat, \n",
    "                             yValidationPoints: TensorFloat) -> TeachableModel {\n",
    "        print(\"\\(name): processing data with model \\(model)\")\n",
    "        return model\n",
    "    }\n",
    "    \n",
    "}"
   ]
  },
  {
   "cell_type": "code",
   "execution_count": 31,
   "metadata": {
    "hidden": true
   },
   "outputs": [],
   "source": [
    "let steve = DummyDelegate(name: \"Steve\")\n",
    "let jimmy = DummyDelegate(name: \"Jimmy\")"
   ]
  },
  {
   "cell_type": "code",
   "execution_count": 32,
   "metadata": {
    "hidden": true
   },
   "outputs": [],
   "source": [
    "let protoTeacher = Teacher(dataBunch: usedCarDataBunch, \n",
    "                           trainingDelegate: steve, \n",
    "                           validationDelegate: jimmy)"
   ]
  },
  {
   "cell_type": "code",
   "execution_count": 33,
   "metadata": {
    "hidden": true
   },
   "outputs": [],
   "source": [
    "struct DummyModel: TeachableModel {\n",
    "    let name: String\n",
    "    \n",
    "    public func apply(inputTensor: TensorFloat) -> TensorFloat {\n",
    "        return inputTensor\n",
    "    }\n",
    "    \n",
    "    public func backwardsPass(ddx: TensorFloat, hyperParameters: HyperParameters) -> TeachableModel {\n",
    "        return self\n",
    "    }\n",
    "    \n",
    "    public func forwardPass(inputTensor: TensorFloat) -> (TensorFloat, TeachableModel) {\n",
    "        return (inputTensor, self)\n",
    "    }\n",
    "}"
   ]
  },
  {
   "cell_type": "code",
   "execution_count": 34,
   "metadata": {
    "hidden": true
   },
   "outputs": [],
   "source": [
    "let dummyModel = DummyModel(name: \"Busty Models 4\")"
   ]
  },
  {
   "cell_type": "code",
   "execution_count": 35,
   "metadata": {
    "hidden": true
   },
   "outputs": [
    {
     "name": "stdout",
     "output_type": "stream",
     "text": [
      "Steve: pre teach epochs: 2\n",
      "Jimmy: pre teach epochs: 2\n",
      "Steve: pre epoch #1\n",
      "Steve: processing data with model DummyModel(name: \"Busty Models 4\")\n",
      "Steve: processing data with model DummyModel(name: \"Busty Models 4\")\n",
      "Steve: processing data with model DummyModel(name: \"Busty Models 4\")\n",
      "Steve: processing data with model DummyModel(name: \"Busty Models 4\")\n",
      "Steve: processing data with model DummyModel(name: \"Busty Models 4\")\n",
      "Steve: processing data with model DummyModel(name: \"Busty Models 4\")\n",
      "Steve: processing data with model DummyModel(name: \"Busty Models 4\")\n",
      "Steve: processing data with model DummyModel(name: \"Busty Models 4\")\n",
      "Steve: processing data with model DummyModel(name: \"Busty Models 4\")\n",
      "Steve: processing data with model DummyModel(name: \"Busty Models 4\")\n",
      "Steve: processing data with model DummyModel(name: \"Busty Models 4\")\n",
      "Steve: processing data with model DummyModel(name: \"Busty Models 4\")\n",
      "Steve: processing data with model DummyModel(name: \"Busty Models 4\")\n",
      "Steve: processing data with model DummyModel(name: \"Busty Models 4\")\n",
      "Steve: processing data with model DummyModel(name: \"Busty Models 4\")\n",
      "Steve: processing data with model DummyModel(name: \"Busty Models 4\")\n",
      "Steve: processing data with model DummyModel(name: \"Busty Models 4\")\n",
      "Steve: processing data with model DummyModel(name: \"Busty Models 4\")\n",
      "Steve: processing data with model DummyModel(name: \"Busty Models 4\")\n",
      "Steve: processing data with model DummyModel(name: \"Busty Models 4\")\n",
      "Steve: Post epoch #1\n",
      "Jimmy: pre epoch #1\n",
      "Jimmy: processing data with model DummyModel(name: \"Busty Models 4\")\n",
      "Jimmy: processing data with model DummyModel(name: \"Busty Models 4\")\n",
      "Jimmy: processing data with model DummyModel(name: \"Busty Models 4\")\n",
      "Jimmy: processing data with model DummyModel(name: \"Busty Models 4\")\n",
      "Jimmy: processing data with model DummyModel(name: \"Busty Models 4\")\n",
      "Jimmy: Post epoch #1\n",
      "Steve: pre epoch #2\n",
      "Steve: processing data with model DummyModel(name: \"Busty Models 4\")\n",
      "Steve: processing data with model DummyModel(name: \"Busty Models 4\")\n",
      "Steve: processing data with model DummyModel(name: \"Busty Models 4\")\n",
      "Steve: processing data with model DummyModel(name: \"Busty Models 4\")\n",
      "Steve: processing data with model DummyModel(name: \"Busty Models 4\")\n",
      "Steve: processing data with model DummyModel(name: \"Busty Models 4\")\n",
      "Steve: processing data with model DummyModel(name: \"Busty Models 4\")\n",
      "Steve: processing data with model DummyModel(name: \"Busty Models 4\")\n",
      "Steve: processing data with model DummyModel(name: \"Busty Models 4\")\n",
      "Steve: processing data with model DummyModel(name: \"Busty Models 4\")\n",
      "Steve: processing data with model DummyModel(name: \"Busty Models 4\")\n",
      "Steve: processing data with model DummyModel(name: \"Busty Models 4\")\n",
      "Steve: processing data with model DummyModel(name: \"Busty Models 4\")\n",
      "Steve: processing data with model DummyModel(name: \"Busty Models 4\")\n",
      "Steve: processing data with model DummyModel(name: \"Busty Models 4\")\n",
      "Steve: processing data with model DummyModel(name: \"Busty Models 4\")\n",
      "Steve: processing data with model DummyModel(name: \"Busty Models 4\")\n",
      "Steve: processing data with model DummyModel(name: \"Busty Models 4\")\n",
      "Steve: processing data with model DummyModel(name: \"Busty Models 4\")\n",
      "Steve: processing data with model DummyModel(name: \"Busty Models 4\")\n",
      "Steve: Post epoch #2\n",
      "Jimmy: pre epoch #2\n",
      "Jimmy: processing data with model DummyModel(name: \"Busty Models 4\")\n",
      "Jimmy: processing data with model DummyModel(name: \"Busty Models 4\")\n",
      "Jimmy: processing data with model DummyModel(name: \"Busty Models 4\")\n",
      "Jimmy: processing data with model DummyModel(name: \"Busty Models 4\")\n",
      "Jimmy: processing data with model DummyModel(name: \"Busty Models 4\")\n",
      "Jimmy: Post epoch #2\n",
      "Steve: Post Teach\n",
      "Jimmy: Post Teach\n"
     ]
    }
   ],
   "source": [
    "let taughtModel =  protoTeacher.teachModel(model: dummyModel, \n",
    "                        numberOfEpochs: 2)"
   ]
  },
  {
   "cell_type": "markdown",
   "metadata": {},
   "source": [
    "## Teaching Delegates"
   ]
  },
  {
   "cell_type": "code",
   "execution_count": 36,
   "metadata": {},
   "outputs": [],
   "source": [
    "//export\n",
    "public protocol LossFunction {\n",
    "    func lossAndGradient(expectedTensor: TensorFloat,\n",
    "                         actualTensor: TensorFloat) -> (loss: TensorFloat,\n",
    "                                                        gradientSupplier: () -> TensorFloat)\n",
    "    func calculateLoss(expectedTensor: TensorFloat,\n",
    "                       actualTensor: TensorFloat) -> TensorFloat\n",
    "}"
   ]
  },
  {
   "cell_type": "code",
   "execution_count": 47,
   "metadata": {},
   "outputs": [],
   "source": [
    "class ValidationDelegate: TeachingDelegate {\n",
    "    \n",
    "    let lossFunction: LossFunction\n",
    "    \n",
    "    public init(lossFunction: LossFunction) {\n",
    "        self.lossFunction = lossFunction\n",
    "    }\n",
    "    \n",
    "    private var epochNumber: Int = 0\n",
    "    private var numberOfBatches: Int = 0\n",
    "    private var totalLoss: TensorFloat = TensorFloat([0.0])\n",
    "    \n",
    "    public func postEpoch(epochNumber: Int) {\n",
    "        let loss = totalLoss / Float(numberOfBatches)\n",
    "        print(\"Validation Loss for Epoch #\\(epochNumber): \\(loss)\")\n",
    "    }\n",
    "    \n",
    "    public func preEpoch(epochNumber: Int, \n",
    "                         dataSet: Dataset<SupervisedLearningGroup>) {\n",
    "        numberOfBatches = 0\n",
    "        totalLoss = TensorFloat([0.0])\n",
    "    }\n",
    "    \n",
    "    public func preTeach(epochs: Int) {\n",
    "    \n",
    "    }\n",
    "    \n",
    "    public func postTeach() {\n",
    "    \n",
    "    }\n",
    "    \n",
    "    \n",
    "    public func processBatch(model: TeachableModel, \n",
    "                             xDataPoints: TensorFloat, \n",
    "                             yValidationPoints: TensorFloat) -> TeachableModel {\n",
    "\n",
    "        let predictions = model.apply(inputTensor: xDataPoints)\n",
    "        \n",
    "        let loss = lossFunction.calculateLoss(expectedTensor: yValidationPoints, \n",
    "                                                                    actualTensor: predictions)\n",
    "        totalLoss += loss\n",
    "        numberOfBatches += 1\n",
    "        \n",
    "        return model\n",
    "    }\n",
    "    \n",
    "}"
   ]
  },
  {
   "cell_type": "code",
   "execution_count": 127,
   "metadata": {},
   "outputs": [],
   "source": [
    "class TrainingDelegate: TeachingDelegate {\n",
    "    \n",
    "    let lossFunction: LossFunction\n",
    "    \n",
    "    public init(lossFunction: LossFunction) {\n",
    "        self.lossFunction = lossFunction\n",
    "    }\n",
    "    \n",
    "    private var epochNumber: Int = 0\n",
    "    private var numberOfBatches: Int = 0\n",
    "    private var totalLoss: TensorFloat = TensorFloat([0.0])\n",
    "    \n",
    "    public func postEpoch(epochNumber: Int) {\n",
    "        let loss = totalLoss / Float(numberOfBatches)\n",
    "        print(\"Training Loss for Epoch #\\(epochNumber): \\(loss)\")\n",
    "    }\n",
    "    \n",
    "    public func preEpoch(epochNumber: Int, \n",
    "                         dataSet: Dataset<SupervisedLearningGroup>) {\n",
    "        numberOfBatches = 0\n",
    "        totalLoss = TensorFloat([0.0])\n",
    "    }\n",
    "    \n",
    "    public func preTeach(epochs: Int) {\n",
    "    \n",
    "    }\n",
    "    \n",
    "    public func postTeach() {\n",
    "    \n",
    "    }\n",
    "    \n",
    "    \n",
    "    public func processBatch(model: TeachableModel, \n",
    "                             xDataPoints: TensorFloat, \n",
    "                             yValidationPoints: TensorFloat) -> TeachableModel {\n",
    "\n",
    "        let (predictions, modelWithChain) = model.forwardPass(inputTensor: xDataPoints)\n",
    "        \n",
    "        let (loss, gradientSupplier) = lossFunction.lossAndGradient(expectedTensor: yValidationPoints, \n",
    "                                                                    actualTensor: predictions)\n",
    "        \n",
    "        totalLoss += loss\n",
    "        numberOfBatches += 1\n",
    "        \n",
    "        // todo: Optimize Hyper Parameters beforehand\n",
    "        let hyperParameters = HyperParameters(learningRate: 1e-3)\n",
    "        \n",
    "        return modelWithChain.backwardsPass(ddx: gradientSupplier(),\n",
    "                                            hyperParameters: hyperParameters)\n",
    "    }\n",
    "    \n",
    "}"
   ]
  },
  {
   "cell_type": "code",
   "execution_count": 111,
   "metadata": {},
   "outputs": [],
   "source": [
    "//export\n",
    "public struct MeanSquaredErrorLossFunction: LossFunction {\n",
    "        \n",
    "    public func calculateLoss(expectedTensor: TensorFloat, \n",
    "                              actualTensor: TensorFloat) -> TensorFloat {\n",
    "        let error: TensorFloat = calculateError(expectedTensor: expectedTensor,\n",
    "                                   actualTensor: actualTensor)\n",
    "        return error.squared().mean()\n",
    "    }\n",
    "    \n",
    "    public func lossAndGradient(expectedTensor: TensorFloat, \n",
    "                                actualTensor: TensorFloat) -> (loss: TensorFloat, gradientSupplier: () -> TensorFloat) {\n",
    "        let error = calculateError(expectedTensor:expectedTensor, \n",
    "                                   actualTensor: actualTensor)\n",
    "        let (squareValue, squareGradient) = squaredWithGradient(inputTensor: error)\n",
    "        let (meanValue, meanGradient) = meanWithGradient(inputTensor: squareValue)\n",
    "\n",
    "        return (loss: meanValue, gradientSupplier: { squareGradient(meanGradient(TensorFloat([1]))) })\n",
    "    }\n",
    "    \n",
    "    private func calculateError(expectedTensor: TensorFloat,\n",
    "                                actualTensor: TensorFloat) -> TensorFloat {\n",
    "        assert(expectedTensor.shape == actualTensor.shape, \"Expected \\(expectedTensor.shape) to be the same as \\(actualTensor.shape)\")\n",
    "        return expectedTensor - actualTensor\n",
    "    }\n",
    "}"
   ]
  },
  {
   "cell_type": "code",
   "execution_count": 128,
   "metadata": {},
   "outputs": [],
   "source": [
    "let meanSquaredErrorLossy = MeanSquaredErrorLossFunction()\n",
    "let protoTrainingDelegate = TrainingDelegate(lossFunction: meanSquaredErrorLossy)\n",
    "let protoValidationDelegate = ValidationDelegate(lossFunction: meanSquaredErrorLossy)"
   ]
  },
  {
   "cell_type": "code",
   "execution_count": 113,
   "metadata": {},
   "outputs": [],
   "source": [
    "let protoModelTeacher = Teacher(dataBunch: usedCarDataBunch, \n",
    "                                trainingDelegate: protoTrainingDelegate, \n",
    "                                validationDelegate: protoValidationDelegate)"
   ]
  },
  {
   "cell_type": "code",
   "execution_count": 77,
   "metadata": {},
   "outputs": [
    {
     "data": {
      "text/plain": [
       "▿ SimpleModel\n",
       "  ▿ denseLayer : DenseLayer_V2\n",
       "    - activationFunction : (Function)\n",
       "    - weightParameter : [[   0.1691068],\n",
       " [-0.027010033],\n",
       " [  0.19487487],\n",
       " [  0.56515175],\n",
       " [ -0.38063496],\n",
       " [  0.28339213],\n",
       " [ -0.49882752],\n",
       " [  -0.5168968]]\n",
       "    - biasParameter : [0.0]\n",
       "    - gradientChain : (Function)\n"
      ]
     },
     "execution_count": 77,
     "metadata": {},
     "output_type": "execute_result"
    }
   ],
   "source": [
    "let firstValidationBatch = usedCarDataBunch.validationDataset.first!\n",
    "let simpleUntrainedModel = SimpleModel(inputSize: firstValidationBatch.features.shape[1], \n",
    "                                       numberOfClasses: 1)\n",
    "simpleUntrainedModel"
   ]
  },
  {
   "cell_type": "code",
   "execution_count": 78,
   "metadata": {},
   "outputs": [
    {
     "data": {
      "text/plain": [
       "1.635975e+12\n"
      ]
     },
     "execution_count": 78,
     "metadata": {},
     "output_type": "execute_result"
    }
   ],
   "source": [
    "let predictions = simpleUntrainedModel.apply(inputTensor: firstValidationBatch.features)\n",
    "meanSquaredErrorLossy.calculateLoss(expectedTensor: firstValidationBatch.labels, \n",
    "                                    actualTensor: predictions)"
   ]
  },
  {
   "cell_type": "code",
   "execution_count": 79,
   "metadata": {},
   "outputs": [
    {
     "name": "stdout",
     "output_type": "stream",
     "text": [
      "Training Loss for Epoch #1: [3.648939e+12]\n",
      "Validation Loss for Epoch #1: [1.7118584e+12]\n",
      "Training Loss for Epoch #2: [3.8139986e+12]\n",
      "Validation Loss for Epoch #2: [1.8787525e+12]\n",
      "Training Loss for Epoch #3: [4.0080677e+12]\n",
      "Validation Loss for Epoch #3: [2.0761235e+12]\n",
      "Training Loss for Epoch #4: [4.2362512e+12]\n",
      "Validation Loss for Epoch #4: [2.3094304e+12]\n",
      "Training Loss for Epoch #5: [4.5045577e+12]\n",
      "Validation Loss for Epoch #5: [2.585104e+12]\n",
      "Training Loss for Epoch #6: [4.820045e+12]\n",
      "Validation Loss for Epoch #6: [2.910714e+12]\n",
      "Training Loss for Epoch #7: [5.191019e+12]\n",
      "Validation Loss for Epoch #7: [3.2951724e+12]\n",
      "Training Loss for Epoch #8: [5.627245e+12]\n",
      "Validation Loss for Epoch #8: [3.748969e+12]\n",
      "Training Loss for Epoch #9: [6.140207e+12]\n",
      "Validation Loss for Epoch #9: [4.2844537e+12]\n",
      "Training Loss for Epoch #10: [6.74341e+12]\n",
      "Validation Loss for Epoch #10: [4.9161605e+12]\n",
      "Training Loss for Epoch #11: [7.452737e+12]\n",
      "Validation Loss for Epoch #11: [5.6611937e+12]\n",
      "Training Loss for Epoch #12: [8.286865e+12]\n",
      "Validation Loss for Epoch #12: [6.5396833e+12]\n",
      "Training Loss for Epoch #13: [9.267758e+12]\n",
      "Validation Loss for Epoch #13: [7.5753183e+12]\n",
      "Training Loss for Epoch #14: [1.0421244e+13]\n",
      "Validation Loss for Epoch #14: [8.7959714e+12]\n",
      "Training Loss for Epoch #15: [1.1777697e+13]\n",
      "Validation Loss for Epoch #15: [1.023444e+13]\n",
      "Training Loss for Epoch #16: [1.3372839e+13]\n",
      "Validation Loss for Epoch #16: [1.1929315e+13]\n",
      "Training Loss for Epoch #17: [1.5248674e+13]\n",
      "Validation Loss for Epoch #17: [1.3925997e+13]\n",
      "Training Loss for Epoch #18: [1.7454599e+13]\n",
      "Validation Loss for Epoch #18: [1.6277906e+13]\n",
      "Training Loss for Epoch #19: [2.0048708e+13]\n",
      "Validation Loss for Epoch #19: [1.9047878e+13]\n",
      "Training Loss for Epoch #20: [2.3099311e+13]\n",
      "Validation Loss for Epoch #20: [2.2309847e+13]\n"
     ]
    }
   ],
   "source": [
    "let simpleTrainedModel = protoModelTeacher.teachModel(model: simpleUntrainedModel, \n",
    "                                                      numberOfEpochs: 20)"
   ]
  },
  {
   "cell_type": "code",
   "execution_count": 66,
   "metadata": {},
   "outputs": [
    {
     "data": {
      "text/plain": [
       "▿ SimpleModel\n",
       "  ▿ denseLayer : DenseLayer_V2\n",
       "    - activationFunction : (Function)\n",
       "    - weightParameter : [[ -5.303766e+11],\n",
       " [-6.3852564e+11],\n",
       " [-1.2830816e+12],\n",
       " [ -5.591481e+11],\n",
       " [ -3.520645e+11],\n",
       " [-4.2251574e+11],\n",
       " [-3.4479724e+12],\n",
       " [-4.3088495e+10]]\n",
       "    - biasParameter : [-3.7833823e+12]\n",
       "    - gradientChain : (Function)\n"
      ]
     },
     "execution_count": 66,
     "metadata": {},
     "output_type": "execute_result"
    }
   ],
   "source": [
    "simpleTrainedModel"
   ]
  },
  {
   "cell_type": "code",
   "execution_count": 85,
   "metadata": {},
   "outputs": [],
   "source": [
    "let simpleDenseLayer = DenseLayer_V2(inputSize: firstValidationBatch.features.shape[1], \n",
    "                                     outputSize: 1,\n",
    "                                    activationFunction: reLUAndGradient)"
   ]
  },
  {
   "cell_type": "code",
   "execution_count": 88,
   "metadata": {},
   "outputs": [
    {
     "name": "stdout",
     "output_type": "stream",
     "text": [
      "Training Loss: [2.8300977e+12]\n",
      "Validation Loss: [8.1882546e+11]\n",
      "Training Loss: [2.6013163e+12]\n",
      "Validation Loss: [7.560932e+11]\n",
      "Training Loss: [2.5826526e+12]\n",
      "Validation Loss: [7.473717e+11]\n",
      "Training Loss: [2.576225e+12]\n",
      "Validation Loss: [7.439271e+11]\n",
      "Training Loss: [2.5727745e+12]\n",
      "Validation Loss: [7.41511e+11]\n",
      "Training Loss: [2.570403e+12]\n",
      "Validation Loss: [7.396255e+11]\n",
      "Training Loss: [2.5685275e+12]\n",
      "Validation Loss: [7.3796066e+11]\n",
      "Training Loss: [2.5671023e+12]\n",
      "Validation Loss: [7.3652044e+11]\n",
      "Training Loss: [2.565997e+12]\n",
      "Validation Loss: [7.35367e+11]\n",
      "Training Loss: [2.5650793e+12]\n",
      "Validation Loss: [7.342473e+11]\n",
      "Training Loss: [2.5643602e+12]\n",
      "Validation Loss: [7.3341934e+11]\n",
      "Training Loss: [2.5637374e+12]\n",
      "Validation Loss: [7.326458e+11]\n",
      "Training Loss: [2.563157e+12]\n",
      "Validation Loss: [7.318186e+11]\n",
      "Training Loss: [2.5625826e+12]\n",
      "Validation Loss: [7.310463e+11]\n",
      "Training Loss: [2.561831e+12]\n",
      "Validation Loss: [7.302857e+11]\n",
      "Training Loss: [2.561192e+12]\n",
      "Validation Loss: [7.295248e+11]\n",
      "Training Loss: [2.5606423e+12]\n",
      "Validation Loss: [7.287818e+11]\n",
      "Training Loss: [2.5601583e+12]\n",
      "Validation Loss: [7.281172e+11]\n",
      "Training Loss: [2.559735e+12]\n",
      "Validation Loss: [7.2751566e+11]\n",
      "Training Loss: [2.5593606e+12]\n",
      "Validation Loss: [7.269507e+11]\n",
      "Training Loss: [2.5590406e+12]\n",
      "Validation Loss: [7.26448e+11]\n",
      "average: 96.112128135 ms,   min: 89.481361 ms,   max: 103.033157 ms\n",
      "elapsed time: 19.669240492 s\n"
     ]
    }
   ],
   "source": [
    "var currentDenseLayer: ModelParameter_V2 = simpleDenseLayer\n",
    "let trialsHyperParameter = HyperParameters(learningRate: 1e-1)\n",
    "withTime {\n",
    "    var trial = 0\n",
    "    timeTrials(trials: 200) { \n",
    "        var accumulatedTrainingLoss = TensorFloat([0])\n",
    "        var trainingItems = TensorFloat([0])\n",
    "        for batch in usedCarDataBunch.trainingDataset {\n",
    "            let (alexYHat, alexLayer) = currentDenseLayer.forwardPass(inputTensor: batch.features)\n",
    "            \n",
    "            let (loss, lossGradientSupplier) = meanSquaredErrorAndGradient(yHat: alexYHat, \n",
    "                                                                           y:batch.labels)\n",
    "            accumulatedTrainingLoss += loss\n",
    "            trainingItems += 1\n",
    "            \n",
    "            let (ddxAlexLayer, enhancedLayer) = alexLayer.backwardPass(ddx: lossGradientSupplier(), \n",
    "                                                                       hyperParameters: trialsHyperParameter)\n",
    "            currentDenseLayer = enhancedLayer   \n",
    "        }\n",
    "        \n",
    "        \n",
    "        var accumulatedValidationLoss = TensorFloat([0])\n",
    "        var validationItems = TensorFloat([0])\n",
    "        for validationBatch in usedCarDataBunch.validationDataset {\n",
    "            let (validationLoss, _) = meanSquaredErrorAndGradient(yHat: currentDenseLayer.apply(validationBatch.features), \n",
    "                                                                  y: validationBatch.labels)\n",
    "            \n",
    "            accumulatedValidationLoss += validationLoss\n",
    "            validationItems += 1\n",
    "        }\n",
    "        \n",
    "        if(trial % 10 == 0) {\n",
    "            print(\"Training Loss: \\(accumulatedTrainingLoss/trainingItems)\")\n",
    "            print(\"Validation Loss: \\(accumulatedValidationLoss/validationItems)\")   \n",
    "        }\n",
    "        trial += 1\n",
    "    }\n",
    "}"
   ]
  },
  {
   "cell_type": "code",
   "execution_count": 89,
   "metadata": {},
   "outputs": [
    {
     "data": {
      "text/plain": [
       "▿ DenseLayer_V2\n",
       "  - activationFunction : (Function)\n",
       "  - weightParameter : [[-1362714.8],\n",
       " [ 1141372.4],\n",
       " [-944537.56],\n",
       " [ 1818164.8],\n",
       " [ 671667.25],\n",
       " [-1286894.8],\n",
       " [-1140293.8],\n",
       " [ -682291.3]]\n",
       "  - biasParameter : [2017634.4]\n",
       "  - gradientChain : (Function)\n"
      ]
     },
     "execution_count": 89,
     "metadata": {},
     "output_type": "execute_result"
    }
   ],
   "source": [
    "currentDenseLayer"
   ]
  },
  {
   "cell_type": "code",
   "execution_count": 90,
   "metadata": {},
   "outputs": [
    {
     "data": {
      "text/plain": [
       "▿ [100, 2]\n",
       "  ▿ dimensions : 2 elements\n",
       "    - 0 : 100\n",
       "    - 1 : 2\n"
      ]
     },
     "execution_count": 90,
     "metadata": {},
     "output_type": "execute_result"
    }
   ],
   "source": [
    "let n = 100\n",
    "let inputPoints = TensorFloat(randomNormal: [100, 1])\n",
    "let A = inputPoints.concatenated(with: TensorFloat(ones: inputPoints.shape), alongAxis: 1)\n",
    "A.shape"
   ]
  },
  {
   "cell_type": "code",
   "execution_count": 91,
   "metadata": {},
   "outputs": [
    {
     "data": {
      "text/plain": [
       "▿ [100, 1]\n",
       "  ▿ dimensions : 2 elements\n",
       "    - 0 : 100\n",
       "    - 1 : 1\n"
      ]
     },
     "execution_count": 91,
     "metadata": {},
     "output_type": "execute_result"
    }
   ],
   "source": [
    "let yValidationPoints = matmul(A, TensorFloat([-2, 7]).expandingShape(at: 1)) + \n",
    "                (TensorFloat(randomNormal: inputPoints.shape, seed: (69, 420)) * 2.5)\n",
    "yValidationPoints.shape"
   ]
  },
  {
   "cell_type": "code",
   "execution_count": 92,
   "metadata": {},
   "outputs": [
    {
     "data": {
      "text/plain": [
       "('inline', 'module://ipykernel.pylab.backend_inline')\n"
      ]
     },
     "execution_count": 92,
     "metadata": {},
     "output_type": "execute_result"
    }
   ],
   "source": [
    "import Python\n",
    "%include \"EnableIPythonDisplay.swift\"\n",
    "IPythonDisplay.shell.enable_matplotlib(\"inline\")"
   ]
  },
  {
   "cell_type": "code",
   "execution_count": 93,
   "metadata": {},
   "outputs": [],
   "source": [
    "public let plotter = Python.import(\"matplotlib.pyplot\")"
   ]
  },
  {
   "cell_type": "code",
   "execution_count": 94,
   "metadata": {},
   "outputs": [
    {
     "data": {
      "image/png": "[encoded data removed]",
      "text/plain": [
       "<Figure size 432x288 with 1 Axes>"
      ]
     },
     "metadata": {
      "needs_background": "light"
     },
     "output_type": "display_data"
    },
    {
     "data": {
      "text/plain": [
       "None\n"
      ]
     },
     "execution_count": 94,
     "metadata": {},
     "output_type": "execute_result"
    }
   ],
   "source": [
    "plotter.scatter(x: A.slice(lowerBounds: [0, 0], upperBounds:[A.shape[0], 1] ).makeNumpyArray(), \n",
    "                y: yValidationPoints.makeNumpyArray())\n",
    "plotter.show()"
   ]
  },
  {
   "cell_type": "code",
   "execution_count": 95,
   "metadata": {},
   "outputs": [],
   "source": [
    "func showYHat(yHat: TensorFloat) {\n",
    "    plotter.scatter(x: A.slice(lowerBounds: [0, 0], upperBounds:[A.shape[0], 1] ).makeNumpyArray(), \n",
    "                y: yValidationPoints.makeNumpyArray())\n",
    "    plotter.scatter(x: A.slice(lowerBounds: [0, 0], upperBounds:[A.shape[0], 1] ).makeNumpyArray(), \n",
    "                y: yHat.makeNumpyArray())\n",
    "    plotter.show()\n",
    "}"
   ]
  },
  {
   "cell_type": "code",
   "execution_count": 99,
   "metadata": {},
   "outputs": [],
   "source": [
    "let linearModel = SimpleModel(inputSize: 2, \n",
    "                              numberOfClasses: 1)"
   ]
  },
  {
   "cell_type": "code",
   "execution_count": 100,
   "metadata": {},
   "outputs": [
    {
     "data": {
      "text/plain": [
       "▿ SimpleModel\n",
       "  ▿ denseLayer : DenseLayer_V2\n",
       "    - activationFunction : (Function)\n",
       "    - weightParameter : [[0.285774],\n",
       " [0.676579]]\n",
       "    - biasParameter : [0.0]\n",
       "    - gradientChain : (Function)\n"
      ]
     },
     "execution_count": 100,
     "metadata": {},
     "output_type": "execute_result"
    }
   ],
   "source": [
    "linearModel"
   ]
  },
  {
   "cell_type": "code",
   "execution_count": 101,
   "metadata": {},
   "outputs": [
    {
     "data": {
      "image/png": "[encoded data removed]",
      "text/plain": [
       "<Figure size 432x288 with 1 Axes>"
      ]
     },
     "metadata": {
      "needs_background": "light"
     },
     "output_type": "display_data"
    }
   ],
   "source": [
    "showYHat(yHat: linearModel.apply(inputTensor: A))"
   ]
  },
  {
   "cell_type": "code",
   "execution_count": 123,
   "metadata": {},
   "outputs": [],
   "source": [
    "let pointGroup = createDataSet(featureTensor: A, \n",
    "                               labelTensor: yValidationPoints.squeezingShape(at: 1), \n",
    "                               batchSize: 10)\n",
    "let sillyDataBunch = DataBunch(trainingDataset: pointGroup,\n",
    "                               validationDataset: pointGroup)"
   ]
  },
  {
   "cell_type": "code",
   "execution_count": 129,
   "metadata": {},
   "outputs": [],
   "source": [
    "let pointTeacher = Teacher(dataBunch: sillyDataBunch, \n",
    "                           trainingDelegate: protoTrainingDelegate, \n",
    "                           validationDelegate: protoValidationDelegate)"
   ]
  },
  {
   "cell_type": "code",
   "execution_count": 130,
   "metadata": {},
   "outputs": [
    {
     "name": "stdout",
     "output_type": "stream",
     "text": [
      "Training Loss for Epoch #1: [55.589703]\n",
      "Validation Loss for Epoch #1: [57.756207]\n",
      "Training Loss for Epoch #2: [59.59374]\n",
      "Validation Loss for Epoch #2: [61.936268]\n",
      "Training Loss for Epoch #3: [63.923958]\n",
      "Validation Loss for Epoch #3: [66.45698]\n",
      "Training Loss for Epoch #4: [68.607185]\n",
      "Validation Loss for Epoch #4: [71.34637]\n",
      "Training Loss for Epoch #5: [73.67249]\n",
      "Validation Loss for Epoch #5: [76.634796]\n",
      "Training Loss for Epoch #6: [79.15132]\n",
      "Validation Loss for Epoch #6: [82.35512]\n",
      "Training Loss for Epoch #7: [85.07773]\n",
      "Validation Loss for Epoch #7: [88.54292]\n",
      "Training Loss for Epoch #8: [91.48863]\n",
      "Validation Loss for Epoch #8: [95.23673]\n",
      "Training Loss for Epoch #9: [98.423935]\n",
      "Validation Loss for Epoch #9: [102.47827]\n",
      "Training Loss for Epoch #10: [105.9269]\n",
      "Validation Loss for Epoch #10: [110.31272]\n"
     ]
    }
   ],
   "source": [
    "let taughtLinearModel = pointTeacher.teachModel(model: linearModel, \n",
    "                                                numberOfEpochs: 10)"
   ]
  },
  {
   "cell_type": "code",
   "execution_count": 131,
   "metadata": {},
   "outputs": [
    {
     "data": {
      "image/png": "[encoded data removed]",
      "text/plain": [
       "<Figure size 432x288 with 1 Axes>"
      ]
     },
     "metadata": {
      "needs_background": "light"
     },
     "output_type": "display_data"
    }
   ],
   "source": [
    "showYHat(yHat: taughtLinearModel.apply(inputTensor: A))"
   ]
  },
  {
   "cell_type": "code",
   "execution_count": null,
   "metadata": {},
   "outputs": [],
   "source": []
  }
 ],
 "metadata": {
  "kernelspec": {
   "display_name": "Swift",
   "language": "swift",
   "name": "swift"
  },
  "language_info": {
   "file_extension": ".swift",
   "mimetype": "text/x-swift",
   "name": "swift",
   "version": ""
  }
 },
 "nbformat": 4,
 "nbformat_minor": 2
}
