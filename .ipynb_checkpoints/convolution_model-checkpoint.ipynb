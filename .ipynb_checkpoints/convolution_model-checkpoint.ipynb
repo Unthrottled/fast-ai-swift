{
 "cells": [
  {
   "cell_type": "code",
   "execution_count": 1,
   "metadata": {
    "colab": {},
    "colab_type": "code",
    "id": "kZRlD4utdPuX"
   },
   "outputs": [
    {
     "name": "stdout",
     "output_type": "stream",
     "text": [
      "Installing packages:\n",
      "\t.package(path: \"/home/ubuntu/workspace/fast-ai-swift/SchwiftyNotebook_matrix_multiplication\")\n",
      "\t\tSchwiftyNotebook_matrix_multiplication\n",
      "With SwiftPM flags: []\n",
      "Working in: /tmp/tmprev3jpsi/swift-install\n",
      "warning: /home/ubuntu/swift/usr/bin/swiftc: /home/ubuntu/anaconda3/envs/swift-env/lib/libuuid.so.1: no version information available (required by /home/ubuntu/swift/usr/bin/swiftc)\n",
      "/home/ubuntu/swift/usr/bin/swift: /home/ubuntu/anaconda3/envs/swift-env/lib/libuuid.so.1: no version information available (required by /home/ubuntu/swift/usr/bin/swift)\n",
      "warning: /home/ubuntu/swift/usr/bin/swiftc: /home/ubuntu/anaconda3/envs/swift-env/lib/libuuid.so.1: no version information available (required by /home/ubuntu/swift/usr/bin/swiftc)\n",
      "/home/ubuntu/swift/usr/bin/swift: /home/ubuntu/anaconda3/envs/swift-env/lib/libuuid.so.1: no version information available (required by /home/ubuntu/swift/usr/bin/swift)\n",
      "warning: /home/ubuntu/swift/usr/bin/swiftc: /home/ubuntu/anaconda3/envs/swift-env/lib/libuuid.so.1: no version information available (required by /home/ubuntu/swift/usr/bin/swiftc)\n",
      "/home/ubuntu/swift/usr/bin/swift: /home/ubuntu/anaconda3/envs/swift-env/lib/libuuid.so.1: no version information available (required by /home/ubuntu/swift/usr/bin/swift)\n",
      "warning: /home/ubuntu/swift/usr/bin/swiftc: /home/ubuntu/anaconda3/envs/swift-env/lib/libuuid.so.1: no version information available (required by /home/ubuntu/swift/usr/bin/swiftc)\n",
      "/home/ubuntu/swift/usr/bin/swift: /home/ubuntu/anaconda3/envs/swift-env/lib/libuuid.so.1: no version information available (required by /home/ubuntu/swift/usr/bin/swift)\n",
      "warning: /home/ubuntu/swift/usr/bin/swiftc: /home/ubuntu/anaconda3/envs/swift-env/lib/libuuid.so.1: no version information available (required by /home/ubuntu/swift/usr/bin/swiftc)\n",
      "/home/ubuntu/swift/usr/bin/swift: /home/ubuntu/anaconda3/envs/swift-env/lib/libuuid.so.1: no version information available (required by /home/ubuntu/swift/usr/bin/swift)\n",
      "warning: /home/ubuntu/swift/usr/bin/swiftc: /home/ubuntu/anaconda3/envs/swift-env/lib/libuuid.so.1: no version information available (required by /home/ubuntu/swift/usr/bin/swiftc)\n",
      "/home/ubuntu/swift/usr/bin/swift: /home/ubuntu/anaconda3/envs/swift-env/lib/libuuid.so.1: no version information available (required by /home/ubuntu/swift/usr/bin/swift)\n",
      "/home/ubuntu/swift/usr/bin/swiftc: /home/ubuntu/anaconda3/envs/swift-env/lib/libuuid.so.1: no version information available (required by /home/ubuntu/swift/usr/bin/swiftc)\n",
      "/home/ubuntu/swift/usr/bin/swiftc: /home/ubuntu/anaconda3/envs/swift-env/lib/libuuid.so.1: no version information available (required by /home/ubuntu/swift/usr/bin/swiftc)[1/2] Compiling jupyterInstalledPackages jupyterInstalledPackages.swift\n",
      "/home/ubuntu/swift/usr/bin/swift: /home/ubuntu/anaconda3/envs/swift-env/lib/libuuid.so.1: no version information available (required by /home/ubuntu/swift/usr/bin/swift)\n",
      "[2/3] Merging module jupyterInstalledPackages\n",
      "/home/ubuntu/swift/usr/bin/swift: /home/ubuntu/anaconda3/envs/swift-env/lib/libuuid.so.1: no version information available (required by /home/ubuntu/swift/usr/bin/swift)\n",
      "Initializing Swift...\n",
      "Installation complete!\n"
     ]
    }
   ],
   "source": [
    "%install-location $cwd/swift-install\n",
    "%install '.package(path: \"$cwd/SchwiftyNotebook_matrix_multiplication\")' SchwiftyNotebook_matrix_multiplication"
   ]
  },
  {
   "cell_type": "code",
   "execution_count": 2,
   "metadata": {},
   "outputs": [],
   "source": [
    "//export\n",
    "import Path\n",
    "import TensorFlow\n",
    "import SchwiftyNotebook_matrix_multiplication"
   ]
  },
  {
   "cell_type": "code",
   "execution_count": 3,
   "metadata": {},
   "outputs": [],
   "source": [
    "//export\n",
    "public func reLU<T>(tensor: Tensor<T>) -> Tensor<T> where T : FloatingPoint, T: TensorFlowScalar {\n",
    "    return max(tensor, 0)\n",
    "}"
   ]
  },
  {
   "cell_type": "code",
   "execution_count": 4,
   "metadata": {},
   "outputs": [],
   "source": [
    "//export\n",
    "public func linearCombination<T>(inputs: Tensor<T>, weights: Tensor<T>, bias: Tensor<T>) -> Tensor<T> where T: FloatingPoint, T: TensorFlowScalar {\n",
    "    return matmul(inputs, weights) + bias\n",
    "}"
   ]
  },
  {
   "cell_type": "code",
   "execution_count": 5,
   "metadata": {},
   "outputs": [],
   "source": [
    "// export\n",
    "public typealias TensorFloat=Tensor<Float>\n",
    "public func assertNearZero(_ tensor: TensorFloat, _ threshold: Float = 1e-3){\n",
    "    assert(tensor < threshold, \"Expected \\(tensor) to be less than \\(threshold)\")\n",
    "}"
   ]
  },
  {
   "cell_type": "code",
   "execution_count": 6,
   "metadata": {},
   "outputs": [],
   "source": [
    "//export\n",
    "import Dispatch\n",
    "\n",
    "public func getTimeUnit(_ nanoSeconds: Double) -> String {\n",
    "    let powerOfTen = floor(log10(nanoSeconds))\n",
    "    switch powerOfTen {\n",
    "        case 1..<3:\n",
    "            return \"\\(nanoSeconds) ns\"\n",
    "        case 3..<6:\n",
    "            return \"\\(nanoSeconds/1e3) µs\"\n",
    "        case 6..<9: \n",
    "            return \"\\(nanoSeconds/1e6) ms\"\n",
    "        default: \n",
    "            return \"\\(nanoSeconds/1e9) s\"\n",
    "    }\n",
    "}\n",
    "\n",
    "// ⏰Time how long it takes to run the specified function, optionally taking\n",
    "// the average across a number of repetitions.\n",
    "public func withTime<T>(_ f: () -> T) -> T {\n",
    "    let start = DispatchTime.now()\n",
    "    let value = f()\n",
    "    let end = DispatchTime.now()\n",
    "    let nanoSeconds = Double(end.uptimeNanoseconds - start.uptimeNanoseconds)\n",
    "    print(\"elapsed time: \\(getTimeUnit(nanoSeconds))\")\n",
    "    return value\n",
    "}\n",
    "\n",
    "public func timeTrials(trials: Int = 1, _ f: () -> ()) {\n",
    "    guard trials > 0 else { return }\n",
    "    \n",
    "    // Warmup\n",
    "    if trials > 1 { f() }\n",
    "    \n",
    "    var times = [Double]()\n",
    "    for _ in 1...trials {\n",
    "        let start = DispatchTime.now()\n",
    "        f()\n",
    "        let end = DispatchTime.now()\n",
    "        let nanoseconds = Double(end.uptimeNanoseconds - start.uptimeNanoseconds)\n",
    "        times.append(nanoseconds)\n",
    "    }\n",
    "    print(\"average: \\(getTimeUnit(times.reduce(0.0, +)/Double(times.count))),   \" +\n",
    "          \"min: \\(getTimeUnit(times.reduce(times[0], min))),   \" +\n",
    "          \"max: \\(getTimeUnit(times.reduce(times[0], max)))\")\n",
    "}"
   ]
  },
  {
   "cell_type": "code",
   "execution_count": 7,
   "metadata": {},
   "outputs": [],
   "source": [
    "//export\n",
    "public func assertEquals(_ a: TensorFloat, _ b: TensorFloat, _ message: String) {\n",
    "    // Check shapes match so broadcasting doesn't hide shape errors.\n",
    "    assert(a.shape == b.shape)\n",
    "    assertNearZero(a-b)\n",
    "}"
   ]
  },
  {
   "cell_type": "code",
   "execution_count": 8,
   "metadata": {},
   "outputs": [
    {
     "data": {
      "text/plain": [
       "('inline', 'module://ipykernel.pylab.backend_inline')\n"
      ]
     },
     "execution_count": 8,
     "metadata": {},
     "output_type": "execute_result"
    }
   ],
   "source": [
    "import Python\n",
    "%include \"EnableIPythonDisplay.swift\"\n",
    "IPythonDisplay.shell.enable_matplotlib(\"inline\")"
   ]
  },
  {
   "cell_type": "code",
   "execution_count": 9,
   "metadata": {},
   "outputs": [],
   "source": [
    "public let plotter = Python.import(\"matplotlib.pyplot\")"
   ]
  },
  {
   "cell_type": "markdown",
   "metadata": {},
   "source": [
    "# Data Setup"
   ]
  },
  {
   "cell_type": "code",
   "execution_count": 10,
   "metadata": {},
   "outputs": [
    {
     "data": {
      "text/plain": [
       "▿ [100, 2]\n",
       "  ▿ dimensions : 2 elements\n",
       "    - 0 : 100\n",
       "    - 1 : 2\n"
      ]
     },
     "execution_count": 10,
     "metadata": {},
     "output_type": "execute_result"
    }
   ],
   "source": [
    "let n = 100\n",
    "let inputPoints = TensorFloat(randomNormal: [100, 1])\n",
    "let A = inputPoints.concatenated(with: TensorFloat(ones: inputPoints.shape), alongAxis: 1)\n",
    "A.shape"
   ]
  },
  {
   "cell_type": "code",
   "execution_count": 11,
   "metadata": {},
   "outputs": [
    {
     "data": {
      "text/plain": [
       "▿ [100, 1]\n",
       "  ▿ dimensions : 2 elements\n",
       "    - 0 : 100\n",
       "    - 1 : 1\n"
      ]
     },
     "execution_count": 11,
     "metadata": {},
     "output_type": "execute_result"
    }
   ],
   "source": [
    "let yValidationPoints = matmul(A, TensorFloat([-2, 7]).expandingShape(at: 1)) + \n",
    "                (TensorFloat(randomNormal: inputPoints.shape, seed: (69, 420)) * 2.5)\n",
    "yValidationPoints.shape"
   ]
  },
  {
   "cell_type": "code",
   "execution_count": 12,
   "metadata": {},
   "outputs": [
    {
     "data": {
      "image/png": "[encoded data removed]",
      "text/plain": [
       "<Figure size 432x288 with 1 Axes>"
      ]
     },
     "metadata": {
      "needs_background": "light"
     },
     "output_type": "display_data"
    },
    {
     "data": {
      "text/plain": [
       "None\n"
      ]
     },
     "execution_count": 12,
     "metadata": {},
     "output_type": "execute_result"
    }
   ],
   "source": [
    "plotter.scatter(x: A.slice(lowerBounds: [0, 0], upperBounds:[A.shape[0], 1] ).makeNumpyArray(), \n",
    "                y: yValidationPoints.makeNumpyArray())\n",
    "plotter.show()"
   ]
  },
  {
   "cell_type": "markdown",
   "metadata": {},
   "source": [
    "# Model Creation"
   ]
  },
  {
   "cell_type": "code",
   "execution_count": 13,
   "metadata": {},
   "outputs": [],
   "source": [
    "//export\n",
    "public func squaredWithGradient(inputTensor: TensorFloat) -> (value: TensorFloat, \n",
    "                                                       gradientChain: (TensorFloat) -> TensorFloat) {\n",
    "    return (value: inputTensor * inputTensor, \n",
    "            gradientChain: {ddx in 2 * inputTensor * ddx})\n",
    "}"
   ]
  },
  {
   "cell_type": "code",
   "execution_count": 14,
   "metadata": {},
   "outputs": [],
   "source": [
    "let testo = TensorFloat([[1,2,3,4,5],[1,2,3,4,5]])"
   ]
  },
  {
   "cell_type": "code",
   "execution_count": 15,
   "metadata": {},
   "outputs": [],
   "source": [
    "let (squaredTensor, gradientChain) = squaredWithGradient(inputTensor: testo)\n",
    "\n",
    "let myGradient = gradientChain(TensorFloat([1]))\n",
    "\n",
    "assertEquals(squaredTensor, testo.squared(), \"My square gradient should be equal\")"
   ]
  },
  {
   "cell_type": "code",
   "execution_count": 16,
   "metadata": {},
   "outputs": [],
   "source": [
    "//export\n",
    "public func meanWithGradient(inputTensor: TensorFloat) -> (value: TensorFloat, \n",
    "                                                       gradientChain: (TensorFloat) -> TensorFloat) {\n",
    " let totalElements = Float(inputTensor.shape.dimensions.reduce(1) { accum, thing in accum * thing })\n",
    " return (value: inputTensor.sum(squeezingAxes: Array(inputTensor.shape.indices)) / totalElements,\n",
    "         gradientChain: {ddx in TensorFloat([1]) / totalElements * ddx})   \n",
    "}"
   ]
  },
  {
   "cell_type": "code",
   "execution_count": 17,
   "metadata": {},
   "outputs": [],
   "source": [
    "let (mean, gradientChain) = meanWithGradient(inputTensor: testo)\n",
    "\n",
    "let myGradient = gradientChain(TensorFloat([1]))\n",
    "let theirGradient = gradient { x in x.mean()} (testo)\n",
    "\n",
    "assert(mean == testo.mean(), \"Mean not the same\")\n",
    "assert(myGradient == theirGradient, \"Gradient not the same\")"
   ]
  },
  {
   "cell_type": "code",
   "execution_count": 18,
   "metadata": {},
   "outputs": [],
   "source": [
    "let (squaredTensor, squaredGradientChain) = squaredWithGradient(inputTensor: testo)\n",
    "let (mean, meanChain) = meanWithGradient(inputTensor: squaredTensor)\n",
    "\n",
    "let myGradient = squaredGradientChain(meanChain(TensorFloat([1])))\n",
    "let theirGradient = gradient { x in x.squared().mean()}(testo)\n",
    "\n",
    "assert(mean == testo.squared().mean(), \"Squared Mean not same\")\n",
    "assert(myGradient == theirGradient, \"Squared Mean Gradients not the same\")"
   ]
  },
  {
   "cell_type": "code",
   "execution_count": 19,
   "metadata": {},
   "outputs": [
    {
     "data": {
      "image/png": "[encoded data removed]",
      "text/plain": [
       "<Figure size 432x288 with 1 Axes>"
      ]
     },
     "metadata": {
      "needs_background": "light"
     },
     "output_type": "display_data"
    },
    {
     "data": {
      "text/plain": [
       "None\n"
      ]
     },
     "execution_count": 19,
     "metadata": {},
     "output_type": "execute_result"
    }
   ],
   "source": [
    "// The deriviative of reLU is 1 where ever the unit is active (eg greater than zero)\n",
    "// and 0 wherever the unit is not active. \n",
    "\n",
    "//  That's because the slope of the derivative is 1 where x is > 0. When x = 0 y = 0, when x = 1 y = 1, \n",
    "// when x = 2 y = 2, when x = 3 y = 3. so on, (it's a line with a slope of one)\n",
    "\n",
    "// So maybe just take the gradients that correspond to a component in the input that is \n",
    "// greater than zero?\n",
    "let testArray = TensorFloat(Array(-10...10).map{Float($0)})\n",
    "plotter.scatter(x: testArray.makeNumpyArray(), \n",
    "                y: reLU(tensor: testArray).makeNumpyArray())\n",
    "plotter.show()"
   ]
  },
  {
   "cell_type": "markdown",
   "metadata": {},
   "source": [
    "Dat Slope is one boi! "
   ]
  },
  {
   "cell_type": "code",
   "execution_count": 20,
   "metadata": {},
   "outputs": [],
   "source": [
    "//export\n",
    "public func reLUAndGradient(inputTensor: TensorFloat) -> (value: TensorFloat, \n",
    "                                                   gradientChain: (TensorFloat) -> TensorFloat){\n",
    "    return (value: max(0.0, inputTensor), \n",
    "            gradientChain: {ddx in ddx.replacing(with: TensorFloat(zeros: ddx.shape), where: inputTensor .< 0.0 )})\n",
    "}"
   ]
  },
  {
   "cell_type": "code",
   "execution_count": 21,
   "metadata": {},
   "outputs": [],
   "source": [
    "let (reluValue, reluGradientChain) = reLUAndGradient(inputTensor: testArray)\n",
    "let libraryReluValue = relu(testArray)\n",
    "\n",
    "assertEquals(reluValue, libraryReluValue, \"Relu gradient should be equal\")"
   ]
  },
  {
   "cell_type": "code",
   "execution_count": 22,
   "metadata": {},
   "outputs": [],
   "source": [
    "// export\n",
    "public func leakyRelu<T: TensorFlowFloatingPoint>(inputTensor: Tensor<T>,\n",
    "                                           negativeSlope: Double) -> Tensor<T> {\n",
    "    return max(0, inputTensor) + T(negativeSlope) * min(0, inputTensor)\n",
    "}"
   ]
  },
  {
   "cell_type": "code",
   "execution_count": 23,
   "metadata": {},
   "outputs": [],
   "source": [
    "//export\n",
    "public func leakyReLUAndGradient(inputTensor: TensorFloat,\n",
    "                          negativeSlope: Double = 0.0) -> (value: TensorFloat,\n",
    "                                                   // We only really care about the derivative with respect to the input\n",
    "                                                   gradientChain: (TensorFloat) -> TensorFloat){\n",
    "    return (value: leakyRelu(inputTensor: inputTensor, negativeSlope: negativeSlope), \n",
    "            gradientChain: {ddx in ddx.replacing(with: TensorFloat(zeros: ddx.shape), where: inputTensor .< 0.0 )})\n",
    "}"
   ]
  },
  {
   "cell_type": "markdown",
   "metadata": {},
   "source": [
    "**Linear combination**\n",
    "---\n",
    "\n",
    "`womboCombo = input * weightParameter + biasParameter`\n",
    "\n",
    "Partial Derivative with respects to input = `weightParameter`\n",
    "\n",
    "Partial Derivative with respects to weightParameter = `input`\n",
    "\n",
    "Partial Derivative with respects to bias = `1`"
   ]
  },
  {
   "cell_type": "code",
   "execution_count": 24,
   "metadata": {},
   "outputs": [],
   "source": [
    "//export\n",
    "\n",
    "// Matrix Shapez\n",
    "// M x N * N x O = M x O\n",
    "\n",
    "// ddx shape = M x O\n",
    "\n",
    "public func linearCombinationAndGradient(inputTensor: TensorFloat, \n",
    "                                  weightParameter: TensorFloat,\n",
    "                                  biasParameter: TensorFloat) -> (value: TensorFloat, \n",
    "                                                                  gradientChain: (TensorFloat) -> (TensorFloat, TensorFloat, TensorFloat)) {\n",
    "    return (value: matmul(inputTensor, weightParameter) + biasParameter, \n",
    "            gradientChain: { ddx in \n",
    "                           ( inputTensor,\n",
    "                             matmul(inputTensor.transposed(),  ddx),\n",
    "                             ddx.unbroadcasted(to: biasParameter.shape)\n",
    "                           )\n",
    "                           })\n",
    "}"
   ]
  },
  {
   "cell_type": "code",
   "execution_count": 54,
   "metadata": {},
   "outputs": [],
   "source": [
    "var weightParameter = TensorFloat([5, 3]).expandingShape(at: 1)\n",
    "let learningRate: Float = 5e-2\n",
    "var biasParameter = TensorFloat(zeros: [1])"
   ]
  },
  {
   "cell_type": "code",
   "execution_count": 55,
   "metadata": {},
   "outputs": [],
   "source": [
    "func showYHat(yHat: TensorFloat) {\n",
    "    plotter.scatter(x: A.slice(lowerBounds: [0, 0], upperBounds:[A.shape[0], 1] ).makeNumpyArray(), \n",
    "                y: yValidationPoints.makeNumpyArray())\n",
    "    plotter.scatter(x: A.slice(lowerBounds: [0, 0], upperBounds:[A.shape[0], 1] ).makeNumpyArray(), \n",
    "                y: yHat.makeNumpyArray())\n",
    "    plotter.show()\n",
    "}"
   ]
  },
  {
   "cell_type": "code",
   "execution_count": 56,
   "metadata": {},
   "outputs": [
    {
     "data": {
      "image/png": "[encoded data removed]",
      "text/plain": [
       "<Figure size 432x288 with 1 Axes>"
      ]
     },
     "metadata": {
      "needs_background": "light"
     },
     "output_type": "display_data"
    }
   ],
   "source": [
    "//first guess\n",
    "showYHat(yHat: matmul(A, weightParameter))"
   ]
  },
  {
   "cell_type": "code",
   "execution_count": 57,
   "metadata": {},
   "outputs": [
    {
     "name": "stdout",
     "output_type": "stream",
     "text": [
      "average: 1.103027156 ms,   min: 998.112 µs,   max: 1.273687 ms\r\n"
     ]
    }
   ],
   "source": [
    "timeTrials(trials: 500) {\n",
    "    let (activations, activationChain) = linearCombinationAndGradient(inputTensor: A, \n",
    "                                                                      weightParameter: weightParameter, \n",
    "                                                                      biasParameter: biasParameter)\n",
    "    let error = activations - yValidationPoints\n",
    "    let (squareValue, squareGradient) = squaredWithGradient(inputTensor: error)\n",
    "    let (meanValue, meanGradient) = meanWithGradient(inputTensor: squareValue)\n",
    "    \n",
    "    // Time to go backward bois!\n",
    "    let ddxMean = meanGradient(TensorFloat([1]))\n",
    "    let ddxSquare = squareGradient(ddxMean)\n",
    "    let (ddxInput, ddxWeightParam, ddxBias) = activationChain(ddxSquare)\n",
    "    \n",
    "    weightParameter -= learningRate * ddxWeightParam\n",
    "    \n",
    "}"
   ]
  },
  {
   "cell_type": "code",
   "execution_count": 58,
   "metadata": {},
   "outputs": [
    {
     "data": {
      "image/png": "[encoded data removed]",
      "text/plain": [
       "<Figure size 432x288 with 1 Axes>"
      ]
     },
     "metadata": {
      "needs_background": "light"
     },
     "output_type": "display_data"
    }
   ],
   "source": [
    "//learned guess\n",
    "showYHat(yHat: matmul(A, weightParameter))"
   ]
  },
  {
   "cell_type": "code",
   "execution_count": 59,
   "metadata": {},
   "outputs": [
    {
     "name": "stdout",
     "output_type": "stream",
     "text": [
      "[[-2.2450862],\r\n",
      " [ 7.1081896]]\r\n"
     ]
    }
   ],
   "source": [
    "print(weightParameter)"
   ]
  },
  {
   "cell_type": "markdown",
   "metadata": {},
   "source": [
    "Very nice!!!!\n",
    "\n",
    "**Time to make it purdy**"
   ]
  },
  {
   "cell_type": "code",
   "execution_count": 31,
   "metadata": {},
   "outputs": [],
   "source": [
    "//export\n",
    "public extension Tensor where Scalar: TensorFlowFloatingPoint {\n",
    "    init(kaimingUniform shape: TensorShape, negativeSlope: Double = 1.0) {\n",
    "        // Assumes Leaky ReLU nonlinearity\n",
    "        let gain = Scalar.init(TensorFlow.sqrt(2.0 / (1.0 + TensorFlow.pow(negativeSlope, 2))))\n",
    "        let spatialDimCount = shape.count - 2\n",
    "        let receptiveField = shape[0..<spatialDimCount].contiguousSize\n",
    "        let fanIn = shape[shape.count - 2] * receptiveField\n",
    "        let bound = TensorFlow.sqrt(Scalar(3.0)) * gain / TensorFlow.sqrt(Scalar(fanIn))\n",
    "        self = bound * (2 * Tensor(randomUniform: shape, generator: &PhiloxRandomNumberGenerator.global) - 1)\n",
    "    }\n",
    "}"
   ]
  },
  {
   "cell_type": "code",
   "execution_count": 32,
   "metadata": {},
   "outputs": [],
   "source": [
    "//export\n",
    "\n",
    "// loss function\n",
    "public func meanSquaredErrorAndGradient(yHat: TensorFloat, y: TensorFloat) -> (value: TensorFloat,\n",
    "                                                                        gradient: () -> TensorFloat) {\n",
    "    assert(yHat.shape == y.shape, \"Expected inputs to be the same size\")\n",
    "    let error = yHat - y\n",
    "    let (squareValue, squareGradient) = squaredWithGradient(inputTensor: error)\n",
    "    let (meanValue, meanGradient) = meanWithGradient(inputTensor: squareValue)\n",
    "    \n",
    "    return (value: meanValue, gradient: { squareGradient(meanGradient(TensorFloat([1]))) })\n",
    "}"
   ]
  },
  {
   "cell_type": "code",
   "execution_count": 60,
   "metadata": {},
   "outputs": [],
   "source": [
    "var weightParameter = TensorFloat([5, 3]).expandingShape(at: 1)\n",
    "let learningRate: Float = 5e-2\n",
    "var biasParameter = TensorFloat(zeros: [1])"
   ]
  },
  {
   "cell_type": "code",
   "execution_count": 61,
   "metadata": {},
   "outputs": [
    {
     "data": {
      "image/png": "[encoded data removed]",
      "text/plain": [
       "<Figure size 432x288 with 1 Axes>"
      ]
     },
     "metadata": {
      "needs_background": "light"
     },
     "output_type": "display_data"
    }
   ],
   "source": [
    "//first guess\n",
    "showYHat(yHat: matmul(A, weightParameter))"
   ]
  },
  {
   "cell_type": "code",
   "execution_count": 78,
   "metadata": {},
   "outputs": [
    {
     "name": "stdout",
     "output_type": "stream",
     "text": [
      "average: 36.701748 µs,   min: 35.235 µs,   max: 87.567 µs\r\n"
     ]
    }
   ],
   "source": [
    "timeTrials(trials: 500) {\n",
    "    let (activations, activationChain) = linearCombinationAndGradient(inputTensor: A, \n",
    "                                                                      weightParameter: weightParameter, \n",
    "                                                                      biasParameter: biasParameter)\n",
    "//     let (__, ddxMSESupplier) = meanSquaredErrorAndGradient(yHat: activations, y:yValidationPoints )\n",
    "//     let (ddxInput, ddxWeightParam, ddxBias) = activationChain(ddxMSESupplier())\n",
    "//     weightParameter -= learningRate * ddxWeightParam\n",
    "    \n",
    "}"
   ]
  },
  {
   "cell_type": "code",
   "execution_count": null,
   "metadata": {},
   "outputs": [],
   "source": [
    "showYHat(yHat: matmul(A, weightParameter))"
   ]
  },
  {
   "cell_type": "code",
   "execution_count": 33,
   "metadata": {},
   "outputs": [],
   "source": [
    "public typealias SingleValueAndGradientChain<T>=(value: T, gradientChain: (T) -> T )\n",
    "public typealias SingleInputDifferentiable<T> = (T) -> SingleValueAndGradientChain<T>"
   ]
  },
  {
   "cell_type": "code",
   "execution_count": 34,
   "metadata": {},
   "outputs": [],
   "source": [
    "let identititySVGC: SingleInputDifferentiable<TensorFloat> = { x in (value: x, gradientChain: { y in y }) }"
   ]
  },
  {
   "cell_type": "code",
   "execution_count": 35,
   "metadata": {},
   "outputs": [],
   "source": [
    "struct HyperParameter {\n",
    "    let learningRate: Float\n",
    "    \n",
    "    init(learningRate: Float){\n",
    "        self.learningRate = learningRate\n",
    "    }\n",
    "}"
   ]
  },
  {
   "cell_type": "code",
   "execution_count": 36,
   "metadata": {},
   "outputs": [],
   "source": [
    "struct RuntimeError: Error {\n",
    "    let message: String\n",
    "\n",
    "    init(_ message: String) {\n",
    "        self.message = message\n",
    "    }\n",
    "\n",
    "    public var localizedDescription: String {\n",
    "        return message\n",
    "    }\n",
    "}"
   ]
  },
  {
   "cell_type": "code",
   "execution_count": 38,
   "metadata": {},
   "outputs": [],
   "source": [
    "typealias ThreeInputGradient = (TensorFloat) -> (TensorFloat, TensorFloat, TensorFloat)\n",
    "\n",
    "struct AlexLayer {\n",
    "    let activationFunction: SingleInputDifferentiable<TensorFloat>\n",
    "    let weightParameter: TensorFloat\n",
    "    let biasParameter: TensorFloat\n",
    "    private let gradientChain: ThreeInputGradient\n",
    "    \n",
    "    private init(activationFunction: @escaping SingleInputDifferentiable<TensorFloat>,\n",
    "                 weightParameter: TensorFloat,\n",
    "                 biasParameter: TensorFloat,\n",
    "                 gradientChain: @escaping ThreeInputGradient) {\n",
    "        self.activationFunction = activationFunction\n",
    "        self.weightParameter = weightParameter\n",
    "        self.biasParameter = biasParameter\n",
    "        self.gradientChain = gradientChain\n",
    "    }\n",
    "    \n",
    "    private init(alexLayer: AlexLayer,\n",
    "                 gradientChain: @escaping ThreeInputGradient) {\n",
    "        self.activationFunction = alexLayer.activationFunction\n",
    "        self.weightParameter = alexLayer.weightParameter\n",
    "        self.biasParameter = alexLayer.biasParameter\n",
    "        self.gradientChain = gradientChain\n",
    "    }\n",
    "    \n",
    "    init(inputSize: Int,\n",
    "         outputSize: Int,\n",
    "         activationFunction: @escaping SingleInputDifferentiable<TensorFloat> = identititySVGC){\n",
    "        self.activationFunction = activationFunction\n",
    "        self.weightParameter = TensorFloat(kaimingUniform: TensorShape([inputSize, outputSize]))\n",
    "        self.biasParameter = TensorFloat(zeros: [outputSize])\n",
    "        self.gradientChain = { (x: TensorFloat)  in (TensorFloat([1]), TensorFloat([1]), TensorFloat([1]))}\n",
    "    }\n",
    "    \n",
    "    func forwardPass(inputTensor: TensorFloat) -> (TensorFloat, AlexLayer) {\n",
    "        let (parameterOutput, parameterGradientChain) = \n",
    "          linearCombinationAndGradient(inputTensor: inputTensor, \n",
    "                                       weightParameter: self.weightParameter, \n",
    "                                       biasParameter: self.biasParameter)\n",
    "        let (activations, activationsGradientChain) = activationFunction(parameterOutput)\n",
    "        \n",
    "        return (activations, AlexLayer(alexLayer: self, \n",
    "                                       gradientChain: {ddx in parameterGradientChain(activationsGradientChain(ddx))}))\n",
    "    }\n",
    "    \n",
    "    func backwardPass(ddx: TensorFloat, hyperParams: HyperParameter) -> (TensorFloat, AlexLayer) {\n",
    "        let (ddxInput, ddxParameter, ddxBias) = self.gradientChain(ddx)\n",
    "        return (ddxInput, AlexLayer(activationFunction: activationFunction, \n",
    "                                    weightParameter: self.weightParameter - hyperParams.learningRate * ddxParameter, \n",
    "                                    biasParameter: self.biasParameter - hyperParams.learningRate * ddxBias, \n",
    "                                    gradientChain: self.gradientChain))\n",
    "    }\n",
    "}"
   ]
  },
  {
   "cell_type": "code",
   "execution_count": 39,
   "metadata": {
    "scrolled": true
   },
   "outputs": [
    {
     "data": {
      "image/png": "[encoded data removed]",
      "text/plain": [
       "<Figure size 432x288 with 1 Axes>"
      ]
     },
     "metadata": {
      "needs_background": "light"
     },
     "output_type": "display_data"
    }
   ],
   "source": [
    "let testLayer = AlexLayer(inputSize: 2, \n",
    "                          outputSize: 1)\n",
    "let (alexYHat, testLayerTwo) = testLayer.forwardPass(inputTensor: A)\n",
    "showYHat(yHat: alexYHat)"
   ]
  },
  {
   "cell_type": "code",
   "execution_count": 41,
   "metadata": {},
   "outputs": [
    {
     "name": "stdout",
     "output_type": "stream",
     "text": [
      "MSE: 57.785973\r\n"
     ]
    }
   ],
   "source": [
    "let (lossyBoi, lossGradient) = meanSquaredErrorAndGradient(yHat: alexYHat, y: yValidationPoints)\n",
    "print(\"MSE: \\(lossyBoi)\")\n",
    "let (ddxLayerTwo, testLayerThree) = testLayerTwo.backwardPass(ddx: lossGradient(), \n",
    "                                                              hyperParams: HyperParameter(learningRate: 5e-2))"
   ]
  },
  {
   "cell_type": "code",
   "execution_count": 42,
   "metadata": {},
   "outputs": [
    {
     "name": "stdout",
     "output_type": "stream",
     "text": [
      "MSE: 39.131336\r\n"
     ]
    },
    {
     "data": {
      "image/png": "[encoded data removed]",
      "text/plain": [
       "<Figure size 432x288 with 1 Axes>"
      ]
     },
     "metadata": {
      "needs_background": "light"
     },
     "output_type": "display_data"
    }
   ],
   "source": [
    "let (alexYHat2, testLayerFour) = testLayerThree.forwardPass(inputTensor: A)\n",
    "let (lossyBoi2, lossGradient2) = meanSquaredErrorAndGradient(yHat: alexYHat2, y: yValidationPoints)\n",
    "print(\"MSE: \\(lossyBoi2)\")\n",
    "showYHat(yHat: alexYHat2)"
   ]
  },
  {
   "cell_type": "markdown",
   "metadata": {},
   "source": [
    "#### New Model\n",
    "----"
   ]
  },
  {
   "cell_type": "code",
   "execution_count": 70,
   "metadata": {},
   "outputs": [],
   "source": [
    "let trialsHyperParameter = HyperParameter(learningRate: 1e-2)\n",
    "\n",
    "var currentAlexLayer = AlexLayer(inputSize: 2, \n",
    "                                 outputSize: 1)"
   ]
  },
  {
   "cell_type": "code",
   "execution_count": 71,
   "metadata": {},
   "outputs": [],
   "source": [
    "func showLoss(alexLayer: AlexLayer) {\n",
    "    let (alexYHat3, testLayer) = alexLayer.forwardPass(inputTensor: A)\n",
    "    let (lossyBoi3, lossGradient2) = meanSquaredErrorAndGradient(yHat: alexYHat3, y: yValidationPoints)\n",
    "    print(\"MSE: \\(lossyBoi3)\")\n",
    "    showYHat(yHat: alexYHat3)\n",
    "}"
   ]
  },
  {
   "cell_type": "code",
   "execution_count": 72,
   "metadata": {},
   "outputs": [
    {
     "name": "stdout",
     "output_type": "stream",
     "text": [
      "MSE: 52.30772\r\n"
     ]
    },
    {
     "data": {
      "image/png": "[encoded data removed]",
      "text/plain": [
       "<Figure size 432x288 with 1 Axes>"
      ]
     },
     "metadata": {
      "needs_background": "light"
     },
     "output_type": "display_data"
    }
   ],
   "source": [
    "showLoss(alexLayer: currentAlexLayer)"
   ]
  },
  {
   "cell_type": "code",
   "execution_count": 76,
   "metadata": {},
   "outputs": [
    {
     "name": "stdout",
     "output_type": "stream",
     "text": [
      "average: 1.267928256 ms,   min: 1.15927 ms,   max: 1.660329 ms\r\n"
     ]
    }
   ],
   "source": [
    "timeTrials(trials: 500) { \n",
    "    let (alexYHat, alexLayer) = currentAlexLayer.forwardPass(inputTensor: A)\n",
    "    let (loss, lossGradientSupplier) = meanSquaredErrorAndGradient(yHat: alexYHat, y:yValidationPoints)\n",
    "    let (ddxAlexLayer, enhancedLayer) = alexLayer.backwardPass(ddx: lossGradientSupplier(), \n",
    "                                                               hyperParams: trialsHyperParameter)\n",
    "    currentAlexLayer = enhancedLayer\n",
    "}"
   ]
  },
  {
   "cell_type": "code",
   "execution_count": 74,
   "metadata": {},
   "outputs": [
    {
     "name": "stdout",
     "output_type": "stream",
     "text": [
      "MSE: 5.534154\r\n"
     ]
    },
    {
     "data": {
      "image/png": "[encoded data removed]",
      "text/plain": [
       "<Figure size 432x288 with 1 Axes>"
      ]
     },
     "metadata": {
      "needs_background": "light"
     },
     "output_type": "display_data"
    }
   ],
   "source": [
    "showLoss(alexLayer: currentAlexLayer)"
   ]
  },
  {
   "cell_type": "code",
   "execution_count": 75,
   "metadata": {},
   "outputs": [
    {
     "name": "stdout",
     "output_type": "stream",
     "text": [
      "average: 36.783158 µs,   min: 35.048 µs,   max: 84.172 µs\r\n"
     ]
    }
   ],
   "source": [
    "timeTrials(trials: 500) { \n",
    "    let (alexYHat, alexLayer) = currentAlexLayer.forwardPass(inputTensor: A)\n",
    "}"
   ]
  },
  {
   "cell_type": "markdown",
   "metadata": {},
   "source": [
    "Todo: Make model data structure?\n",
    "- more declaritive\n",
    "- more functional\n",
    "- more immutable\n",
    "- less verbose"
   ]
  },
  {
   "cell_type": "code",
   "execution_count": null,
   "metadata": {},
   "outputs": [],
   "source": [
    "// exportSchwiftyNotebook(notebookName: \"convolution_model\")"
   ]
  },
  {
   "cell_type": "code",
   "execution_count": null,
   "metadata": {},
   "outputs": [],
   "source": []
  }
 ],
 "metadata": {
  "colab": {
   "collapsed_sections": [],
   "name": "blank_swift.ipynb",
   "provenance": [],
   "version": "0.3.2"
  },
  "kernelspec": {
   "display_name": "Swift",
   "language": "swift",
   "name": "swift"
  },
  "language_info": {
   "file_extension": ".swift",
   "mimetype": "text/x-swift",
   "name": "swift",
   "version": ""
  }
 },
 "nbformat": 4,
 "nbformat_minor": 1
}
