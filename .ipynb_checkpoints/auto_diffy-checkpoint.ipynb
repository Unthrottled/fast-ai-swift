{
 "cells": [
  {
   "cell_type": "code",
   "execution_count": 1,
   "metadata": {
    "colab": {},
    "colab_type": "code",
    "id": "kZRlD4utdPuX"
   },
   "outputs": [
    {
     "name": "stdout",
     "output_type": "stream",
     "text": [
      "Installing packages:\n",
      "\t.package(path: \"/home/ubuntu/workspace/fast-ai-swift/SchwiftyNotebook_convolution_model\")\n",
      "\t\tSchwiftyNotebook_convolution_model\n",
      "With SwiftPM flags: []\n",
      "Working in: /tmp/tmpw9qnwjgm/swift-install\n",
      "warning: /home/ubuntu/swift/usr/bin/swiftc: /home/ubuntu/anaconda3/envs/swift-env/lib/libuuid.so.1: no version information available (required by /home/ubuntu/swift/usr/bin/swiftc)\n",
      "/home/ubuntu/swift/usr/bin/swift: /home/ubuntu/anaconda3/envs/swift-env/lib/libuuid.so.1: no version information available (required by /home/ubuntu/swift/usr/bin/swift)\n",
      "warning: /home/ubuntu/swift/usr/bin/swiftc: /home/ubuntu/anaconda3/envs/swift-env/lib/libuuid.so.1: no version information available (required by /home/ubuntu/swift/usr/bin/swiftc)\n",
      "/home/ubuntu/swift/usr/bin/swift: /home/ubuntu/anaconda3/envs/swift-env/lib/libuuid.so.1: no version information available (required by /home/ubuntu/swift/usr/bin/swift)\n",
      "warning: /home/ubuntu/swift/usr/bin/swiftc: /home/ubuntu/anaconda3/envs/swift-env/lib/libuuid.so.1: no version information available (required by /home/ubuntu/swift/usr/bin/swiftc)\n",
      "/home/ubuntu/swift/usr/bin/swift: /home/ubuntu/anaconda3/envs/swift-env/lib/libuuid.so.1: no version information available (required by /home/ubuntu/swift/usr/bin/swift)\n",
      "warning: /home/ubuntu/swift/usr/bin/swiftc: /home/ubuntu/anaconda3/envs/swift-env/lib/libuuid.so.1: no version information available (required by /home/ubuntu/swift/usr/bin/swiftc)\n",
      "/home/ubuntu/swift/usr/bin/swift: /home/ubuntu/anaconda3/envs/swift-env/lib/libuuid.so.1: no version information available (required by /home/ubuntu/swift/usr/bin/swift)\n",
      "warning: /home/ubuntu/swift/usr/bin/swiftc: /home/ubuntu/anaconda3/envs/swift-env/lib/libuuid.so.1: no version information available (required by /home/ubuntu/swift/usr/bin/swiftc)\n",
      "/home/ubuntu/swift/usr/bin/swift: /home/ubuntu/anaconda3/envs/swift-env/lib/libuuid.so.1: no version information available (required by /home/ubuntu/swift/usr/bin/swift)\n",
      "warning: /home/ubuntu/swift/usr/bin/swiftc: /home/ubuntu/anaconda3/envs/swift-env/lib/libuuid.so.1: no version information available (required by /home/ubuntu/swift/usr/bin/swiftc)\n",
      "/home/ubuntu/swift/usr/bin/swift: /home/ubuntu/anaconda3/envs/swift-env/lib/libuuid.so.1: no version information available (required by /home/ubuntu/swift/usr/bin/swift)\n",
      "warning: /home/ubuntu/swift/usr/bin/swiftc: /home/ubuntu/anaconda3/envs/swift-env/lib/libuuid.so.1: no version information available (required by /home/ubuntu/swift/usr/bin/swiftc)\n",
      "/home/ubuntu/swift/usr/bin/swift: /home/ubuntu/anaconda3/envs/swift-env/lib/libuuid.so.1: no version information available (required by /home/ubuntu/swift/usr/bin/swift)\n",
      "/home/ubuntu/swift/usr/bin/swiftc: /home/ubuntu/anaconda3/envs/swift-env/lib/libuuid.so.1: no version information available (required by /home/ubuntu/swift/usr/bin/swiftc)\n",
      "/home/ubuntu/swift/usr/bin/swiftc: /home/ubuntu/anaconda3/envs/swift-env/lib/libuuid.so.1: no version information available (required by /home/ubuntu/swift/usr/bin/swiftc)[1/2] Compiling jupyterInstalledPackages jupyterInstalledPackages.swift\n",
      "/home/ubuntu/swift/usr/bin/swift: /home/ubuntu/anaconda3/envs/swift-env/lib/libuuid.so.1: no version information available (required by /home/ubuntu/swift/usr/bin/swift)\n",
      "[2/3] Merging module jupyterInstalledPackages\n",
      "/home/ubuntu/swift/usr/bin/swift: /home/ubuntu/anaconda3/envs/swift-env/lib/libuuid.so.1: no version information available (required by /home/ubuntu/swift/usr/bin/swift)\n",
      "Initializing Swift...\n",
      "Installation complete!\n"
     ]
    }
   ],
   "source": [
    "%install-location $cwd/swift-install\n",
    "%install '.package(path: \"$cwd/SchwiftyNotebook_convolution_model\")' SchwiftyNotebook_convolution_model"
   ]
  },
  {
   "cell_type": "code",
   "execution_count": 2,
   "metadata": {},
   "outputs": [],
   "source": [
    "//export\n",
    "import Path\n",
    "import TensorFlow\n",
    "import SchwiftyNotebook_convolution_model"
   ]
  },
  {
   "cell_type": "code",
   "execution_count": 3,
   "metadata": {},
   "outputs": [],
   "source": [
    "import Python\n",
    "%include \"EnableIPythonDisplay.swift\"\n",
    "IPythonDisplay.shell.enable_matplotlib(\"inline\")\n",
    "\n",
    "public let plotter = Python.import(\"matplotlib.pyplot\")"
   ]
  },
  {
   "cell_type": "markdown",
   "metadata": {},
   "source": [
    "# Data Setup"
   ]
  },
  {
   "cell_type": "code",
   "execution_count": 4,
   "metadata": {},
   "outputs": [
    {
     "data": {
      "text/plain": [
       "▿ [100, 2]\n",
       "  ▿ dimensions : 2 elements\n",
       "    - 0 : 100\n",
       "    - 1 : 2\n"
      ]
     },
     "execution_count": 4,
     "metadata": {},
     "output_type": "execute_result"
    }
   ],
   "source": [
    "let n = 100\n",
    "let inputPoints = TensorFloat(randomNormal: [100, 1])\n",
    "let A = inputPoints.concatenated(with: TensorFloat(ones: inputPoints.shape), alongAxis: 1)\n",
    "A.shape"
   ]
  },
  {
   "cell_type": "code",
   "execution_count": 5,
   "metadata": {},
   "outputs": [
    {
     "data": {
      "text/plain": [
       "▿ [100, 1]\n",
       "  ▿ dimensions : 2 elements\n",
       "    - 0 : 100\n",
       "    - 1 : 1\n"
      ]
     },
     "execution_count": 5,
     "metadata": {},
     "output_type": "execute_result"
    }
   ],
   "source": [
    "let yValidationPoints = matmul(A, TensorFloat([-2, 7]).expandingShape(at: 1)) + \n",
    "                (TensorFloat(randomNormal: inputPoints.shape, seed: (69, 420)) * 2.5)\n",
    "yValidationPoints.shape"
   ]
  },
  {
   "cell_type": "code",
   "execution_count": 6,
   "metadata": {},
   "outputs": [
    {
     "data": {
      "image/png": "[encoded data removed]",
      "text/plain": [
       "<Figure size 432x288 with 1 Axes>"
      ]
     },
     "metadata": {
      "needs_background": "light"
     },
     "output_type": "display_data"
    },
    {
     "data": {
      "text/plain": [
       "None\n"
      ]
     },
     "execution_count": 6,
     "metadata": {},
     "output_type": "execute_result"
    }
   ],
   "source": [
    "plotter.scatter(x: A.slice(lowerBounds: [0, 0], upperBounds:[A.shape[0], 1] ).makeNumpyArray(), \n",
    "                y: yValidationPoints.makeNumpyArray())\n",
    "plotter.show()"
   ]
  },
  {
   "cell_type": "markdown",
   "metadata": {},
   "source": [
    "# Model Creation"
   ]
  },
  {
   "cell_type": "code",
   "execution_count": 7,
   "metadata": {},
   "outputs": [
    {
     "name": "stdout",
     "output_type": "stream",
     "text": [
      "[4.0, 9.0]\r\n",
      "(Tensor<Float>) -> Tensor<Float>\r\n"
     ]
    }
   ],
   "source": [
    "@differentiable\n",
    "func squareBoi(inputTensor: TensorFloat) -> TensorFloat {\n",
    "    return inputTensor * inputTensor\n",
    "}\n",
    "\n",
    "let (squared, squareGradientChain) = valueWithPullback(at: TensorFloat([2, 3]), in: squareBoi)\n",
    "print(squared)\n",
    "print(type(of: squareGradientChain))"
   ]
  },
  {
   "cell_type": "code",
   "execution_count": 8,
   "metadata": {},
   "outputs": [
    {
     "name": "stdout",
     "output_type": "stream",
     "text": [
      "Loopy Boi 5\r\n",
      "Loopy Boi 4\r\n",
      "Loopy Boi 3\r\n",
      "Loopy Boi 2\r\n",
      "Loopy Boi 1\r\n"
     ]
    }
   ],
   "source": [
    "//tail recursion?\n",
    "func loopyBoi(x: Int) {\n",
    "    guard x > 0 else { return }\n",
    "    print(\"Loopy Boi \\(x)\")\n",
    "    return loopyBoi(x: x - 1)\n",
    "}\n",
    "\n",
    "loopyBoi(x: 5)"
   ]
  },
  {
   "cell_type": "code",
   "execution_count": 9,
   "metadata": {},
   "outputs": [],
   "source": [
    "let tensorBoi = TensorFloat([1, 2, 3]).expandingShape(at: 1)\n",
    "let weightParameter = TensorFloat(kaimingUniform: TensorShape([2, 1]))\n",
    "let biasParameter = TensorFloat(zeros: [1])"
   ]
  },
  {
   "cell_type": "code",
   "execution_count": 11,
   "metadata": {},
   "outputs": [],
   "source": [
    "//export \n",
    "public func denseLayerCombination(inputTensor: TensorFloat, \n",
    "                     weightParameter: TensorFloat, \n",
    "                     biasParameter: TensorFloat) -> TensorFloat {\n",
    "    return matmul(inputTensor, weightParameter) + biasParameter\n",
    "}\n",
    "\n",
    "@differentiating(denseLayerCombination)\n",
    "public func denseLayerCombinationGradient(inputParameter: TensorFloat, \n",
    "                        weightParameter: TensorFloat, \n",
    "                        biasParameter: TensorFloat) -> (value: TensorFloat, \n",
    "                                                        pullback: (TensorFloat) -> \n",
    "                                                        (TensorFloat, TensorFloat, TensorFloat)) {\n",
    "    //M x N * N x O = M x O\n",
    "    return (value: denseLayerCombination(inputTensor: inputParameter, \n",
    "                                   weightParameter: weightParameter, \n",
    "                                   biasParameter: biasParameter), \n",
    "            pullback: { ddx in (\n",
    "                            inputParameter,\n",
    "                            matmul(inputParameter.transposed(), ddx),\n",
    "                            ddx.unbroadcasted(to: biasParameter.shape)) \n",
    "                          }\n",
    "           )\n",
    "}"
   ]
  },
  {
   "cell_type": "code",
   "execution_count": 12,
   "metadata": {},
   "outputs": [],
   "source": [
    "let (womboCombo, womboComboGradientChain) = valueWithPullback(at: A, \n",
    "                                                              weightParameter, \n",
    "                                                              biasParameter, \n",
    "                                                              in: denseLayerCombination)"
   ]
  },
  {
   "cell_type": "code",
   "execution_count": 13,
   "metadata": {},
   "outputs": [],
   "source": [
    "func showYHat(yHat: TensorFloat) {\n",
    "    plotter.scatter(x: A.slice(lowerBounds: [0, 0], upperBounds:[A.shape[0], 1] ).makeNumpyArray(), \n",
    "                y: yValidationPoints.makeNumpyArray())\n",
    "    plotter.scatter(x: A.slice(lowerBounds: [0, 0], upperBounds:[A.shape[0], 1] ).makeNumpyArray(), \n",
    "                y: yHat.makeNumpyArray())\n",
    "    plotter.show()\n",
    "}"
   ]
  },
  {
   "cell_type": "code",
   "execution_count": 14,
   "metadata": {},
   "outputs": [
    {
     "data": {
      "image/png": "[encoded data removed]",
      "text/plain": [
       "<Figure size 432x288 with 1 Axes>"
      ]
     },
     "metadata": {
      "needs_background": "light"
     },
     "output_type": "display_data"
    }
   ],
   "source": [
    "//first guess\n",
    "showYHat(yHat: matmul(A, weightParameter))"
   ]
  },
  {
   "cell_type": "code",
   "execution_count": 15,
   "metadata": {},
   "outputs": [],
   "source": [
    "let (activations, activationChain) = linearCombinationAndGradient(inputTensor: A, \n",
    "                                                                  weightParameter: weightParameter, \n",
    "                                                                  biasParameter: biasParameter)\n",
    "let error = activations - yValidationPoints\n",
    "let (squareValue, squareGradient) = squaredWithGradient(inputTensor: error)\n",
    "let (meanValue, meanGradient) = meanWithGradient(inputTensor: squareValue)\n",
    "\n",
    "// Time to go backward bois!\n",
    "let ddxMean = meanGradient(TensorFloat([1]))\n",
    "let ddxSquare = squareGradient(ddxMean)\n",
    "let (ddxInput, ddxWeightParam, ddxBias) = activationChain(ddxSquare)"
   ]
  },
  {
   "cell_type": "code",
   "execution_count": 16,
   "metadata": {},
   "outputs": [],
   "source": [
    "let (autoActivations, autoActivationChain) = valueWithPullback(at: A, \n",
    "                                                              weightParameter, \n",
    "                                                              biasParameter, \n",
    "                                                              in: denseLayerCombination)\n",
    "assertEquals(activations, autoActivations, \"Expected Auto Activations to be the same as mine\")\n",
    "let (_, autoDdxWeightParam, autoDdxBias) = autoActivationChain(ddxSquare)\n",
    "assertEquals(autoDdxWeightParam, ddxWeightParam, \"Expected weight gradient to be the same\")\n",
    "assertEquals(autoDdxBias, ddxBias, \"Expected bias gradient to be the same\")"
   ]
  },
  {
   "cell_type": "code",
   "execution_count": 17,
   "metadata": {},
   "outputs": [],
   "source": [
    "//export\n",
    "@differentiable\n",
    "public func squaredTensor(inputTensor: TensorFloat) -> TensorFloat {\n",
    "    return inputTensor * inputTensor\n",
    "}"
   ]
  },
  {
   "cell_type": "code",
   "execution_count": 18,
   "metadata": {},
   "outputs": [],
   "source": [
    "let (autoSquare, autoSquareChain) = valueWithPullback(at: error, in: squaredTensor)\n",
    "assertEquals(autoSquare, squareValue, \"Expecte Auto Square to equal my square\")\n",
    "assertEquals(ddxSquare, autoSquareChain(ddxMean), \"Expected auto square gradient to equal my gradient\")"
   ]
  },
  {
   "cell_type": "code",
   "execution_count": 19,
   "metadata": {},
   "outputs": [],
   "source": [
    "//export\n",
    "@differentiable\n",
    "public func meanOfTensor(inputTensor: TensorFloat) -> TensorFloat {\n",
    "    return inputTensor.mean()\n",
    "}"
   ]
  },
  {
   "cell_type": "code",
   "execution_count": 32,
   "metadata": {},
   "outputs": [],
   "source": [
    "let (autoMean, autoMeanChain) = valueWithPullback(at: squareValue, in:meanOfTensor)\n",
    "assertEquals(autoMean, meanValue, \"Expected auto mean to be equal to my mean.\")\n",
    "let autoMeanGraident = autoMeanChain(TensorFloat(1))\n",
    "assertEquals(autoMeanGraident, ddxMean.broadcasted(to: autoMeanGraident.shape), \"Expected auto mean gradient to be equal to mine\")"
   ]
  },
  {
   "cell_type": "code",
   "execution_count": 33,
   "metadata": {},
   "outputs": [],
   "source": [
    "//export\n",
    "@differentiable\n",
    "public func squaredMeanOfTensor(inputTensor: TensorFloat) -> TensorFloat {\n",
    "    return meanOfTensor(inputTensor: squaredTensor(inputTensor: inputTensor))\n",
    "}"
   ]
  },
  {
   "cell_type": "code",
   "execution_count": 38,
   "metadata": {},
   "outputs": [],
   "source": [
    "let (autoSquaredMean, autoSquaredMeanChain) = valueWithPullback(at: error, in: squaredMeanOfTensor)\n",
    "assertEquals(meanValue, autoSquaredMean, \"Expected my mean to be equal to auto mean\")\n",
    "let ddxAutoMean = autoSquaredMeanChain(TensorFloat(1))\n",
    "assertEquals(ddxAutoMean, ddxMean.broadcasted(to: ddxAutoMean.shape), \"Expected auto mean to equal my mean\")"
   ]
  },
  {
   "cell_type": "code",
   "execution_count": 52,
   "metadata": {},
   "outputs": [],
   "source": [
    "public func meanSquaredErrorOfTensor(yHat: TensorFloat, y: TensorFloat) -> TensorFloat{\n",
    "    return squaredMeanOfTensor(inputTensor: yHat - y)\n",
    "}\n",
    "\n",
    "@differentiating(meanSquaredErrorOfTensor)\n",
    "public func meanSquaredErrorOfTensorGradient(yHat: TensorFloat, y: TensorFloat) -> (value: TensorFloat, \n",
    "                                                                                    pullback: (TensorFloat) -> (TensorFloat, TensorFloat)) {\n",
    "    let error = yHat - y\n",
    "    let (mse, ddxMSE) = valueWithPullback(at: error, in: squaredMeanOfTensor)\n",
    "    return (value: mse, pullback: { ddx in \n",
    "                                     let mseGrad = ddxMSE(ddx)\n",
    "                                     return (mseGrad, mseGrad)\n",
    "                                  } )\n",
    "}"
   ]
  },
  {
   "cell_type": "code",
   "execution_count": 53,
   "metadata": {},
   "outputs": [],
   "source": [
    "let (autoMSE, autoMSEChain) = valueWithPullback(at: activations, yValidationPoints, in: meanSquaredErrorOfTensor)\n",
    "assertEquals(autoMSE, meanValue, \"Expected auto mse to be equal to my MSE\")\n",
    "let (ddxMSE, _) = autoMSEChain(TensorFloat(1))\n",
    "assertEquals(ddxMSE, ddxMean.broadcasted(to: ddxMSE.shape), \"Expected auto mse gradent to be equal to mine\")"
   ]
  },
  {
   "cell_type": "code",
   "execution_count": 65,
   "metadata": {},
   "outputs": [],
   "source": [
    "//export\n",
    "public func leakyReLU(inputTensor: TensorFloat,\n",
    "                                           negativeSlope: Float) -> TensorFloat {\n",
    "    return max(0, inputTensor) + negativeSlope * min(0, inputTensor)\n",
    "}\n",
    "\n",
    "@differentiating(leakyReLU)\n",
    "public func leakyReLUGradient(inputTensor: TensorFloat, \n",
    "                              negativeSlope: Float = 0.0) -> (value: TensorFloat, \n",
    "                                                               pullback: (TensorFloat) -> \n",
    "                                                                       (TensorFloat, Float)) {\n",
    "    let leakyActivations = leakyReLU(inputTensor: inputTensor, negativeSlope: negativeSlope)\n",
    "    return (value: leakyActivations, \n",
    "            pullback: { (ddx: TensorFloat) in (ddx.unbroadcasted(to: inputTensor.shape), negativeSlope)})\n",
    "}"
   ]
  },
  {
   "cell_type": "code",
   "execution_count": 66,
   "metadata": {},
   "outputs": [],
   "source": [
    "var weightParameter = TensorFloat([5, 3]).expandingShape(at: 1)\n",
    "let learningRate: Float = 5e-2\n",
    "var biasParameter = TensorFloat(zeros: [1])"
   ]
  },
  {
   "cell_type": "code",
   "execution_count": 69,
   "metadata": {},
   "outputs": [
    {
     "data": {
      "image/png": "[encoded data removed]",
      "text/plain": [
       "<Figure size 432x288 with 1 Axes>"
      ]
     },
     "metadata": {
      "needs_background": "light"
     },
     "output_type": "display_data"
    }
   ],
   "source": [
    "showYHat(yHat: denseLayerCombination(inputTensor: A, \n",
    "                                     weightParameter: weightParameter, \n",
    "                                     biasParameter: biasParameter))"
   ]
  },
  {
   "cell_type": "code",
   "execution_count": 78,
   "metadata": {},
   "outputs": [
    {
     "name": "stdout",
     "output_type": "stream",
     "text": [
      "average: 1.5709762733333335 ms,   min: 1.483593 ms,   max: 1.728663 ms\r\n"
     ]
    }
   ],
   "source": [
    "timeTrials(trials: 300) { \n",
    "    let (activations, activationChain) = valueWithPullback(at: A, \n",
    "                                                            weightParameter,\n",
    "                                                            biasParameter, \n",
    "                                                           in: denseLayerCombination)\n",
    "    let (ddxActivations, _) =  pullback(at: activations, \n",
    "                                      yValidationPoints, \n",
    "                                  in: meanSquaredErrorOfTensor)(TensorFloat(1))\n",
    "    let (__, ddxWeightParam, ddxBiasParam) = activationChain(ddxActivations)\n",
    "    weightParameter -= learningRate * ddxWeightParam\n",
    "    biasParameter -= learningRate * ddxBiasParam\n",
    "}"
   ]
  },
  {
   "cell_type": "code",
   "execution_count": 79,
   "metadata": {},
   "outputs": [
    {
     "data": {
      "image/png": "[encoded data removed]",
      "text/plain": [
       "<Figure size 432x288 with 1 Axes>"
      ]
     },
     "metadata": {
      "needs_background": "light"
     },
     "output_type": "display_data"
    }
   ],
   "source": [
    "showYHat(yHat: denseLayerCombination(inputTensor: A, \n",
    "                                     weightParameter: weightParameter, \n",
    "                                     biasParameter: biasParameter))"
   ]
  },
  {
   "cell_type": "code",
   "execution_count": 96,
   "metadata": {},
   "outputs": [],
   "source": [
    "var weightParameter = TensorFloat([5, 3]).expandingShape(at: 1)\n",
    "let learningRate: Float = 5e-2\n",
    "var biasParameter = TensorFloat(zeros: [1])\n",
    "let tfDenseLayer = Dense(weight: weightParameter, bias: biasParameter, activation: {a in a})"
   ]
  },
  {
   "cell_type": "code",
   "execution_count": 97,
   "metadata": {},
   "outputs": [
    {
     "data": {
      "image/png": "[encoded data removed]",
      "text/plain": [
       "<Figure size 432x288 with 1 Axes>"
      ]
     },
     "metadata": {
      "needs_background": "light"
     },
     "output_type": "display_data"
    }
   ],
   "source": [
    "showYHat(yHat: tfDenseLayer(A))"
   ]
  },
  {
   "cell_type": "code",
   "execution_count": 100,
   "metadata": {},
   "outputs": [
    {
     "ename": "",
     "evalue": "",
     "output_type": "error",
     "traceback": [
      "error: <Cell 100>:2:84: error: cannot convert value of type 'Dense<Float>' to expected argument type '@differentiable (Dense<Float>, _) -> _'\n    let (activations, activationChain) = tfDenseLayer.valueWithPullback(at: A, in: tfDenseLayer)\n                                                                                   ^~~~~~~~~~~~\n\n"
     ]
    }
   ],
   "source": [
    "timeTrials(trials: 300) { \n",
    "    let (activations, activationChain) = tfDenseLayer.valueWithPullback(at: A, in: tfDenseLayer)\n",
    "    let (mse, gradientSupplier) = meanSquaredErrorAndGradient(yHat: activations, y: yValidationPoints)\n",
    "    print(type(of: gradientSupplier))\n",
    "//     let (__, ddxWeightParam, ddxBiasParam) = activationChain(gradientSupplier())\n",
    "    \n",
    "//     tfDenseLayer.weight -= learningRate * ddxWeightParam\n",
    "//     tfDenseLayer.bias -= learningRate * ddxBiasParam\n",
    "}"
   ]
  },
  {
   "cell_type": "code",
   "execution_count": null,
   "metadata": {},
   "outputs": [],
   "source": [
    "showYHat(yHat: tfDenseLayer(A))"
   ]
  },
  {
   "cell_type": "code",
   "execution_count": null,
   "metadata": {},
   "outputs": [],
   "source": []
  }
 ],
 "metadata": {
  "colab": {
   "collapsed_sections": [],
   "name": "blank_swift.ipynb",
   "provenance": [],
   "version": "0.3.2"
  },
  "kernelspec": {
   "display_name": "Swift",
   "language": "swift",
   "name": "swift"
  },
  "language_info": {
   "file_extension": ".swift",
   "mimetype": "text/x-swift",
   "name": "swift",
   "version": ""
  }
 },
 "nbformat": 4,
 "nbformat_minor": 1
}
