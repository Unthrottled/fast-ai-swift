{
 "cells": [
  {
   "cell_type": "code",
   "execution_count": 1,
   "metadata": {
    "colab": {},
    "colab_type": "code",
    "id": "kZRlD4utdPuX"
   },
   "outputs": [
    {
     "name": "stdout",
     "output_type": "stream",
     "text": [
      "Installing packages:\n",
      "\t.package(path: \"/home/ubuntu/workspace/fast-ai-swift/SchwiftyNotebook_matrix_multiplication\")\n",
      "\t\tSchwiftyNotebook_matrix_multiplication\n",
      "With SwiftPM flags: []\n",
      "Working in: /tmp/tmpn6v0l09h/swift-install\n",
      "warning: /home/ubuntu/swift/usr/bin/swiftc: /home/ubuntu/anaconda3/envs/swift-env/lib/libuuid.so.1: no version information available (required by /home/ubuntu/swift/usr/bin/swiftc)\n",
      "/home/ubuntu/swift/usr/bin/swift: /home/ubuntu/anaconda3/envs/swift-env/lib/libuuid.so.1: no version information available (required by /home/ubuntu/swift/usr/bin/swift)\n",
      "warning: /home/ubuntu/swift/usr/bin/swiftc: /home/ubuntu/anaconda3/envs/swift-env/lib/libuuid.so.1: no version information available (required by /home/ubuntu/swift/usr/bin/swiftc)\n",
      "/home/ubuntu/swift/usr/bin/swift: /home/ubuntu/anaconda3/envs/swift-env/lib/libuuid.so.1: no version information available (required by /home/ubuntu/swift/usr/bin/swift)\n",
      "warning: /home/ubuntu/swift/usr/bin/swiftc: /home/ubuntu/anaconda3/envs/swift-env/lib/libuuid.so.1: no version information available (required by /home/ubuntu/swift/usr/bin/swiftc)\n",
      "/home/ubuntu/swift/usr/bin/swift: /home/ubuntu/anaconda3/envs/swift-env/lib/libuuid.so.1: no version information available (required by /home/ubuntu/swift/usr/bin/swift)\n",
      "warning: /home/ubuntu/swift/usr/bin/swiftc: /home/ubuntu/anaconda3/envs/swift-env/lib/libuuid.so.1: no version information available (required by /home/ubuntu/swift/usr/bin/swiftc)\n",
      "/home/ubuntu/swift/usr/bin/swift: /home/ubuntu/anaconda3/envs/swift-env/lib/libuuid.so.1: no version information available (required by /home/ubuntu/swift/usr/bin/swift)\n",
      "warning: /home/ubuntu/swift/usr/bin/swiftc: /home/ubuntu/anaconda3/envs/swift-env/lib/libuuid.so.1: no version information available (required by /home/ubuntu/swift/usr/bin/swiftc)\n",
      "/home/ubuntu/swift/usr/bin/swift: /home/ubuntu/anaconda3/envs/swift-env/lib/libuuid.so.1: no version information available (required by /home/ubuntu/swift/usr/bin/swift)\n",
      "warning: /home/ubuntu/swift/usr/bin/swiftc: /home/ubuntu/anaconda3/envs/swift-env/lib/libuuid.so.1: no version information available (required by /home/ubuntu/swift/usr/bin/swiftc)\n",
      "/home/ubuntu/swift/usr/bin/swift: /home/ubuntu/anaconda3/envs/swift-env/lib/libuuid.so.1: no version information available (required by /home/ubuntu/swift/usr/bin/swift)\n",
      "/home/ubuntu/swift/usr/bin/swiftc: /home/ubuntu/anaconda3/envs/swift-env/lib/libuuid.so.1: no version information available (required by /home/ubuntu/swift/usr/bin/swiftc)\n",
      "/home/ubuntu/swift/usr/bin/swiftc: /home/ubuntu/anaconda3/envs/swift-env/lib/libuuid.so.1: no version information available (required by /home/ubuntu/swift/usr/bin/swiftc)[1/2] Compiling jupyterInstalledPackages jupyterInstalledPackages.swift\n",
      "/home/ubuntu/swift/usr/bin/swift: /home/ubuntu/anaconda3/envs/swift-env/lib/libuuid.so.1: no version information available (required by /home/ubuntu/swift/usr/bin/swift)\n",
      "[2/3] Merging module jupyterInstalledPackages\n",
      "/home/ubuntu/swift/usr/bin/swift: /home/ubuntu/anaconda3/envs/swift-env/lib/libuuid.so.1: no version information available (required by /home/ubuntu/swift/usr/bin/swift)\n",
      "Initializing Swift...\n",
      "Installation complete!\n"
     ]
    }
   ],
   "source": [
    "%install-location $cwd/swift-install\n",
    "%install '.package(path: \"$cwd/SchwiftyNotebook_matrix_multiplication\")' SchwiftyNotebook_matrix_multiplication"
   ]
  },
  {
   "cell_type": "code",
   "execution_count": 2,
   "metadata": {},
   "outputs": [],
   "source": [
    "//export\n",
    "import Path\n",
    "import TensorFlow\n",
    "import SchwiftyNotebook_matrix_multiplication"
   ]
  },
  {
   "cell_type": "code",
   "execution_count": 3,
   "metadata": {},
   "outputs": [],
   "source": [
    "let thingo = Tensor([-2, -1, 0, 1, 2])"
   ]
  },
  {
   "cell_type": "code",
   "execution_count": 4,
   "metadata": {},
   "outputs": [
    {
     "name": "stdout",
     "output_type": "stream",
     "text": [
      "average: 0.2309215 ms,   min: 0.175269 ms,   max: 0.286574 ms\r\n"
     ]
    }
   ],
   "source": [
    "time(repeating: 2){ relu(thingo) }"
   ]
  },
  {
   "cell_type": "code",
   "execution_count": 5,
   "metadata": {},
   "outputs": [],
   "source": [
    "//export\n",
    "public func reLU<T>(tensor: Tensor<T>) -> Tensor<T> where T : FloatingPoint, T: TensorFlowScalar {\n",
    "    return max(tensor, 0)\n",
    "}"
   ]
  },
  {
   "cell_type": "code",
   "execution_count": 6,
   "metadata": {},
   "outputs": [],
   "source": [
    "//export\n",
    "public func linearCombination<T>(inputs: Tensor<T>, weights: Tensor<T>, bias: Tensor<T>) -> Tensor<T> where T: FloatingPoint, T: TensorFlowScalar {\n",
    "    return matmul(inputs, weights) + bias\n",
    "}"
   ]
  },
  {
   "cell_type": "markdown",
   "metadata": {},
   "source": [
    "# Normalization"
   ]
  },
  {
   "cell_type": "code",
   "execution_count": 7,
   "metadata": {},
   "outputs": [],
   "source": [
    "let (xTrainingData, yTrainingData, xValidationData, yValidationData) = loadMNISTData(path: mnistPath)"
   ]
  },
  {
   "cell_type": "code",
   "execution_count": 8,
   "metadata": {},
   "outputs": [],
   "source": [
    "let xTrainingDataNormalized = normalizeTensor(tensor: xTrainingData)\n",
    "                                        .reshaped(to: [xTrainingData.shape[0], 784])\n",
    "let xValidationDataNormalized = normalizeTensor(tensor: xValidationData)\n",
    "                                        .reshaped(to: [xValidationData.shape[0], 784])"
   ]
  },
  {
   "cell_type": "code",
   "execution_count": 9,
   "metadata": {},
   "outputs": [],
   "source": [
    "// export\n",
    "public typealias TensorFloat=Tensor<Float>\n",
    "public func assertNearZero(_ tensor: TensorFloat, _ threshold: Float = 1e-3){\n",
    "    assert(tensor < threshold, \"Expected \\(tensor) to be less than \\(threshold)\")\n",
    "}"
   ]
  },
  {
   "cell_type": "code",
   "execution_count": 10,
   "metadata": {},
   "outputs": [],
   "source": [
    "assertNearZero(xTrainingDataNormalized.mean())\n",
    "assertNearZero(xValidationDataNormalized.mean())\n",
    "assertNearZero(1 - xTrainingDataNormalized.standardDeviation())\n",
    "assertNearZero(1 - xValidationDataNormalized.standardDeviation())"
   ]
  },
  {
   "cell_type": "code",
   "execution_count": 11,
   "metadata": {},
   "outputs": [
    {
     "name": "stdout",
     "output_type": "stream",
     "text": [
      "60000 784 10\r\n"
     ]
    }
   ],
   "source": [
    "let (numberOfImages, numberOfPixels) = (xTrainingDataNormalized.shape[0], xTrainingDataNormalized.shape[1])\n",
    "let numberOfClasses = 10\n",
    "let layerOutput = 50\n",
    "print(numberOfImages, numberOfPixels, numberOfClasses)"
   ]
  },
  {
   "cell_type": "markdown",
   "metadata": {},
   "source": [
    "# Initialization"
   ]
  },
  {
   "cell_type": "markdown",
   "metadata": {},
   "source": [
    "## From Hand"
   ]
  },
  {
   "cell_type": "code",
   "execution_count": 12,
   "metadata": {},
   "outputs": [],
   "source": [
    "let parameterLayerOne = TensorFloat(randomNormal: [numberOfPixels, layerOutput]) / sqrt(Float(numberOfPixels))\n",
    "let parameterLayerTwo = TensorFloat(randomNormal: [layerOutput, 1]) / sqrt(Float(layerOutput))"
   ]
  },
  {
   "cell_type": "code",
   "execution_count": 13,
   "metadata": {},
   "outputs": [],
   "source": [
    "assertNearZero(parameterLayerOne.mean())\n",
    "assertNearZero(parameterLayerOne.standardDeviation() - 1 / sqrt(Float(numberOfPixels)))"
   ]
  },
  {
   "cell_type": "code",
   "execution_count": 14,
   "metadata": {},
   "outputs": [],
   "source": [
    "let biasLayerOne = TensorFloat(zeros: [layerOutput])\n",
    "let biasLayerTwo = TensorFloat(zeros: [1])"
   ]
  },
  {
   "cell_type": "code",
   "execution_count": 15,
   "metadata": {},
   "outputs": [],
   "source": [
    "assertNearZero(biasLayerOne.mean())\n",
    "assertNearZero(biasLayerOne.standardDeviation() - 1 / sqrt(Float(numberOfImages)))"
   ]
  },
  {
   "cell_type": "code",
   "execution_count": 16,
   "metadata": {},
   "outputs": [
    {
     "name": "stdout",
     "output_type": "stream",
     "text": [
      "[10000, 784] [784, 50] [50]\r\n"
     ]
    }
   ],
   "source": [
    "print(xValidationDataNormalized.shape, parameterLayerOne.shape, biasLayerOne.shape)"
   ]
  },
  {
   "cell_type": "markdown",
   "metadata": {},
   "source": [
    "### Side Adventure: Timing"
   ]
  },
  {
   "cell_type": "code",
   "execution_count": 17,
   "metadata": {},
   "outputs": [],
   "source": [
    "//export\n",
    "import Dispatch\n",
    "\n",
    "func getTimeUnit(_ nanoSeconds: Double) -> String {\n",
    "    let powerOfTen = floor(log10(nanoSeconds))\n",
    "    switch powerOfTen {\n",
    "        case 1..<3:\n",
    "            return \"\\(nanoSeconds) ns\"\n",
    "        case 3..<6:\n",
    "            return \"\\(nanoSeconds/1e3) µs\"\n",
    "        case 6..<9: \n",
    "            return \"\\(nanoSeconds/1e6) ms\"\n",
    "        default: \n",
    "            return \"\\(nanoSeconds/1e9) s\"\n",
    "    }\n",
    "}\n",
    "\n",
    "// ⏰Time how long it takes to run the specified function, optionally taking\n",
    "// the average across a number of repetitions.\n",
    "public func withTime<T>(_ f: () -> T) -> T {\n",
    "    let start = DispatchTime.now()\n",
    "    let value = f()\n",
    "    let end = DispatchTime.now()\n",
    "    let nanoSeconds = Double(end.uptimeNanoseconds - start.uptimeNanoseconds)\n",
    "    print(\"elapsed time: \\(getTimeUnit(nanoSeconds))\")\n",
    "    return value\n",
    "}"
   ]
  },
  {
   "cell_type": "code",
   "execution_count": 18,
   "metadata": {},
   "outputs": [
    {
     "name": "stdout",
     "output_type": "stream",
     "text": [
      "yeet\r\n",
      "elapsed time: 33.034 µs\r\n"
     ]
    }
   ],
   "source": [
    "withTime{\n",
    "    print(\"yeet\")\n",
    "}"
   ]
  },
  {
   "cell_type": "code",
   "execution_count": 19,
   "metadata": {},
   "outputs": [
    {
     "name": "stdout",
     "output_type": "stream",
     "text": [
      "average: 0.0557584 ms,   min: 0.051998 ms,   max: 0.077631 ms\r\n"
     ]
    }
   ],
   "source": [
    "let linearWomboCombo = time(repeating: 10) {\n",
    "    withDevice(.gpu){\n",
    "        linearCombination(inputs: xValidationDataNormalized, \n",
    "                                         weights: parameterLayerOne, \n",
    "                                         bias: biasLayerOne)\n",
    "    }\n",
    "}"
   ]
  },
  {
   "cell_type": "code",
   "execution_count": 20,
   "metadata": {},
   "outputs": [
    {
     "name": "stdout",
     "output_type": "stream",
     "text": [
      "average: 16.6687776 ms,   min: 13.010301 ms,   max: 31.511705 ms\r\n"
     ]
    }
   ],
   "source": [
    "let cpuLinearWomboCombo = time(repeating: 10) {\n",
    "    withDevice(.cpu){\n",
    "        linearCombination(inputs: xValidationDataNormalized, \n",
    "                                         weights: parameterLayerOne, \n",
    "                                         bias: biasLayerOne)\n",
    "    }\n",
    "}"
   ]
  },
  {
   "cell_type": "code",
   "execution_count": 21,
   "metadata": {},
   "outputs": [
    {
     "name": "stdout",
     "output_type": "stream",
     "text": [
      "average: 0.0464918 ms,   min: 0.044205 ms,   max: 0.055001 ms\r\n"
     ]
    }
   ],
   "source": [
    "let defaultLinearWomboCombo = time(repeating: 10) {\n",
    "    linearCombination(inputs: xValidationDataNormalized, \n",
    "                                     weights: parameterLayerOne, \n",
    "                                     bias: biasLayerOne)\n",
    "}"
   ]
  },
  {
   "cell_type": "code",
   "execution_count": 22,
   "metadata": {},
   "outputs": [
    {
     "name": "stdout",
     "output_type": "stream",
     "text": [
      "elapsed time: 171.581 µs\r\n"
     ]
    }
   ],
   "source": [
    "let thing = withTime { linearCombination(inputs: xValidationDataNormalized, \n",
    "                                         weights: parameterLayerOne, \n",
    "                                         bias: biasLayerOne) }"
   ]
  },
  {
   "cell_type": "markdown",
   "metadata": {},
   "source": [
    "---"
   ]
  },
  {
   "cell_type": "code",
   "execution_count": 23,
   "metadata": {},
   "outputs": [
    {
     "name": "stdout",
     "output_type": "stream",
     "text": [
      "elapsed time: 174.985 µs\r\n"
     ]
    }
   ],
   "source": [
    "let linearWomboCombo = withTime { linearCombination(inputs: xValidationDataNormalized, \n",
    "                                         weights: parameterLayerOne, \n",
    "                                         bias: biasLayerOne) }"
   ]
  },
  {
   "cell_type": "code",
   "execution_count": 24,
   "metadata": {},
   "outputs": [
    {
     "data": {
      "text/plain": [
       "▿ 2 elements\n",
       "  - .0 : -0.016522393\n",
       "  - .1 : 0.99615026\n"
      ]
     },
     "execution_count": 24,
     "metadata": {},
     "output_type": "execute_result"
    }
   ],
   "source": [
    "(linearWomboCombo.mean(), linearWomboCombo.standardDeviation())"
   ]
  },
  {
   "cell_type": "code",
   "execution_count": 25,
   "metadata": {},
   "outputs": [
    {
     "data": {
      "text/plain": [
       "('inline', 'module://ipykernel.pylab.backend_inline')\n"
      ]
     },
     "execution_count": 25,
     "metadata": {},
     "output_type": "execute_result"
    }
   ],
   "source": [
    "import Python\n",
    "%include \"EnableIPythonDisplay.swift\"\n",
    "IPythonDisplay.shell.enable_matplotlib(\"inline\")"
   ]
  },
  {
   "cell_type": "code",
   "execution_count": 26,
   "metadata": {},
   "outputs": [],
   "source": [
    "public let plotter = Python.import(\"matplotlib.pyplot\")"
   ]
  },
  {
   "cell_type": "code",
   "execution_count": 27,
   "metadata": {},
   "outputs": [
    {
     "data": {
      "text/plain": [
       "▿ [10000, 50]\n",
       "  ▿ dimensions : 2 elements\n",
       "    - 0 : 10000\n",
       "    - 1 : 50\n"
      ]
     },
     "execution_count": 27,
     "metadata": {},
     "output_type": "execute_result"
    }
   ],
   "source": [
    "linearWomboCombo.shape"
   ]
  },
  {
   "cell_type": "code",
   "execution_count": 28,
   "metadata": {},
   "outputs": [
    {
     "name": "stdout",
     "output_type": "stream",
     "text": [
      "elapsed time: 353.992924 ms\r\n"
     ]
    }
   ],
   "source": [
    "let activations = withTime { reLU(tensor: linearWomboCombo) }"
   ]
  },
  {
   "cell_type": "code",
   "execution_count": 29,
   "metadata": {},
   "outputs": [
    {
     "name": "stdout",
     "output_type": "stream",
     "text": [
      "0.3865898 0.57958156\r\n"
     ]
    }
   ],
   "source": [
    "print(activations.mean(), activations.standardDeviation()) //relu zeros out all of the stuff below zero (so only ~half remain)"
   ]
  },
  {
   "cell_type": "markdown",
   "metadata": {},
   "source": [
    "### Kaiming Initialization"
   ]
  },
  {
   "cell_type": "code",
   "execution_count": 30,
   "metadata": {},
   "outputs": [],
   "source": [
    "let kaimingInitParamOne = TensorFloat(randomNormal: [numberOfPixels, layerOutput]) * (2.0/sqrt(Float(numberOfPixels)))"
   ]
  },
  {
   "cell_type": "code",
   "execution_count": 31,
   "metadata": {},
   "outputs": [
    {
     "data": {
      "text/plain": [
       "▿ 2 elements\n",
       "  - .0 : -0.00043776532\n",
       "  - .1 : 0.07149513\n"
      ]
     },
     "execution_count": 31,
     "metadata": {},
     "output_type": "execute_result"
    }
   ],
   "source": [
    "(kaimingInitParamOne.mean(), kaimingInitParamOne.standardDeviation())"
   ]
  },
  {
   "cell_type": "code",
   "execution_count": 32,
   "metadata": {},
   "outputs": [
    {
     "name": "stdout",
     "output_type": "stream",
     "text": [
      "elapsed time: 205.522 µs\r\n"
     ]
    }
   ],
   "source": [
    "let kaimingWomboCombo = withTime{ linearCombination(inputs: xValidationDataNormalized, \n",
    "                                          weights: kaimingInitParamOne, \n",
    "                                          bias: biasLayerOne ) }"
   ]
  },
  {
   "cell_type": "code",
   "execution_count": 33,
   "metadata": {},
   "outputs": [
    {
     "data": {
      "text/plain": [
       "▿ 2 elements\n",
       "  - .0 : -0.26568612\n",
       "  - .1 : 1.9591593\n"
      ]
     },
     "execution_count": 33,
     "metadata": {},
     "output_type": "execute_result"
    }
   ],
   "source": [
    "(kaimingWomboCombo.mean(), kaimingWomboCombo.standardDeviation())"
   ]
  },
  {
   "cell_type": "code",
   "execution_count": 34,
   "metadata": {},
   "outputs": [],
   "source": [
    "let kaimingActivations = reLU(tensor: kaimingWomboCombo)"
   ]
  },
  {
   "cell_type": "code",
   "execution_count": 35,
   "metadata": {},
   "outputs": [
    {
     "data": {
      "text/plain": [
       "▿ 2 elements\n",
       "  - .0 : 0.6503207\n",
       "  - .1 : 1.0455549\n"
      ]
     },
     "execution_count": 35,
     "metadata": {},
     "output_type": "execute_result"
    }
   ],
   "source": [
    "(kaimingActivations.mean(), kaimingActivations.standardDeviation())"
   ]
  },
  {
   "cell_type": "markdown",
   "metadata": {},
   "source": [
    "### Basic Model"
   ]
  },
  {
   "cell_type": "code",
   "execution_count": 36,
   "metadata": {},
   "outputs": [],
   "source": [
    "let kaimingParamOne = TensorFloat(randomNormal: [numberOfPixels, layerOutput]) * (2.0/sqrt(Float(numberOfPixels)))\n",
    "let kaimingParamTwo = TensorFloat(randomNormal: [layerOutput, 1]) * (2.0/sqrt(Float(layerOutput)))\n",
    "let biasLayerOne = TensorFloat(zeros: [layerOutput])\n",
    "let biasLayerTwo = TensorFloat(zeros: [1])"
   ]
  },
  {
   "cell_type": "code",
   "execution_count": 37,
   "metadata": {},
   "outputs": [],
   "source": [
    "func basicBitch(_ inputTensor: TensorFloat) -> TensorFloat {\n",
    "    let firstParams = withTime { linearCombination(inputs: inputTensor, \n",
    "                                                          weights: kaimingParamOne, \n",
    "                                                          bias: biasLayerOne) }\n",
    "    let firstActivations = withTime { reLU(tensor: firstParams)}\n",
    "    return withTime{ linearCombination(inputs: firstActivations, \n",
    "                             weights: kaimingParamTwo, \n",
    "                             bias: biasLayerTwo) }\n",
    "}"
   ]
  },
  {
   "cell_type": "code",
   "execution_count": 38,
   "metadata": {},
   "outputs": [
    {
     "name": "stdout",
     "output_type": "stream",
     "text": [
      "elapsed time: 198.402 µs\n",
      "elapsed time: 353.806392 ms\n",
      "elapsed time: 153.554 µs\n"
     ]
    }
   ],
   "source": [
    "let prediction = basicBitch(xValidationDataNormalized)"
   ]
  },
  {
   "cell_type": "markdown",
   "metadata": {},
   "source": [
    "🤔 Why is reLU so sloooow???\n",
    "\n",
    "Turns out its just slow the first time..."
   ]
  },
  {
   "cell_type": "code",
   "execution_count": 39,
   "metadata": {},
   "outputs": [
    {
     "name": "stdout",
     "output_type": "stream",
     "text": [
      "elapsed time: 354.019586 ms\r\n",
      "elapsed time: 233.955 µs\r\n",
      "elapsed time: 144.737 µs\r\n",
      "elapsed time: 122.231 µs\r\n",
      "elapsed time: 113.141 µs\r\n",
      "elapsed time: 112.822 µs\r\n",
      "elapsed time: 112.04 µs\r\n",
      "elapsed time: 122.88 µs\r\n",
      "elapsed time: 110.666 µs\r\n",
      "elapsed time: 111.393 µs\r\n"
     ]
    }
   ],
   "source": [
    "for i in 1...10 {\n",
    " withTime { relu(kaimingWomboCombo)}   \n",
    "}"
   ]
  },
  {
   "cell_type": "markdown",
   "metadata": {},
   "source": [
    "### Calculating Loss"
   ]
  },
  {
   "cell_type": "code",
   "execution_count": 42,
   "metadata": {},
   "outputs": [
    {
     "data": {
      "text/plain": [
       "▿ 2 elements\n",
       "  ▿ .0 : [10000, 1]\n",
       "    ▿ dimensions : 2 elements\n",
       "      - 0 : 10000\n",
       "      - 1 : 1\n",
       "  ▿ .1 : [10000]\n",
       "    ▿ dimensions : 1 element\n",
       "      - 0 : 10000\n"
      ]
     },
     "execution_count": 42,
     "metadata": {},
     "output_type": "execute_result"
    }
   ],
   "source": [
    "(prediction.shape, yValidationData.shape)"
   ]
  },
  {
   "cell_type": "code",
   "execution_count": 52,
   "metadata": {},
   "outputs": [
    {
     "data": {
      "text/plain": [
       "▿ [10000]\n",
       "  ▿ dimensions : 1 element\n",
       "    - 0 : 10000\n"
      ]
     },
     "execution_count": 52,
     "metadata": {},
     "output_type": "execute_result"
    }
   ],
   "source": [
    "prediction.squeezingShape(at: -1).shape"
   ]
  },
  {
   "cell_type": "code",
   "execution_count": 61,
   "metadata": {},
   "outputs": [
    {
     "data": {
      "text/plain": [
       "42.89958\n"
      ]
     },
     "execution_count": 61,
     "metadata": {},
     "output_type": "execute_result"
    }
   ],
   "source": [
    "(prediction.squeezingShape(at: -1) - TensorFloat(yValidationData)).squared().mean()"
   ]
  },
  {
   "cell_type": "code",
   "execution_count": 65,
   "metadata": {},
   "outputs": [],
   "source": [
    "func _meanSquaredError(_ y: TensorFloat, _ yHat: TensorFloat) -> TensorFloat {\n",
    "    return (y - yHat.squeezingShape(at: [1])).squared().mean()\n",
    "}"
   ]
  },
  {
   "cell_type": "code",
   "execution_count": 71,
   "metadata": {},
   "outputs": [
    {
     "name": "stdout",
     "output_type": "stream",
     "text": [
      "elapsed time: 200.534 µs\n",
      "elapsed time: 353.580599 ms\n",
      "elapsed time: 126.535 µs\n"
     ]
    }
   ],
   "source": [
    "let trainingPredictions = basicBitch(xTrainingDataNormalized)"
   ]
  },
  {
   "cell_type": "code",
   "execution_count": 72,
   "metadata": {},
   "outputs": [
    {
     "data": {
      "text/plain": [
       "▿ 2 elements\n",
       "  ▿ .0 : [60000]\n",
       "    ▿ dimensions : 1 element\n",
       "      - 0 : 60000\n",
       "  ▿ .1 : [60000]\n",
       "    ▿ dimensions : 1 element\n",
       "      - 0 : 60000\n"
      ]
     },
     "execution_count": 72,
     "metadata": {},
     "output_type": "execute_result"
    }
   ],
   "source": [
    "(yTrainingData.shape, trainingPredictions.squeezingShape(at: [1]).shape)"
   ]
  },
  {
   "cell_type": "code",
   "execution_count": 73,
   "metadata": {},
   "outputs": [
    {
     "name": "stdout",
     "output_type": "stream",
     "text": [
      "42.89958\r\n"
     ]
    },
    {
     "data": {
      "text/plain": [
       "42.570126\n"
      ]
     },
     "execution_count": 73,
     "metadata": {},
     "output_type": "execute_result"
    }
   ],
   "source": [
    "print(_meanSquaredError(TensorFloat(yValidationData), prediction))\n",
    "_meanSquaredError(TensorFloat(yTrainingData), trainingPredictions)"
   ]
  },
  {
   "cell_type": "markdown",
   "metadata": {},
   "source": [
    "# Auto Diff"
   ]
  },
  {
   "cell_type": "code",
   "execution_count": 77,
   "metadata": {},
   "outputs": [
    {
     "name": "stdout",
     "output_type": "stream",
     "text": [
      "1.0 0.0\r\n",
      "0.9950041652780258 0.09983341664682815\r\n",
      "0.9800665778412416 0.19866933079506122\r\n",
      "0.955336489125606 0.2955202066613396\r\n",
      "0.9210609940028851 0.3894183423086505\r\n",
      "0.8775825618903728 0.479425538604203\r\n",
      "0.8253356149096782 0.5646424733950355\r\n",
      "0.7648421872844884 0.6442176872376911\r\n",
      "0.6967067093471654 0.7173560908995228\r\n",
      "0.6216099682706644 0.7833269096274834\r\n",
      "0.5403023058681398 0.8414709848078965\r\n"
     ]
    }
   ],
   "source": [
    "for x in stride(from: 0.0, \n",
    "                through: 1, by: 0.1){\n",
    "    print(cos(x), sin(x))\n",
    "}"
   ]
  },
  {
   "cell_type": "markdown",
   "metadata": {},
   "source": [
    "**Note:** `in` is the arrow if the closure"
   ]
  },
  {
   "cell_type": "code",
   "execution_count": 86,
   "metadata": {},
   "outputs": [],
   "source": [
    "let mathyBoiGradientFunction = gradient { (x: Double) in x * 9 }"
   ]
  },
  {
   "cell_type": "code",
   "execution_count": 87,
   "metadata": {},
   "outputs": [
    {
     "data": {
      "text/plain": [
       "9.0\n"
      ]
     },
     "execution_count": 87,
     "metadata": {},
     "output_type": "execute_result"
    }
   ],
   "source": [
    "mathyBoiGradientFunction(69)"
   ]
  },
  {
   "cell_type": "markdown",
   "metadata": {},
   "source": [
    "The derivative of $9x$ with respect to $x$ is just 9"
   ]
  },
  {
   "cell_type": "code",
   "execution_count": 88,
   "metadata": {},
   "outputs": [
    {
     "name": "stdout",
     "output_type": "stream",
     "text": [
      "-0.0 1.0\r\n",
      "-0.09983341664682815 0.9950041652780258\r\n",
      "-0.19866933079506122 0.9800665778412416\r\n",
      "-0.2955202066613396 0.955336489125606\r\n",
      "-0.3894183423086505 0.9210609940028851\r\n",
      "-0.479425538604203 0.8775825618903728\r\n",
      "-0.5646424733950355 0.8253356149096782\r\n",
      "-0.6442176872376911 0.7648421872844884\r\n",
      "-0.7173560908995228 0.6967067093471654\r\n",
      "-0.7833269096274834 0.6216099682706644\r\n",
      "-0.8414709848078965 0.5403023058681398\r\n"
     ]
    }
   ],
   "source": [
    "let sineGraident = gradient { (x: Double) in sin(x)}\n",
    "let cosineGraident = gradient { (x: Double) in cos(x)}\n",
    "\n",
    "for x in stride(from: 0.0, \n",
    "                through: 1, by: 0.1){\n",
    "    print(cosineGraident(x), sineGraident(x))\n",
    "}"
   ]
  },
  {
   "cell_type": "markdown",
   "metadata": {},
   "source": [
    "The derivative of sin is cosine and the derivitive of cosine is -sine. 2cool4Me"
   ]
  },
  {
   "cell_type": "markdown",
   "metadata": {},
   "source": [
    "### Basics Of Mean Squared Error"
   ]
  },
  {
   "cell_type": "code",
   "execution_count": 89,
   "metadata": {},
   "outputs": [],
   "source": [
    "func tracer(functionName: String = #function) { //I'm already tracer\n",
    "    print(functionName)\n",
    "}"
   ]
  },
  {
   "cell_type": "code",
   "execution_count": 91,
   "metadata": {},
   "outputs": [
    {
     "name": "stdout",
     "output_type": "stream",
     "text": [
      "__lldb_expr_713\r\n"
     ]
    }
   ],
   "source": [
    "let closureDude = {\n",
    "    tracer()\n",
    "}\n",
    "\n",
    "closureDude()"
   ]
  },
  {
   "cell_type": "code",
   "execution_count": 93,
   "metadata": {},
   "outputs": [
    {
     "name": "stdout",
     "output_type": "stream",
     "text": [
      "imAlreadyTracer()\r\n",
      "maybe I'll be tracer\r\n"
     ]
    }
   ],
   "source": [
    "func imAlreadyTracer() {\n",
    "    tracer()\n",
    "    print(\"maybe I'll be tracer\")\n",
    "}\n",
    "\n",
    "imAlreadyTracer()"
   ]
  },
  {
   "cell_type": "code",
   "execution_count": 107,
   "metadata": {},
   "outputs": [
    {
     "data": {
      "text/plain": [
       "▿ [2, 3]\n",
       "  ▿ dimensions : 2 elements\n",
       "    - 0 : 2\n",
       "    - 1 : 3\n"
      ]
     },
     "execution_count": 107,
     "metadata": {},
     "output_type": "execute_result"
    }
   ],
   "source": [
    "let a = TensorFloat([[1, 2, 3],[4,5,6]])\n",
    "a.shape"
   ]
  },
  {
   "cell_type": "code",
   "execution_count": 128,
   "metadata": {},
   "outputs": [
    {
     "data": {
      "text/plain": [
       "21.0\n"
      ]
     },
     "execution_count": 128,
     "metadata": {},
     "output_type": "execute_result"
    }
   ],
   "source": [
    "a.sum(squeezingAxes: [0, 1])"
   ]
  },
  {
   "cell_type": "code",
   "execution_count": 130,
   "metadata": {},
   "outputs": [],
   "source": [
    "func squareTensor(_ x: TensorFloat) -> TensorFloat {\n",
    "    tracer()\n",
    "    return x * x\n",
    "}\n",
    "\n",
    "func 𝛁squareTensor(_ x: TensorFloat) -> TensorFloat {\n",
    "    return 2 * x\n",
    "}\n",
    "\n",
    "func meanOfTens(_ x: TensorFloat) -> TensorFloat {\n",
    "    return x.sum(squeezingAxes: [0, 1]) / Float(x.shape[0])\n",
    "}\n",
    "\n",
    "// The derivative of the mean with respect to x is just 1/n because the mean is just sum(weights)/n\n",
    "// cus the deriviative of x/2 with respect to x is just 1/2\n",
    "func 𝛁meanOfTens(_ x: TensorFloat) -> TensorFloat {\n",
    "    return TensorFloat(ones: [1]) / Float(x.shape[0])\n",
    "}\n"
   ]
  },
  {
   "cell_type": "code",
   "execution_count": 131,
   "metadata": {},
   "outputs": [
    {
     "data": {
      "text/plain": [
       "▿ 2 elements\n",
       "  - .0 : -0.60979706\n",
       "  - .1 : -0.60979706\n"
      ]
     },
     "execution_count": 131,
     "metadata": {},
     "output_type": "execute_result"
    }
   ],
   "source": [
    "(prediction.mean(), meanOfTens(prediction))"
   ]
  },
  {
   "cell_type": "code",
   "execution_count": null,
   "metadata": {},
   "outputs": [],
   "source": []
  }
 ],
 "metadata": {
  "colab": {
   "collapsed_sections": [],
   "name": "blank_swift.ipynb",
   "provenance": [],
   "version": "0.3.2"
  },
  "kernelspec": {
   "display_name": "Swift",
   "language": "swift",
   "name": "swift"
  },
  "language_info": {
   "file_extension": ".swift",
   "mimetype": "text/x-swift",
   "name": "swift",
   "version": ""
  }
 },
 "nbformat": 4,
 "nbformat_minor": 1
}
