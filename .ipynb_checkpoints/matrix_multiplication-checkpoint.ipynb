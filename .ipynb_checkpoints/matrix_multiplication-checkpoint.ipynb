{
 "cells": [
  {
   "cell_type": "code",
   "execution_count": 9,
   "metadata": {
    "colab": {},
    "colab_type": "code",
    "id": "kZRlD4utdPuX"
   },
   "outputs": [
    {
     "ename": "",
     "evalue": "",
     "output_type": "error",
     "traceback": [
      "Install Error: Packages can only be installed during the first cell execution. Restart the kernel to install packages."
     ]
    }
   ],
   "source": [
    "%install-location $cwd/swift-install\n",
    "%install '.package(path: \"$cwd/SchwiftyNotebook_initial_setup\")' SchwiftyNotebook_initial_setup"
   ]
  },
  {
   "cell_type": "code",
   "execution_count": 12,
   "metadata": {},
   "outputs": [],
   "source": [
    "import SchwiftyNotebook_initial_setup"
   ]
  },
  {
   "cell_type": "code",
   "execution_count": 13,
   "metadata": {},
   "outputs": [
    {
     "name": "stdout",
     "output_type": "stream",
     "text": [
      "yeet yeet yeet, fam ravioli\r\n"
     ]
    }
   ],
   "source": [
    "famRavioli()"
   ]
  },
  {
   "cell_type": "code",
   "execution_count": 14,
   "metadata": {},
   "outputs": [],
   "source": [
    "let 😎 = \"Bauss\""
   ]
  },
  {
   "cell_type": "code",
   "execution_count": 15,
   "metadata": {},
   "outputs": [
    {
     "name": "stdout",
     "output_type": "stream",
     "text": [
      "Bauss\r\n"
     ]
    }
   ],
   "source": [
    "print(😎)"
   ]
  },
  {
   "cell_type": "code",
   "execution_count": 16,
   "metadata": {},
   "outputs": [],
   "source": [
    "let thing = (\"wheel\", \"thingo\")"
   ]
  },
  {
   "cell_type": "code",
   "execution_count": 17,
   "metadata": {},
   "outputs": [
    {
     "data": {
      "text/plain": [
       "▿ 2 elements\n",
       "  - .0 : \"wheel\"\n",
       "  - .1 : \"thingo\"\n"
      ]
     },
     "execution_count": 17,
     "metadata": {},
     "output_type": "execute_result"
    }
   ],
   "source": [
    "let (a,b) = thing\n",
    "(a,b)"
   ]
  },
  {
   "cell_type": "code",
   "execution_count": 18,
   "metadata": {},
   "outputs": [],
   "source": [
    "import Python\n",
    "import TensorFlow\n"
   ]
  },
  {
   "cell_type": "code",
   "execution_count": 19,
   "metadata": {},
   "outputs": [],
   "source": [
    "//export\n",
    "import Path\n",
    "import TensorFlow"
   ]
  },
  {
   "cell_type": "code",
   "execution_count": 20,
   "metadata": {},
   "outputs": [],
   "source": [
    "let (xTrainingData, yTrainingData, xValidationData, yValidationData) = loadMNISTData(path: mnistPath)"
   ]
  },
  {
   "cell_type": "code",
   "execution_count": 21,
   "metadata": {},
   "outputs": [
    {
     "data": {
      "text/plain": [
       "▿ 2 elements\n",
       "  - .0 : 0.3081074\n",
       "  - .1 : 0.13066047\n"
      ]
     },
     "execution_count": 21,
     "metadata": {},
     "output_type": "execute_result"
    }
   ],
   "source": [
    "(xTrainingData.standardDeviation(), xTrainingData.mean())"
   ]
  },
  {
   "cell_type": "code",
   "execution_count": 22,
   "metadata": {},
   "outputs": [],
   "source": [
    "//export\n",
    "func normalizeTensor<T:TensorFlowFloatingPoint>(tensor: Tensor<T>)-> Tensor<T>{\n",
    "    return (tensor - tensor.mean())/tensor.standardDeviation()\n",
    "}"
   ]
  },
  {
   "cell_type": "code",
   "execution_count": 23,
   "metadata": {},
   "outputs": [],
   "source": [
    "let xTrainingDataNormalized = normalizeTensor(tensor: xTrainingData)"
   ]
  },
  {
   "cell_type": "code",
   "execution_count": 24,
   "metadata": {},
   "outputs": [
    {
     "data": {
      "text/plain": [
       "▿ 2 elements\n",
       "  - .0 : 0.9999983\n",
       "  - .1 : -7.315915e-08\n"
      ]
     },
     "execution_count": 24,
     "metadata": {},
     "output_type": "execute_result"
    }
   ],
   "source": [
    "(xTrainingDataNormalized.standardDeviation(), xTrainingDataNormalized.mean())"
   ]
  },
  {
   "cell_type": "code",
   "execution_count": 25,
   "metadata": {},
   "outputs": [
    {
     "data": {
      "text/plain": [
       "('inline', 'module://ipykernel.pylab.backend_inline')\n"
      ]
     },
     "execution_count": 25,
     "metadata": {},
     "output_type": "execute_result"
    }
   ],
   "source": [
    "%include \"EnableIPythonDisplay.swift\"\n",
    "IPythonDisplay.shell.enable_matplotlib(\"inline\")"
   ]
  },
  {
   "cell_type": "code",
   "execution_count": 26,
   "metadata": {},
   "outputs": [],
   "source": [
    "let digit = xTrainingDataNormalized[69]"
   ]
  },
  {
   "cell_type": "code",
   "execution_count": 27,
   "metadata": {},
   "outputs": [],
   "source": [
    "public let plotter = Python.import(\"matplotlib.pyplot\")"
   ]
  },
  {
   "cell_type": "code",
   "execution_count": 28,
   "metadata": {},
   "outputs": [
    {
     "data": {
      "image/png": "[encoded data removed]",
      "text/plain": [
       "<Figure size 360x360 with 1 Axes>"
      ]
     },
     "metadata": {
      "needs_background": "light"
     },
     "output_type": "display_data"
    },
    {
     "data": {
      "text/plain": [
       "None\n"
      ]
     },
     "execution_count": 28,
     "metadata": {},
     "output_type": "execute_result"
    }
   ],
   "source": [
    "plotter.figure(figsize: [5,5])\n",
    "plotter.show(plotter.imshow(X: digit.makeNumpyArray().reshape(28,28)))"
   ]
  },
  {
   "cell_type": "code",
   "execution_count": 29,
   "metadata": {},
   "outputs": [],
   "source": [
    "//export\n",
    "extension Bool {\n",
    "    var symbol: String {\n",
    "        return self ? \"😈\" : \"👿\"\n",
    "    }\n",
    "}"
   ]
  },
  {
   "cell_type": "code",
   "execution_count": 30,
   "metadata": {},
   "outputs": [
    {
     "name": "stdout",
     "output_type": "stream",
     "text": [
      "😈\r\n"
     ]
    }
   ],
   "source": [
    "print(true.symbol)"
   ]
  },
  {
   "cell_type": "code",
   "execution_count": 31,
   "metadata": {},
   "outputs": [
    {
     "data": {
      "text/plain": [
       "55\n"
      ]
     },
     "execution_count": 31,
     "metadata": {},
     "output_type": "execute_result"
    }
   ],
   "source": [
    "Array(1...10).reduce(0, +)"
   ]
  },
  {
   "cell_type": "markdown",
   "metadata": {},
   "source": [
    "# Enter Linear Algebra"
   ]
  },
  {
   "cell_type": "code",
   "execution_count": 32,
   "metadata": {},
   "outputs": [],
   "source": [
    "let ranbo = Tensor<Float>(randomNormal: [10, 784], seed: (69,420))"
   ]
  },
  {
   "cell_type": "code",
   "execution_count": 33,
   "metadata": {},
   "outputs": [],
   "source": [
    "let ranboVector = Tensor<Float>(randomNormal: [5, 784], seed: (69, 420))"
   ]
  },
  {
   "cell_type": "code",
   "execution_count": 34,
   "metadata": {},
   "outputs": [
    {
     "data": {
      "text/plain": [
       "▿ [10, 784]\n",
       "  ▿ dimensions : 2 elements\n",
       "    - 0 : 10\n",
       "    - 1 : 784\n"
      ]
     },
     "execution_count": 34,
     "metadata": {},
     "output_type": "execute_result"
    }
   ],
   "source": [
    "ranbo.shape"
   ]
  },
  {
   "cell_type": "code",
   "execution_count": 35,
   "metadata": {},
   "outputs": [
    {
     "data": {
      "text/plain": [
       "▿ 2 elements\n",
       "  - .0 : 0.0054245885\n",
       "  - .1 : 0.9981854\n"
      ]
     },
     "execution_count": 35,
     "metadata": {},
     "output_type": "execute_result"
    }
   ],
   "source": [
    "(ranbo.mean(), ranbo.standardDeviation())"
   ]
  },
  {
   "cell_type": "code",
   "execution_count": 36,
   "metadata": {},
   "outputs": [],
   "source": [
    "let rando = ranbo / sqrt(Float(ranbo.shape[1]))"
   ]
  },
  {
   "cell_type": "code",
   "execution_count": 37,
   "metadata": {},
   "outputs": [
    {
     "data": {
      "text/plain": [
       "▿ 2 elements\n",
       "  - .0 : 0.00019373519\n",
       "  - .1 : 0.035649475\n"
      ]
     },
     "execution_count": 37,
     "metadata": {},
     "output_type": "execute_result"
    }
   ],
   "source": [
    "(rando.mean(), rando.standardDeviation())"
   ]
  },
  {
   "cell_type": "code",
   "execution_count": 38,
   "metadata": {},
   "outputs": [],
   "source": [
    "func shittyWomboCombo(a: [Float], \n",
    "                      b: [Float], \n",
    "                      aDims: (Int,Int), \n",
    "                      bDims: (Int,Int)) -> [Float] {\n",
    "    assert(aDims.1 == bDims.0, \"matmul shape mismatch\")\n",
    "    \n",
    "    var womboCombo = Array(repeating: Float(0.0), \n",
    "                           count: aDims.0 * bDims.1)\n",
    "    for 😂 in 0..<aDims.0 { // a rows\n",
    "        for 🧐 in 0..<bDims.1 { // b columns\n",
    "            for 🤩 in 0..<bDims.0 { // b rows\n",
    "               womboCombo[😂 * bDims.1 + 🧐] += a[😂 * bDims.1 + 🤩] * b[🤩 * bDims.1 + 🧐]\n",
    "            }\n",
    "        }\n",
    "        \n",
    "    }\n",
    "    return womboCombo\n",
    "}"
   ]
  },
  {
   "cell_type": "code",
   "execution_count": 39,
   "metadata": {},
   "outputs": [],
   "source": [
    "let ranboVectorTransposed = ranboVector.transposed()"
   ]
  },
  {
   "cell_type": "code",
   "execution_count": 40,
   "metadata": {},
   "outputs": [],
   "source": [
    "let 💩WomboCombo = shittyWomboCombo(a: rando.scalars, \n",
    "                                b: ranboVector.scalars, \n",
    "                                aDims: (rando.shape[0], rando.shape[1]), \n",
    "                                bDims: (ranboVectorTransposed.shape[0], ranboVectorTransposed.shape[1]))"
   ]
  },
  {
   "cell_type": "code",
   "execution_count": 41,
   "metadata": {},
   "outputs": [
    {
     "data": {
      "text/plain": [
       "50\n"
      ]
     },
     "execution_count": 41,
     "metadata": {},
     "output_type": "execute_result"
    }
   ],
   "source": [
    "💩WomboCombo.capacity"
   ]
  },
  {
   "cell_type": "code",
   "execution_count": 42,
   "metadata": {},
   "outputs": [
    {
     "name": "stdout",
     "output_type": "stream",
     "text": [
      "average: 0.15009494 ms,   min: 0.14879 ms,   max: 0.183045 ms\r\n"
     ]
    }
   ],
   "source": [
    "time(repeating: 100 ) {\n",
    "    shittyWomboCombo(a: rando.scalars, \n",
    "                                b: ranboVector.scalars, \n",
    "                                aDims: (rando.shape[0], rando.shape[1]), \n",
    "                                bDims: (ranboVectorTransposed.shape[0], ranboVectorTransposed.shape[1]))\n",
    "}"
   ]
  },
  {
   "cell_type": "code",
   "execution_count": 43,
   "metadata": {},
   "outputs": [],
   "source": [
    "func dangerWomboCombo(a: [Float], \n",
    "                      b: [Float], \n",
    "                      aDims: (Int,Int), \n",
    "                      bDims: (Int,Int)) -> [Float] {\n",
    "    assert(aDims.1 == bDims.0, \"matmul shape mismatch\")\n",
    "    \n",
    "    var womboCombo = Array(repeating: Float(0.0), \n",
    "                           count: aDims.0 * bDims.1)\n",
    "    womboCombo.withUnsafeMutableBufferPointer{ womboCombo in\n",
    "         for 😂 in 0..<aDims.0 { // a rows\n",
    "            for 🧐 in 0..<bDims.1 { // b columns\n",
    "                for 🤩 in 0..<bDims.0 { // b rows\n",
    "                   womboCombo[😂 * bDims.1 + 🧐] += a[😂 * bDims.1 + 🤩] * b[🤩 * bDims.1 + 🧐]\n",
    "                }\n",
    "            }\n",
    "\n",
    "        }   \n",
    "    }\n",
    "    return womboCombo\n",
    "}"
   ]
  },
  {
   "cell_type": "code",
   "execution_count": 44,
   "metadata": {},
   "outputs": [
    {
     "name": "stdout",
     "output_type": "stream",
     "text": [
      "average: 0.09343729999999999 ms,   min: 0.091825 ms,   max: 0.136322 ms\r\n"
     ]
    }
   ],
   "source": [
    "time(repeating: 100 ) {\n",
    "    dangerWomboCombo(a: rando.scalars, \n",
    "                                b: ranboVector.scalars, \n",
    "                                aDims: (rando.shape[0], rando.shape[1]), \n",
    "                                bDims: (ranboVectorTransposed.shape[0], ranboVectorTransposed.shape[1]))\n",
    "}"
   ]
  },
  {
   "cell_type": "code",
   "execution_count": 45,
   "metadata": {},
   "outputs": [],
   "source": [
    "let dangerCombo = dangerWomboCombo(a: rando.scalars, \n",
    "                                b: ranboVector.scalars, \n",
    "                                aDims: (rando.shape[0], rando.shape[1]), \n",
    "                                bDims: (ranboVectorTransposed.shape[0], ranboVectorTransposed.shape[1]))"
   ]
  },
  {
   "cell_type": "code",
   "execution_count": 46,
   "metadata": {},
   "outputs": [],
   "source": [
    "let dangerComboReshaped = Tensor(dangerCombo)\n",
    "                .reshaped(to: [rando.shape[0], ranboVectorTransposed.shape[1]])"
   ]
  },
  {
   "cell_type": "code",
   "execution_count": 47,
   "metadata": {},
   "outputs": [
    {
     "data": {
      "text/plain": [
       "▿ [10, 5]\n",
       "  ▿ dimensions : 2 elements\n",
       "    - 0 : 10\n",
       "    - 1 : 5\n"
      ]
     },
     "execution_count": 47,
     "metadata": {},
     "output_type": "execute_result"
    }
   ],
   "source": [
    "dangerComboReshaped.shape"
   ]
  },
  {
   "cell_type": "code",
   "execution_count": 49,
   "metadata": {},
   "outputs": [
    {
     "name": "stdout",
     "output_type": "stream",
     "text": [
      "☠️☠️ Uninitialized garbage = 224\r\n"
     ]
    }
   ],
   "source": [
    "let ptr : UnsafeMutableRawPointer = malloc(42)\n",
    "\n",
    "print(\"☠️☠️ Uninitialized garbage =\", ptr.load(as: UInt8.self))\n",
    "\n",
    "free(ptr)"
   ]
  },
  {
   "cell_type": "code",
   "execution_count": 50,
   "metadata": {},
   "outputs": [],
   "source": [
    "let tensorOne = Tensor<Float>(randomNormal: [5, 784])\n",
    "let tensorTwo = Tensor<Float>(randomNormal: [784, 10])"
   ]
  },
  {
   "cell_type": "code",
   "execution_count": 52,
   "metadata": {},
   "outputs": [
    {
     "name": "stdout",
     "output_type": "stream",
     "text": [
      "tensorOne Shape [5, 784]\r\n",
      "tensorTwo Shape [784, 10]\r\n"
     ]
    }
   ],
   "source": [
    "print(\"tensorOne Shape \\(tensorOne.shape)\")\n",
    "print(\"tensorTwo Shape \\(tensorTwo.shape)\")"
   ]
  },
  {
   "cell_type": "code",
   "execution_count": 53,
   "metadata": {},
   "outputs": [
    {
     "name": "stdout",
     "output_type": "stream",
     "text": [
      "[2, 2]\r\n"
     ]
    }
   ],
   "source": [
    "let smolBoi = Tensor<Float>([[1,2],[3,4]])\n",
    "print(smolBoi.shape)"
   ]
  },
  {
   "cell_type": "code",
   "execution_count": 85,
   "metadata": {},
   "outputs": [],
   "source": [
    "let smolBoiWomboCombo = smolBoi • smolBoi"
   ]
  },
  {
   "cell_type": "code",
   "execution_count": 58,
   "metadata": {},
   "outputs": [
    {
     "name": "stdout",
     "output_type": "stream",
     "text": [
      "average: 0.0101148 ms,   min: 0.009213 ms,   max: 0.014546 ms\r\n"
     ]
    }
   ],
   "source": [
    "time(repeating: 10 ) { matmul(smolBoi, smolBoi) }"
   ]
  },
  {
   "cell_type": "code",
   "execution_count": 59,
   "metadata": {},
   "outputs": [
    {
     "name": "stdout",
     "output_type": "stream",
     "text": [
      "average: 0.015324599999999999 ms,   min: 0.015058 ms,   max: 0.016168 ms\r\n"
     ]
    }
   ],
   "source": [
    "time(repeating: 10 ) { dangerWomboCombo(a: smolBoi.scalars, \n",
    "                 b: smolBoi.scalars, \n",
    "                 aDims: (smolBoi.shape[0], smolBoi.shape[1]), \n",
    "                 bDims: (smolBoi.shape[0], smolBoi.shape[1]))\n",
    "                     }"
   ]
  },
  {
   "cell_type": "code",
   "execution_count": 56,
   "metadata": {},
   "outputs": [],
   "source": [
    "let dangerSmolBoi = dangerWomboCombo(a: smolBoi.scalars, \n",
    "                 b: smolBoi.scalars, \n",
    "                 aDims: (smolBoi.shape[0], smolBoi.shape[1]), \n",
    "                 bDims: (smolBoi.shape[0], smolBoi.shape[1]))"
   ]
  },
  {
   "cell_type": "code",
   "execution_count": 78,
   "metadata": {},
   "outputs": [
    {
     "data": {
      "text/plain": [
       "[[ 7.0, 10.0],\n",
       " [15.0, 22.0]]\n"
      ]
     },
     "execution_count": 78,
     "metadata": {},
     "output_type": "execute_result"
    }
   ],
   "source": [
    "let tensorDangerSmolBoi = Tensor(dangerSmolBoi).reshaped(to: [2,2])\n",
    "tensorDangerSmolBoi"
   ]
  },
  {
   "cell_type": "code",
   "execution_count": 70,
   "metadata": {},
   "outputs": [],
   "source": [
    "//export\n",
    "struct AssertionError: Error {\n",
    "    let message: String\n",
    "    init(_ message: String){\n",
    "        self.message = message\n",
    "    }\n",
    "}"
   ]
  },
  {
   "cell_type": "code",
   "execution_count": 74,
   "metadata": {},
   "outputs": [],
   "source": [
    "//export\n",
    "func assert(toAssert: Bool, message: String = \"Not True!\") throws {\n",
    "    if(!toAssert){\n",
    "        throw AssertionError(message)\n",
    "    }\n",
    "}"
   ]
  },
  {
   "cell_type": "code",
   "execution_count": 75,
   "metadata": {},
   "outputs": [
    {
     "data": {
      "text/plain": [
       "▿ AssertionError\n",
       "  - message : \"Yeet\"\n"
      ]
     },
     "execution_count": 75,
     "metadata": {},
     "output_type": "execute_result"
    }
   ],
   "source": [
    "throw AssertionError(\"Yeet\")"
   ]
  },
  {
   "cell_type": "code",
   "execution_count": 82,
   "metadata": {},
   "outputs": [],
   "source": [
    "assert((smolBoiWomboCombo - tensorDangerSmolBoi).sum() < 0.001, \"Matrix Multiplication not working\")"
   ]
  },
  {
   "cell_type": "code",
   "execution_count": 86,
   "metadata": {},
   "outputs": [
    {
     "data": {
      "text/plain": [
       "▿ 2 elements\n",
       "  - .0 : [10.0,  6.0, -4.0]\n",
       "  - .1 : [2.0, 8.0, 7.0]\n"
      ]
     },
     "execution_count": 86,
     "metadata": {},
     "output_type": "execute_result"
    }
   ],
   "source": [
    "let a = Tensor([10.0, 6, -4])\n",
    "let b = Tensor([2.0, 8, 7])\n",
    "(a,b)"
   ]
  },
  {
   "cell_type": "code",
   "execution_count": 87,
   "metadata": {},
   "outputs": [
    {
     "data": {
      "text/plain": [
       "[12.0, 14.0,  3.0]\n"
      ]
     },
     "execution_count": 87,
     "metadata": {},
     "output_type": "execute_result"
    }
   ],
   "source": [
    "a + b"
   ]
  },
  {
   "cell_type": "code",
   "execution_count": 89,
   "metadata": {},
   "outputs": [
    {
     "data": {
      "text/plain": [
       "false\n"
      ]
     },
     "execution_count": 89,
     "metadata": {},
     "output_type": "execute_result"
    }
   ],
   "source": [
    "a < b"
   ]
  },
  {
   "cell_type": "code",
   "execution_count": 90,
   "metadata": {},
   "outputs": [
    {
     "data": {
      "text/plain": [
       "[false,  true,  true]\n"
      ]
     },
     "execution_count": 90,
     "metadata": {},
     "output_type": "execute_result"
    }
   ],
   "source": [
    "a .< b"
   ]
  },
  {
   "cell_type": "code",
   "execution_count": 91,
   "metadata": {},
   "outputs": [
    {
     "data": {
      "text/plain": [
       "false\n"
      ]
     },
     "execution_count": 91,
     "metadata": {},
     "output_type": "execute_result"
    }
   ],
   "source": [
    "a > b"
   ]
  },
  {
   "cell_type": "code",
   "execution_count": 92,
   "metadata": {},
   "outputs": [
    {
     "data": {
      "text/plain": [
       "true\n"
      ]
     },
     "execution_count": 92,
     "metadata": {},
     "output_type": "execute_result"
    }
   ],
   "source": [
    "(a .> b).any()"
   ]
  },
  {
   "cell_type": "code",
   "execution_count": 94,
   "metadata": {},
   "outputs": [],
   "source": [
    "let aUnsqueezed = a.expandingShape(at: 1)"
   ]
  },
  {
   "cell_type": "code",
   "execution_count": 95,
   "metadata": {},
   "outputs": [
    {
     "data": {
      "text/plain": [
       "▿ [3, 1]\n",
       "  ▿ dimensions : 2 elements\n",
       "    - 0 : 3\n",
       "    - 1 : 1\n"
      ]
     },
     "execution_count": 95,
     "metadata": {},
     "output_type": "execute_result"
    }
   ],
   "source": [
    "aUnsqueezed.shape"
   ]
  },
  {
   "cell_type": "code",
   "execution_count": 96,
   "metadata": {},
   "outputs": [],
   "source": [
    "let ranboVector = Tensor<Float>(randomNormal: [784], seed: (69, 420))"
   ]
  },
  {
   "cell_type": "code",
   "execution_count": 102,
   "metadata": {},
   "outputs": [
    {
     "data": {
      "text/plain": [
       "▿ 2 elements\n",
       "  ▿ .0 : [784]\n",
       "    ▿ dimensions : 1 element\n",
       "      - 0 : 784\n",
       "  ▿ .1 : [10, 784]\n",
       "    ▿ dimensions : 2 elements\n",
       "      - 0 : 10\n",
       "      - 1 : 784\n"
      ]
     },
     "execution_count": 102,
     "metadata": {},
     "output_type": "execute_result"
    }
   ],
   "source": [
    "(ranboVector.shape, ranbo.shape)"
   ]
  },
  {
   "cell_type": "code",
   "execution_count": 100,
   "metadata": {},
   "outputs": [
    {
     "data": {
      "text/plain": [
       "[[  817.2468],\n",
       " [-56.730915],\n",
       " [ 31.500309],\n",
       " [-15.890228],\n",
       " [ 2.3912425],\n",
       " [  7.719559],\n",
       " [ 34.176323],\n",
       " [-37.383972],\n",
       " [ 19.708015],\n",
       " [-40.754112]]\n"
      ]
     },
     "execution_count": 100,
     "metadata": {},
     "output_type": "execute_result"
    }
   ],
   "source": [
    "ranbo • ranboVector.expandingShape(at: 1)"
   ]
  },
  {
   "cell_type": "code",
   "execution_count": 107,
   "metadata": {},
   "outputs": [
    {
     "data": {
      "text/plain": [
       "▿ [784]\n",
       "  ▿ dimensions : 1 element\n",
       "    - 0 : 784\n"
      ]
     },
     "execution_count": 107,
     "metadata": {},
     "output_type": "execute_result"
    }
   ],
   "source": [
    "ranbo[0].shape"
   ]
  },
  {
   "cell_type": "code",
   "execution_count": 108,
   "metadata": {},
   "outputs": [],
   "source": [
    "func tensorWomboCombo(a: Tensor<Float>, b: Tensor<Float>) -> Tensor<Float>{\n",
    "    let (aRows, aColumns) = (a.shape[0], a.shape[1])\n",
    "    let (bRows, bColumns) = (b.shape[0], b.shape[1])\n",
    "    assert(aColumns == bRows, \"Cannot multiply a \\(a.shape) with \\(b.shape)\")\n",
    "    var result = Tensor<Float>(zeros: [aRows, bColumns])\n",
    "    \n",
    "    for i in 0..<aRows{\n",
    "        result[i] = (b • a[i]).transposed()\n",
    "    }\n",
    "    \n",
    "    return result\n",
    "    \n",
    "}"
   ]
  },
  {
   "cell_type": "code",
   "execution_count": 109,
   "metadata": {},
   "outputs": [
    {
     "name": "stdout",
     "output_type": "stream",
     "text": [
      "Fatal error: In[1] is not a matrix. Instead it has shape [2]: file /swift-base/tensorflow-swift-apis/Sources/TensorFlow/Bindings/EagerExecution.swift, line 299\r\n",
      "Current stack trace:\r\n",
      "0    libswiftCore.so                    0x00007f9e78bdd8b0 swift_reportError + 50\r\n",
      "1    libswiftCore.so                    0x00007f9e78c4caa0 _swift_stdlib_reportFatalErrorInFile + 115\r\n",
      "2    libswiftCore.so                    0x00007f9e78b74ace <unavailable> + 3738318\r\n",
      "3    libswiftCore.so                    0x00007f9e78b74c47 <unavailable> + 3738695\r\n",
      "4    libswiftCore.so                    0x00007f9e78942c4d <unavailable> + 1436749\r\n",
      "5    libswiftCore.so                    0x00007f9e78b49a78 <unavailable> + 3562104\r\n",
      "6    libswiftCore.so                    0x00007f9e789420a9 <unavailable> + 1433769\r\n",
      "7    libswiftTensorFlow.so              0x00007f9e74da58e0 <unavailable> + 2672864\r\n",
      "8    libswiftTensorFlow.so              0x00007f9e74c0aa60 checkOk(_:file:line:) + 461\r\n",
      "9    libswiftTensorFlow.so              0x00007f9e74c11b90 TFE_Op.evaluateUnsafe() + 506\r\n",
      "10   libswiftTensorFlow.so              0x00007f9e74c12400 TFE_Op.execute<A>(_:) + 132\r\n",
      "11   libswiftTensorFlow.so              0x00007f9e74c1b094 <unavailable> + 1056916\r\n"
     ]
    },
    {
     "ename": "",
     "evalue": "",
     "output_type": "error",
     "traceback": [
      "Current stack trace:",
      "\tframe #10: 0x00007f9dc0358420 $__lldb_expr824`tensorWomboCombo(a=\nexpression produced error: error: Execution was interrupted, reason: signal SIGSEGV: invalid address (fault address: 0x5).\nThe process has been returned to the state before expression evaluation., b=\nexpression produced error: error: Execution was interrupted, reason: signal SIGSEGV: address access protected (fault address: 0x5a0eb10).\nThe process has been returned to the state before expression evaluation.) at <Cell 108>:8",
      "\tframe #11: 0x00007f9dc0353062 $__lldb_expr830`main at <Cell 109>:1:1"
     ]
    }
   ],
   "source": [
    "assert((smolBoiWomboCombo - tensorWomboCombo(a: smolBoi, b: smolBoi)).sum() < 0.001, \"Matrix Multiplication not working\")"
   ]
  },
  {
   "cell_type": "code",
   "execution_count": null,
   "metadata": {},
   "outputs": [],
   "source": []
  }
 ],
 "metadata": {
  "colab": {
   "collapsed_sections": [],
   "name": "blank_swift.ipynb",
   "provenance": [],
   "version": "0.3.2"
  },
  "kernelspec": {
   "display_name": "Swift",
   "language": "swift",
   "name": "swift"
  },
  "language_info": {
   "file_extension": ".swift",
   "mimetype": "text/x-swift",
   "name": "swift",
   "version": ""
  }
 },
 "nbformat": 4,
 "nbformat_minor": 1
}
