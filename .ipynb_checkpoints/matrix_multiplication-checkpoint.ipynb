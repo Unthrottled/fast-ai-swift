{
 "cells": [
  {
   "cell_type": "code",
   "execution_count": 1,
   "metadata": {
    "colab": {},
    "colab_type": "code",
    "id": "kZRlD4utdPuX"
   },
   "outputs": [
    {
     "name": "stdout",
     "output_type": "stream",
     "text": [
      "Installing packages:\n",
      "\t.package(path: \"/home/ubuntu/workspace/fast-ai-swift/SchwiftyNotebook_initial_setup\")\n",
      "\t\tSchwiftyNotebook_initial_setup\n",
      "With SwiftPM flags: []\n",
      "Working in: /tmp/tmp26v011kk/swift-install\n",
      "Updating https://github.com/mxcl/Path.swift\n",
      "Updating https://github.com/saeta/Just\n",
      "Updating https://github.com/latenitesoft/NotebookExport\n",
      "Completed resolution in 0.69s\n",
      "[1/2] Compiling SchwiftyNotebook_initial_setup initial_setup.swift\n",
      "[2/3] Merging module SchwiftyNotebook_initial_setup\n",
      "[3/4] Compiling jupyterInstalledPackages jupyterInstalledPackages.swift\n",
      "[4/5] Merging module jupyterInstalledPackages\n",
      "[5/5] Linking libjupyterInstalledPackages.so\n",
      "Initializing Swift...\n",
      "Installation complete!\n"
     ]
    }
   ],
   "source": [
    "%install-location $cwd/swift-install\n",
    "%install '.package(path: \"$cwd/SchwiftyNotebook_initial_setup\")' SchwiftyNotebook_initial_setup"
   ]
  },
  {
   "cell_type": "code",
   "execution_count": 2,
   "metadata": {},
   "outputs": [],
   "source": [
    "import SchwiftyNotebook_initial_setup"
   ]
  },
  {
   "cell_type": "code",
   "execution_count": 3,
   "metadata": {},
   "outputs": [
    {
     "name": "stdout",
     "output_type": "stream",
     "text": [
      "yeet yeet yeet, fam ravioli\r\n"
     ]
    }
   ],
   "source": [
    "famRavioli()"
   ]
  },
  {
   "cell_type": "code",
   "execution_count": 4,
   "metadata": {},
   "outputs": [],
   "source": [
    "let 😎 = \"Bauss\""
   ]
  },
  {
   "cell_type": "code",
   "execution_count": 5,
   "metadata": {},
   "outputs": [
    {
     "name": "stdout",
     "output_type": "stream",
     "text": [
      "Bauss\r\n"
     ]
    }
   ],
   "source": [
    "print(😎)"
   ]
  },
  {
   "cell_type": "code",
   "execution_count": 6,
   "metadata": {},
   "outputs": [],
   "source": [
    "let thing = (\"wheel\", \"thingo\")"
   ]
  },
  {
   "cell_type": "code",
   "execution_count": 7,
   "metadata": {},
   "outputs": [
    {
     "data": {
      "text/plain": [
       "▿ 2 elements\n",
       "  - .0 : \"wheel\"\n",
       "  - .1 : \"thingo\"\n"
      ]
     },
     "execution_count": 7,
     "metadata": {},
     "output_type": "execute_result"
    }
   ],
   "source": [
    "let (a,b) = thing\n",
    "(a,b)"
   ]
  },
  {
   "cell_type": "code",
   "execution_count": 8,
   "metadata": {},
   "outputs": [],
   "source": [
    "import Python\n",
    "import TensorFlow\n"
   ]
  },
  {
   "cell_type": "code",
   "execution_count": 9,
   "metadata": {},
   "outputs": [],
   "source": [
    "//export\n",
    "import Path\n",
    "import TensorFlow"
   ]
  },
  {
   "cell_type": "code",
   "execution_count": 10,
   "metadata": {},
   "outputs": [],
   "source": [
    "let (xTrainingData, yTrainingData, xValidationData, yValidationData) = loadMNISTData(path: mnistPath)"
   ]
  },
  {
   "cell_type": "code",
   "execution_count": 11,
   "metadata": {},
   "outputs": [
    {
     "data": {
      "text/plain": [
       "▿ 2 elements\n",
       "  - .0 : 0.30810785\n",
       "  - .1 : 0.13066049\n"
      ]
     },
     "execution_count": 11,
     "metadata": {},
     "output_type": "execute_result"
    }
   ],
   "source": [
    "(xTrainingData.standardDeviation(), xTrainingData.mean())"
   ]
  },
  {
   "cell_type": "code",
   "execution_count": 12,
   "metadata": {},
   "outputs": [],
   "source": [
    "//export\n",
    "public func normalizeTensor<T:TensorFlowFloatingPoint>(tensor: Tensor<T>)-> Tensor<T>{\n",
    "    return (tensor - tensor.mean())/tensor.standardDeviation()\n",
    "}"
   ]
  },
  {
   "cell_type": "code",
   "execution_count": 13,
   "metadata": {},
   "outputs": [],
   "source": [
    "let xTrainingDataNormalized = normalizeTensor(tensor: xTrainingData)"
   ]
  },
  {
   "cell_type": "code",
   "execution_count": 14,
   "metadata": {},
   "outputs": [
    {
     "data": {
      "text/plain": [
       "▿ 2 elements\n",
       "  - .0 : 1.0000004\n",
       "  - .1 : -2.3666693e-08\n"
      ]
     },
     "execution_count": 14,
     "metadata": {},
     "output_type": "execute_result"
    }
   ],
   "source": [
    "(xTrainingDataNormalized.standardDeviation(), xTrainingDataNormalized.mean())"
   ]
  },
  {
   "cell_type": "code",
   "execution_count": 16,
   "metadata": {},
   "outputs": [
    {
     "name": "stdout",
     "output_type": "stream",
     "text": [
      "Matplotlib is building the font cache using fc-list. This may take a moment.\r\n"
     ]
    },
    {
     "data": {
      "text/plain": [
       "('inline', 'module://ipykernel.pylab.backend_inline')\n"
      ]
     },
     "execution_count": 16,
     "metadata": {},
     "output_type": "execute_result"
    }
   ],
   "source": [
    "%include \"EnableIPythonDisplay.swift\"\n",
    "IPythonDisplay.shell.enable_matplotlib(\"inline\")"
   ]
  },
  {
   "cell_type": "code",
   "execution_count": 17,
   "metadata": {},
   "outputs": [],
   "source": [
    "let digit = xTrainingDataNormalized[69]"
   ]
  },
  {
   "cell_type": "code",
   "execution_count": 18,
   "metadata": {},
   "outputs": [],
   "source": [
    "public let plotter = Python.import(\"matplotlib.pyplot\")"
   ]
  },
  {
   "cell_type": "code",
   "execution_count": 19,
   "metadata": {},
   "outputs": [
    {
     "data": {
      "image/png": "[encoded data removed]",
      "text/plain": [
       "<Figure size 360x360 with 1 Axes>"
      ]
     },
     "metadata": {
      "needs_background": "light"
     },
     "output_type": "display_data"
    },
    {
     "data": {
      "text/plain": [
       "None\n"
      ]
     },
     "execution_count": 19,
     "metadata": {},
     "output_type": "execute_result"
    }
   ],
   "source": [
    "plotter.figure(figsize: [5,5])\n",
    "plotter.show(plotter.imshow(X: digit.makeNumpyArray().reshape(28,28)))"
   ]
  },
  {
   "cell_type": "code",
   "execution_count": 20,
   "metadata": {},
   "outputs": [],
   "source": [
    "//export\n",
    "extension Bool {\n",
    "    var symbol: String {\n",
    "        return self ? \"😈\" : \"👿\"\n",
    "    }\n",
    "}"
   ]
  },
  {
   "cell_type": "code",
   "execution_count": 21,
   "metadata": {},
   "outputs": [
    {
     "name": "stdout",
     "output_type": "stream",
     "text": [
      "😈\r\n"
     ]
    }
   ],
   "source": [
    "print(true.symbol)"
   ]
  },
  {
   "cell_type": "code",
   "execution_count": 22,
   "metadata": {},
   "outputs": [
    {
     "data": {
      "text/plain": [
       "55\n"
      ]
     },
     "execution_count": 22,
     "metadata": {},
     "output_type": "execute_result"
    }
   ],
   "source": [
    "Array(1...10).reduce(0, +)"
   ]
  },
  {
   "cell_type": "markdown",
   "metadata": {},
   "source": [
    "# Enter Linear Algebra"
   ]
  },
  {
   "cell_type": "code",
   "execution_count": 23,
   "metadata": {},
   "outputs": [],
   "source": [
    "let ranbo = Tensor<Float>(randomNormal: [10, 784], seed: (69,420))"
   ]
  },
  {
   "cell_type": "code",
   "execution_count": 24,
   "metadata": {},
   "outputs": [],
   "source": [
    "let ranboVector = Tensor<Float>(randomNormal: [5, 784], seed: (69, 420))"
   ]
  },
  {
   "cell_type": "code",
   "execution_count": 25,
   "metadata": {},
   "outputs": [
    {
     "data": {
      "text/plain": [
       "▿ [10, 784]\n",
       "  ▿ dimensions : 2 elements\n",
       "    - 0 : 10\n",
       "    - 1 : 784\n"
      ]
     },
     "execution_count": 25,
     "metadata": {},
     "output_type": "execute_result"
    }
   ],
   "source": [
    "ranbo.shape"
   ]
  },
  {
   "cell_type": "code",
   "execution_count": 26,
   "metadata": {},
   "outputs": [
    {
     "data": {
      "text/plain": [
       "▿ 2 elements\n",
       "  - .0 : 0.0054245875\n",
       "  - .1 : 0.9981854\n"
      ]
     },
     "execution_count": 26,
     "metadata": {},
     "output_type": "execute_result"
    }
   ],
   "source": [
    "(ranbo.mean(), ranbo.standardDeviation())"
   ]
  },
  {
   "cell_type": "code",
   "execution_count": 27,
   "metadata": {},
   "outputs": [],
   "source": [
    "let rando = ranbo / sqrt(Float(ranbo.shape[1]))"
   ]
  },
  {
   "cell_type": "code",
   "execution_count": 28,
   "metadata": {},
   "outputs": [
    {
     "data": {
      "text/plain": [
       "▿ 2 elements\n",
       "  - .0 : 0.0001937353\n",
       "  - .1 : 0.03564948\n"
      ]
     },
     "execution_count": 28,
     "metadata": {},
     "output_type": "execute_result"
    }
   ],
   "source": [
    "(rando.mean(), rando.standardDeviation())"
   ]
  },
  {
   "cell_type": "code",
   "execution_count": 29,
   "metadata": {},
   "outputs": [],
   "source": [
    "func shittyWomboCombo(a: [Float], \n",
    "                      b: [Float], \n",
    "                      aDims: (Int,Int), \n",
    "                      bDims: (Int,Int)) -> [Float] {\n",
    "    assert(aDims.1 == bDims.0, \"matmul shape mismatch\")\n",
    "    \n",
    "    var womboCombo = Array(repeating: Float(0.0), \n",
    "                           count: aDims.0 * bDims.1)\n",
    "    for 😂 in 0..<aDims.0 { // a rows\n",
    "        for 🧐 in 0..<bDims.1 { // b columns\n",
    "            for 🤩 in 0..<bDims.0 { // b rows\n",
    "               womboCombo[😂 * bDims.1 + 🧐] += a[😂 * bDims.1 + 🤩] * b[🤩 * bDims.1 + 🧐]\n",
    "            }\n",
    "        }\n",
    "        \n",
    "    }\n",
    "    return womboCombo\n",
    "}"
   ]
  },
  {
   "cell_type": "code",
   "execution_count": 30,
   "metadata": {},
   "outputs": [],
   "source": [
    "let ranboVectorTransposed = ranboVector.transposed()"
   ]
  },
  {
   "cell_type": "code",
   "execution_count": 31,
   "metadata": {},
   "outputs": [],
   "source": [
    "let 💩WomboCombo = shittyWomboCombo(a: rando.scalars, \n",
    "                                b: ranboVector.scalars, \n",
    "                                aDims: (rando.shape[0], rando.shape[1]), \n",
    "                                bDims: (ranboVectorTransposed.shape[0], ranboVectorTransposed.shape[1]))"
   ]
  },
  {
   "cell_type": "code",
   "execution_count": 32,
   "metadata": {},
   "outputs": [
    {
     "data": {
      "text/plain": [
       "50\n"
      ]
     },
     "execution_count": 32,
     "metadata": {},
     "output_type": "execute_result"
    }
   ],
   "source": [
    "💩WomboCombo.capacity"
   ]
  },
  {
   "cell_type": "code",
   "execution_count": 33,
   "metadata": {},
   "outputs": [
    {
     "name": "stdout",
     "output_type": "stream",
     "text": [
      "average: 0.3938388099999999 ms,   min: 0.386239 ms,   max: 0.41346 ms\r\n"
     ]
    }
   ],
   "source": [
    "time(repeating: 100 ) {\n",
    "    shittyWomboCombo(a: rando.scalars, \n",
    "                                b: ranboVector.scalars, \n",
    "                                aDims: (rando.shape[0], rando.shape[1]), \n",
    "                                bDims: (ranboVectorTransposed.shape[0], ranboVectorTransposed.shape[1]))\n",
    "}"
   ]
  },
  {
   "cell_type": "code",
   "execution_count": 34,
   "metadata": {},
   "outputs": [],
   "source": [
    "func dangerWomboCombo(a: [Float], \n",
    "                      b: [Float], \n",
    "                      aDims: (Int,Int), \n",
    "                      bDims: (Int,Int)) -> [Float] {\n",
    "    assert(aDims.1 == bDims.0, \"matmul shape mismatch\")\n",
    "    \n",
    "    var womboCombo = Array(repeating: Float(0.0), \n",
    "                           count: aDims.0 * bDims.1)\n",
    "    womboCombo.withUnsafeMutableBufferPointer{ womboCombo in\n",
    "         for 😂 in 0..<aDims.0 { // a rows\n",
    "            for 🧐 in 0..<bDims.1 { // b columns\n",
    "                for 🤩 in 0..<bDims.0 { // b rows\n",
    "                   womboCombo[😂 * bDims.1 + 🧐] += a[😂 * bDims.1 + 🤩] * b[🤩 * bDims.1 + 🧐]\n",
    "                }\n",
    "            }\n",
    "\n",
    "        }   \n",
    "    }\n",
    "    return womboCombo\n",
    "}"
   ]
  },
  {
   "cell_type": "code",
   "execution_count": 40,
   "metadata": {},
   "outputs": [
    {
     "name": "stdout",
     "output_type": "stream",
     "text": [
      "average: 0.33120542000000014 ms,   min: 0.312984 ms,   max: 0.38118 ms\r\n"
     ]
    }
   ],
   "source": [
    "time(repeating: 100 ) {\n",
    "    dangerWomboCombo(a: rando.scalars, \n",
    "                                b: ranboVector.scalars, \n",
    "                                aDims: (rando.shape[0], rando.shape[1]), \n",
    "                                bDims: (ranboVectorTransposed.shape[0], ranboVectorTransposed.shape[1]))\n",
    "}"
   ]
  },
  {
   "cell_type": "code",
   "execution_count": 36,
   "metadata": {},
   "outputs": [],
   "source": [
    "let dangerCombo = dangerWomboCombo(a: rando.scalars, \n",
    "                                b: ranboVector.scalars, \n",
    "                                aDims: (rando.shape[0], rando.shape[1]), \n",
    "                                bDims: (ranboVectorTransposed.shape[0], ranboVectorTransposed.shape[1]))"
   ]
  },
  {
   "cell_type": "code",
   "execution_count": 37,
   "metadata": {},
   "outputs": [],
   "source": [
    "let dangerComboReshaped = Tensor(dangerCombo)\n",
    "                .reshaped(to: [rando.shape[0], ranboVectorTransposed.shape[1]])"
   ]
  },
  {
   "cell_type": "code",
   "execution_count": 41,
   "metadata": {},
   "outputs": [
    {
     "data": {
      "text/plain": [
       "▿ [10, 5]\n",
       "  ▿ dimensions : 2 elements\n",
       "    - 0 : 10\n",
       "    - 1 : 5\n"
      ]
     },
     "execution_count": 41,
     "metadata": {},
     "output_type": "execute_result"
    }
   ],
   "source": [
    "dangerComboReshaped.shape"
   ]
  },
  {
   "cell_type": "code",
   "execution_count": 42,
   "metadata": {},
   "outputs": [
    {
     "name": "stdout",
     "output_type": "stream",
     "text": [
      "☠️☠️ Uninitialized garbage = 64\r\n"
     ]
    }
   ],
   "source": [
    "let ptr : UnsafeMutableRawPointer = malloc(42)\n",
    "\n",
    "print(\"☠️☠️ Uninitialized garbage =\", ptr.load(as: UInt8.self))\n",
    "\n",
    "free(ptr)"
   ]
  },
  {
   "cell_type": "code",
   "execution_count": 43,
   "metadata": {},
   "outputs": [],
   "source": [
    "let tensorOne = Tensor<Float>(randomNormal: [5, 784])\n",
    "let tensorTwo = Tensor<Float>(randomNormal: [784, 10])"
   ]
  },
  {
   "cell_type": "code",
   "execution_count": 44,
   "metadata": {},
   "outputs": [
    {
     "name": "stdout",
     "output_type": "stream",
     "text": [
      "tensorOne Shape [5, 784]\r\n",
      "tensorTwo Shape [784, 10]\r\n"
     ]
    }
   ],
   "source": [
    "print(\"tensorOne Shape \\(tensorOne.shape)\")\n",
    "print(\"tensorTwo Shape \\(tensorTwo.shape)\")"
   ]
  },
  {
   "cell_type": "code",
   "execution_count": 45,
   "metadata": {},
   "outputs": [
    {
     "name": "stdout",
     "output_type": "stream",
     "text": [
      "[2, 2]\r\n"
     ]
    }
   ],
   "source": [
    "let smolBoi = Tensor<Float>([[1,2],[3,4]])\n",
    "print(smolBoi.shape)"
   ]
  },
  {
   "cell_type": "code",
   "execution_count": 46,
   "metadata": {},
   "outputs": [],
   "source": [
    "let smolBoiWomboCombo = smolBoi • smolBoi"
   ]
  },
  {
   "cell_type": "code",
   "execution_count": 47,
   "metadata": {},
   "outputs": [
    {
     "name": "stdout",
     "output_type": "stream",
     "text": [
      "average: 0.0235891 ms,   min: 0.02205 ms,   max: 0.030198 ms\r\n"
     ]
    }
   ],
   "source": [
    "time(repeating: 10 ) { matmul(smolBoi, smolBoi) }"
   ]
  },
  {
   "cell_type": "code",
   "execution_count": 48,
   "metadata": {},
   "outputs": [
    {
     "name": "stdout",
     "output_type": "stream",
     "text": [
      "average: 0.22087249999999994 ms,   min: 0.201879 ms,   max: 0.299614 ms\r\n"
     ]
    }
   ],
   "source": [
    "time(repeating: 10 ) { dangerWomboCombo(a: smolBoi.scalars, \n",
    "                 b: smolBoi.scalars, \n",
    "                 aDims: (smolBoi.shape[0], smolBoi.shape[1]), \n",
    "                 bDims: (smolBoi.shape[0], smolBoi.shape[1]))\n",
    "                     }"
   ]
  },
  {
   "cell_type": "code",
   "execution_count": 49,
   "metadata": {},
   "outputs": [],
   "source": [
    "let dangerSmolBoi = dangerWomboCombo(a: smolBoi.scalars, \n",
    "                 b: smolBoi.scalars, \n",
    "                 aDims: (smolBoi.shape[0], smolBoi.shape[1]), \n",
    "                 bDims: (smolBoi.shape[0], smolBoi.shape[1]))"
   ]
  },
  {
   "cell_type": "code",
   "execution_count": 50,
   "metadata": {},
   "outputs": [
    {
     "data": {
      "text/plain": [
       "[[ 7.0, 10.0],\n",
       " [15.0, 22.0]]\n"
      ]
     },
     "execution_count": 50,
     "metadata": {},
     "output_type": "execute_result"
    }
   ],
   "source": [
    "let tensorDangerSmolBoi = Tensor(dangerSmolBoi).reshaped(to: [2,2])\n",
    "tensorDangerSmolBoi"
   ]
  },
  {
   "cell_type": "code",
   "execution_count": 51,
   "metadata": {},
   "outputs": [],
   "source": [
    "//export\n",
    "public struct AssertionError: Error {\n",
    "    let message: String\n",
    "    init(_ message: String){\n",
    "        self.message = message\n",
    "    }\n",
    "}"
   ]
  },
  {
   "cell_type": "code",
   "execution_count": 52,
   "metadata": {},
   "outputs": [],
   "source": [
    "//export\n",
    "public func assert(toAssert: Bool, message: String = \"Not True!\") throws {\n",
    "    if(!toAssert){\n",
    "        throw AssertionError(message)\n",
    "    }\n",
    "}"
   ]
  },
  {
   "cell_type": "code",
   "execution_count": 53,
   "metadata": {},
   "outputs": [
    {
     "data": {
      "text/plain": [
       "▿ AssertionError\n",
       "  - message : \"Yeet\"\n"
      ]
     },
     "execution_count": 53,
     "metadata": {},
     "output_type": "execute_result"
    }
   ],
   "source": [
    "throw AssertionError(\"Yeet\")"
   ]
  },
  {
   "cell_type": "code",
   "execution_count": 54,
   "metadata": {},
   "outputs": [],
   "source": [
    "assert((smolBoiWomboCombo - tensorDangerSmolBoi).sum() < 0.001, \"Matrix Multiplication not working\")"
   ]
  },
  {
   "cell_type": "code",
   "execution_count": 55,
   "metadata": {},
   "outputs": [
    {
     "data": {
      "text/plain": [
       "▿ 2 elements\n",
       "  - .0 : [10.0,  6.0, -4.0]\n",
       "  - .1 : [2.0, 8.0, 7.0]\n"
      ]
     },
     "execution_count": 55,
     "metadata": {},
     "output_type": "execute_result"
    }
   ],
   "source": [
    "let a = Tensor([10.0, 6, -4])\n",
    "let b = Tensor([2.0, 8, 7])\n",
    "(a,b)"
   ]
  },
  {
   "cell_type": "code",
   "execution_count": 56,
   "metadata": {},
   "outputs": [
    {
     "data": {
      "text/plain": [
       "[12.0, 14.0,  3.0]\n"
      ]
     },
     "execution_count": 56,
     "metadata": {},
     "output_type": "execute_result"
    }
   ],
   "source": [
    "a + b"
   ]
  },
  {
   "cell_type": "code",
   "execution_count": 57,
   "metadata": {},
   "outputs": [
    {
     "data": {
      "text/plain": [
       "false\n"
      ]
     },
     "execution_count": 57,
     "metadata": {},
     "output_type": "execute_result"
    }
   ],
   "source": [
    "a < b"
   ]
  },
  {
   "cell_type": "code",
   "execution_count": 58,
   "metadata": {},
   "outputs": [
    {
     "data": {
      "text/plain": [
       "[false,  true,  true]\n"
      ]
     },
     "execution_count": 58,
     "metadata": {},
     "output_type": "execute_result"
    }
   ],
   "source": [
    "a .< b"
   ]
  },
  {
   "cell_type": "code",
   "execution_count": 59,
   "metadata": {},
   "outputs": [
    {
     "data": {
      "text/plain": [
       "false\n"
      ]
     },
     "execution_count": 59,
     "metadata": {},
     "output_type": "execute_result"
    }
   ],
   "source": [
    "a > b"
   ]
  },
  {
   "cell_type": "code",
   "execution_count": 60,
   "metadata": {},
   "outputs": [
    {
     "data": {
      "text/plain": [
       "true\n"
      ]
     },
     "execution_count": 60,
     "metadata": {},
     "output_type": "execute_result"
    }
   ],
   "source": [
    "(a .> b).any()"
   ]
  },
  {
   "cell_type": "code",
   "execution_count": 61,
   "metadata": {},
   "outputs": [],
   "source": [
    "let aUnsqueezed = a.expandingShape(at: 1)"
   ]
  },
  {
   "cell_type": "code",
   "execution_count": 62,
   "metadata": {},
   "outputs": [
    {
     "data": {
      "text/plain": [
       "▿ [3, 1]\n",
       "  ▿ dimensions : 2 elements\n",
       "    - 0 : 3\n",
       "    - 1 : 1\n"
      ]
     },
     "execution_count": 62,
     "metadata": {},
     "output_type": "execute_result"
    }
   ],
   "source": [
    "aUnsqueezed.shape"
   ]
  },
  {
   "cell_type": "code",
   "execution_count": 63,
   "metadata": {},
   "outputs": [],
   "source": [
    "let ranboVector = Tensor<Float>(randomNormal: [784], seed: (69, 420))"
   ]
  },
  {
   "cell_type": "code",
   "execution_count": 64,
   "metadata": {},
   "outputs": [
    {
     "data": {
      "text/plain": [
       "▿ 2 elements\n",
       "  ▿ .0 : [784]\n",
       "    ▿ dimensions : 1 element\n",
       "      - 0 : 784\n",
       "  ▿ .1 : [10, 784]\n",
       "    ▿ dimensions : 2 elements\n",
       "      - 0 : 10\n",
       "      - 1 : 784\n"
      ]
     },
     "execution_count": 64,
     "metadata": {},
     "output_type": "execute_result"
    }
   ],
   "source": [
    "(ranboVector.shape, ranbo.shape)"
   ]
  },
  {
   "cell_type": "code",
   "execution_count": 65,
   "metadata": {},
   "outputs": [
    {
     "data": {
      "text/plain": [
       "[[ 817.24695],\n",
       " [ -56.73091],\n",
       " [ 31.500301],\n",
       " [-15.890224],\n",
       " [ 2.3912368],\n",
       " [  7.719559],\n",
       " [ 34.176315],\n",
       " [ -37.38397],\n",
       " [ 19.708017],\n",
       " [-40.754112]]\n"
      ]
     },
     "execution_count": 65,
     "metadata": {},
     "output_type": "execute_result"
    }
   ],
   "source": [
    "ranbo • ranboVector.expandingShape(at: 1)"
   ]
  },
  {
   "cell_type": "code",
   "execution_count": 66,
   "metadata": {},
   "outputs": [
    {
     "data": {
      "text/plain": [
       "▿ [784]\n",
       "  ▿ dimensions : 1 element\n",
       "    - 0 : 784\n"
      ]
     },
     "execution_count": 66,
     "metadata": {},
     "output_type": "execute_result"
    }
   ],
   "source": [
    "ranbo[0].shape"
   ]
  },
  {
   "cell_type": "code",
   "execution_count": 67,
   "metadata": {},
   "outputs": [],
   "source": [
    "func tensorWomboCombo(a: Tensor<Float>, b: Tensor<Float>) -> Tensor<Float>{\n",
    "    let (aRows, aColumns) = (a.shape[0], a.shape[1])\n",
    "    let (bRows, bColumns) = (b.shape[0], b.shape[1])\n",
    "    assert(aColumns == bRows, \"Cannot multiply a \\(a.shape) with \\(b.shape)\")\n",
    "    var result = Tensor<Float>(zeros: [aRows, bColumns])\n",
    "    \n",
    "    for i in 0..<aRows{\n",
    "        result[i] = (a[i].expandingShape(at: 1) * b).sum(squeezingAxes: 0)\n",
    "    }\n",
    "    \n",
    "    return result\n",
    "    \n",
    "}"
   ]
  },
  {
   "cell_type": "code",
   "execution_count": 68,
   "metadata": {},
   "outputs": [],
   "source": [
    "assert((smolBoiWomboCombo - tensorWomboCombo(a: smolBoi, b: smolBoi)).sum() < 0.001, \"Matrix Multiplication not working\")"
   ]
  },
  {
   "cell_type": "code",
   "execution_count": 69,
   "metadata": {},
   "outputs": [],
   "source": [
    "//export\n",
    "public extension StringTensor {\n",
    "    // Read a file into a Tensor.\n",
    "    init(readFile filename: String) {\n",
    "        self.init(readFile: StringTensor(filename))\n",
    "    }\n",
    "    init(readFile filename: StringTensor) {\n",
    "        self = Raw.readFile(filename: filename)\n",
    "    }\n",
    "\n",
    "    // Decode a StringTensor holding a JPEG file into a Tensor<UInt8>.\n",
    "    func decodeJpeg(channels: Int = 0) -> Tensor<UInt8> {\n",
    "        return Raw.decodeJpeg(contents: self, channels: Int64(channels), dctMethod: \"\") \n",
    "    }\n",
    "}"
   ]
  },
  {
   "cell_type": "code",
   "execution_count": 70,
   "metadata": {},
   "outputs": [
    {
     "name": "stdout",
     "output_type": "stream",
     "text": [
      "success\r\n"
     ]
    }
   ],
   "source": [
    "exportSchwiftyNotebook(notebookName: \"matrix_multiplication\")"
   ]
  },
  {
   "cell_type": "code",
   "execution_count": null,
   "metadata": {},
   "outputs": [],
   "source": []
  }
 ],
 "metadata": {
  "colab": {
   "collapsed_sections": [],
   "name": "blank_swift.ipynb",
   "provenance": [],
   "version": "0.3.2"
  },
  "kernelspec": {
   "display_name": "Swift",
   "language": "swift",
   "name": "swift"
  },
  "language_info": {
   "file_extension": ".swift",
   "mimetype": "text/x-swift",
   "name": "swift",
   "version": ""
  }
 },
 "nbformat": 4,
 "nbformat_minor": 1
}
