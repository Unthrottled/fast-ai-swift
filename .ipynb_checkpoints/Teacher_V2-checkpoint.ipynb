{
 "cells": [
  {
   "cell_type": "code",
   "execution_count": 1,
   "metadata": {},
   "outputs": [
    {
     "name": "stdout",
     "output_type": "stream",
     "text": [
      "Installing packages:\n",
      "\t.package(path: \"/home/ubuntu/workspace/fast-ai-swift/SchwiftyNotebook_Annealing\")\n",
      "\t\tSchwiftyNotebook_Annealing\n",
      "With SwiftPM flags: []\n",
      "Working in: /tmp/tmpdvyd6h85/swift-install\n",
      "warning: /home/ubuntu/swift/usr/bin/swiftc: /home/ubuntu/anaconda3/envs/swift-env/lib/libuuid.so.1: no version information available (required by /home/ubuntu/swift/usr/bin/swiftc)\n",
      "/home/ubuntu/swift/usr/bin/swift: /home/ubuntu/anaconda3/envs/swift-env/lib/libuuid.so.1: no version information available (required by /home/ubuntu/swift/usr/bin/swift)\n",
      "warning: /home/ubuntu/swift/usr/bin/swiftc: /home/ubuntu/anaconda3/envs/swift-env/lib/libuuid.so.1: no version information available (required by /home/ubuntu/swift/usr/bin/swiftc)\n",
      "/home/ubuntu/swift/usr/bin/swift: /home/ubuntu/anaconda3/envs/swift-env/lib/libuuid.so.1: no version information available (required by /home/ubuntu/swift/usr/bin/swift)\n",
      "warning: /home/ubuntu/swift/usr/bin/swiftc: /home/ubuntu/anaconda3/envs/swift-env/lib/libuuid.so.1: no version information available (required by /home/ubuntu/swift/usr/bin/swiftc)\n",
      "/home/ubuntu/swift/usr/bin/swift: /home/ubuntu/anaconda3/envs/swift-env/lib/libuuid.so.1: no version information available (required by /home/ubuntu/swift/usr/bin/swift)\n",
      "warning: /home/ubuntu/swift/usr/bin/swiftc: /home/ubuntu/anaconda3/envs/swift-env/lib/libuuid.so.1: no version information available (required by /home/ubuntu/swift/usr/bin/swiftc)\n",
      "/home/ubuntu/swift/usr/bin/swift: /home/ubuntu/anaconda3/envs/swift-env/lib/libuuid.so.1: no version information available (required by /home/ubuntu/swift/usr/bin/swift)\n",
      "warning: /home/ubuntu/swift/usr/bin/swiftc: /home/ubuntu/anaconda3/envs/swift-env/lib/libuuid.so.1: no version information available (required by /home/ubuntu/swift/usr/bin/swiftc)\n",
      "/home/ubuntu/swift/usr/bin/swift: /home/ubuntu/anaconda3/envs/swift-env/lib/libuuid.so.1: no version information available (required by /home/ubuntu/swift/usr/bin/swift)\n",
      "warning: /home/ubuntu/swift/usr/bin/swiftc: /home/ubuntu/anaconda3/envs/swift-env/lib/libuuid.so.1: no version information available (required by /home/ubuntu/swift/usr/bin/swiftc)\n",
      "/home/ubuntu/swift/usr/bin/swift: /home/ubuntu/anaconda3/envs/swift-env/lib/libuuid.so.1: no version information available (required by /home/ubuntu/swift/usr/bin/swift)\n",
      "warning: /home/ubuntu/swift/usr/bin/swiftc: /home/ubuntu/anaconda3/envs/swift-env/lib/libuuid.so.1: no version information available (required by /home/ubuntu/swift/usr/bin/swiftc)\n",
      "/home/ubuntu/swift/usr/bin/swift: /home/ubuntu/anaconda3/envs/swift-env/lib/libuuid.so.1: no version information available (required by /home/ubuntu/swift/usr/bin/swift)\n",
      "warning: /home/ubuntu/swift/usr/bin/swiftc: /home/ubuntu/anaconda3/envs/swift-env/lib/libuuid.so.1: no version information available (required by /home/ubuntu/swift/usr/bin/swiftc)\n",
      "/home/ubuntu/swift/usr/bin/swift: /home/ubuntu/anaconda3/envs/swift-env/lib/libuuid.so.1: no version information available (required by /home/ubuntu/swift/usr/bin/swift)\n",
      "warning: /home/ubuntu/swift/usr/bin/swiftc: /home/ubuntu/anaconda3/envs/swift-env/lib/libuuid.so.1: no version information available (required by /home/ubuntu/swift/usr/bin/swiftc)\n",
      "/home/ubuntu/swift/usr/bin/swift: /home/ubuntu/anaconda3/envs/swift-env/lib/libuuid.so.1: no version information available (required by /home/ubuntu/swift/usr/bin/swift)\n",
      "warning: /home/ubuntu/swift/usr/bin/swiftc: /home/ubuntu/anaconda3/envs/swift-env/lib/libuuid.so.1: no version information available (required by /home/ubuntu/swift/usr/bin/swiftc)\n",
      "/home/ubuntu/swift/usr/bin/swift: /home/ubuntu/anaconda3/envs/swift-env/lib/libuuid.so.1: no version information available (required by /home/ubuntu/swift/usr/bin/swift)\n",
      "warning: /home/ubuntu/swift/usr/bin/swiftc: /home/ubuntu/anaconda3/envs/swift-env/lib/libuuid.so.1: no version information available (required by /home/ubuntu/swift/usr/bin/swiftc)\n",
      "/home/ubuntu/swift/usr/bin/swift: /home/ubuntu/anaconda3/envs/swift-env/lib/libuuid.so.1: no version information available (required by /home/ubuntu/swift/usr/bin/swift)\n",
      "/home/ubuntu/swift/usr/bin/swiftc: /home/ubuntu/anaconda3/envs/swift-env/lib/libuuid.so.1: no version information available (required by /home/ubuntu/swift/usr/bin/swiftc)\n",
      "/home/ubuntu/swift/usr/bin/swiftc: /home/ubuntu/anaconda3/envs/swift-env/lib/libuuid.so.1: no version information available (required by /home/ubuntu/swift/usr/bin/swiftc)[1/2] Compiling jupyterInstalledPackages jupyterInstalledPackages.swift\n",
      "/home/ubuntu/swift/usr/bin/swift: /home/ubuntu/anaconda3/envs/swift-env/lib/libuuid.so.1: no version information available (required by /home/ubuntu/swift/usr/bin/swift)\n",
      "[2/3] Merging module jupyterInstalledPackages\n",
      "/home/ubuntu/swift/usr/bin/swift: /home/ubuntu/anaconda3/envs/swift-env/lib/libuuid.so.1: no version information available (required by /home/ubuntu/swift/usr/bin/swift)\n",
      "Initializing Swift...\n",
      "Installation complete!\n"
     ]
    }
   ],
   "source": [
    "%install-location $cwd/swift-install\n",
    "%install '.package(path: \"$cwd/SchwiftyNotebook_Annealing\")' SchwiftyNotebook_Annealing"
   ]
  },
  {
   "cell_type": "code",
   "execution_count": 159,
   "metadata": {},
   "outputs": [],
   "source": [
    "//export\n",
    "import Path\n",
    "import TensorFlow\n",
    "import SchwiftyNotebook_Annealing"
   ]
  },
  {
   "cell_type": "markdown",
   "metadata": {},
   "source": [
    "## Model\n"
   ]
  },
  {
   "cell_type": "code",
   "execution_count": 3,
   "metadata": {},
   "outputs": [],
   "source": [
    "//export\n",
    "public struct HyperParameters {\n",
    "    public let learningRate: Float\n",
    "}"
   ]
  },
  {
   "cell_type": "code",
   "execution_count": 4,
   "metadata": {},
   "outputs": [],
   "source": [
    "//export\n",
    "public protocol TeachableModel {\n",
    "    \n",
    "    func apply(inputTensor: TensorFloat) -> TensorFloat\n",
    "    \n",
    "    func forwardPass(inputTensor: TensorFloat) -> (TensorFloat, TeachableModel)\n",
    "    \n",
    "    func backwardsPass(ddx: TensorFloat, hyperParameters: HyperParameters) -> TeachableModel    \n",
    "}"
   ]
  },
  {
   "cell_type": "code",
   "execution_count": 5,
   "metadata": {},
   "outputs": [],
   "source": [
    "//export\n",
    "public protocol ModelParameterV2  {\n",
    "    \n",
    "    func forwardPass(inputTensor: TensorFloat) -> (TensorFloat, ModelParameterV2)\n",
    "    \n",
    "    func apply(_ inputTensor: TensorFloat) -> TensorFloat \n",
    "    \n",
    "    func backwardPass(ddx: TensorFloat, hyperParameters: HyperParameters) -> (TensorFloat, ModelParameterV2)\n",
    "}"
   ]
  },
  {
   "cell_type": "code",
   "execution_count": 6,
   "metadata": {},
   "outputs": [],
   "source": [
    "//export\n",
    "public struct DenseLayerV2: ModelParameterV2 {\n",
    "    let activationFunction: SingleInputDifferentiable<TensorFloat>\n",
    "    let weightParameter: TensorFloat\n",
    "    let biasParameter: TensorFloat\n",
    "    private let gradientChain: ThreeInputGradient\n",
    "\n",
    "    private init(activationFunction: @escaping SingleInputDifferentiable<TensorFloat>,\n",
    "                 weightParameter: TensorFloat,\n",
    "                 biasParameter: TensorFloat,\n",
    "                 gradientChain: @escaping ThreeInputGradient) {\n",
    "        self.activationFunction = activationFunction\n",
    "        self.weightParameter = weightParameter\n",
    "        self.biasParameter = biasParameter\n",
    "        self.gradientChain = gradientChain\n",
    "    }\n",
    "\n",
    "    private init(denseLayer: DenseLayerV2,\n",
    "                 gradientChain: @escaping ThreeInputGradient) {\n",
    "        self.activationFunction = denseLayer.activationFunction\n",
    "        self.weightParameter = denseLayer.weightParameter\n",
    "        self.biasParameter = denseLayer.biasParameter\n",
    "        self.gradientChain = gradientChain\n",
    "    }\n",
    "\n",
    "    public init(inputSize: Int,\n",
    "         outputSize: Int,\n",
    "         activationFunction: @escaping SingleInputDifferentiable<TensorFloat> = identititySVGC){\n",
    "        self.activationFunction = activationFunction\n",
    "        self.weightParameter = TensorFloat(kaimingUniform: TensorShape([inputSize, outputSize]))\n",
    "        self.biasParameter = TensorFloat(zeros: [outputSize])\n",
    "        self.gradientChain = { (x: TensorFloat)  in (TensorFloat([1]), TensorFloat([1]), TensorFloat([1]))}\n",
    "    }\n",
    "\n",
    "    public func forwardPass(inputTensor: TensorFloat) -> (TensorFloat, ModelParameterV2) {\n",
    "        let (parameterOutput, parameterGradientChain) =\n",
    "          linearCombinationAndGradient(inputTensor: inputTensor,\n",
    "                                       weightParameter: self.weightParameter,\n",
    "                                       biasParameter: self.biasParameter)\n",
    "        \n",
    "        let (activations, activationsGradientChain) = activationFunction(parameterOutput)\n",
    "\n",
    "        return (activations, DenseLayerV2(denseLayer: self,\n",
    "                                       gradientChain: {ddx in parameterGradientChain(activationsGradientChain(ddx))}))\n",
    "    }\n",
    "\n",
    "    public func apply(_ inputTensor: TensorFloat) -> TensorFloat {\n",
    "        let parameterOutput =\n",
    "          linearCombination(inputs: inputTensor,\n",
    "                                       weights: self.weightParameter,\n",
    "                                       bias: self.biasParameter)\n",
    "        let (activations, activationsGradientChain) = activationFunction(parameterOutput)\n",
    "        return activations\n",
    "    }\n",
    "\n",
    "    public func backwardPass(ddx: TensorFloat, hyperParameters: HyperParameters) -> \n",
    "    (TensorFloat, ModelParameterV2) {\n",
    "        let (ddxInput, ddxParameter, ddxBias) = self.gradientChain(ddx)\n",
    "        return (ddxInput, DenseLayerV2(activationFunction: activationFunction,\n",
    "                                    weightParameter: self.weightParameter - hyperParameters.learningRate * ddxParameter,\n",
    "                                    biasParameter: self.biasParameter - hyperParameters.learningRate * ddxBias,\n",
    "                                    gradientChain: self.gradientChain))\n",
    "    }\n",
    "}\n",
    "\n"
   ]
  },
  {
   "cell_type": "code",
   "execution_count": 171,
   "metadata": {},
   "outputs": [],
   "source": [
    "struct SimpleModel : TeachableModel {\n",
    "    \n",
    "    private let denseLayer: ModelParameterV2\n",
    "    \n",
    "    private init(denseLayer: ModelParameterV2){\n",
    "        self.denseLayer = denseLayer\n",
    "    }\n",
    "    \n",
    "    public init(inputSize: Int, \n",
    "                numberOfClasses: Int) {\n",
    "        self.denseLayer = DenseLayerV2(inputSize: inputSize, \n",
    "                                       outputSize: numberOfClasses,\n",
    "                                       activationFunction: reLUAndGradient)\n",
    "    }\n",
    "    \n",
    "    public func apply(inputTensor: TensorFloat) -> TensorFloat {\n",
    "        return self.denseLayer.apply(inputTensor)\n",
    "    }\n",
    "    \n",
    "    public func forwardPass(inputTensor: TensorFloat) -> (TensorFloat, TeachableModel) {\n",
    "        let (activations, newDenseLayer) = self.denseLayer.forwardPass(inputTensor: inputTensor)\n",
    "        return (activations, SimpleModel(denseLayer: newDenseLayer))\n",
    "    }\n",
    "    \n",
    "    public func backwardsPass(ddx: TensorFloat, \n",
    "                              hyperParameters: HyperParameters) -> TeachableModel {\n",
    "        let (ddxDenseLayer, optimizedDenseLayer) = self.denseLayer.backwardPass(ddx: ddx, \n",
    "                                                          hyperParameters: hyperParameters)\n",
    "        return SimpleModel(denseLayer: optimizedDenseLayer)\n",
    "    }\n",
    "}"
   ]
  },
  {
   "cell_type": "markdown",
   "metadata": {},
   "source": [
    "## Data"
   ]
  },
  {
   "cell_type": "code",
   "execution_count": 172,
   "metadata": {},
   "outputs": [],
   "source": [
    "//export\n",
    "public struct DataBunch<T> where T: TensorGroup {\n",
    "    public let trainingDataset: Dataset<T>\n",
    "    public let validationDataset: Dataset<T>\n",
    "}"
   ]
  },
  {
   "cell_type": "code",
   "execution_count": 9,
   "metadata": {},
   "outputs": [],
   "source": [
    "// export\n",
    "public struct SupervisedLearningGroup {\n",
    "    let features: TensorFloat\n",
    "    let labels: TensorFloat\n",
    "}\n",
    "\n",
    "extension SupervisedLearningGroup: TensorGroup {\n",
    "    \n",
    "    public static var _typeList: [TensorDataType] = [\n",
    "        Float.tensorFlowDataType,\n",
    "        Float.tensorFlowDataType\n",
    "    ]\n",
    "    public static var _unknownShapeList: [TensorShape?] = [nil, nil]\n",
    "    public var _tensorHandles: [_AnyTensorHandle] {\n",
    "        fatalError(\"unimplemented\")\n",
    "    }\n",
    "    public func _unpackTensorHandles(into address: UnsafeMutablePointer<CTensorHandle>?) {\n",
    "        address!.advanced(by: 0).initialize(to: features.handle._cTensorHandle)\n",
    "        address!.advanced(by: 1).initialize(to: labels.handle._cTensorHandle)\n",
    "    }\n",
    "    public init(_owning tensorHandles: UnsafePointer<CTensorHandle>?) {\n",
    "        features = Tensor(handle: TensorHandle(_owning: tensorHandles!.advanced(by: 0).pointee))\n",
    "        labels = Tensor(handle: TensorHandle(_owning: tensorHandles!.advanced(by: 1).pointee))\n",
    "    }\n",
    "    public init<C: RandomAccessCollection>(_handles: C) where C.Element: _AnyTensorHandle {\n",
    "        fatalError(\"unimplemented\")\n",
    "    }\n",
    "}\n",
    "\n",
    "public extension Sequence where Element == SupervisedLearningGroup {\n",
    "    var first: SupervisedLearningGroup? {\n",
    "        return first(where: { _ in true })\n",
    "    }\n",
    "}\n",
    "\n",
    "public extension Dataset where Element == SupervisedLearningGroup {\n",
    "    init(featuresTensor: TensorFloat, labelsTensor: TensorFloat) {\n",
    "        self.init(elements: SupervisedLearningGroup(\n",
    "                                                    features: featuresTensor, \n",
    "                                                    labels: labelsTensor.expandingShape(at: 1)))\n",
    "    }\n",
    "}"
   ]
  },
  {
   "cell_type": "code",
   "execution_count": 10,
   "metadata": {},
   "outputs": [],
   "source": [
    "import Python"
   ]
  },
  {
   "cell_type": "markdown",
   "metadata": {},
   "source": [
    "\n",
    "## Teach"
   ]
  },
  {
   "cell_type": "code",
   "execution_count": 11,
   "metadata": {},
   "outputs": [],
   "source": [
    "//export \n",
    "public protocol TeachingDelegate {\n",
    "    \n",
    "    func preTeach(epochs: Int)\n",
    "    \n",
    "    func postTeach()\n",
    "    \n",
    "    func preEpoch(epochNumber: Int, dataSet: Dataset<SupervisedLearningGroup>)\n",
    "    \n",
    "    func postEpoch(epochNumber: Int)\n",
    "    \n",
    "    func processBatch(model: TeachableModel, \n",
    "                      xDataPoints: TensorFloat,\n",
    "                      yValidationPoints: TensorFloat) -> TeachableModel    \n",
    "}"
   ]
  },
  {
   "cell_type": "code",
   "execution_count": 12,
   "metadata": {},
   "outputs": [],
   "source": [
    "//export\n",
    "public struct Teacher {\n",
    "    \n",
    "    private let dataBunch: DataBunch<SupervisedLearningGroup>\n",
    "    private let trainingDelegate: TeachingDelegate\n",
    "    private let validationDelegate: TeachingDelegate\n",
    "    \n",
    "    \n",
    "    public func teachModel(model: TeachableModel,\n",
    "                           numberOfEpochs: Int) -> TeachableModel {\n",
    "        notifyPreTeach(epochs: numberOfEpochs)\n",
    "        let taughtModel = (1...numberOfEpochs)\n",
    "            .reduce(into: model) { (currentModel: inout TeachableModel, \n",
    "                                    epoch: Int) in\n",
    "                let trainedModel = trainModel(modelToTeach: currentModel,\n",
    "                                              currentEpoch: epoch)\n",
    "                currentModel = validateModel(modelToValidate: trainedModel,\n",
    "                                             currentEpoch: epoch)\n",
    "            }\n",
    "        notifyPostTeach()\n",
    "        return taughtModel\n",
    "    }\n",
    "    \n",
    "    private func trainModel(modelToTeach: TeachableModel, \n",
    "                            currentEpoch: Int) -> TeachableModel {\n",
    "        return processDataSet(model: modelToTeach,\n",
    "                           epoch: currentEpoch,\n",
    "                           dataSet: dataBunch.trainingDataset,\n",
    "                           teachingDelegate: trainingDelegate)\n",
    "    }\n",
    "    \n",
    "    private func validateModel(modelToValidate: TeachableModel, \n",
    "                               currentEpoch: Int) -> TeachableModel {\n",
    "        return processDataSet(model: modelToValidate,\n",
    "                              epoch: currentEpoch,\n",
    "                              dataSet: dataBunch.validationDataset,\n",
    "                              teachingDelegate: validationDelegate)\n",
    "    }\n",
    "    \n",
    "    private func processDataSet(model: TeachableModel,\n",
    "                             epoch: Int,\n",
    "                             dataSet: Dataset<SupervisedLearningGroup>,\n",
    "                             teachingDelegate: TeachingDelegate\n",
    "                            ) -> TeachableModel {\n",
    "        \n",
    "        teachingDelegate.preEpoch(epochNumber: epoch, \n",
    "                                  dataSet: dataSet)\n",
    "        \n",
    "        let taughtModel: TeachableModel = dataSet.reduce(model) {\n",
    "            (currentModel:TeachableModel, dataGroup: SupervisedLearningGroup) in\n",
    "            return teachingDelegate.processBatch(model: currentModel, \n",
    "                                                         xDataPoints: dataGroup.features, \n",
    "                                                         yValidationPoints: dataGroup.labels)\n",
    "        }\n",
    "        \n",
    "        teachingDelegate.postEpoch(epochNumber: epoch)\n",
    "        \n",
    "        return taughtModel\n",
    "    }\n",
    "    \n",
    "    \n",
    "    private func notifyPreTeach(epochs: Int) {\n",
    "        trainingDelegate.preTeach(epochs: epochs)\n",
    "        validationDelegate.preTeach(epochs: epochs)\n",
    "    }\n",
    "    \n",
    "    private func notifyPostTeach() {\n",
    "        trainingDelegate.postTeach()\n",
    "        validationDelegate.postTeach()\n",
    "    }\n",
    "}"
   ]
  },
  {
   "cell_type": "markdown",
   "metadata": {},
   "source": [
    "## Teaching Delegates"
   ]
  },
  {
   "cell_type": "code",
   "execution_count": 13,
   "metadata": {},
   "outputs": [],
   "source": [
    "//export\n",
    "public protocol LossFunction {\n",
    "    func lossAndGradient(expectedTensor: TensorFloat,\n",
    "                         actualTensor: TensorFloat) -> (loss: TensorFloat,\n",
    "                                                        gradientSupplier: () -> TensorFloat)\n",
    "    func calculateLoss(expectedTensor: TensorFloat,\n",
    "                       actualTensor: TensorFloat) -> TensorFloat\n",
    "}"
   ]
  },
  {
   "cell_type": "code",
   "execution_count": 94,
   "metadata": {},
   "outputs": [],
   "source": [
    "//export\n",
    "public struct MeanSquaredErrorLossFunction: LossFunction {\n",
    "        \n",
    "    public func calculateLoss(expectedTensor: TensorFloat, \n",
    "                              actualTensor: TensorFloat) -> TensorFloat {\n",
    "        let error: TensorFloat = calculateError(expectedTensor: expectedTensor,\n",
    "                                   actualTensor: actualTensor)\n",
    "        return error.squared().mean()\n",
    "    }\n",
    "    \n",
    "    public func lossAndGradient(expectedTensor: TensorFloat, \n",
    "                                actualTensor: TensorFloat) -> (loss: TensorFloat, \n",
    "                                                               gradientSupplier: () -> TensorFloat) {\n",
    "        let error = calculateError(expectedTensor:expectedTensor, \n",
    "                                   actualTensor: actualTensor)\n",
    "        let (squareValue, squareGradient) = squaredWithGradient(inputTensor: error)\n",
    "        let (meanValue, meanGradient) = meanWithGradient(inputTensor: squareValue)\n",
    "\n",
    "        return (loss: meanValue, gradientSupplier: { squareGradient(meanGradient(TensorFloat([1]))) })\n",
    "    }\n",
    "    \n",
    "    private func calculateError(expectedTensor: TensorFloat,\n",
    "                                actualTensor: TensorFloat) -> TensorFloat {\n",
    "        assert(expectedTensor.shape == actualTensor.shape, \"Expected \\(expectedTensor.shape) to be the same as \\(actualTensor.shape)\")\n",
    "        return actualTensor - expectedTensor // order is SUPER important here\n",
    "    }\n",
    "}"
   ]
  },
  {
   "cell_type": "code",
   "execution_count": 142,
   "metadata": {},
   "outputs": [],
   "source": [
    "class ValidationDelegate: TeachingDelegate {\n",
    "    \n",
    "    let lossFunction: LossFunction\n",
    "    \n",
    "    public init(lossFunction: LossFunction) {\n",
    "        self.lossFunction = lossFunction\n",
    "    }\n",
    "    \n",
    "    private var epochNumber: Int = 0\n",
    "    private var numberOfBatches: Int = 0\n",
    "    private var totalLoss: TensorFloat = TensorFloat([0.0])\n",
    "    \n",
    "    public func postEpoch(epochNumber: Int) {\n",
    "        let loss = totalLoss / Float(numberOfBatches) \n",
    "        print(\"Validation Loss for Epoch #\\(epochNumber): \\(loss)\")   \n",
    "    }\n",
    "    \n",
    "    public func preEpoch(epochNumber: Int, \n",
    "                         dataSet: Dataset<SupervisedLearningGroup>) {\n",
    "        numberOfBatches = 0\n",
    "        totalLoss = TensorFloat([0.0])\n",
    "    }\n",
    "    \n",
    "    public func preTeach(epochs: Int) {\n",
    "    \n",
    "    }\n",
    "    \n",
    "    public func postTeach() {\n",
    "    \n",
    "    }\n",
    "    \n",
    "    \n",
    "    public func processBatch(model: TeachableModel, \n",
    "                             xDataPoints: TensorFloat, \n",
    "                             yValidationPoints: TensorFloat) -> TeachableModel {\n",
    "\n",
    "        let predictions = model.apply(inputTensor: xDataPoints)\n",
    "        \n",
    "        let loss = lossFunction.calculateLoss(expectedTensor: yValidationPoints, \n",
    "                                                                    actualTensor: predictions)\n",
    "        totalLoss += loss\n",
    "        numberOfBatches += 1\n",
    "        \n",
    "        return model\n",
    "    }\n",
    "    \n",
    "}"
   ]
  },
  {
   "cell_type": "code",
   "execution_count": 143,
   "metadata": {},
   "outputs": [],
   "source": [
    "class TrainingDelegate: TeachingDelegate {\n",
    "    \n",
    "    let lossFunction: LossFunction\n",
    "    \n",
    "    public init(lossFunction: LossFunction) {\n",
    "        self.lossFunction = lossFunction\n",
    "    }\n",
    "    \n",
    "    private var epochNumber: Int = 0\n",
    "    private var numberOfBatches: Int = 0\n",
    "    private var totalLoss: TensorFloat = TensorFloat([0.0])\n",
    "    \n",
    "    public func postEpoch(epochNumber: Int) {\n",
    "        let loss = totalLoss / Float(numberOfBatches)\n",
    "        print(\"Training Loss for Epoch #\\(epochNumber): \\(loss)\")\n",
    "    }\n",
    "    \n",
    "    public func preEpoch(epochNumber: Int, \n",
    "                         dataSet: Dataset<SupervisedLearningGroup>) {\n",
    "        numberOfBatches = 0\n",
    "        totalLoss = TensorFloat([0.0])\n",
    "    }\n",
    "    \n",
    "    public func preTeach(epochs: Int) {\n",
    "    \n",
    "    }\n",
    "    \n",
    "    public func postTeach() {\n",
    "    \n",
    "    }\n",
    "    \n",
    "    \n",
    "    public func processBatch(model: TeachableModel, \n",
    "                             xDataPoints: TensorFloat, \n",
    "                             yValidationPoints: TensorFloat) -> TeachableModel {\n",
    "\n",
    "        let (predictions, modelWithChain) = model.forwardPass(inputTensor: xDataPoints)\n",
    "        \n",
    "        let (lossyBoi, predictionGradientSupplier) = lossFunction.lossAndGradient(expectedTensor: yValidationPoints, \n",
    "                                                                    actualTensor: predictions)\n",
    "        \n",
    "        totalLoss += lossyBoi\n",
    "        numberOfBatches += 1\n",
    "        \n",
    "        // todo: Optimize Hyper Parameters beforehand\n",
    "        let hyperParameters = HyperParameters(learningRate: 1e-2)\n",
    "        \n",
    "        return modelWithChain.backwardsPass(ddx: predictionGradientSupplier(),\n",
    "                                            hyperParameters: hyperParameters)\n",
    "    }\n",
    "    \n",
    "}"
   ]
  },
  {
   "cell_type": "markdown",
   "metadata": {},
   "source": [
    "## Point Data Trials"
   ]
  },
  {
   "cell_type": "code",
   "execution_count": 144,
   "metadata": {},
   "outputs": [
    {
     "data": {
      "text/plain": [
       "▿ [100, 2]\n",
       "  ▿ dimensions : 2 elements\n",
       "    - 0 : 100\n",
       "    - 1 : 2\n"
      ]
     },
     "execution_count": 144,
     "metadata": {},
     "output_type": "execute_result"
    }
   ],
   "source": [
    "let n = 100\n",
    "let inputPoints = TensorFloat(randomNormal: [100, 1])\n",
    "let A = inputPoints.concatenated(with: TensorFloat(ones: inputPoints.shape), alongAxis: 1)\n",
    "A.shape"
   ]
  },
  {
   "cell_type": "code",
   "execution_count": 145,
   "metadata": {},
   "outputs": [
    {
     "data": {
      "text/plain": [
       "▿ [100, 1]\n",
       "  ▿ dimensions : 2 elements\n",
       "    - 0 : 100\n",
       "    - 1 : 1\n"
      ]
     },
     "execution_count": 145,
     "metadata": {},
     "output_type": "execute_result"
    }
   ],
   "source": [
    "let yValidationPoints = matmul(A, TensorFloat([-2, 7]).expandingShape(at: 1)) + \n",
    "                (TensorFloat(randomNormal: inputPoints.shape, seed: (69, 420)) * 2.5)\n",
    "yValidationPoints.shape"
   ]
  },
  {
   "cell_type": "code",
   "execution_count": 146,
   "metadata": {},
   "outputs": [
    {
     "data": {
      "text/plain": [
       "('inline', 'module://ipykernel.pylab.backend_inline')\n"
      ]
     },
     "execution_count": 146,
     "metadata": {},
     "output_type": "execute_result"
    }
   ],
   "source": [
    "import Python\n",
    "%include \"EnableIPythonDisplay.swift\"\n",
    "IPythonDisplay.shell.enable_matplotlib(\"inline\")"
   ]
  },
  {
   "cell_type": "code",
   "execution_count": 147,
   "metadata": {},
   "outputs": [],
   "source": [
    "public let plotter = Python.import(\"matplotlib.pyplot\")"
   ]
  },
  {
   "cell_type": "code",
   "execution_count": 148,
   "metadata": {},
   "outputs": [
    {
     "data": {
      "image/png": "[encoded data removed]",
      "text/plain": [
       "<Figure size 432x288 with 1 Axes>"
      ]
     },
     "metadata": {
      "needs_background": "light"
     },
     "output_type": "display_data"
    },
    {
     "data": {
      "text/plain": [
       "None\n"
      ]
     },
     "execution_count": 148,
     "metadata": {},
     "output_type": "execute_result"
    }
   ],
   "source": [
    "plotter.scatter(x: A.slice(lowerBounds: [0, 0], upperBounds:[A.shape[0], 1] ).makeNumpyArray(), \n",
    "                y: yValidationPoints.makeNumpyArray())\n",
    "plotter.show()"
   ]
  },
  {
   "cell_type": "code",
   "execution_count": 149,
   "metadata": {},
   "outputs": [],
   "source": [
    "func showYHat(yHat: TensorFloat) {\n",
    "    plotter.scatter(x: A.slice(lowerBounds: [0, 0], upperBounds:[A.shape[0], 1] ).makeNumpyArray(), \n",
    "                y: yValidationPoints.makeNumpyArray())\n",
    "    plotter.scatter(x: A.slice(lowerBounds: [0, 0], upperBounds:[A.shape[0], 1] ).makeNumpyArray(), \n",
    "                y: yHat.makeNumpyArray())\n",
    "    plotter.show()\n",
    "}"
   ]
  },
  {
   "cell_type": "code",
   "execution_count": 150,
   "metadata": {},
   "outputs": [
    {
     "data": {
      "text/plain": [
       "▿ SimpleModel\n",
       "  ▿ denseLayer : DenseLayerV2\n",
       "    - activationFunction : (Function)\n",
       "    - weightParameter : [[ 0.9488044],\n",
       " [-0.2537627]]\n",
       "    - biasParameter : [0.0]\n",
       "    - gradientChain : (Function)\n"
      ]
     },
     "execution_count": 150,
     "metadata": {},
     "output_type": "execute_result"
    }
   ],
   "source": [
    "let linearModel = SimpleModel(inputSize: 2, \n",
    "                              numberOfClasses: 1)\n",
    "linearModel"
   ]
  },
  {
   "cell_type": "code",
   "execution_count": 151,
   "metadata": {},
   "outputs": [
    {
     "data": {
      "image/png": "[encoded data removed]",
      "text/plain": [
       "<Figure size 432x288 with 1 Axes>"
      ]
     },
     "metadata": {
      "needs_background": "light"
     },
     "output_type": "display_data"
    }
   ],
   "source": [
    "showYHat(yHat: linearModel.apply(inputTensor: A))"
   ]
  },
  {
   "cell_type": "code",
   "execution_count": 152,
   "metadata": {},
   "outputs": [],
   "source": [
    "//export\n",
    "public extension Dataset where Element == SupervisedLearningGroup {\n",
    "    init(featureTensor: TensorFloat, labelTensor: TensorFloat) {\n",
    "        self.init(elements: SupervisedLearningGroup(features: featureTensor, \n",
    "                                     labels: labelTensor))\n",
    "    }\n",
    "}"
   ]
  },
  {
   "cell_type": "code",
   "execution_count": 153,
   "metadata": {},
   "outputs": [],
   "source": [
    "let linearDataSet = Dataset(featureTensor: A, labelTensor: yValidationPoints).batched(100)\n",
    "let linearDataBunch = DataBunch(trainingDataset: linearDataSet,\n",
    "                               validationDataset: linearDataSet)"
   ]
  },
  {
   "cell_type": "code",
   "execution_count": 154,
   "metadata": {},
   "outputs": [],
   "source": [
    "let meanSquaredLossFunction = MeanSquaredErrorLossFunction()\n",
    "let simpleTrainingDelegate = TrainingDelegate(lossFunction: meanSquaredLossFunction)\n",
    "let simpleValidationDelegate = ValidationDelegate(lossFunction: meanSquaredLossFunction)"
   ]
  },
  {
   "cell_type": "code",
   "execution_count": 155,
   "metadata": {},
   "outputs": [],
   "source": [
    "let linearTeacher = Teacher(dataBunch: linearDataBunch, \n",
    "                            trainingDelegate: simpleTrainingDelegate, \n",
    "                            validationDelegate: simpleValidationDelegate)"
   ]
  },
  {
   "cell_type": "code",
   "execution_count": 156,
   "metadata": {},
   "outputs": [
    {
     "name": "stdout",
     "output_type": "stream",
     "text": [
      "Training Loss for Epoch #1: [70.679474]\n",
      "Validation Loss for Epoch #1: [65.8553]\n",
      "Training Loss for Epoch #2: [65.8553]\n",
      "Validation Loss for Epoch #2: [61.398838]\n",
      "Training Loss for Epoch #3: [61.398838]\n",
      "Validation Loss for Epoch #3: [57.281654]\n",
      "Training Loss for Epoch #4: [57.281654]\n",
      "Validation Loss for Epoch #4: [53.47751]\n",
      "Training Loss for Epoch #5: [53.47751]\n",
      "Validation Loss for Epoch #5: [49.962223]\n",
      "Training Loss for Epoch #6: [49.962223]\n",
      "Validation Loss for Epoch #6: [46.713486]\n",
      "Training Loss for Epoch #7: [46.713486]\n",
      "Validation Loss for Epoch #7: [43.71074]\n",
      "Training Loss for Epoch #8: [43.71074]\n",
      "Validation Loss for Epoch #8: [40.935005]\n",
      "Training Loss for Epoch #9: [40.935005]\n",
      "Validation Loss for Epoch #9: [38.368813]\n",
      "Training Loss for Epoch #10: [38.368813]\n",
      "Validation Loss for Epoch #10: [35.996017]\n",
      "Training Loss for Epoch #11: [35.996017]\n",
      "Validation Loss for Epoch #11: [33.801746]\n",
      "Training Loss for Epoch #12: [33.801746]\n",
      "Validation Loss for Epoch #12: [31.772295]\n",
      "Training Loss for Epoch #13: [31.772295]\n",
      "Validation Loss for Epoch #13: [29.894987]\n",
      "Training Loss for Epoch #14: [29.894987]\n",
      "Validation Loss for Epoch #14: [28.15817]\n",
      "Training Loss for Epoch #15: [28.15817]\n",
      "Validation Loss for Epoch #15: [26.551075]\n",
      "Training Loss for Epoch #16: [26.551075]\n",
      "Validation Loss for Epoch #16: [25.063766]\n",
      "Training Loss for Epoch #17: [25.063766]\n",
      "Validation Loss for Epoch #17: [23.68709]\n",
      "Training Loss for Epoch #18: [23.68709]\n",
      "Validation Loss for Epoch #18: [22.412596]\n",
      "Training Loss for Epoch #19: [22.412596]\n",
      "Validation Loss for Epoch #19: [21.232483]\n",
      "Training Loss for Epoch #20: [21.232483]\n",
      "Validation Loss for Epoch #20: [20.139563]\n",
      "Training Loss for Epoch #21: [20.139563]\n",
      "Validation Loss for Epoch #21: [19.127203]\n",
      "Training Loss for Epoch #22: [19.127203]\n",
      "Validation Loss for Epoch #22: [18.189272]\n",
      "Training Loss for Epoch #23: [18.189272]\n",
      "Validation Loss for Epoch #23: [17.320127]\n",
      "Training Loss for Epoch #24: [17.320127]\n",
      "Validation Loss for Epoch #24: [16.514551]\n",
      "Training Loss for Epoch #25: [16.514551]\n",
      "Validation Loss for Epoch #25: [15.767734]\n",
      "Training Loss for Epoch #26: [15.767734]\n",
      "Validation Loss for Epoch #26: [15.075232]\n",
      "Training Loss for Epoch #27: [15.075232]\n",
      "Validation Loss for Epoch #27: [14.432947]\n",
      "Training Loss for Epoch #28: [14.432947]\n",
      "Validation Loss for Epoch #28: [13.837101]\n",
      "Training Loss for Epoch #29: [13.837101]\n",
      "Validation Loss for Epoch #29: [13.284198]\n",
      "Training Loss for Epoch #30: [13.284198]\n",
      "Validation Loss for Epoch #30: [12.771012]\n",
      "Training Loss for Epoch #31: [12.771012]\n",
      "Validation Loss for Epoch #31: [12.294569]\n",
      "Training Loss for Epoch #32: [12.294569]\n",
      "Validation Loss for Epoch #32: [11.852123]\n",
      "Training Loss for Epoch #33: [11.852123]\n",
      "Validation Loss for Epoch #33: [11.441131]\n",
      "Training Loss for Epoch #34: [11.441131]\n",
      "Validation Loss for Epoch #34: [11.059253]\n",
      "Training Loss for Epoch #35: [11.059253]\n",
      "Validation Loss for Epoch #35: [10.704323]\n",
      "Training Loss for Epoch #36: [10.704323]\n",
      "Validation Loss for Epoch #36: [10.374343]\n",
      "Training Loss for Epoch #37: [10.374343]\n",
      "Validation Loss for Epoch #37: [10.067465]\n",
      "Training Loss for Epoch #38: [10.067465]\n",
      "Validation Loss for Epoch #38: [9.781983]\n",
      "Training Loss for Epoch #39: [9.781983]\n",
      "Validation Loss for Epoch #39: [9.516323]\n",
      "Training Loss for Epoch #40: [9.516323]\n",
      "Validation Loss for Epoch #40: [9.269027]\n",
      "Training Loss for Epoch #41: [9.269027]\n",
      "Validation Loss for Epoch #41: [9.03875]\n",
      "Training Loss for Epoch #42: [9.03875]\n",
      "Validation Loss for Epoch #42: [8.824246]\n",
      "Training Loss for Epoch #43: [8.824246]\n",
      "Validation Loss for Epoch #43: [8.624368]\n",
      "Training Loss for Epoch #44: [8.624368]\n",
      "Validation Loss for Epoch #44: [8.43805]\n",
      "Training Loss for Epoch #45: [8.43805]\n",
      "Validation Loss for Epoch #45: [8.264315]\n",
      "Training Loss for Epoch #46: [8.264315]\n",
      "Validation Loss for Epoch #46: [8.102247]\n",
      "Training Loss for Epoch #47: [8.102247]\n",
      "Validation Loss for Epoch #47: [7.95101]\n",
      "Training Loss for Epoch #48: [7.95101]\n",
      "Validation Loss for Epoch #48: [7.809825]\n",
      "Training Loss for Epoch #49: [7.809825]\n",
      "Validation Loss for Epoch #49: [7.677974]\n",
      "Training Loss for Epoch #50: [7.677974]\n",
      "Validation Loss for Epoch #50: [7.55479]\n",
      "Training Loss for Epoch #51: [7.55479]\n",
      "Validation Loss for Epoch #51: [7.4396596]\n",
      "Training Loss for Epoch #52: [7.4396596]\n",
      "Validation Loss for Epoch #52: [7.3320103]\n",
      "Training Loss for Epoch #53: [7.3320103]\n",
      "Validation Loss for Epoch #53: [7.2313166]\n",
      "Training Loss for Epoch #54: [7.2313166]\n",
      "Validation Loss for Epoch #54: [7.137089]\n",
      "Training Loss for Epoch #55: [7.137089]\n",
      "Validation Loss for Epoch #55: [7.0488763]\n",
      "Training Loss for Epoch #56: [7.0488763]\n",
      "Validation Loss for Epoch #56: [6.966258]\n",
      "Training Loss for Epoch #57: [6.966258]\n",
      "Validation Loss for Epoch #57: [6.888848]\n",
      "Training Loss for Epoch #58: [6.888848]\n",
      "Validation Loss for Epoch #58: [6.8162856]\n",
      "Training Loss for Epoch #59: [6.8162856]\n",
      "Validation Loss for Epoch #59: [6.748236]\n",
      "Training Loss for Epoch #60: [6.748236]\n",
      "Validation Loss for Epoch #60: [6.684392]\n",
      "Training Loss for Epoch #61: [6.684392]\n",
      "Validation Loss for Epoch #61: [6.6244683]\n",
      "Training Loss for Epoch #62: [6.6244683]\n",
      "Validation Loss for Epoch #62: [6.568198]\n",
      "Training Loss for Epoch #63: [6.568198]\n",
      "Validation Loss for Epoch #63: [6.5153337]\n",
      "Training Loss for Epoch #64: [6.5153337]\n",
      "Validation Loss for Epoch #64: [6.4656487]\n",
      "Training Loss for Epoch #65: [6.4656487]\n",
      "Validation Loss for Epoch #65: [6.4189305]\n",
      "Training Loss for Epoch #66: [6.4189305]\n",
      "Validation Loss for Epoch #66: [6.374982]\n",
      "Training Loss for Epoch #67: [6.374982]\n",
      "Validation Loss for Epoch #67: [6.33362]\n",
      "Training Loss for Epoch #68: [6.33362]\n",
      "Validation Loss for Epoch #68: [6.294674]\n",
      "Training Loss for Epoch #69: [6.294674]\n",
      "Validation Loss for Epoch #69: [6.2579885]\n",
      "Training Loss for Epoch #70: [6.2579885]\n",
      "Validation Loss for Epoch #70: [6.223415]\n",
      "Training Loss for Epoch #71: [6.223415]\n",
      "Validation Loss for Epoch #71: [6.190817]\n",
      "Training Loss for Epoch #72: [6.190817]\n",
      "Validation Loss for Epoch #72: [6.160069]\n",
      "Training Loss for Epoch #73: [6.160069]\n",
      "Validation Loss for Epoch #73: [6.131053]\n",
      "Training Loss for Epoch #74: [6.131053]\n",
      "Validation Loss for Epoch #74: [6.1036587]\n",
      "Training Loss for Epoch #75: [6.1036587]\n",
      "Validation Loss for Epoch #75: [6.0777845]\n",
      "Training Loss for Epoch #76: [6.0777845]\n",
      "Validation Loss for Epoch #76: [6.0533338]\n",
      "Training Loss for Epoch #77: [6.0533338]\n",
      "Validation Loss for Epoch #77: [6.030221]\n",
      "Training Loss for Epoch #78: [6.030221]\n",
      "Validation Loss for Epoch #78: [6.008362]\n",
      "Training Loss for Epoch #79: [6.008362]\n",
      "Validation Loss for Epoch #79: [5.9876795]\n",
      "Training Loss for Epoch #80: [5.9876795]\n",
      "Validation Loss for Epoch #80: [5.9681025]\n",
      "Training Loss for Epoch #81: [5.9681025]\n",
      "Validation Loss for Epoch #81: [5.949565]\n",
      "Training Loss for Epoch #82: [5.949565]\n",
      "Validation Loss for Epoch #82: [5.9320025]\n",
      "Training Loss for Epoch #83: [5.9320025]\n",
      "Validation Loss for Epoch #83: [5.915358]\n",
      "Training Loss for Epoch #84: [5.915358]\n",
      "Validation Loss for Epoch #84: [5.899578]\n",
      "Training Loss for Epoch #85: [5.899578]\n",
      "Validation Loss for Epoch #85: [5.8846107]\n",
      "Training Loss for Epoch #86: [5.8846107]\n",
      "Validation Loss for Epoch #86: [5.870409]\n",
      "Training Loss for Epoch #87: [5.870409]\n",
      "Validation Loss for Epoch #87: [5.856929]\n",
      "Training Loss for Epoch #88: [5.856929]\n",
      "Validation Loss for Epoch #88: [5.8441277]\n",
      "Training Loss for Epoch #89: [5.8441277]\n",
      "Validation Loss for Epoch #89: [5.831969]\n",
      "Training Loss for Epoch #90: [5.831969]\n",
      "Validation Loss for Epoch #90: [5.820413]\n",
      "Training Loss for Epoch #91: [5.820413]\n",
      "Validation Loss for Epoch #91: [5.809429]\n",
      "Training Loss for Epoch #92: [5.809429]\n",
      "Validation Loss for Epoch #92: [5.7989845]\n",
      "Training Loss for Epoch #93: [5.7989845]\n",
      "Validation Loss for Epoch #93: [5.7890472]\n",
      "Training Loss for Epoch #94: [5.7890472]\n",
      "Validation Loss for Epoch #94: [5.779593]\n",
      "Training Loss for Epoch #95: [5.779593]\n",
      "Validation Loss for Epoch #95: [5.770592]\n",
      "Training Loss for Epoch #96: [5.770592]\n",
      "Validation Loss for Epoch #96: [5.762022]\n",
      "Training Loss for Epoch #97: [5.762022]\n",
      "Validation Loss for Epoch #97: [5.753858]\n",
      "Training Loss for Epoch #98: [5.753858]\n",
      "Validation Loss for Epoch #98: [5.7460804]\n",
      "Training Loss for Epoch #99: [5.7460804]\n",
      "Validation Loss for Epoch #99: [5.738667]\n",
      "Training Loss for Epoch #100: [5.738667]\n",
      "Validation Loss for Epoch #100: [5.7316003]\n"
     ]
    }
   ],
   "source": [
    "let taughtLinearModel = linearTeacher.teachModel(model: linearModel, \n",
    "                                                 numberOfEpochs: 100)"
   ]
  },
  {
   "cell_type": "code",
   "execution_count": 157,
   "metadata": {},
   "outputs": [
    {
     "data": {
      "image/png": "[encoded data removed]",
      "text/plain": [
       "<Figure size 432x288 with 1 Axes>"
      ]
     },
     "metadata": {
      "needs_background": "light"
     },
     "output_type": "display_data"
    }
   ],
   "source": [
    "showYHat(yHat: taughtLinearModel.apply(inputTensor: A))"
   ]
  },
  {
   "cell_type": "markdown",
   "metadata": {},
   "source": [
    "# Car Data!"
   ]
  },
  {
   "cell_type": "code",
   "execution_count": 161,
   "metadata": {},
   "outputs": [],
   "source": [
    "//export\n",
    "let carDataYCSV = \"/home/ubuntu/.machine-learning/data/car_stuff/pakistan_car_labels.csv\"\n",
    "let carDataXCSV = \"/home/ubuntu/.machine-learning/data/car_stuff/pakistan_car_x_data.csv\"\n",
    "\n",
    "public let numpy = Python.import(\"numpy\")\n",
    "\n",
    "func createDataSet(featureTensor: TensorFloat, \n",
    "                   labelTensor: TensorFloat, \n",
    "                   batchSize: Int) -> Dataset<SupervisedLearningGroup> {\n",
    "    return Dataset(featuresTensor: featureTensor, labelsTensor: labelTensor)\n",
    "                    .batched(batchSize)\n",
    "                    .shuffled(sampleCount: 64, \n",
    "                              randomSeed: 69, \n",
    "                              reshuffleForEachIterator: true)\n",
    "}\n",
    "\n",
    "public func getUsedCarDataBunch(validationSize: Double = 0.2,\n",
    "                             batchSize: Int = 1028\n",
    "                            ) -> DataBunch<SupervisedLearningGroup> {\n",
    "    let usedCarFeaturesArray = numpy.loadtxt(carDataXCSV, \n",
    "                                delimiter: \",\", \n",
    "                                skiprows: 1, \n",
    "                                usecols: Array(1...8), \n",
    "                                dtype: Float.numpyScalarTypes.first!)\n",
    "    let categoricalVariableSet: Set = [0,1,2,3,4,5,6,7]\n",
    "    let continousVariableSet: Set = [-1]\n",
    "    let usedCarFeatureTensor = reScaleFeatures(featureTensor: TensorFloat(numpy: usedCarFeaturesArray)!, \n",
    "                                               catVars: categoricalVariableSet, \n",
    "                                               contVars: continousVariableSet)\n",
    "    \n",
    "    let usedCarPrices = numpy.loadtxt(carDataYCSV, \n",
    "                                delimiter: \",\", \n",
    "                                skiprows: 0, \n",
    "                                usecols: [1], \n",
    "                                dtype: Float.numpyScalarTypes.first!)\n",
    "    let usedCarLabelsTensor = TensorFloat(numpy: usedCarPrices)!\n",
    "    \n",
    "    let numberOfUsedCars = usedCarFeatureTensor.shape[0]\n",
    "    let numberOfUsedCarFeatures = usedCarFeatureTensor.shape[1]\n",
    "    \n",
    "    let validationDatasetSize = Int32(floor(validationSize * Double(numberOfUsedCars)))\n",
    "    let trainingDataSetSize = Int32(numberOfUsedCars) - validationDatasetSize\n",
    "    \n",
    "    \n",
    "    let splitFeatures = usedCarFeatureTensor\n",
    "                                .split(sizes: Tensor<Int32>([validationDatasetSize, trainingDataSetSize]), \n",
    "                                       alongAxis: 0)\n",
    "    let splitLabels = usedCarLabelsTensor\n",
    "                            .split(sizes: Tensor<Int32>([validationDatasetSize, trainingDataSetSize]), \n",
    "                                   alongAxis: 0)\n",
    "    \n",
    "    let validationDataSet = createDataSet(featureTensor: splitFeatures[0],\n",
    "                                        labelTensor: splitLabels[0], batchSize: batchSize)\n",
    "    let trainingDataSet = createDataSet(featureTensor: splitFeatures[1],\n",
    "                                        labelTensor: splitLabels[1], batchSize: batchSize)\n",
    "    return DataBunch(trainingDataset: trainingDataSet, \n",
    "                     validationDataset: validationDataSet)\n",
    "}"
   ]
  },
  {
   "cell_type": "code",
   "execution_count": 162,
   "metadata": {},
   "outputs": [],
   "source": [
    "let usedCarDataBunch = getUsedCarDataBunch()"
   ]
  },
  {
   "cell_type": "code",
   "execution_count": 173,
   "metadata": {},
   "outputs": [],
   "source": [
    "let meanSquaredErrorLossy = MeanSquaredErrorLossFunction()\n",
    "let protoTrainingDelegate = TrainingDelegate(lossFunction: meanSquaredErrorLossy)\n",
    "let protoValidationDelegate = ValidationDelegate(lossFunction: meanSquaredErrorLossy)"
   ]
  },
  {
   "cell_type": "code",
   "execution_count": 174,
   "metadata": {},
   "outputs": [],
   "source": [
    "let protoModelTeacher = Teacher(dataBunch: usedCarDataBunch, \n",
    "                                trainingDelegate: protoTrainingDelegate, \n",
    "                                validationDelegate: protoValidationDelegate)"
   ]
  },
  {
   "cell_type": "code",
   "execution_count": 175,
   "metadata": {},
   "outputs": [
    {
     "data": {
      "text/plain": [
       "▿ SimpleModel\n",
       "  ▿ denseLayer : DenseLayerV2\n",
       "    - activationFunction : (Function)\n",
       "    - weightParameter : [[  0.37558678],\n",
       " [  -0.5671718],\n",
       " [ -0.08515842],\n",
       " [ -0.37828487],\n",
       " [-0.118191876],\n",
       " [  0.06650527],\n",
       " [  0.20711632],\n",
       " [   0.4951555]]\n",
       "    - biasParameter : [0.0]\n",
       "    - gradientChain : (Function)\n"
      ]
     },
     "execution_count": 175,
     "metadata": {},
     "output_type": "execute_result"
    }
   ],
   "source": [
    "let firstValidationBatch = usedCarDataBunch.validationDataset.first!\n",
    "let simpleUntrainedModel = SimpleModel(inputSize: firstValidationBatch.features.shape[1], \n",
    "                                       numberOfClasses: 1)\n",
    "simpleUntrainedModel"
   ]
  },
  {
   "cell_type": "code",
   "execution_count": 176,
   "metadata": {},
   "outputs": [
    {
     "data": {
      "text/plain": [
       "1.6359745e+12\n"
      ]
     },
     "execution_count": 176,
     "metadata": {},
     "output_type": "execute_result"
    }
   ],
   "source": [
    "let predictions = simpleUntrainedModel.apply(inputTensor: firstValidationBatch.features)\n",
    "meanSquaredErrorLossy.calculateLoss(expectedTensor: firstValidationBatch.labels, \n",
    "                                    actualTensor: predictions)"
   ]
  },
  {
   "cell_type": "code",
   "execution_count": 177,
   "metadata": {},
   "outputs": [
    {
     "name": "stdout",
     "output_type": "stream",
     "text": [
      "Training Loss for Epoch #1: [3.1760554e+12]\n",
      "Validation Loss for Epoch #1: [9.557892e+11]\n",
      "Training Loss for Epoch #2: [2.8022515e+12]\n",
      "Validation Loss for Epoch #2: [8.456257e+11]\n",
      "Training Loss for Epoch #3: [2.7265299e+12]\n",
      "Validation Loss for Epoch #3: [8.3002694e+11]\n",
      "Training Loss for Epoch #4: [2.709168e+12]\n",
      "Validation Loss for Epoch #4: [8.284951e+11]\n",
      "Training Loss for Epoch #5: [2.703412e+12]\n",
      "Validation Loss for Epoch #5: [8.279577e+11]\n",
      "Training Loss for Epoch #6: [2.7001086e+12]\n",
      "Validation Loss for Epoch #6: [8.269018e+11]\n",
      "Training Loss for Epoch #7: [2.6974051e+12]\n",
      "Validation Loss for Epoch #7: [8.2546144e+11]\n",
      "Training Loss for Epoch #8: [2.6948983e+12]\n",
      "Validation Loss for Epoch #8: [8.238446e+11]\n",
      "Training Loss for Epoch #9: [2.6924912e+12]\n",
      "Validation Loss for Epoch #9: [8.2216924e+11]\n",
      "Training Loss for Epoch #10: [2.6901542e+12]\n",
      "Validation Loss for Epoch #10: [8.2049145e+11]\n",
      "Training Loss for Epoch #11: [2.6878762e+12]\n",
      "Validation Loss for Epoch #11: [8.188356e+11]\n",
      "Training Loss for Epoch #12: [2.6856527e+12]\n",
      "Validation Loss for Epoch #12: [8.172122e+11]\n",
      "Training Loss for Epoch #13: [2.6834806e+12]\n",
      "Validation Loss for Epoch #13: [8.156251e+11]\n",
      "Training Loss for Epoch #14: [2.681358e+12]\n",
      "Validation Loss for Epoch #14: [8.14075e+11]\n",
      "Training Loss for Epoch #15: [2.6792842e+12]\n",
      "Validation Loss for Epoch #15: [8.125623e+11]\n",
      "Training Loss for Epoch #16: [2.677257e+12]\n",
      "Validation Loss for Epoch #16: [8.110861e+11]\n",
      "Training Loss for Epoch #17: [2.675275e+12]\n",
      "Validation Loss for Epoch #17: [8.096458e+11]\n",
      "Training Loss for Epoch #18: [2.6733382e+12]\n",
      "Validation Loss for Epoch #18: [8.0824035e+11]\n",
      "Training Loss for Epoch #19: [2.6714442e+12]\n",
      "Validation Loss for Epoch #19: [8.0686894e+11]\n",
      "Training Loss for Epoch #20: [2.6695927e+12]\n",
      "Validation Loss for Epoch #20: [8.055309e+11]\n",
      "Training Loss for Epoch #21: [2.6677823e+12]\n",
      "Validation Loss for Epoch #21: [8.04225e+11]\n",
      "Training Loss for Epoch #22: [2.6660118e+12]\n",
      "Validation Loss for Epoch #22: [8.029508e+11]\n",
      "Training Loss for Epoch #23: [2.664281e+12]\n",
      "Validation Loss for Epoch #23: [8.0170726e+11]\n",
      "Training Loss for Epoch #24: [2.6625874e+12]\n",
      "Validation Loss for Epoch #24: [8.004936e+11]\n",
      "Training Loss for Epoch #25: [2.6609317e+12]\n",
      "Validation Loss for Epoch #25: [7.9930904e+11]\n",
      "Training Loss for Epoch #26: [2.6593127e+12]\n",
      "Validation Loss for Epoch #26: [7.98153e+11]\n",
      "Training Loss for Epoch #27: [2.657729e+12]\n",
      "Validation Loss for Epoch #27: [7.970244e+11]\n",
      "Training Loss for Epoch #28: [2.6561793e+12]\n",
      "Validation Loss for Epoch #28: [7.9592286e+11]\n",
      "Training Loss for Epoch #29: [2.6546636e+12]\n",
      "Validation Loss for Epoch #29: [7.9484754e+11]\n",
      "Training Loss for Epoch #30: [2.653181e+12]\n",
      "Validation Loss for Epoch #30: [7.9379785e+11]\n",
      "Training Loss for Epoch #31: [2.6517305e+12]\n",
      "Validation Loss for Epoch #31: [7.9277307e+11]\n",
      "Training Loss for Epoch #32: [2.6503112e+12]\n",
      "Validation Loss for Epoch #32: [7.917725e+11]\n",
      "Training Loss for Epoch #33: [2.648923e+12]\n",
      "Validation Loss for Epoch #33: [7.907957e+11]\n",
      "Training Loss for Epoch #34: [2.6475634e+12]\n",
      "Validation Loss for Epoch #34: [7.89842e+11]\n",
      "Training Loss for Epoch #35: [2.646234e+12]\n",
      "Validation Loss for Epoch #35: [7.889105e+11]\n",
      "Training Loss for Epoch #36: [2.6449326e+12]\n",
      "Validation Loss for Epoch #36: [7.88001e+11]\n",
      "Training Loss for Epoch #37: [2.6436593e+12]\n",
      "Validation Loss for Epoch #37: [7.871129e+11]\n",
      "Training Loss for Epoch #38: [2.6424128e+12]\n",
      "Validation Loss for Epoch #38: [7.862455e+11]\n",
      "Training Loss for Epoch #39: [2.6411928e+12]\n",
      "Validation Loss for Epoch #39: [7.853983e+11]\n",
      "Training Loss for Epoch #40: [2.639998e+12]\n",
      "Validation Loss for Epoch #40: [7.8457084e+11]\n",
      "Training Loss for Epoch #41: [2.638829e+12]\n",
      "Validation Loss for Epoch #41: [7.837625e+11]\n",
      "Training Loss for Epoch #42: [2.6376843e+12]\n",
      "Validation Loss for Epoch #42: [7.829731e+11]\n",
      "Training Loss for Epoch #43: [2.6365633e+12]\n",
      "Validation Loss for Epoch #43: [7.8220185e+11]\n",
      "Training Loss for Epoch #44: [2.6354663e+12]\n",
      "Validation Loss for Epoch #44: [7.8144825e+11]\n",
      "Training Loss for Epoch #45: [2.6343915e+12]\n",
      "Validation Loss for Epoch #45: [7.8071215e+11]\n",
      "Training Loss for Epoch #46: [2.6333395e+12]\n",
      "Validation Loss for Epoch #46: [7.799928e+11]\n",
      "Training Loss for Epoch #47: [2.632309e+12]\n",
      "Validation Loss for Epoch #47: [7.7928995e+11]\n",
      "Training Loss for Epoch #48: [2.6313e+12]\n",
      "Validation Loss for Epoch #48: [7.786031e+11]\n",
      "Training Loss for Epoch #49: [2.6303115e+12]\n",
      "Validation Loss for Epoch #49: [7.779319e+11]\n",
      "Training Loss for Epoch #50: [2.6293429e+12]\n",
      "Validation Loss for Epoch #50: [7.7727597e+11]\n",
      "Training Loss for Epoch #51: [2.6283947e+12]\n",
      "Validation Loss for Epoch #51: [7.766346e+11]\n",
      "Training Loss for Epoch #52: [2.6274656e+12]\n",
      "Validation Loss for Epoch #52: [7.760081e+11]\n",
      "Training Loss for Epoch #53: [2.6265555e+12]\n",
      "Validation Loss for Epoch #53: [7.753954e+11]\n",
      "Training Loss for Epoch #54: [2.6256631e+12]\n",
      "Validation Loss for Epoch #54: [7.747966e+11]\n",
      "Training Loss for Epoch #55: [2.6247897e+12]\n",
      "Validation Loss for Epoch #55: [7.742111e+11]\n",
      "Training Loss for Epoch #56: [2.623933e+12]\n",
      "Validation Loss for Epoch #56: [7.7363865e+11]\n",
      "Training Loss for Epoch #57: [2.623094e+12]\n",
      "Validation Loss for Epoch #57: [7.73079e+11]\n",
      "Training Loss for Epoch #58: [2.6222715e+12]\n",
      "Validation Loss for Epoch #58: [7.725317e+11]\n",
      "Training Loss for Epoch #59: [2.6214652e+12]\n",
      "Validation Loss for Epoch #59: [7.719964e+11]\n",
      "Training Loss for Epoch #60: [2.620675e+12]\n",
      "Validation Loss for Epoch #60: [7.71473e+11]\n",
      "Training Loss for Epoch #61: [2.6199007e+12]\n",
      "Validation Loss for Epoch #61: [7.70961e+11]\n",
      "Training Loss for Epoch #62: [2.6191413e+12]\n",
      "Validation Loss for Epoch #62: [7.704602e+11]\n",
      "Training Loss for Epoch #63: [2.6183973e+12]\n",
      "Validation Loss for Epoch #63: [7.6997034e+11]\n",
      "Training Loss for Epoch #64: [2.6176672e+12]\n",
      "Validation Loss for Epoch #64: [7.694911e+11]\n",
      "Training Loss for Epoch #65: [2.6169513e+12]\n",
      "Validation Loss for Epoch #65: [7.690223e+11]\n",
      "Training Loss for Epoch #66: [2.6162495e+12]\n",
      "Validation Loss for Epoch #66: [7.685636e+11]\n",
      "Training Loss for Epoch #67: [2.6155614e+12]\n",
      "Validation Loss for Epoch #67: [7.6811475e+11]\n",
      "Training Loss for Epoch #68: [2.6148861e+12]\n",
      "Validation Loss for Epoch #68: [7.6767547e+11]\n",
      "Training Loss for Epoch #69: [2.6142245e+12]\n",
      "Validation Loss for Epoch #69: [7.6724555e+11]\n",
      "Training Loss for Epoch #70: [2.613575e+12]\n",
      "Validation Loss for Epoch #70: [7.6682474e+11]\n",
      "Training Loss for Epoch #71: [2.6129381e+12]\n",
      "Validation Loss for Epoch #71: [7.66413e+11]\n",
      "Training Loss for Epoch #72: [2.6123127e+12]\n",
      "Validation Loss for Epoch #72: [7.660098e+11]\n",
      "Training Loss for Epoch #73: [2.6117003e+12]\n",
      "Validation Loss for Epoch #73: [7.6561514e+11]\n",
      "Training Loss for Epoch #74: [2.6110987e+12]\n",
      "Validation Loss for Epoch #74: [7.652286e+11]\n",
      "Training Loss for Epoch #75: [2.6105086e+12]\n",
      "Validation Loss for Epoch #75: [7.648504e+11]\n",
      "Training Loss for Epoch #76: [2.6099287e+12]\n",
      "Validation Loss for Epoch #76: [7.644799e+11]\n",
      "Training Loss for Epoch #77: [2.6093607e+12]\n",
      "Validation Loss for Epoch #77: [7.6411706e+11]\n",
      "Training Loss for Epoch #78: [2.608803e+12]\n",
      "Validation Loss for Epoch #78: [7.6376166e+11]\n",
      "Training Loss for Epoch #79: [2.608255e+12]\n",
      "Validation Loss for Epoch #79: [7.634137e+11]\n",
      "Training Loss for Epoch #80: [2.6077178e+12]\n",
      "Validation Loss for Epoch #80: [7.6307274e+11]\n",
      "Training Loss for Epoch #81: [2.60719e+12]\n",
      "Validation Loss for Epoch #81: [7.627388e+11]\n",
      "Training Loss for Epoch #82: [2.6066716e+12]\n",
      "Validation Loss for Epoch #82: [7.6241004e+11]\n",
      "Training Loss for Epoch #83: [2.606162e+12]\n",
      "Validation Loss for Epoch #83: [7.620884e+11]\n",
      "Training Loss for Epoch #84: [2.6056623e+12]\n",
      "Validation Loss for Epoch #84: [7.617737e+11]\n",
      "Training Loss for Epoch #85: [2.6051708e+12]\n",
      "Validation Loss for Epoch #85: [7.614653e+11]\n",
      "Training Loss for Epoch #86: [2.6046885e+12]\n",
      "Validation Loss for Epoch #86: [7.611631e+11]\n",
      "Training Loss for Epoch #87: [2.6042148e+12]\n",
      "Validation Loss for Epoch #87: [7.60867e+11]\n",
      "Training Loss for Epoch #88: [2.6037497e+12]\n",
      "Validation Loss for Epoch #88: [7.605768e+11]\n",
      "Training Loss for Epoch #89: [2.603292e+12]\n",
      "Validation Loss for Epoch #89: [7.6029225e+11]\n",
      "Training Loss for Epoch #90: [2.6028435e+12]\n",
      "Validation Loss for Epoch #90: [7.600133e+11]\n",
      "Training Loss for Epoch #91: [2.6024023e+12]\n",
      "Validation Loss for Epoch #91: [7.5974e+11]\n"
     ]
    },
    {
     "name": "stdout",
     "output_type": "stream",
     "text": [
      "Training Loss for Epoch #92: [2.6019687e+12]\n",
      "Validation Loss for Epoch #92: [7.5947173e+11]\n",
      "Training Loss for Epoch #93: [2.6015427e+12]\n",
      "Validation Loss for Epoch #93: [7.592089e+11]\n",
      "Training Loss for Epoch #94: [2.601125e+12]\n",
      "Validation Loss for Epoch #94: [7.589509e+11]\n",
      "Training Loss for Epoch #95: [2.6007133e+12]\n",
      "Validation Loss for Epoch #95: [7.586979e+11]\n",
      "Training Loss for Epoch #96: [2.6003096e+12]\n",
      "Validation Loss for Epoch #96: [7.584497e+11]\n",
      "Training Loss for Epoch #97: [2.5999125e+12]\n",
      "Validation Loss for Epoch #97: [7.582063e+11]\n",
      "Training Loss for Epoch #98: [2.5995221e+12]\n",
      "Validation Loss for Epoch #98: [7.5796736e+11]\n",
      "Training Loss for Epoch #99: [2.5991378e+12]\n",
      "Validation Loss for Epoch #99: [7.57733e+11]\n",
      "Training Loss for Epoch #100: [2.598761e+12]\n",
      "Validation Loss for Epoch #100: [7.575027e+11]\n"
     ]
    }
   ],
   "source": [
    "let simpleTrainedModel = protoModelTeacher.teachModel(model: simpleUntrainedModel, \n",
    "                                                      numberOfEpochs: 100)"
   ]
  },
  {
   "cell_type": "code",
   "execution_count": 178,
   "metadata": {},
   "outputs": [
    {
     "data": {
      "text/plain": [
       "7.7298545e+11\n"
      ]
     },
     "execution_count": 178,
     "metadata": {},
     "output_type": "execute_result"
    }
   ],
   "source": [
    "let predictions = simpleTrainedModel.apply(inputTensor: firstValidationBatch.features)\n",
    "meanSquaredErrorLossy.calculateLoss(expectedTensor: firstValidationBatch.labels, \n",
    "                                    actualTensor: predictions)"
   ]
  },
  {
   "cell_type": "code",
   "execution_count": 179,
   "metadata": {},
   "outputs": [
    {
     "data": {
      "text/plain": [
       "▿ SimpleModel\n",
       "  ▿ denseLayer : DenseLayerV2\n",
       "    - activationFunction : (Function)\n",
       "    - weightParameter : [[-268037.66],\n",
       " [ 899319.56],\n",
       " [-436068.47],\n",
       " [  868564.9],\n",
       " [ 406927.28],\n",
       " [-361743.38],\n",
       " [  397591.9],\n",
       " [-92722.445]]\n",
       "    - biasParameter : [468186.0]\n",
       "    - gradientChain : (Function)\n"
      ]
     },
     "execution_count": 179,
     "metadata": {},
     "output_type": "execute_result"
    }
   ],
   "source": [
    "simpleTrainedModel"
   ]
  },
  {
   "cell_type": "code",
   "execution_count": 180,
   "metadata": {},
   "outputs": [],
   "source": [
    "\n",
    "let inputSize = firstValidationBatch.features.shape[1]\n",
    "let hiddenSize = Int(inputSize / 2)\n",
    "\n",
    "struct IrisModel: Layer {\n",
    "    var layer1 = Dense<Float>(inputSize: inputSize, outputSize: hiddenSize, activation: relu)\n",
    "    var layer2 = Dense<Float>(inputSize: hiddenSize, outputSize: hiddenSize, activation: relu)\n",
    "    var layer3 = Dense<Float>(inputSize: hiddenSize, outputSize: 1)\n",
    "    \n",
    "    @differentiable\n",
    "    func callAsFunction(_ input: Tensor<Float>) -> Tensor<Float> {\n",
    "        return input.sequenced(through: layer1, layer2, layer3)\n",
    "    }\n",
    "}\n",
    "\n",
    "var model = IrisModel()"
   ]
  },
  {
   "cell_type": "code",
   "execution_count": 181,
   "metadata": {},
   "outputs": [
    {
     "data": {
      "text/plain": [
       "[[-0.16186035],\n",
       " [        0.0],\n",
       " [-0.21139519],\n",
       " [-0.15040372],\n",
       " [-0.15040372]]\n"
      ]
     },
     "execution_count": 181,
     "metadata": {},
     "output_type": "execute_result"
    }
   ],
   "source": [
    "let firstTrainPredictions = model(firstValidationBatch.features)\n",
    "firstTrainPredictions[0..<5]"
   ]
  },
  {
   "cell_type": "code",
   "execution_count": 183,
   "metadata": {},
   "outputs": [
    {
     "data": {
      "text/plain": [
       "1.635975e+12\n"
      ]
     },
     "execution_count": 183,
     "metadata": {},
     "output_type": "execute_result"
    }
   ],
   "source": [
    "let libLoss = meanSquaredError(predicted: firstTrainPredictions, expected:firstValidationBatch.labels)\n",
    "libLoss"
   ]
  },
  {
   "cell_type": "code",
   "execution_count": 184,
   "metadata": {},
   "outputs": [
    {
     "data": {
      "text/plain": [
       "1.635975e+12\n"
      ]
     },
     "execution_count": 184,
     "metadata": {},
     "output_type": "execute_result"
    }
   ],
   "source": [
    "let (myLoss, myGrad) = meanSquaredErrorAndGradient(yHat: firstTrainPredictions, y: firstValidationBatch.labels)\n",
    "myLoss"
   ]
  },
  {
   "cell_type": "code",
   "execution_count": 185,
   "metadata": {},
   "outputs": [],
   "source": [
    "let optimizer = SGD(for: model, learningRate: 0.01)"
   ]
  },
  {
   "cell_type": "code",
   "execution_count": 189,
   "metadata": {},
   "outputs": [
    {
     "data": {
      "text/plain": [
       "1.635975e+12\n"
      ]
     },
     "execution_count": 189,
     "metadata": {},
     "output_type": "execute_result"
    }
   ],
   "source": [
    "let (libLoss2, libGrads) = model.valueWithGradient {\n",
    "    model -> TensorFloat in\n",
    "    let libPreds = model(firstValidationBatch.features)\n",
    "    return meanSquaredError(predicted: libPreds, expected: firstValidationBatch.labels)\n",
    "}\n",
    "libLoss2"
   ]
  },
  {
   "cell_type": "code",
   "execution_count": 190,
   "metadata": {},
   "outputs": [],
   "source": [
    "optimizer.update(&model.allDifferentiableVariables, along: libGrads)"
   ]
  },
  {
   "cell_type": "code",
   "execution_count": 192,
   "metadata": {},
   "outputs": [
    {
     "data": {
      "text/plain": [
       "1.6046937e+12\n"
      ]
     },
     "execution_count": 192,
     "metadata": {},
     "output_type": "execute_result"
    }
   ],
   "source": [
    "let libLossEnhanced = meanSquaredError(predicted: model(firstValidationBatch.features), \n",
    "                                       expected:firstValidationBatch.labels)\n",
    "libLossEnhanced"
   ]
  },
  {
   "cell_type": "code",
   "execution_count": null,
   "metadata": {},
   "outputs": [],
   "source": []
  }
 ],
 "metadata": {
  "kernelspec": {
   "display_name": "Swift",
   "language": "swift",
   "name": "swift"
  },
  "language_info": {
   "file_extension": ".swift",
   "mimetype": "text/x-swift",
   "name": "swift",
   "version": ""
  }
 },
 "nbformat": 4,
 "nbformat_minor": 2
}
