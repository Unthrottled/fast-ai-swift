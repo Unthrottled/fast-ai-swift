{
 "cells": [
  {
   "cell_type": "code",
   "execution_count": 1,
   "metadata": {
    "colab": {},
    "colab_type": "code",
    "id": "kZRlD4utdPuX"
   },
   "outputs": [
    {
     "name": "stdout",
     "output_type": "stream",
     "text": [
      "Installing packages:\n",
      "\t.package(path: \"/home/ubuntu/workspace/fast-ai-swift/SchwiftyNotebook_matrix_multiplication\")\n",
      "\t\tSchwiftyNotebook_matrix_multiplication\n",
      "With SwiftPM flags: []\n",
      "Working in: /tmp/tmp1zpv_c49/swift-install\n",
      "warning: /home/ubuntu/swift/usr/bin/swiftc: /home/ubuntu/anaconda3/envs/swift-env/lib/libuuid.so.1: no version information available (required by /home/ubuntu/swift/usr/bin/swiftc)\n",
      "/home/ubuntu/swift/usr/bin/swift: /home/ubuntu/anaconda3/envs/swift-env/lib/libuuid.so.1: no version information available (required by /home/ubuntu/swift/usr/bin/swift)\n",
      "warning: /home/ubuntu/swift/usr/bin/swiftc: /home/ubuntu/anaconda3/envs/swift-env/lib/libuuid.so.1: no version information available (required by /home/ubuntu/swift/usr/bin/swiftc)\n",
      "/home/ubuntu/swift/usr/bin/swift: /home/ubuntu/anaconda3/envs/swift-env/lib/libuuid.so.1: no version information available (required by /home/ubuntu/swift/usr/bin/swift)\n",
      "warning: /home/ubuntu/swift/usr/bin/swiftc: /home/ubuntu/anaconda3/envs/swift-env/lib/libuuid.so.1: no version information available (required by /home/ubuntu/swift/usr/bin/swiftc)\n",
      "/home/ubuntu/swift/usr/bin/swift: /home/ubuntu/anaconda3/envs/swift-env/lib/libuuid.so.1: no version information available (required by /home/ubuntu/swift/usr/bin/swift)\n",
      "warning: /home/ubuntu/swift/usr/bin/swiftc: /home/ubuntu/anaconda3/envs/swift-env/lib/libuuid.so.1: no version information available (required by /home/ubuntu/swift/usr/bin/swiftc)\n",
      "/home/ubuntu/swift/usr/bin/swift: /home/ubuntu/anaconda3/envs/swift-env/lib/libuuid.so.1: no version information available (required by /home/ubuntu/swift/usr/bin/swift)\n",
      "warning: /home/ubuntu/swift/usr/bin/swiftc: /home/ubuntu/anaconda3/envs/swift-env/lib/libuuid.so.1: no version information available (required by /home/ubuntu/swift/usr/bin/swiftc)\n",
      "/home/ubuntu/swift/usr/bin/swift: /home/ubuntu/anaconda3/envs/swift-env/lib/libuuid.so.1: no version information available (required by /home/ubuntu/swift/usr/bin/swift)\n",
      "warning: /home/ubuntu/swift/usr/bin/swiftc: /home/ubuntu/anaconda3/envs/swift-env/lib/libuuid.so.1: no version information available (required by /home/ubuntu/swift/usr/bin/swiftc)\n",
      "/home/ubuntu/swift/usr/bin/swift: /home/ubuntu/anaconda3/envs/swift-env/lib/libuuid.so.1: no version information available (required by /home/ubuntu/swift/usr/bin/swift)\n",
      "/home/ubuntu/swift/usr/bin/swiftc: /home/ubuntu/anaconda3/envs/swift-env/lib/libuuid.so.1: no version information available (required by /home/ubuntu/swift/usr/bin/swiftc)\n",
      "/home/ubuntu/swift/usr/bin/swiftc: /home/ubuntu/anaconda3/envs/swift-env/lib/libuuid.so.1: no version information available (required by /home/ubuntu/swift/usr/bin/swiftc)[1/2] Compiling jupyterInstalledPackages jupyterInstalledPackages.swift\n",
      "/home/ubuntu/swift/usr/bin/swift: /home/ubuntu/anaconda3/envs/swift-env/lib/libuuid.so.1: no version information available (required by /home/ubuntu/swift/usr/bin/swift)\n",
      "[2/3] Merging module jupyterInstalledPackages\n",
      "/home/ubuntu/swift/usr/bin/swift: /home/ubuntu/anaconda3/envs/swift-env/lib/libuuid.so.1: no version information available (required by /home/ubuntu/swift/usr/bin/swift)\n",
      "Initializing Swift...\n",
      "Installation complete!\n"
     ]
    }
   ],
   "source": [
    "%install-location $cwd/swift-install\n",
    "%install '.package(path: \"$cwd/SchwiftyNotebook_matrix_multiplication\")' SchwiftyNotebook_matrix_multiplication"
   ]
  },
  {
   "cell_type": "code",
   "execution_count": 2,
   "metadata": {},
   "outputs": [],
   "source": [
    "//export\n",
    "import Path\n",
    "import TensorFlow\n",
    "import SchwiftyNotebook_matrix_multiplication"
   ]
  },
  {
   "cell_type": "code",
   "execution_count": 3,
   "metadata": {},
   "outputs": [],
   "source": [
    "//export\n",
    "public func reLU<T>(tensor: Tensor<T>) -> Tensor<T> where T : FloatingPoint, T: TensorFlowScalar {\n",
    "    return max(tensor, 0)\n",
    "}"
   ]
  },
  {
   "cell_type": "code",
   "execution_count": 4,
   "metadata": {},
   "outputs": [],
   "source": [
    "//export\n",
    "public func linearCombination<T>(inputs: Tensor<T>, weights: Tensor<T>, bias: Tensor<T>) -> Tensor<T> where T: FloatingPoint, T: TensorFlowScalar {\n",
    "    return matmul(inputs, weights) + bias\n",
    "}"
   ]
  },
  {
   "cell_type": "code",
   "execution_count": 5,
   "metadata": {},
   "outputs": [],
   "source": [
    "// export\n",
    "public typealias TensorFloat=Tensor<Float>\n",
    "public func assertNearZero(_ tensor: TensorFloat, _ threshold: Float = 1e-3){\n",
    "    assert(tensor < threshold, \"Expected \\(tensor) to be less than \\(threshold)\")\n",
    "}"
   ]
  },
  {
   "cell_type": "code",
   "execution_count": 7,
   "metadata": {},
   "outputs": [
    {
     "ename": "",
     "evalue": "",
     "output_type": "error",
     "traceback": [
      "error: <Cell 7>:30:11: error: use of unresolved identifier 'repeating'\n    guard repeating > 0 else { return }\n          ^~~~~~~~~\n\nerror: <Cell 7>:33:8: error: use of unresolved identifier 'repeating'\n    if repeating > 1 { f() }\n       ^~~~~~~~~\n\nerror: <Cell 7>:36:18: error: use of unresolved identifier 'repeating'\n    for _ in 1...repeating {\n                 ^~~~~~~~~\n\n"
     ]
    }
   ],
   "source": [
    "//export\n",
    "import Dispatch\n",
    "\n",
    "func getTimeUnit(_ nanoSeconds: Double) -> String {\n",
    "    let powerOfTen = floor(log10(nanoSeconds))\n",
    "    switch powerOfTen {\n",
    "        case 1..<3:\n",
    "            return \"\\(nanoSeconds) ns\"\n",
    "        case 3..<6:\n",
    "            return \"\\(nanoSeconds/1e3) µs\"\n",
    "        case 6..<9: \n",
    "            return \"\\(nanoSeconds/1e6) ms\"\n",
    "        default: \n",
    "            return \"\\(nanoSeconds/1e9) s\"\n",
    "    }\n",
    "}\n",
    "\n",
    "// ⏰Time how long it takes to run the specified function, optionally taking\n",
    "// the average across a number of repetitions.\n",
    "public func withTime<T>(_ f: () -> T) -> T {\n",
    "    let start = DispatchTime.now()\n",
    "    let value = f()\n",
    "    let end = DispatchTime.now()\n",
    "    let nanoSeconds = Double(end.uptimeNanoseconds - start.uptimeNanoseconds)\n",
    "    print(\"elapsed time: \\(getTimeUnit(nanoSeconds))\")\n",
    "    return value\n",
    "}\n",
    "\n",
    "public func timeTrials(trials: Int = 1, _ f: () -> ()) {\n",
    "    guard repeating > 0 else { return }\n",
    "    \n",
    "    // Warmup\n",
    "    if trials > 1 { f() }\n",
    "    \n",
    "    var times = [Double]()\n",
    "    for _ in 1...trials {\n",
    "        let start = DispatchTime.now()\n",
    "        f()\n",
    "        let end = DispatchTime.now()\n",
    "        let nanoseconds = Double(end.uptimeNanoseconds - start.uptimeNanoseconds)\n",
    "        times.append(nanoseconds)\n",
    "    }\n",
    "    print(\"average: \\(getTimeUnit(times.reduce(0.0, +)/Double(times.count))),   \" +\n",
    "          \"min: \\(getTimeUnit(times.reduce(times[0], min))),   \" +\n",
    "          \"max: \\(getTimeUnit(times.reduce(times[0], max)))\")\n",
    "}"
   ]
  },
  {
   "cell_type": "code",
   "execution_count": 7,
   "metadata": {},
   "outputs": [],
   "source": [
    "//export\n",
    "public func assertEquals(_ a: TensorFloat, _ b: TensorFloat, _ message: String) {\n",
    "    // Check shapes match so broadcasting doesn't hide shape errors.\n",
    "    assert(a.shape == b.shape)\n",
    "    assertNearZero(a-b)\n",
    "}"
   ]
  },
  {
   "cell_type": "code",
   "execution_count": 8,
   "metadata": {},
   "outputs": [
    {
     "data": {
      "text/plain": [
       "('inline', 'module://ipykernel.pylab.backend_inline')\n"
      ]
     },
     "execution_count": 8,
     "metadata": {},
     "output_type": "execute_result"
    }
   ],
   "source": [
    "import Python\n",
    "%include \"EnableIPythonDisplay.swift\"\n",
    "IPythonDisplay.shell.enable_matplotlib(\"inline\")"
   ]
  },
  {
   "cell_type": "code",
   "execution_count": 9,
   "metadata": {},
   "outputs": [],
   "source": [
    "public let plotter = Python.import(\"matplotlib.pyplot\")"
   ]
  },
  {
   "cell_type": "markdown",
   "metadata": {},
   "source": [
    "# Data Setup"
   ]
  },
  {
   "cell_type": "code",
   "execution_count": 10,
   "metadata": {},
   "outputs": [
    {
     "data": {
      "text/plain": [
       "▿ [100, 2]\n",
       "  ▿ dimensions : 2 elements\n",
       "    - 0 : 100\n",
       "    - 1 : 2\n"
      ]
     },
     "execution_count": 10,
     "metadata": {},
     "output_type": "execute_result"
    }
   ],
   "source": [
    "let n = 100\n",
    "let inputPoints = TensorFloat(randomNormal: [100, 1])\n",
    "let A = inputPoints.concatenated(with: TensorFloat(ones: inputPoints.shape), alongAxis: 1)\n",
    "A.shape"
   ]
  },
  {
   "cell_type": "code",
   "execution_count": 11,
   "metadata": {},
   "outputs": [
    {
     "data": {
      "text/plain": [
       "▿ [100, 1]\n",
       "  ▿ dimensions : 2 elements\n",
       "    - 0 : 100\n",
       "    - 1 : 1\n"
      ]
     },
     "execution_count": 11,
     "metadata": {},
     "output_type": "execute_result"
    }
   ],
   "source": [
    "let yValidationPoints = matmul(A, TensorFloat([-2, 7]).expandingShape(at: 1)) + \n",
    "                (TensorFloat(randomNormal: inputPoints.shape, seed: (69, 420)) * 2.5)\n",
    "yValidationPoints.shape"
   ]
  },
  {
   "cell_type": "code",
   "execution_count": 12,
   "metadata": {},
   "outputs": [
    {
     "data": {
      "image/png": "[encoded data removed]",
      "text/plain": [
       "<Figure size 432x288 with 1 Axes>"
      ]
     },
     "metadata": {
      "needs_background": "light"
     },
     "output_type": "display_data"
    },
    {
     "data": {
      "text/plain": [
       "None\n"
      ]
     },
     "execution_count": 12,
     "metadata": {},
     "output_type": "execute_result"
    }
   ],
   "source": [
    "plotter.scatter(x: A.slice(lowerBounds: [0, 0], upperBounds:[A.shape[0], 1] ).makeNumpyArray(), \n",
    "                y: yValidationPoints.makeNumpyArray())\n",
    "plotter.show()"
   ]
  },
  {
   "cell_type": "markdown",
   "metadata": {},
   "source": [
    "# Model Creation"
   ]
  },
  {
   "cell_type": "code",
   "execution_count": 13,
   "metadata": {},
   "outputs": [],
   "source": [
    "func squaredWithGradient(inputTensor: TensorFloat) -> (value: TensorFloat, \n",
    "                                                       gradientChain: (TensorFloat) -> TensorFloat) {\n",
    "    return (value: inputTensor * inputTensor, \n",
    "            gradientChain: {ddx in 2 * inputTensor * ddx})\n",
    "}"
   ]
  },
  {
   "cell_type": "code",
   "execution_count": 14,
   "metadata": {},
   "outputs": [],
   "source": [
    "let testo = TensorFloat([[1,2,3,4,5],[1,2,3,4,5]])"
   ]
  },
  {
   "cell_type": "code",
   "execution_count": 16,
   "metadata": {},
   "outputs": [],
   "source": [
    "let (squaredTensor, gradientChain) = squaredWithGradient(inputTensor: testo)\n",
    "\n",
    "let myGradient = gradientChain(TensorFloat([1]))\n",
    "\n",
    "assertEquals(squaredTensor, testo.squared())"
   ]
  },
  {
   "cell_type": "code",
   "execution_count": 17,
   "metadata": {},
   "outputs": [],
   "source": [
    "func meanWithGradient(inputTensor: TensorFloat) -> (value: TensorFloat, \n",
    "                                                       gradientChain: (TensorFloat) -> TensorFloat) {\n",
    " let totalElements = Float(inputTensor.shape.dimensions.reduce(1) { accum, thing in accum * thing })\n",
    " return (value: inputTensor.sum(squeezingAxes: Array(inputTensor.shape.indices)) / totalElements,\n",
    "         gradientChain: {ddx in TensorFloat([1]) / totalElements * ddx})   \n",
    "}"
   ]
  },
  {
   "cell_type": "code",
   "execution_count": 18,
   "metadata": {},
   "outputs": [],
   "source": [
    "let (mean, gradientChain) = meanWithGradient(inputTensor: testo)\n",
    "\n",
    "let myGradient = gradientChain(TensorFloat([1]))\n",
    "let theirGradient = gradient { x in x.mean()} (testo)\n",
    "\n",
    "assert(mean == testo.mean(), \"Mean not the same\")\n",
    "assert(myGradient == theirGradient, \"Gradient not the same\")"
   ]
  },
  {
   "cell_type": "code",
   "execution_count": 19,
   "metadata": {},
   "outputs": [],
   "source": [
    "let (squaredTensor, squaredGradientChain) = squaredWithGradient(inputTensor: testo)\n",
    "let (mean, meanChain) = meanWithGradient(inputTensor: squaredTensor)\n",
    "\n",
    "let myGradient = squaredGradientChain(meanChain(TensorFloat([1])))\n",
    "let theirGradient = gradient { x in x.squared().mean()}(testo)\n",
    "\n",
    "assert(mean == testo.squared().mean(), \"Squared Mean not same\")\n",
    "assert(myGradient == theirGradient, \"Squared Mean Gradients not the same\")"
   ]
  },
  {
   "cell_type": "code",
   "execution_count": 42,
   "metadata": {},
   "outputs": [
    {
     "data": {
      "image/png": "[encoded data removed]",
      "text/plain": [
       "<Figure size 432x288 with 1 Axes>"
      ]
     },
     "metadata": {
      "needs_background": "light"
     },
     "output_type": "display_data"
    },
    {
     "data": {
      "text/plain": [
       "None\n"
      ]
     },
     "execution_count": 42,
     "metadata": {},
     "output_type": "execute_result"
    }
   ],
   "source": [
    "// The deriviative of reLU is 1 where ever the unit is active (eg greater than zero)\n",
    "// and 0 wherever the unit is not active. \n",
    "\n",
    "//  That's because the slope of the derivative is 1 where x is > 0. When x = 0 y = 0, when x = 1 y = 1, \n",
    "// when x = 2 y = 2, when x = 3 y = 3. so on, (it's a line with a slope of one)\n",
    "\n",
    "// So maybe just take the gradients that correspond to a component in the input that is \n",
    "// greater than zero?\n",
    "let testArray = TensorFloat(Array(-10...10).map{Float($0)})\n",
    "plotter.scatter(x: testArray.makeNumpyArray(), \n",
    "                y: reLU(tensor: testArray).makeNumpyArray())\n",
    "plotter.show()"
   ]
  },
  {
   "cell_type": "markdown",
   "metadata": {},
   "source": [
    "Dat Slope is one boi! "
   ]
  },
  {
   "cell_type": "code",
   "execution_count": 43,
   "metadata": {},
   "outputs": [],
   "source": [
    "func reLUAndGradient(inputTensor: TensorFloat) -> (value: TensorFloat, \n",
    "                                                   gradientChain: (TensorFloat) -> TensorFloat){\n",
    "    return (value: max(0.0, inputTensor), \n",
    "            gradientChain: {ddx in ddx.replacing(with: TensorFloat(zeros: ddx.shape), where: inputTensor .< 0.0 )})\n",
    "}"
   ]
  },
  {
   "cell_type": "code",
   "execution_count": 44,
   "metadata": {},
   "outputs": [],
   "source": [
    "let (reluValue, reluGradientChain) = reLUAndGradient(inputTensor: testArray)\n",
    "let libraryReluValue = relu(testArray)\n",
    "\n",
    "assertEquals(reluValue, libraryReluValue)"
   ]
  },
  {
   "cell_type": "markdown",
   "metadata": {},
   "source": [
    "**Linear combination**\n",
    "---\n",
    "\n",
    "`womboCombo = input * weightParameter + biasParameter`\n",
    "\n",
    "Partial Derivative with respects to input = `weightParameter`\n",
    "\n",
    "Partial Derivative with respects to weightParameter = `input`\n",
    "\n",
    "Partial Derivative with respects to bias = `1`"
   ]
  },
  {
   "cell_type": "code",
   "execution_count": 46,
   "metadata": {},
   "outputs": [],
   "source": [
    "// Matrix Shapez\n",
    "// M x N * N x O = M x O\n",
    "\n",
    "// ddx shape = M x O\n",
    "\n",
    "func linearCombinationAndGradient(inputTensor: TensorFloat, \n",
    "                                  weightParameter: TensorFloat,\n",
    "                                  biasParameter: TensorFloat) -> (value: TensorFloat, \n",
    "                                                                  gradientChain: (TensorFloat) -> (TensorFloat, TensorFloat, TensorFloat)) {\n",
    "    return (value: matmul(inputTensor, weightParameter) + biasParameter, \n",
    "            gradientChain: { ddx in \n",
    "                           ( matmul(ddx, weightParameter.transposed()),\n",
    "                             matmul(inputTensor.transposed(),  ddx),\n",
    "                             ddx.unbroadcasted(to: biasParameter.shape)\n",
    "                           )\n",
    "                           })\n",
    "}"
   ]
  },
  {
   "cell_type": "code",
   "execution_count": 80,
   "metadata": {},
   "outputs": [],
   "source": [
    "var weightParameter = TensorFloat([5, 3]).expandingShape(at: 1)\n",
    "let learningRate: Float = 5e-2\n",
    "var biasParameter = TensorFloat(zeros: [1])"
   ]
  },
  {
   "cell_type": "code",
   "execution_count": 81,
   "metadata": {},
   "outputs": [
    {
     "data": {
      "image/png": "[encoded data removed]",
      "text/plain": [
       "<Figure size 432x288 with 1 Axes>"
      ]
     },
     "metadata": {
      "needs_background": "light"
     },
     "output_type": "display_data"
    },
    {
     "data": {
      "text/plain": [
       "None\n"
      ]
     },
     "execution_count": 81,
     "metadata": {},
     "output_type": "execute_result"
    }
   ],
   "source": [
    "//first guess\n",
    "plotter.scatter(x: A.slice(lowerBounds: [0, 0], upperBounds:[A.shape[0], 1] ).makeNumpyArray(), \n",
    "                y: yValidationPoints.makeNumpyArray())\n",
    "plotter.scatter(x: A.slice(lowerBounds: [0, 0], upperBounds:[A.shape[0], 1] ).makeNumpyArray(), \n",
    "                y: matmul(A, weightParameter).makeNumpyArray())\n",
    "plotter.show()"
   ]
  },
  {
   "cell_type": "code",
   "execution_count": 82,
   "metadata": {},
   "outputs": [
    {
     "name": "stdout",
     "output_type": "stream",
     "text": [
      "average: 1.3753610100000007 ms,   min: 1.325527 ms,   max: 1.488345 ms\r\n"
     ]
    }
   ],
   "source": [
    "time(repeating: 100) {\n",
    "    let (activations, activationChain) = linearCombinationAndGradient(inputTensor: A, \n",
    "                                                                      weightParameter: weightParameter, \n",
    "                                                                      biasParameter: biasParameter)\n",
    "    let error = activations - yValidationPoints\n",
    "    let (squareValue, squareGradient) = squaredWithGradient(inputTensor: error)\n",
    "    let (meanValue, meanGradient) = meanWithGradient(inputTensor: squareValue)\n",
    "    \n",
    "    // Time to go backward bois!\n",
    "    let ddxMean = meanGradient(TensorFloat([1]))\n",
    "    let ddxSquare = squareGradient(ddxMean)\n",
    "    let (ddxInput, ddxWeightParam, ddxBias) = activationChain(ddxSquare)\n",
    "    \n",
    "    weightParameter -= learningRate * ddxWeightParam\n",
    "    \n",
    "}"
   ]
  },
  {
   "cell_type": "code",
   "execution_count": 83,
   "metadata": {},
   "outputs": [
    {
     "data": {
      "image/png": "[encoded data removed]",
      "text/plain": [
       "<Figure size 432x288 with 1 Axes>"
      ]
     },
     "metadata": {
      "needs_background": "light"
     },
     "output_type": "display_data"
    },
    {
     "data": {
      "text/plain": [
       "None\n"
      ]
     },
     "execution_count": 83,
     "metadata": {},
     "output_type": "execute_result"
    }
   ],
   "source": [
    "//learned guess\n",
    "plotter.scatter(x: A.slice(lowerBounds: [0, 0], upperBounds:[A.shape[0], 1] ).makeNumpyArray(), \n",
    "                y: yValidationPoints.makeNumpyArray())\n",
    "plotter.scatter(x: A.slice(lowerBounds: [0, 0], upperBounds:[A.shape[0], 1] ).makeNumpyArray(), \n",
    "                y: matmul(A, weightParameter).makeNumpyArray())\n",
    "plotter.show()"
   ]
  },
  {
   "cell_type": "code",
   "execution_count": 84,
   "metadata": {},
   "outputs": [
    {
     "name": "stdout",
     "output_type": "stream",
     "text": [
      "[[-1.7078199],\r\n",
      " [ 7.1064553]]\r\n"
     ]
    }
   ],
   "source": [
    "print(weightParameter)"
   ]
  },
  {
   "cell_type": "markdown",
   "metadata": {},
   "source": [
    "Very nice!!!!\n",
    "\n",
    "**Time to make it purdy**"
   ]
  },
  {
   "cell_type": "code",
   "execution_count": 85,
   "metadata": {},
   "outputs": [],
   "source": [
    "// loss function\n",
    "func meanSquaredErrorAndGradient(yHat: TensorFloat, y: TensorFloat) -> (value: TensorFloat,\n",
    "                                                                        gradient: () -> TensorFloat) {\n",
    "    assert(yHat.shape == y.shape, \"Expected inputs to be the same size\")\n",
    "    let error = yHat - y\n",
    "    let (squareValue, squareGradient) = squaredWithGradient(inputTensor: error)\n",
    "    let (meanValue, meanGradient) = meanWithGradient(inputTensor: squareValue)\n",
    "    \n",
    "    return (value: meanValue, gradient: { squareGradient(meanGradient(TensorFloat([1]))) })\n",
    "}"
   ]
  },
  {
   "cell_type": "code",
   "execution_count": 86,
   "metadata": {},
   "outputs": [
    {
     "data": {
      "text/plain": [
       "(Function)\n"
      ]
     },
     "execution_count": 86,
     "metadata": {},
     "output_type": "execute_result"
    }
   ],
   "source": [
    "struct AlexLayer {\n",
    "    let activationFunction: (TensorFloat) -> (value: TensorFloat, gradientChain: (TensorFloat) -> TensorFloat)\n",
    " \n",
    "}"
   ]
  },
  {
   "cell_type": "code",
   "execution_count": null,
   "metadata": {},
   "outputs": [],
   "source": []
  }
 ],
 "metadata": {
  "colab": {
   "collapsed_sections": [],
   "name": "blank_swift.ipynb",
   "provenance": [],
   "version": "0.3.2"
  },
  "kernelspec": {
   "display_name": "Swift",
   "language": "swift",
   "name": "swift"
  },
  "language_info": {
   "file_extension": ".swift",
   "mimetype": "text/x-swift",
   "name": "swift",
   "version": ""
  }
 },
 "nbformat": 4,
 "nbformat_minor": 1
}
