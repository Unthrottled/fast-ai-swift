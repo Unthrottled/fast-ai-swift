{
 "cells": [
  {
   "cell_type": "code",
   "execution_count": 1,
   "metadata": {},
   "outputs": [
    {
     "name": "stdout",
     "output_type": "stream",
     "text": [
      "Installing packages:\n",
      "\t.package(path: \"/home/ubuntu/workspace/fast-ai-swift/SchwiftyNotebook_Annealing\")\n",
      "\t\tSchwiftyNotebook_Annealing\n",
      "With SwiftPM flags: []\n",
      "Working in: /tmp/tmp2wkpk80z/swift-install\n",
      "warning: /home/ubuntu/swift/usr/bin/swiftc: /home/ubuntu/anaconda3/envs/swift-env/lib/libuuid.so.1: no version information available (required by /home/ubuntu/swift/usr/bin/swiftc)\n",
      "/home/ubuntu/swift/usr/bin/swift: /home/ubuntu/anaconda3/envs/swift-env/lib/libuuid.so.1: no version information available (required by /home/ubuntu/swift/usr/bin/swift)\n",
      "warning: /home/ubuntu/swift/usr/bin/swiftc: /home/ubuntu/anaconda3/envs/swift-env/lib/libuuid.so.1: no version information available (required by /home/ubuntu/swift/usr/bin/swiftc)\n",
      "/home/ubuntu/swift/usr/bin/swift: /home/ubuntu/anaconda3/envs/swift-env/lib/libuuid.so.1: no version information available (required by /home/ubuntu/swift/usr/bin/swift)\n",
      "warning: /home/ubuntu/swift/usr/bin/swiftc: /home/ubuntu/anaconda3/envs/swift-env/lib/libuuid.so.1: no version information available (required by /home/ubuntu/swift/usr/bin/swiftc)\n",
      "/home/ubuntu/swift/usr/bin/swift: /home/ubuntu/anaconda3/envs/swift-env/lib/libuuid.so.1: no version information available (required by /home/ubuntu/swift/usr/bin/swift)\n",
      "warning: /home/ubuntu/swift/usr/bin/swiftc: /home/ubuntu/anaconda3/envs/swift-env/lib/libuuid.so.1: no version information available (required by /home/ubuntu/swift/usr/bin/swiftc)\n",
      "/home/ubuntu/swift/usr/bin/swift: /home/ubuntu/anaconda3/envs/swift-env/lib/libuuid.so.1: no version information available (required by /home/ubuntu/swift/usr/bin/swift)\n",
      "warning: /home/ubuntu/swift/usr/bin/swiftc: /home/ubuntu/anaconda3/envs/swift-env/lib/libuuid.so.1: no version information available (required by /home/ubuntu/swift/usr/bin/swiftc)\n",
      "/home/ubuntu/swift/usr/bin/swift: /home/ubuntu/anaconda3/envs/swift-env/lib/libuuid.so.1: no version information available (required by /home/ubuntu/swift/usr/bin/swift)\n",
      "warning: /home/ubuntu/swift/usr/bin/swiftc: /home/ubuntu/anaconda3/envs/swift-env/lib/libuuid.so.1: no version information available (required by /home/ubuntu/swift/usr/bin/swiftc)\n",
      "/home/ubuntu/swift/usr/bin/swift: /home/ubuntu/anaconda3/envs/swift-env/lib/libuuid.so.1: no version information available (required by /home/ubuntu/swift/usr/bin/swift)\n",
      "warning: /home/ubuntu/swift/usr/bin/swiftc: /home/ubuntu/anaconda3/envs/swift-env/lib/libuuid.so.1: no version information available (required by /home/ubuntu/swift/usr/bin/swiftc)\n",
      "/home/ubuntu/swift/usr/bin/swift: /home/ubuntu/anaconda3/envs/swift-env/lib/libuuid.so.1: no version information available (required by /home/ubuntu/swift/usr/bin/swift)\n",
      "warning: /home/ubuntu/swift/usr/bin/swiftc: /home/ubuntu/anaconda3/envs/swift-env/lib/libuuid.so.1: no version information available (required by /home/ubuntu/swift/usr/bin/swiftc)\n",
      "/home/ubuntu/swift/usr/bin/swift: /home/ubuntu/anaconda3/envs/swift-env/lib/libuuid.so.1: no version information available (required by /home/ubuntu/swift/usr/bin/swift)\n",
      "warning: /home/ubuntu/swift/usr/bin/swiftc: /home/ubuntu/anaconda3/envs/swift-env/lib/libuuid.so.1: no version information available (required by /home/ubuntu/swift/usr/bin/swiftc)\n",
      "/home/ubuntu/swift/usr/bin/swift: /home/ubuntu/anaconda3/envs/swift-env/lib/libuuid.so.1: no version information available (required by /home/ubuntu/swift/usr/bin/swift)\n",
      "warning: /home/ubuntu/swift/usr/bin/swiftc: /home/ubuntu/anaconda3/envs/swift-env/lib/libuuid.so.1: no version information available (required by /home/ubuntu/swift/usr/bin/swiftc)\n",
      "/home/ubuntu/swift/usr/bin/swift: /home/ubuntu/anaconda3/envs/swift-env/lib/libuuid.so.1: no version information available (required by /home/ubuntu/swift/usr/bin/swift)\n",
      "warning: /home/ubuntu/swift/usr/bin/swiftc: /home/ubuntu/anaconda3/envs/swift-env/lib/libuuid.so.1: no version information available (required by /home/ubuntu/swift/usr/bin/swiftc)\n",
      "/home/ubuntu/swift/usr/bin/swift: /home/ubuntu/anaconda3/envs/swift-env/lib/libuuid.so.1: no version information available (required by /home/ubuntu/swift/usr/bin/swift)\n",
      "/home/ubuntu/swift/usr/bin/swiftc: /home/ubuntu/anaconda3/envs/swift-env/lib/libuuid.so.1: no version information available (required by /home/ubuntu/swift/usr/bin/swiftc)\n",
      "/home/ubuntu/swift/usr/bin/swiftc: /home/ubuntu/anaconda3/envs/swift-env/lib/libuuid.so.1: no version information available (required by /home/ubuntu/swift/usr/bin/swiftc)[1/2] Compiling jupyterInstalledPackages jupyterInstalledPackages.swift\n",
      "/home/ubuntu/swift/usr/bin/swift: /home/ubuntu/anaconda3/envs/swift-env/lib/libuuid.so.1: no version information available (required by /home/ubuntu/swift/usr/bin/swift)\n",
      "[2/3] Merging module jupyterInstalledPackages\n",
      "/home/ubuntu/swift/usr/bin/swift: /home/ubuntu/anaconda3/envs/swift-env/lib/libuuid.so.1: no version information available (required by /home/ubuntu/swift/usr/bin/swift)\n",
      "Initializing Swift...\n",
      "Installation complete!\n"
     ]
    }
   ],
   "source": [
    "%install-location $cwd/swift-install\n",
    "%install '.package(path: \"$cwd/SchwiftyNotebook_Annealing\")' SchwiftyNotebook_Annealing"
   ]
  },
  {
   "cell_type": "code",
   "execution_count": 2,
   "metadata": {},
   "outputs": [],
   "source": [
    "//export\n",
    "import Path\n",
    "import TensorFlow\n",
    "import SchwiftyNotebook_Annealing"
   ]
  },
  {
   "cell_type": "markdown",
   "metadata": {},
   "source": [
    "### Things Needed\n",
    "----\n",
    "- Layer Activations Statistics (mean/standard deviation)\n",
    "- Optimization\n",
    "- Learning Rate over Time"
   ]
  },
  {
   "cell_type": "code",
   "execution_count": 3,
   "metadata": {},
   "outputs": [
    {
     "name": "stdout",
     "output_type": "stream",
     "text": [
      "9 10\r\n",
      "8 9\r\n",
      "7 8\r\n",
      "6 7\r\n",
      "5 6\r\n",
      "4 5\r\n",
      "3 4\r\n",
      "2 3\r\n",
      "1 2\r\n",
      "0 1\r\n"
     ]
    }
   ],
   "source": [
    "Array(1...10).enumerated().reversed().forEach {\n",
    "    print($0, $1)\n",
    "}"
   ]
  },
  {
   "cell_type": "code",
   "execution_count": 4,
   "metadata": {},
   "outputs": [
    {
     "name": "stdout",
     "output_type": "stream",
     "text": [
      "Fam\r\n",
      "Ravioli\r\n"
     ]
    }
   ],
   "source": [
    "protocol Fam {\n",
    "    func fam()\n",
    "}\n",
    "\n",
    "extension Fam {\n",
    "    func fam() {\n",
    "        print(\"Fam\")\n",
    "    }\n",
    "}\n",
    "\n",
    "protocol Ravioli {\n",
    "    func ravioli()\n",
    "}\n",
    "\n",
    "extension Ravioli {\n",
    "    func ravioli() {\n",
    "        print(\"Ravioli\")\n",
    "    }\n",
    "}\n",
    "\n",
    "struct FamRavioli: Fam, Ravioli {}\n",
    "\n",
    "let famRav = FamRavioli()\n",
    "\n",
    "famRav.fam()\n",
    "famRav.ravioli()"
   ]
  },
  {
   "cell_type": "markdown",
   "metadata": {},
   "source": [
    "## Model\n"
   ]
  },
  {
   "cell_type": "code",
   "execution_count": 5,
   "metadata": {},
   "outputs": [],
   "source": [
    "//export\n",
    "public struct HyperParameters {\n",
    "    public let learningRate: Float\n",
    "}"
   ]
  },
  {
   "cell_type": "code",
   "execution_count": 6,
   "metadata": {},
   "outputs": [],
   "source": [
    "//export\n",
    "public protocol TeachableModel {\n",
    "    \n",
    "    func apply(inputTensor: TensorFloat) -> TensorFloat\n",
    "    \n",
    "    func forwardPass(inputTensor: TensorFloat) -> (TensorFloat, TeachableModel)\n",
    "    \n",
    "    func backwardsPass(ddx: TensorFloat, hyperParameters: HyperParameters) -> TeachableModel    \n",
    "}"
   ]
  },
  {
   "cell_type": "code",
   "execution_count": 7,
   "metadata": {},
   "outputs": [],
   "source": [
    "//export\n",
    "public protocol ModelParameterV2  {\n",
    "    \n",
    "    func forwardPass(inputTensor: TensorFloat) -> (TensorFloat, ModelParameterV2)\n",
    "    \n",
    "    func apply(_ inputTensor: TensorFloat) -> TensorFloat \n",
    "    \n",
    "    func backwardPass(ddx: TensorFloat, hyperParameters: HyperParameters) -> (TensorFloat, ModelParameterV2)\n",
    "}"
   ]
  },
  {
   "cell_type": "code",
   "execution_count": 8,
   "metadata": {},
   "outputs": [],
   "source": [
    "//export\n",
    "public struct SequentialParameter: ModelParameterV2 {\n",
    "    \n",
    "    private let parameters: [ModelParameterV2]\n",
    "    \n",
    "    public func apply(_ inputTensor: TensorFloat) -> TensorFloat {\n",
    "        return parameters.reduce(inputTensor) {\n",
    "            (layerInput, nextParameter) in nextParameter.apply(layerInput)\n",
    "        }\n",
    "    }\n",
    "    \n",
    "    public func forwardPass(inputTensor: TensorFloat) -> (TensorFloat, ModelParameterV2) {\n",
    "        return runThroughLayers({self.parameters}, inputTensor) {\n",
    "            $1.forwardPass(inputTensor: $0)\n",
    "        }\n",
    "    }\n",
    "    \n",
    "    public func backwardPass(ddx: TensorFloat, \n",
    "                             hyperParameters: HyperParameters) -> (TensorFloat, ModelParameterV2) {\n",
    "        //todo: fix the dumb reversed modifying the collection in place.\n",
    "        return runThroughLayers({self.parameters.enumerated()\n",
    "                                 .map { (x: (Int, ModelParameterV2)) -> ModelParameterV2 in x.1 }\n",
    "                                 .reversed()}, ddx) {\n",
    "            $1.backwardPass(ddx: $0, hyperParameters: hyperParameters)\n",
    "        }\n",
    "    }\n",
    "    \n",
    "    \n",
    "    private func runThroughLayers(\n",
    "        _ parameterSupplier: () -> [ModelParameterV2],\n",
    "        _ initialValue: TensorFloat,\n",
    "        _ paramActivator: (TensorFloat, ModelParameterV2) -> (TensorFloat, ModelParameterV2)) \n",
    "                                                                            -> (TensorFloat, ModelParameterV2){\n",
    "        var nextParamters : [ModelParameterV2] = []\n",
    "        let (output, forwardParams) = parameterSupplier().reduce(\n",
    "            (activations: initialValue, \n",
    "                           params:  nextParamters)) {\n",
    "            (accum, nextParameter) in \n",
    "            var (activations, params) = accum\n",
    "            print(\"\\(activations.shape) in, \\(nextParameter)\")\n",
    "            let (nextInput, modifiedParam) = paramActivator(activations, nextParameter)\n",
    "            print(\"\\(nextInput.shape) out\")\n",
    "            params.append(modifiedParam)\n",
    "            return (activations: nextInput,\n",
    "                    params: params)\n",
    "        }\n",
    "\n",
    "        return (output, SequentialParameter(parameters: forwardParams))\n",
    "    }\n",
    "    \n",
    "}"
   ]
  },
  {
   "cell_type": "code",
   "execution_count": 9,
   "metadata": {},
   "outputs": [],
   "source": [
    "//export\n",
    "public struct ReLUParameter: ModelParameterV2 {\n",
    "    \n",
    "    private let gradientChain: (TensorFloat) -> TensorFloat\n",
    "    \n",
    "    public init() {\n",
    "        gradientChain = { $0 }\n",
    "    }\n",
    "    \n",
    "    private init(_ gradChain: @escaping (TensorFloat) -> TensorFloat) {\n",
    "        gradientChain = gradChain\n",
    "    }\n",
    "    \n",
    "    public func apply(_ inputTensor: TensorFloat) -> TensorFloat {\n",
    "        return reLU(tensor: inputTensor)\n",
    "    }\n",
    "    \n",
    "    public func forwardPass(inputTensor: TensorFloat) -> (TensorFloat, ModelParameterV2) {\n",
    "        let (value, gradientDude) = reLUAndGradient(inputTensor: inputTensor)\n",
    "        return (value, ReLUParameter(gradientDude))\n",
    "    }\n",
    "    \n",
    "    public func backwardPass(ddx: TensorFloat,\n",
    "                             hyperParameters: HyperParameters) -> (TensorFloat, ModelParameterV2) {\n",
    "        let reluDDX = gradientChain(ddx)\n",
    "        return (reluDDX, self)\n",
    "    }\n",
    "}"
   ]
  },
  {
   "cell_type": "code",
   "execution_count": 10,
   "metadata": {},
   "outputs": [],
   "source": [
    "//export\n",
    "public struct DenseLayerV2: ModelParameterV2 {\n",
    "    let weightParameter: TensorFloat\n",
    "    let biasParameter: TensorFloat\n",
    "    private let gradientChain: ThreeInputGradient\n",
    "\n",
    "    private init(weightParameter: TensorFloat,\n",
    "                 biasParameter: TensorFloat,\n",
    "                 gradientChain: @escaping ThreeInputGradient) {        \n",
    "        self.weightParameter = weightParameter\n",
    "        self.biasParameter = biasParameter\n",
    "        self.gradientChain = gradientChain\n",
    "    }\n",
    "\n",
    "    private init(denseLayer: DenseLayerV2,\n",
    "                 gradientChain: @escaping ThreeInputGradient) {\n",
    "        self.weightParameter = denseLayer.weightParameter\n",
    "        self.biasParameter = denseLayer.biasParameter\n",
    "        self.gradientChain = gradientChain\n",
    "    }\n",
    "\n",
    "    public init(inputSize: Int,\n",
    "                outputSize: Int){\n",
    "        self.weightParameter = TensorFloat(kaimingUniform: TensorShape([inputSize, outputSize]))\n",
    "        self.biasParameter = TensorFloat(zeros: [outputSize])\n",
    "        self.gradientChain = { (x: TensorFloat)  in (TensorFloat([1]), TensorFloat([1]), TensorFloat([1]))}\n",
    "    }\n",
    "\n",
    "    public func forwardPass(inputTensor: TensorFloat) -> (TensorFloat, ModelParameterV2) {\n",
    "        let (parameterOutput, parameterGradientChain) =\n",
    "          linearCombinationAndGradient(inputTensor: inputTensor,\n",
    "                                       weightParameter: self.weightParameter,\n",
    "                                       biasParameter: self.biasParameter)\n",
    "\n",
    "        return (parameterOutput, DenseLayerV2(denseLayer: self,\n",
    "                                       gradientChain: {ddx in parameterGradientChain(ddx)}))\n",
    "    }\n",
    "\n",
    "    public func apply(_ inputTensor: TensorFloat) -> TensorFloat {\n",
    "        return linearCombination(inputs: inputTensor,\n",
    "                                       weights: self.weightParameter,\n",
    "                                       bias: self.biasParameter)\n",
    "    }\n",
    "\n",
    "    public func backwardPass(ddx: TensorFloat, \n",
    "                             hyperParameters: HyperParameters) -> (TensorFloat, ModelParameterV2) {\n",
    "        let (ddxInput, ddxParameter, ddxBias) = self.gradientChain(ddx)\n",
    "        return (ddxInput, DenseLayerV2(\n",
    "            weightParameter: self.weightParameter - hyperParameters.learningRate * ddxParameter,\n",
    "            biasParameter: self.biasParameter - hyperParameters.learningRate * ddxBias,\n",
    "            gradientChain: self.gradientChain))\n",
    "    }\n",
    "}\n",
    "\n"
   ]
  },
  {
   "cell_type": "code",
   "execution_count": 11,
   "metadata": {},
   "outputs": [],
   "source": [
    "struct SimpleModel : TeachableModel {\n",
    "    \n",
    "    private let denseLayer: ModelParameterV2\n",
    "    \n",
    "    private init(denseLayer: ModelParameterV2){\n",
    "        self.denseLayer = denseLayer\n",
    "    }\n",
    "    \n",
    "    public init(inputSize: Int, \n",
    "                numberOfClasses: Int) {\n",
    "        self.denseLayer = DenseLayerV2(inputSize: inputSize, \n",
    "                                       outputSize: numberOfClasses)\n",
    "    }\n",
    "    \n",
    "    public func apply(inputTensor: TensorFloat) -> TensorFloat {\n",
    "        return self.denseLayer.apply(inputTensor)\n",
    "    }\n",
    "    \n",
    "    public func forwardPass(inputTensor: TensorFloat) -> (TensorFloat, TeachableModel) {\n",
    "        let (activations, newDenseLayer) = self.denseLayer.forwardPass(inputTensor: inputTensor)\n",
    "        return (activations, SimpleModel(denseLayer: newDenseLayer))\n",
    "    }\n",
    "    \n",
    "    public func backwardsPass(ddx: TensorFloat, \n",
    "                              hyperParameters: HyperParameters) -> TeachableModel {\n",
    "        let (ddxDenseLayer, optimizedDenseLayer) = self.denseLayer.backwardPass(ddx: ddx, \n",
    "                                                          hyperParameters: hyperParameters)\n",
    "        return SimpleModel(denseLayer: optimizedDenseLayer)\n",
    "    }\n",
    "}"
   ]
  },
  {
   "cell_type": "code",
   "execution_count": 12,
   "metadata": {},
   "outputs": [],
   "source": [
    "struct SequentialModel : TeachableModel {\n",
    "    \n",
    "    private let sequentialParameter: ModelParameterV2\n",
    "    \n",
    "    private init(sequentialParameter: ModelParameterV2){\n",
    "        self.sequentialParameter = sequentialParameter\n",
    "    }\n",
    "    \n",
    "    public init(layerSizes: [Int]) {\n",
    "        let denseLayers = layerSizes.prefix(upTo: layerSizes.count - 1)\n",
    "                                        .enumerated()\n",
    "                                        .flatMap { \n",
    "                                            (element: (Int, Int)) -> [ModelParameterV2] in                                       \n",
    "                                           [DenseLayerV2(inputSize: element.1, \n",
    "                                                           outputSize: layerSizes[element.0 + 1]), \n",
    "                                            ReLUParameter()]\n",
    "                                        }\n",
    "        self.sequentialParameter = SequentialParameter(parameters: denseLayers)\n",
    "    }\n",
    "    \n",
    "    public func apply(inputTensor: TensorFloat) -> TensorFloat {\n",
    "        return self.sequentialParameter.apply(inputTensor)\n",
    "    }\n",
    "    \n",
    "    public func forwardPass(inputTensor: TensorFloat) -> (TensorFloat, TeachableModel) {\n",
    "        let (activations, newSequentialModel) = self.sequentialParameter\n",
    "                                                        .forwardPass(inputTensor: inputTensor)\n",
    "        return (activations, SequentialModel(sequentialParameter: newSequentialModel))\n",
    "    }\n",
    "    \n",
    "    public func backwardsPass(ddx: TensorFloat, \n",
    "                              hyperParameters: HyperParameters) -> TeachableModel {\n",
    "        let (_, optimizedSequentialLayer) = self.sequentialParameter.backwardPass(ddx: ddx, \n",
    "                                                          hyperParameters: hyperParameters)\n",
    "        return SequentialModel(sequentialParameter: optimizedSequentialLayer)\n",
    "    }\n",
    "}"
   ]
  },
  {
   "cell_type": "code",
   "execution_count": 13,
   "metadata": {},
   "outputs": [
    {
     "data": {
      "text/plain": [
       "▿ SequentialModel\n",
       "  ▿ sequentialParameter : SequentialParameter\n",
       "    ▿ parameters : 6 elements\n",
       "      ▿ 0 : DenseLayerV2\n",
       "        - weightParameter : [[  0.35776603,  -0.36999655,  -0.61176366,  -0.41346723,   0.55119157,    -0.583907],\n",
       " [  0.41273692,  -0.08026666,   -0.4051451,   -0.2566662,   0.43813804,   0.34979767],\n",
       " [ -0.25247034,  -0.31702942,   -0.3429598,   -0.3981074,   0.11571723,   0.20234172],\n",
       " [ -0.35396913,   0.46756425,  -0.05432981,   0.22520906,   0.37483653,   0.49185917],\n",
       " [ -0.08158009,  -0.46166697,   0.56676865,   0.60851485, -0.046547446,   0.50639296],\n",
       " [  0.12459993,   0.40791664,   0.12873556,   0.33879846,  -0.49344978,  -0.07249489],\n",
       " [  0.08893269,    0.5110885,   0.41115487,  -0.53039104,   0.22402097,   0.30582568],\n",
       " [  -0.5787202,    0.5510208,  -0.43221012,  -0.31109747,   -0.3145704,  -0.11401128]]\n",
       "        - biasParameter : [0.0, 0.0, 0.0, 0.0, 0.0, 0.0]\n",
       "        - gradientChain : (Function)\n",
       "      ▿ 1 : ReLUParameter\n",
       "        - gradientChain : (Function)\n",
       "      ▿ 2 : DenseLayerV2\n",
       "        - weightParameter : [[0.086919025,   0.5337666, -0.70396197],\n",
       " [ 0.10249009,  -0.4957454,  0.28273818],\n",
       " [ 0.21405077, 0.059294295, -0.11424282],\n",
       " [ 0.56016535,  0.52859277,  0.63751936],\n",
       " [  0.5921031,   0.2605695, -0.48288083],\n",
       " [  0.2592777,  0.51812243,  0.11825537]]\n",
       "        - biasParameter : [0.0, 0.0, 0.0]\n",
       "        - gradientChain : (Function)\n",
       "      ▿ 3 : ReLUParameter\n",
       "        - gradientChain : (Function)\n",
       "      ▿ 4 : DenseLayerV2\n",
       "        - weightParameter : [[-0.045416474],\n",
       " [   0.6524546],\n",
       " [   0.8918054]]\n",
       "        - biasParameter : [0.0]\n",
       "        - gradientChain : (Function)\n",
       "      ▿ 5 : ReLUParameter\n",
       "        - gradientChain : (Function)\n"
      ]
     },
     "execution_count": 13,
     "metadata": {},
     "output_type": "execute_result"
    }
   ],
   "source": [
    "let testSequentialModel = SequentialModel(layerSizes: [8, 6, 3, 1])\n",
    "testSequentialModel"
   ]
  },
  {
   "cell_type": "markdown",
   "metadata": {},
   "source": [
    "## Data"
   ]
  },
  {
   "cell_type": "code",
   "execution_count": 14,
   "metadata": {},
   "outputs": [],
   "source": [
    "//export\n",
    "public struct DataBunch<T> where T: TensorGroup {\n",
    "    public let trainingDataset: Dataset<T>\n",
    "    public let validationDataset: Dataset<T>\n",
    "}"
   ]
  },
  {
   "cell_type": "code",
   "execution_count": 15,
   "metadata": {},
   "outputs": [],
   "source": [
    "// export\n",
    "public struct SupervisedLearningGroup {\n",
    "    let features: TensorFloat\n",
    "    let labels: TensorFloat\n",
    "}\n",
    "\n",
    "extension SupervisedLearningGroup: TensorGroup {\n",
    "    \n",
    "    public static var _typeList: [TensorDataType] = [\n",
    "        Float.tensorFlowDataType,\n",
    "        Float.tensorFlowDataType\n",
    "    ]\n",
    "    public static var _unknownShapeList: [TensorShape?] = [nil, nil]\n",
    "    public var _tensorHandles: [_AnyTensorHandle] {\n",
    "        fatalError(\"unimplemented\")\n",
    "    }\n",
    "    public func _unpackTensorHandles(into address: UnsafeMutablePointer<CTensorHandle>?) {\n",
    "        address!.advanced(by: 0).initialize(to: features.handle._cTensorHandle)\n",
    "        address!.advanced(by: 1).initialize(to: labels.handle._cTensorHandle)\n",
    "    }\n",
    "    public init(_owning tensorHandles: UnsafePointer<CTensorHandle>?) {\n",
    "        features = Tensor(handle: TensorHandle(_owning: tensorHandles!.advanced(by: 0).pointee))\n",
    "        labels = Tensor(handle: TensorHandle(_owning: tensorHandles!.advanced(by: 1).pointee))\n",
    "    }\n",
    "    public init<C: RandomAccessCollection>(_handles: C) where C.Element: _AnyTensorHandle {\n",
    "        fatalError(\"unimplemented\")\n",
    "    }\n",
    "}\n",
    "\n",
    "public extension Sequence where Element == SupervisedLearningGroup {\n",
    "    var first: SupervisedLearningGroup? {\n",
    "        return first(where: { _ in true })\n",
    "    }\n",
    "}\n",
    "\n",
    "public extension Dataset where Element == SupervisedLearningGroup {\n",
    "    init(featuresTensor: TensorFloat, labelsTensor: TensorFloat) {\n",
    "        self.init(elements: SupervisedLearningGroup(\n",
    "                                                    features: featuresTensor, \n",
    "                                                    labels: labelsTensor.expandingShape(at: 1)))\n",
    "    }\n",
    "}"
   ]
  },
  {
   "cell_type": "code",
   "execution_count": 16,
   "metadata": {},
   "outputs": [],
   "source": [
    "import Python"
   ]
  },
  {
   "cell_type": "markdown",
   "metadata": {},
   "source": [
    "\n",
    "## Teach"
   ]
  },
  {
   "cell_type": "code",
   "execution_count": 17,
   "metadata": {},
   "outputs": [],
   "source": [
    "//export \n",
    "public protocol TeachingDelegate {\n",
    "    \n",
    "    func preTeach(epochs: Int)\n",
    "    \n",
    "    func postTeach()\n",
    "    \n",
    "    func preEpoch(epochNumber: Int, dataSet: Dataset<SupervisedLearningGroup>)\n",
    "    \n",
    "    func postEpoch(epochNumber: Int)\n",
    "    \n",
    "    func processBatch(model: TeachableModel, \n",
    "                      xDataPoints: TensorFloat,\n",
    "                      yValidationPoints: TensorFloat) -> TeachableModel    \n",
    "}"
   ]
  },
  {
   "cell_type": "code",
   "execution_count": 18,
   "metadata": {},
   "outputs": [],
   "source": [
    "//export\n",
    "public struct Teacher {\n",
    "    \n",
    "    private let dataBunch: DataBunch<SupervisedLearningGroup>\n",
    "    private let trainingDelegate: TeachingDelegate\n",
    "    private let validationDelegate: TeachingDelegate\n",
    "    \n",
    "    \n",
    "    public func teachModel(model: TeachableModel,\n",
    "                           numberOfEpochs: Int) -> TeachableModel {\n",
    "        notifyPreTeach(epochs: numberOfEpochs)\n",
    "        let taughtModel = (1...numberOfEpochs)\n",
    "            .reduce(into: model) { (currentModel: inout TeachableModel, \n",
    "                                    epoch: Int) in\n",
    "                let trainedModel = trainModel(modelToTeach: currentModel,\n",
    "                                              currentEpoch: epoch)\n",
    "                currentModel = validateModel(modelToValidate: trainedModel,\n",
    "                                             currentEpoch: epoch)\n",
    "            }\n",
    "        notifyPostTeach()\n",
    "        return taughtModel\n",
    "    }\n",
    "    \n",
    "    private func trainModel(modelToTeach: TeachableModel, \n",
    "                            currentEpoch: Int) -> TeachableModel {\n",
    "        return processDataSet(model: modelToTeach,\n",
    "                           epoch: currentEpoch,\n",
    "                           dataSet: dataBunch.trainingDataset,\n",
    "                           teachingDelegate: trainingDelegate)\n",
    "    }\n",
    "    \n",
    "    private func validateModel(modelToValidate: TeachableModel, \n",
    "                               currentEpoch: Int) -> TeachableModel {\n",
    "        return processDataSet(model: modelToValidate,\n",
    "                              epoch: currentEpoch,\n",
    "                              dataSet: dataBunch.validationDataset,\n",
    "                              teachingDelegate: validationDelegate)\n",
    "    }\n",
    "    \n",
    "    private func processDataSet(model: TeachableModel,\n",
    "                             epoch: Int,\n",
    "                             dataSet: Dataset<SupervisedLearningGroup>,\n",
    "                             teachingDelegate: TeachingDelegate\n",
    "                            ) -> TeachableModel {\n",
    "        \n",
    "        teachingDelegate.preEpoch(epochNumber: epoch, \n",
    "                                  dataSet: dataSet)\n",
    "        \n",
    "        let taughtModel: TeachableModel = dataSet.reduce(model) {\n",
    "            (currentModel:TeachableModel, dataGroup: SupervisedLearningGroup) in\n",
    "            return teachingDelegate.processBatch(model: currentModel, \n",
    "                                                         xDataPoints: dataGroup.features, \n",
    "                                                         yValidationPoints: dataGroup.labels)\n",
    "        }\n",
    "        \n",
    "        teachingDelegate.postEpoch(epochNumber: epoch)\n",
    "        \n",
    "        return taughtModel\n",
    "    }\n",
    "    \n",
    "    \n",
    "    private func notifyPreTeach(epochs: Int) {\n",
    "        trainingDelegate.preTeach(epochs: epochs)\n",
    "        validationDelegate.preTeach(epochs: epochs)\n",
    "    }\n",
    "    \n",
    "    private func notifyPostTeach() {\n",
    "        trainingDelegate.postTeach()\n",
    "        validationDelegate.postTeach()\n",
    "    }\n",
    "}"
   ]
  },
  {
   "cell_type": "markdown",
   "metadata": {},
   "source": [
    "## Teaching Delegates"
   ]
  },
  {
   "cell_type": "code",
   "execution_count": 19,
   "metadata": {},
   "outputs": [],
   "source": [
    "//export\n",
    "public protocol LossFunction {\n",
    "    func lossAndGradient(expectedTensor: TensorFloat,\n",
    "                         actualTensor: TensorFloat) -> (loss: TensorFloat,\n",
    "                                                        gradientSupplier: () -> TensorFloat)\n",
    "    func calculateLoss(expectedTensor: TensorFloat,\n",
    "                       actualTensor: TensorFloat) -> TensorFloat\n",
    "}"
   ]
  },
  {
   "cell_type": "code",
   "execution_count": 20,
   "metadata": {},
   "outputs": [],
   "source": [
    "//export\n",
    "public struct MeanSquaredErrorLossFunction: LossFunction {\n",
    "        \n",
    "    public func calculateLoss(expectedTensor: TensorFloat, \n",
    "                              actualTensor: TensorFloat) -> TensorFloat {\n",
    "        let error: TensorFloat = calculateError(expectedTensor: expectedTensor,\n",
    "                                   actualTensor: actualTensor)\n",
    "        return error.squared().mean()\n",
    "    }\n",
    "    \n",
    "    public func lossAndGradient(expectedTensor: TensorFloat, \n",
    "                                actualTensor: TensorFloat) -> (loss: TensorFloat, \n",
    "                                                               gradientSupplier: () -> TensorFloat) {\n",
    "        let error = calculateError(expectedTensor:expectedTensor, \n",
    "                                   actualTensor: actualTensor)\n",
    "        let (squareValue, squareGradient) = squaredWithGradient(inputTensor: error)\n",
    "        let (meanValue, meanGradient) = meanWithGradient(inputTensor: squareValue)\n",
    "\n",
    "        return (loss: meanValue, gradientSupplier: { squareGradient(meanGradient(TensorFloat([1]))) })\n",
    "    }\n",
    "    \n",
    "    private func calculateError(expectedTensor: TensorFloat,\n",
    "                                actualTensor: TensorFloat) -> TensorFloat {\n",
    "        assert(expectedTensor.shape == actualTensor.shape, \"Expected \\(expectedTensor.shape) to be the same as \\(actualTensor.shape)\")\n",
    "        return actualTensor - expectedTensor // order is SUPER important here\n",
    "    }\n",
    "}"
   ]
  },
  {
   "cell_type": "code",
   "execution_count": 21,
   "metadata": {},
   "outputs": [],
   "source": [
    "class ValidationDelegate: TeachingDelegate {\n",
    "    \n",
    "    let lossFunction: LossFunction\n",
    "    \n",
    "    public init(lossFunction: LossFunction) {\n",
    "        self.lossFunction = lossFunction\n",
    "    }\n",
    "    \n",
    "    private var epochNumber: Int = 0\n",
    "    private var numberOfBatches: Int = 0\n",
    "    private var totalLoss: TensorFloat = TensorFloat([0.0])\n",
    "    var lossCount: [Float] = []\n",
    "    \n",
    "    public func postEpoch(epochNumber: Int) {\n",
    "        let loss = totalLoss / Float(numberOfBatches) \n",
    "        lossCount.append(loss.scalarized())\n",
    "        \n",
    "    }\n",
    "    \n",
    "    public func preEpoch(epochNumber: Int, \n",
    "                         dataSet: Dataset<SupervisedLearningGroup>) {\n",
    "        numberOfBatches = 0\n",
    "        totalLoss = TensorFloat([0.0])\n",
    "    }\n",
    "    \n",
    "    public func preTeach(epochs: Int) {\n",
    "    \n",
    "    }\n",
    "    \n",
    "    public func postTeach() {\n",
    "    \n",
    "    }\n",
    "    \n",
    "    \n",
    "    public func processBatch(model: TeachableModel, \n",
    "                             xDataPoints: TensorFloat, \n",
    "                             yValidationPoints: TensorFloat) -> TeachableModel {\n",
    "\n",
    "        let predictions = model.apply(inputTensor: xDataPoints)\n",
    "        \n",
    "        let loss = lossFunction.calculateLoss(expectedTensor: yValidationPoints, \n",
    "                                                                    actualTensor: predictions)\n",
    "        totalLoss += loss\n",
    "        numberOfBatches += 1\n",
    "        \n",
    "        return model\n",
    "    }\n",
    "    \n",
    "}"
   ]
  },
  {
   "cell_type": "code",
   "execution_count": 22,
   "metadata": {},
   "outputs": [],
   "source": [
    "class TrainingDelegate: TeachingDelegate {\n",
    "    \n",
    "    let lossFunction: LossFunction\n",
    "    \n",
    "    public init(lossFunction: LossFunction) {\n",
    "        self.lossFunction = lossFunction\n",
    "    }\n",
    "    \n",
    "    private var epochNumber: Int = 0\n",
    "    private var numberOfBatches: Int = 0\n",
    "    private var totalLoss: TensorFloat = TensorFloat([0.0])\n",
    "    var lossCount: [Float] = []\n",
    "    \n",
    "    public func postEpoch(epochNumber: Int) {\n",
    "        let loss = totalLoss / Float(numberOfBatches)\n",
    "        lossCount.append(loss.scalarized())\n",
    "    }\n",
    "    \n",
    "    public func preEpoch(epochNumber: Int, \n",
    "                         dataSet: Dataset<SupervisedLearningGroup>) {\n",
    "        numberOfBatches = 0\n",
    "        totalLoss = TensorFloat([0.0])\n",
    "    }\n",
    "    \n",
    "    public func preTeach(epochs: Int) {\n",
    "    \n",
    "    }\n",
    "    \n",
    "    public func postTeach() {\n",
    "    \n",
    "    }\n",
    "    \n",
    "    \n",
    "    public func processBatch(model: TeachableModel, \n",
    "                             xDataPoints: TensorFloat, \n",
    "                             yValidationPoints: TensorFloat) -> TeachableModel {\n",
    "\n",
    "        let (predictions, modelWithChain) = model.forwardPass(inputTensor: xDataPoints)\n",
    "        \n",
    "        let (lossyBoi, predictionGradientSupplier) = lossFunction.lossAndGradient(expectedTensor: yValidationPoints, \n",
    "                                                                    actualTensor: predictions)\n",
    "        \n",
    "        totalLoss += lossyBoi\n",
    "        numberOfBatches += 1\n",
    "        \n",
    "        // todo: Optimize Hyper Parameters beforehand\n",
    "        let hyperParameters = HyperParameters(learningRate: 1e-2)\n",
    "        \n",
    "        return modelWithChain.backwardsPass(ddx: predictionGradientSupplier(),\n",
    "                                            hyperParameters: hyperParameters)\n",
    "    }\n",
    "    \n",
    "}"
   ]
  },
  {
   "cell_type": "markdown",
   "metadata": {},
   "source": [
    "# Point Data Trials\n",
    "---"
   ]
  },
  {
   "cell_type": "code",
   "execution_count": 23,
   "metadata": {},
   "outputs": [
    {
     "data": {
      "text/plain": [
       "▿ [100, 2]\n",
       "  ▿ dimensions : 2 elements\n",
       "    - 0 : 100\n",
       "    - 1 : 2\n"
      ]
     },
     "execution_count": 23,
     "metadata": {},
     "output_type": "execute_result"
    }
   ],
   "source": [
    "let n = 100\n",
    "let inputPoints = TensorFloat(randomNormal: [100, 1])\n",
    "let A = inputPoints.concatenated(with: TensorFloat(ones: inputPoints.shape), alongAxis: 1)\n",
    "A.shape"
   ]
  },
  {
   "cell_type": "code",
   "execution_count": 24,
   "metadata": {},
   "outputs": [
    {
     "data": {
      "text/plain": [
       "▿ [100, 1]\n",
       "  ▿ dimensions : 2 elements\n",
       "    - 0 : 100\n",
       "    - 1 : 1\n"
      ]
     },
     "execution_count": 24,
     "metadata": {},
     "output_type": "execute_result"
    }
   ],
   "source": [
    "let yValidationPoints = matmul(A, TensorFloat([-2, 7]).expandingShape(at: 1)) + \n",
    "                (TensorFloat(randomNormal: inputPoints.shape, seed: (69, 420)) * 2.5)\n",
    "yValidationPoints.shape"
   ]
  },
  {
   "cell_type": "code",
   "execution_count": 25,
   "metadata": {},
   "outputs": [
    {
     "data": {
      "text/plain": [
       "('inline', 'module://ipykernel.pylab.backend_inline')\n"
      ]
     },
     "execution_count": 25,
     "metadata": {},
     "output_type": "execute_result"
    }
   ],
   "source": [
    "import Python\n",
    "%include \"EnableIPythonDisplay.swift\"\n",
    "IPythonDisplay.shell.enable_matplotlib(\"inline\")"
   ]
  },
  {
   "cell_type": "code",
   "execution_count": 26,
   "metadata": {},
   "outputs": [],
   "source": [
    "public let plotter = Python.import(\"matplotlib.pyplot\")"
   ]
  },
  {
   "cell_type": "code",
   "execution_count": 27,
   "metadata": {},
   "outputs": [
    {
     "data": {
      "image/png": "[encoded data removed]",
      "text/plain": [
       "<Figure size 432x288 with 1 Axes>"
      ]
     },
     "metadata": {
      "needs_background": "light"
     },
     "output_type": "display_data"
    },
    {
     "data": {
      "text/plain": [
       "None\n"
      ]
     },
     "execution_count": 27,
     "metadata": {},
     "output_type": "execute_result"
    }
   ],
   "source": [
    "plotter.scatter(x: A.slice(lowerBounds: [0, 0], upperBounds:[A.shape[0], 1] ).makeNumpyArray(), \n",
    "                y: yValidationPoints.makeNumpyArray())\n",
    "plotter.show()"
   ]
  },
  {
   "cell_type": "code",
   "execution_count": 28,
   "metadata": {},
   "outputs": [],
   "source": [
    "func showYHat(yHat: TensorFloat) {\n",
    "    plotter.scatter(x: A.slice(lowerBounds: [0, 0], upperBounds:[A.shape[0], 1] ).makeNumpyArray(), \n",
    "                y: yValidationPoints.makeNumpyArray())\n",
    "    plotter.scatter(x: A.slice(lowerBounds: [0, 0], upperBounds:[A.shape[0], 1] ).makeNumpyArray(), \n",
    "                y: yHat.makeNumpyArray())\n",
    "    plotter.show()\n",
    "}"
   ]
  },
  {
   "cell_type": "code",
   "execution_count": 29,
   "metadata": {},
   "outputs": [
    {
     "data": {
      "text/plain": [
       "▿ SequentialModel\n",
       "  ▿ sequentialParameter : SequentialParameter\n",
       "    ▿ parameters : 2 elements\n",
       "      ▿ 0 : DenseLayerV2\n",
       "        - weightParameter : [[-0.72088826],\n",
       " [ 0.55700684]]\n",
       "        - biasParameter : [0.0]\n",
       "        - gradientChain : (Function)\n",
       "      ▿ 1 : ReLUParameter\n",
       "        - gradientChain : (Function)\n"
      ]
     },
     "execution_count": 29,
     "metadata": {},
     "output_type": "execute_result"
    }
   ],
   "source": [
    "let linearModel = SequentialModel(layerSizes: [2, 1])\n",
    "linearModel"
   ]
  },
  {
   "cell_type": "code",
   "execution_count": 30,
   "metadata": {},
   "outputs": [
    {
     "data": {
      "image/png": "[encoded data removed]",
      "text/plain": [
       "<Figure size 432x288 with 1 Axes>"
      ]
     },
     "metadata": {
      "needs_background": "light"
     },
     "output_type": "display_data"
    }
   ],
   "source": [
    "showYHat(yHat: linearModel.apply(inputTensor: A))"
   ]
  },
  {
   "cell_type": "code",
   "execution_count": 31,
   "metadata": {},
   "outputs": [],
   "source": [
    "//export\n",
    "public extension Dataset where Element == SupervisedLearningGroup {\n",
    "    init(featureTensor: TensorFloat, labelTensor: TensorFloat) {\n",
    "        self.init(elements: SupervisedLearningGroup(features: featureTensor, \n",
    "                                     labels: labelTensor))\n",
    "    }\n",
    "}"
   ]
  },
  {
   "cell_type": "code",
   "execution_count": 32,
   "metadata": {},
   "outputs": [],
   "source": [
    "let linearDataSet = Dataset(featureTensor: A, labelTensor: yValidationPoints).batched(100)\n",
    "let linearDataBunch = DataBunch(trainingDataset: linearDataSet,\n",
    "                               validationDataset: linearDataSet)"
   ]
  },
  {
   "cell_type": "code",
   "execution_count": 33,
   "metadata": {},
   "outputs": [],
   "source": [
    "let meanSquaredLossFunction = MeanSquaredErrorLossFunction()\n",
    "let simpleTrainingDelegate = TrainingDelegate(lossFunction: meanSquaredLossFunction)\n",
    "let simpleValidationDelegate = ValidationDelegate(lossFunction: meanSquaredLossFunction)"
   ]
  },
  {
   "cell_type": "code",
   "execution_count": 34,
   "metadata": {},
   "outputs": [],
   "source": [
    "let linearTeacher = Teacher(dataBunch: linearDataBunch, \n",
    "                            trainingDelegate: simpleTrainingDelegate, \n",
    "                            validationDelegate: simpleValidationDelegate)"
   ]
  },
  {
   "cell_type": "code",
   "execution_count": 35,
   "metadata": {},
   "outputs": [
    {
     "name": "stdout",
     "output_type": "stream",
     "text": [
      "[100, 2] in, DenseLayerV2(weightParameter: [[-0.72088826],\n",
      " [ 0.55700684]], biasParameter: [0.0], gradientChain: (Function))\n",
      "[100, 1] out\n",
      "[100, 1] in, ReLUParameter(gradientChain: (Function))\n",
      "[100, 1] out\n",
      "[100, 1] in, ReLUParameter(gradientChain: (Function))\n",
      "[100, 1] out\n",
      "[100, 1] in, DenseLayerV2(weightParameter: [[-0.72088826],\n",
      " [ 0.55700684]], biasParameter: [0.0], gradientChain: (Function))\n",
      "[100, 2] out\n",
      "[100, 2] in, ReLUParameter(gradientChain: (Function))\n",
      "[100, 2] out\n",
      "[100, 2] in, DenseLayerV2(weightParameter: [[-0.77297354],\n",
      " [  0.6654402]], biasParameter: [0.108433336], gradientChain: (Function))\n",
      "[100, 1] out\n",
      "[100, 1] in, DenseLayerV2(weightParameter: [[-0.77297354],\n",
      " [  0.6654402]], biasParameter: [0.108433336], gradientChain: (Function))\n",
      "[100, 2] out\n",
      "[100, 2] in, ReLUParameter(gradientChain: (Function))\n",
      "[100, 2] out\n",
      "[100, 2] in, DenseLayerV2(weightParameter: [[-0.7385983],\n",
      " [ 0.7959906]], biasParameter: [0.2389837], gradientChain: (Function))\n",
      "[100, 1] out\n",
      "[100, 1] in, ReLUParameter(gradientChain: (Function))\n",
      "[100, 1] out\n",
      "[100, 1] in, ReLUParameter(gradientChain: (Function))\n",
      "[100, 1] out\n",
      "[100, 1] in, DenseLayerV2(weightParameter: [[-0.7385983],\n",
      " [ 0.7959906]], biasParameter: [0.2389837], gradientChain: (Function))\n",
      "[100, 2] out\n",
      "[100, 2] in, ReLUParameter(gradientChain: (Function))\n",
      "[100, 2] out\n",
      "[100, 2] in, DenseLayerV2(weightParameter: [[-0.773478],\n",
      " [0.9115793]], biasParameter: [0.35457242], gradientChain: (Function))\n",
      "[100, 1] out\n",
      "[100, 1] in, DenseLayerV2(weightParameter: [[-0.773478],\n",
      " [0.9115793]], biasParameter: [0.35457242], gradientChain: (Function))\n",
      "[100, 2] out\n",
      "[100, 2] in, ReLUParameter(gradientChain: (Function))\n",
      "[100, 2] out\n",
      "[100, 2] in, DenseLayerV2(weightParameter: [[ -0.74314],\n",
      " [1.0322883]], biasParameter: [0.47528136], gradientChain: (Function))\n",
      "[100, 1] out\n",
      "[100, 1] in, ReLUParameter(gradientChain: (Function))\n",
      "[100, 1] out\n",
      "[100, 1] in, ReLUParameter(gradientChain: (Function))\n",
      "[100, 1] out\n",
      "[100, 1] in, DenseLayerV2(weightParameter: [[ -0.74314],\n",
      " [1.0322883]], biasParameter: [0.47528136], gradientChain: (Function))\n",
      "[100, 2] out\n",
      "[100, 2] in, ReLUParameter(gradientChain: (Function))\n",
      "[100, 2] out\n",
      "[100, 2] in, DenseLayerV2(weightParameter: [[-0.77438277],\n",
      " [  1.1407675]], biasParameter: [0.5837605], gradientChain: (Function))\n",
      "[100, 1] out\n",
      "[100, 1] in, DenseLayerV2(weightParameter: [[-0.77438277],\n",
      " [  1.1407675]], biasParameter: [0.5837605], gradientChain: (Function))\n",
      "[100, 2] out\n",
      "[100, 2] in, ReLUParameter(gradientChain: (Function))\n",
      "[100, 2] out\n",
      "[100, 2] in, DenseLayerV2(weightParameter: [[-0.74779856],\n",
      " [  1.2523162]], biasParameter: [0.69530934], gradientChain: (Function))\n",
      "[100, 1] out\n",
      "[100, 1] in, ReLUParameter(gradientChain: (Function))\n",
      "[100, 1] out\n",
      "[100, 1] in, ReLUParameter(gradientChain: (Function))\n",
      "[100, 1] out\n",
      "[100, 1] in, DenseLayerV2(weightParameter: [[-0.74779856],\n",
      " [  1.2523162]], biasParameter: [0.69530934], gradientChain: (Function))\n",
      "[100, 2] out\n",
      "[100, 2] in, ReLUParameter(gradientChain: (Function))\n",
      "[100, 2] out\n",
      "[100, 2] in, DenseLayerV2(weightParameter: [[-0.7749268],\n",
      " [ 1.3539112]], biasParameter: [0.79690427], gradientChain: (Function))\n",
      "[100, 1] out\n",
      "[100, 1] in, DenseLayerV2(weightParameter: [[-0.7749268],\n",
      " [ 1.3539112]], biasParameter: [0.79690427], gradientChain: (Function))\n",
      "[100, 2] out\n",
      "[100, 2] in, ReLUParameter(gradientChain: (Function))\n",
      "[100, 2] out\n",
      "[100, 2] in, DenseLayerV2(weightParameter: [[-0.75183725],\n",
      " [  1.4569387]], biasParameter: [0.89993185], gradientChain: (Function))\n",
      "[100, 1] out\n",
      "[100, 1] in, ReLUParameter(gradientChain: (Function))\n",
      "[100, 1] out\n",
      "[100, 1] in, ReLUParameter(gradientChain: (Function))\n",
      "[100, 1] out\n",
      "[100, 1] in, DenseLayerV2(weightParameter: [[-0.75183725],\n",
      " [  1.4569387]], biasParameter: [0.89993185], gradientChain: (Function))\n",
      "[100, 2] out\n",
      "[100, 2] in, ReLUParameter(gradientChain: (Function))\n",
      "[100, 2] out\n",
      "[100, 2] in, DenseLayerV2(weightParameter: [[-0.7781325],\n",
      " [ 1.5508202]], biasParameter: [0.9938134], gradientChain: (Function))\n",
      "[100, 1] out\n",
      "[100, 1] in, DenseLayerV2(weightParameter: [[-0.7781325],\n",
      " [ 1.5508202]], biasParameter: [0.9938134], gradientChain: (Function))\n",
      "[100, 2] out\n",
      "[100, 2] in, ReLUParameter(gradientChain: (Function))\n",
      "[100, 2] out\n",
      "[100, 2] in, DenseLayerV2(weightParameter: [[-0.7582377],\n",
      " [ 1.6459978]], biasParameter: [1.0889909], gradientChain: (Function))\n",
      "[100, 1] out\n",
      "[100, 1] in, ReLUParameter(gradientChain: (Function))\n",
      "[100, 1] out\n",
      "[100, 1] in, ReLUParameter(gradientChain: (Function))\n",
      "[100, 1] out\n",
      "[100, 1] in, DenseLayerV2(weightParameter: [[-0.7582377],\n",
      " [ 1.6459978]], biasParameter: [1.0889909], gradientChain: (Function))\n",
      "[100, 2] out\n",
      "[100, 2] in, ReLUParameter(gradientChain: (Function))\n",
      "[100, 2] out\n",
      "[100, 2] in, DenseLayerV2(weightParameter: [[-0.78607786],\n",
      " [  1.7320012]], biasParameter: [1.1749943], gradientChain: (Function))\n",
      "[100, 1] out\n",
      "[100, 1] in, DenseLayerV2(weightParameter: [[-0.78607786],\n",
      " [  1.7320012]], biasParameter: [1.1749943], gradientChain: (Function))\n",
      "[100, 2] out\n",
      "[100, 2] in, ReLUParameter(gradientChain: (Function))\n",
      "[100, 2] out\n",
      "[100, 2] in, DenseLayerV2(weightParameter: [[-0.7690603],\n",
      " [ 1.8199967]], biasParameter: [1.2629899], gradientChain: (Function))\n",
      "[100, 1] out\n",
      "[100, 1] in, ReLUParameter(gradientChain: (Function))\n",
      "[100, 1] out\n",
      "[100, 1] in, ReLUParameter(gradientChain: (Function))\n",
      "[100, 1] out\n",
      "[100, 1] in, DenseLayerV2(weightParameter: [[-0.7690603],\n",
      " [ 1.8199967]], biasParameter: [1.2629899], gradientChain: (Function))\n",
      "[100, 2] out\n",
      "[100, 2] in, ReLUParameter(gradientChain: (Function))\n",
      "[100, 2] out\n",
      "[100, 2] in, DenseLayerV2(weightParameter: [[-0.7971493],\n",
      " [ 1.8990548]], biasParameter: [1.3420479], gradientChain: (Function))\n",
      "[100, 1] out\n",
      "[100, 1] in, DenseLayerV2(weightParameter: [[-0.7971493],\n",
      " [ 1.8990548]], biasParameter: [1.3420479], gradientChain: (Function))\n",
      "[100, 2] out\n",
      "[100, 2] in, ReLUParameter(gradientChain: (Function))\n",
      "[100, 2] out\n",
      "[100, 2] in, DenseLayerV2(weightParameter: [[-0.7827379],\n",
      " [ 1.9804591]], biasParameter: [1.4234523], gradientChain: (Function))\n",
      "[100, 1] out\n",
      "[100, 1] in, ReLUParameter(gradientChain: (Function))\n",
      "[100, 1] out\n",
      "[100, 1] in, ReLUParameter(gradientChain: (Function))\n",
      "[100, 1] out\n",
      "[100, 1] in, DenseLayerV2(weightParameter: [[-0.7827379],\n",
      " [ 1.9804591]], biasParameter: [1.4234523], gradientChain: (Function))\n",
      "[100, 2] out\n",
      "[100, 2] in, ReLUParameter(gradientChain: (Function))\n",
      "[100, 2] out\n",
      "[100, 2] in, DenseLayerV2(weightParameter: [[-0.8109808],\n",
      " [ 2.0531173]], biasParameter: [1.4961103], gradientChain: (Function))\n",
      "[100, 1] out\n",
      "[100, 1] in, DenseLayerV2(weightParameter: [[-0.8109808],\n",
      " [ 2.0531173]], biasParameter: [1.4961103], gradientChain: (Function))\n",
      "[100, 2] out\n",
      "[100, 2] in, ReLUParameter(gradientChain: (Function))\n",
      "[100, 2] out\n",
      "[100, 2] in, DenseLayerV2(weightParameter: [[-0.7989276],\n",
      " [ 2.1284728]], biasParameter: [1.5714657], gradientChain: (Function))\n",
      "[100, 1] out\n",
      "[100, 1] in, ReLUParameter(gradientChain: (Function))\n",
      "[100, 1] out\n",
      "[100, 1] in, ReLUParameter(gradientChain: (Function))\n",
      "[100, 1] out\n",
      "[100, 1] in, DenseLayerV2(weightParameter: [[-0.7989276],\n",
      " [ 2.1284728]], biasParameter: [1.5714657], gradientChain: (Function))\n",
      "[100, 2] out\n",
      "[100, 2] in, ReLUParameter(gradientChain: (Function))\n",
      "[100, 2] out\n",
      "[100, 2] in, DenseLayerV2(weightParameter: [[-0.82723933],\n",
      " [  2.1952322]], biasParameter: [1.6382251], gradientChain: (Function))\n",
      "[100, 1] out\n",
      "[100, 1] in, DenseLayerV2(weightParameter: [[-0.82723933],\n",
      " [  2.1952322]], biasParameter: [1.6382251], gradientChain: (Function))\n",
      "[100, 2] out\n",
      "[100, 2] in, ReLUParameter(gradientChain: (Function))\n",
      "[100, 2] out\n",
      "[100, 2] in, DenseLayerV2(weightParameter: [[-0.81731784],\n",
      " [  2.2650366]], biasParameter: [1.7080295], gradientChain: (Function))\n",
      "[100, 1] out\n",
      "[100, 1] in, ReLUParameter(gradientChain: (Function))\n",
      "[100, 1] out\n",
      "[100, 1] in, ReLUParameter(gradientChain: (Function))\n",
      "[100, 1] out\n",
      "[100, 1] in, DenseLayerV2(weightParameter: [[-0.81731784],\n",
      " [  2.2650366]], biasParameter: [1.7080295], gradientChain: (Function))\n",
      "[100, 2] out\n",
      "[100, 2] in, ReLUParameter(gradientChain: (Function))\n",
      "[100, 2] out\n",
      "[100, 2] in, DenseLayerV2(weightParameter: [[-0.8456225],\n",
      " [ 2.3263583]], biasParameter: [1.7693512], gradientChain: (Function))\n",
      "[100, 1] out\n",
      "[100, 1] in, DenseLayerV2(weightParameter: [[-0.8456225],\n",
      " [ 2.3263583]], biasParameter: [1.7693512], gradientChain: (Function))\n",
      "[100, 2] out\n",
      "[100, 2] in, ReLUParameter(gradientChain: (Function))\n",
      "[100, 2] out\n",
      "[100, 2] in, DenseLayerV2(weightParameter: [[-0.8376256],\n",
      " [ 2.3910687]], biasParameter: [1.8340616], gradientChain: (Function))\n",
      "[100, 1] out\n",
      "[100, 1] in, ReLUParameter(gradientChain: (Function))\n",
      "[100, 1] out\n",
      "[100, 1] in, ReLUParameter(gradientChain: (Function))\n",
      "[100, 1] out\n",
      "[100, 1] in, DenseLayerV2(weightParameter: [[-0.8376256],\n",
      " [ 2.3910687]], biasParameter: [1.8340616], gradientChain: (Function))\n",
      "[100, 2] out\n",
      "[100, 2] in, ReLUParameter(gradientChain: (Function))\n",
      "[100, 2] out\n",
      "[100, 2] in, DenseLayerV2(weightParameter: [[-0.8658555],\n",
      " [ 2.4473765]], biasParameter: [1.8903694], gradientChain: (Function))\n",
      "[100, 1] out\n",
      "[100, 1] in, DenseLayerV2(weightParameter: [[-0.8658555],\n",
      " [ 2.4473765]], biasParameter: [1.8903694], gradientChain: (Function))\n",
      "[100, 2] out\n",
      "[100, 2] in, ReLUParameter(gradientChain: (Function))\n",
      "[100, 2] out\n",
      "[100, 2] in, DenseLayerV2(weightParameter: [[-0.85959417],\n",
      " [  2.5074124]], biasParameter: [1.9504052], gradientChain: (Function))\n",
      "[100, 1] out\n",
      "[100, 1] in, ReLUParameter(gradientChain: (Function))\n",
      "[100, 1] out\n",
      "[100, 1] in, ReLUParameter(gradientChain: (Function))\n",
      "[100, 1] out\n",
      "[100, 1] in, DenseLayerV2(weightParameter: [[-0.85959417],\n",
      " [  2.5074124]], biasParameter: [1.9504052], gradientChain: (Function))\n",
      "[100, 2] out\n",
      "[100, 2] in, ReLUParameter(gradientChain: (Function))\n",
      "[100, 2] out\n",
      "[100, 2] in, DenseLayerV2(weightParameter: [[-0.8876892],\n",
      " [ 2.5590963]], biasParameter: [2.002089], gradientChain: (Function))\n",
      "[100, 1] out\n",
      "[100, 1] in, DenseLayerV2(weightParameter: [[-0.8876892],\n",
      " [ 2.5590963]], biasParameter: [2.002089], gradientChain: (Function))\n",
      "[100, 2] out\n",
      "[100, 2] in, ReLUParameter(gradientChain: (Function))\n",
      "[100, 2] out\n"
     ]
    },
    {
     "name": "stdout",
     "output_type": "stream",
     "text": [
      "[100, 2] in, DenseLayerV2(weightParameter: [[-0.88299054],\n",
      " [  2.6148427]], biasParameter: [2.0578353], gradientChain: (Function))\n",
      "[100, 1] out\n",
      "[100, 1] in, ReLUParameter(gradientChain: (Function))\n",
      "[100, 1] out\n",
      "[100, 1] in, ReLUParameter(gradientChain: (Function))\n",
      "[100, 1] out\n",
      "[100, 1] in, DenseLayerV2(weightParameter: [[-0.88299054],\n",
      " [  2.6148427]], biasParameter: [2.0578353], gradientChain: (Function))\n",
      "[100, 2] out\n",
      "[100, 2] in, ReLUParameter(gradientChain: (Function))\n",
      "[100, 2] out\n",
      "[100, 2] in, DenseLayerV2(weightParameter: [[-0.9108973],\n",
      " [ 2.6622608]], biasParameter: [2.1052535], gradientChain: (Function))\n",
      "[100, 1] out\n",
      "[100, 1] in, DenseLayerV2(weightParameter: [[-0.9108973],\n",
      " [ 2.6622608]], biasParameter: [2.1052535], gradientChain: (Function))\n",
      "[100, 2] out\n",
      "[100, 2] in, ReLUParameter(gradientChain: (Function))\n",
      "[100, 2] out\n",
      "[100, 2] in, DenseLayerV2(weightParameter: [[-0.90760374],\n",
      " [  2.7140713]], biasParameter: [2.157064], gradientChain: (Function))\n",
      "[100, 1] out\n",
      "[100, 1] in, ReLUParameter(gradientChain: (Function))\n",
      "[100, 1] out\n",
      "[100, 1] in, ReLUParameter(gradientChain: (Function))\n",
      "[100, 1] out\n",
      "[100, 1] in, DenseLayerV2(weightParameter: [[-0.90760374],\n",
      " [  2.7140713]], biasParameter: [2.157064], gradientChain: (Function))\n",
      "[100, 2] out\n",
      "[100, 2] in, ReLUParameter(gradientChain: (Function))\n",
      "[100, 2] out\n",
      "[100, 2] in, DenseLayerV2(weightParameter: [[-0.93527526],\n",
      " [  2.7575536]], biasParameter: [2.2005463], gradientChain: (Function))\n",
      "[100, 1] out\n",
      "[100, 1] in, DenseLayerV2(weightParameter: [[-0.93527526],\n",
      " [  2.7575536]], biasParameter: [2.2005463], gradientChain: (Function))\n",
      "[100, 2] out\n",
      "[100, 2] in, ReLUParameter(gradientChain: (Function))\n",
      "[100, 2] out\n",
      "[100, 2] in, DenseLayerV2(weightParameter: [[-0.9332428],\n",
      " [ 2.8057525]], biasParameter: [2.2487452], gradientChain: (Function))\n",
      "[100, 1] out\n",
      "[100, 1] in, ReLUParameter(gradientChain: (Function))\n",
      "[100, 1] out\n",
      "[100, 1] in, ReLUParameter(gradientChain: (Function))\n",
      "[100, 1] out\n",
      "[100, 1] in, DenseLayerV2(weightParameter: [[-0.9332428],\n",
      " [ 2.8057525]], biasParameter: [2.2487452], gradientChain: (Function))\n",
      "[100, 2] out\n",
      "[100, 2] in, ReLUParameter(gradientChain: (Function))\n",
      "[100, 2] out\n",
      "[100, 2] in, DenseLayerV2(weightParameter: [[-0.9606377],\n",
      " [ 2.8456023]], biasParameter: [2.288595], gradientChain: (Function))\n",
      "[100, 1] out\n",
      "[100, 1] in, DenseLayerV2(weightParameter: [[-0.9606377],\n",
      " [ 2.8456023]], biasParameter: [2.288595], gradientChain: (Function))\n",
      "[100, 2] out\n",
      "[100, 2] in, ReLUParameter(gradientChain: (Function))\n",
      "[100, 2] out\n",
      "[100, 2] in, DenseLayerV2(weightParameter: [[-0.9597351],\n",
      " [ 2.8904877]], biasParameter: [2.3334804], gradientChain: (Function))\n",
      "[100, 1] out\n",
      "[100, 1] in, ReLUParameter(gradientChain: (Function))\n",
      "[100, 1] out\n",
      "[100, 1] in, ReLUParameter(gradientChain: (Function))\n",
      "[100, 1] out\n",
      "[100, 1] in, DenseLayerV2(weightParameter: [[-0.9597351],\n",
      " [ 2.8904877]], biasParameter: [2.3334804], gradientChain: (Function))\n",
      "[100, 2] out\n",
      "[100, 2] in, ReLUParameter(gradientChain: (Function))\n",
      "[100, 2] out\n",
      "[100, 2] in, DenseLayerV2(weightParameter: [[-0.9868171],\n",
      " [ 2.9269838]], biasParameter: [2.3699765], gradientChain: (Function))\n",
      "[100, 1] out\n",
      "[100, 1] in, DenseLayerV2(weightParameter: [[-0.9868171],\n",
      " [ 2.9269838]], biasParameter: [2.3699765], gradientChain: (Function))\n",
      "[100, 2] out\n",
      "[100, 2] in, ReLUParameter(gradientChain: (Function))\n",
      "[100, 2] out\n",
      "[100, 2] in, DenseLayerV2(weightParameter: [[-0.9869246],\n",
      " [  2.968829]], biasParameter: [2.4118216], gradientChain: (Function))\n",
      "[100, 1] out\n",
      "[100, 1] in, ReLUParameter(gradientChain: (Function))\n",
      "[100, 1] out\n",
      "[100, 1] in, ReLUParameter(gradientChain: (Function))\n",
      "[100, 1] out\n",
      "[100, 1] in, DenseLayerV2(weightParameter: [[-0.9869246],\n",
      " [  2.968829]], biasParameter: [2.4118216], gradientChain: (Function))\n",
      "[100, 2] out\n",
      "[100, 2] in, ReLUParameter(gradientChain: (Function))\n",
      "[100, 2] out\n",
      "[100, 2] in, DenseLayerV2(weightParameter: [[-1.0136622],\n",
      " [  3.002228]], biasParameter: [2.4452207], gradientChain: (Function))\n",
      "[100, 1] out\n",
      "[100, 1] in, DenseLayerV2(weightParameter: [[-1.0136622],\n",
      " [  3.002228]], biasParameter: [2.4452207], gradientChain: (Function))\n",
      "[100, 2] out\n",
      "[100, 2] in, ReLUParameter(gradientChain: (Function))\n",
      "[100, 2] out\n",
      "[100, 2] in, DenseLayerV2(weightParameter: [[-1.0146707],\n",
      " [ 3.0412838]], biasParameter: [2.4842765], gradientChain: (Function))\n",
      "[100, 1] out\n",
      "[100, 1] in, ReLUParameter(gradientChain: (Function))\n",
      "[100, 1] out\n",
      "[100, 1] in, ReLUParameter(gradientChain: (Function))\n",
      "[100, 1] out\n",
      "[100, 1] in, DenseLayerV2(weightParameter: [[-1.0146707],\n",
      " [ 3.0412838]], biasParameter: [2.4842765], gradientChain: (Function))\n",
      "[100, 2] out\n",
      "[100, 2] in, ReLUParameter(gradientChain: (Function))\n",
      "[100, 2] out\n",
      "[100, 2] in, DenseLayerV2(weightParameter: [[-1.0410367],\n",
      " [ 3.0718224]], biasParameter: [2.514815], gradientChain: (Function))\n",
      "[100, 1] out\n",
      "[100, 1] in, DenseLayerV2(weightParameter: [[-1.0410367],\n",
      " [ 3.0718224]], biasParameter: [2.514815], gradientChain: (Function))\n",
      "[100, 2] out\n",
      "[100, 2] in, ReLUParameter(gradientChain: (Function))\n",
      "[100, 2] out\n",
      "[100, 2] in, DenseLayerV2(weightParameter: [[-1.0428468],\n",
      " [ 3.1083193]], biasParameter: [2.551312], gradientChain: (Function))\n",
      "[100, 1] out\n",
      "[100, 1] in, ReLUParameter(gradientChain: (Function))\n",
      "[100, 1] out\n",
      "[100, 1] in, ReLUParameter(gradientChain: (Function))\n",
      "[100, 1] out\n",
      "[100, 1] in, DenseLayerV2(weightParameter: [[-1.0428468],\n",
      " [ 3.1083193]], biasParameter: [2.551312], gradientChain: (Function))\n",
      "[100, 2] out\n",
      "[100, 2] in, ReLUParameter(gradientChain: (Function))\n",
      "[100, 2] out\n",
      "[100, 2] in, DenseLayerV2(weightParameter: [[-1.0688176],\n",
      " [ 3.1362145]], biasParameter: [2.5792072], gradientChain: (Function))\n",
      "[100, 1] out\n",
      "[100, 1] in, DenseLayerV2(weightParameter: [[-1.0688176],\n",
      " [ 3.1362145]], biasParameter: [2.5792072], gradientChain: (Function))\n",
      "[100, 2] out\n",
      "[100, 2] in, ReLUParameter(gradientChain: (Function))\n",
      "[100, 2] out\n",
      "[100, 2] in, DenseLayerV2(weightParameter: [[-1.0713387],\n",
      " [  3.170364]], biasParameter: [2.6133566], gradientChain: (Function))\n",
      "[100, 1] out\n",
      "[100, 1] in, ReLUParameter(gradientChain: (Function))\n",
      "[100, 1] out\n",
      "[100, 1] in, ReLUParameter(gradientChain: (Function))\n",
      "[100, 1] out\n",
      "[100, 1] in, DenseLayerV2(weightParameter: [[-1.0713387],\n",
      " [  3.170364]], biasParameter: [2.6133566], gradientChain: (Function))\n",
      "[100, 2] out\n",
      "[100, 2] in, ReLUParameter(gradientChain: (Function))\n",
      "[100, 2] out\n",
      "[100, 2] in, DenseLayerV2(weightParameter: [[-1.0968945],\n",
      " [ 3.1958158]], biasParameter: [2.6388085], gradientChain: (Function))\n",
      "[100, 1] out\n",
      "[100, 1] in, DenseLayerV2(weightParameter: [[-1.0968945],\n",
      " [ 3.1958158]], biasParameter: [2.6388085], gradientChain: (Function))\n",
      "[100, 2] out\n",
      "[100, 2] in, ReLUParameter(gradientChain: (Function))\n",
      "[100, 2] out\n",
      "[100, 2] in, DenseLayerV2(weightParameter: [[-1.1000441],\n",
      " [ 3.2278118]], biasParameter: [2.6708045], gradientChain: (Function))\n",
      "[100, 1] out\n",
      "[100, 1] in, ReLUParameter(gradientChain: (Function))\n",
      "[100, 1] out\n",
      "[100, 1] in, ReLUParameter(gradientChain: (Function))\n",
      "[100, 1] out\n",
      "[100, 1] in, DenseLayerV2(weightParameter: [[-1.1000441],\n",
      " [ 3.2278118]], biasParameter: [2.6708045], gradientChain: (Function))\n",
      "[100, 2] out\n",
      "[100, 2] in, ReLUParameter(gradientChain: (Function))\n",
      "[100, 2] out\n",
      "[100, 2] in, DenseLayerV2(weightParameter: [[-1.1251681],\n",
      " [ 3.2510045]], biasParameter: [2.6939971], gradientChain: (Function))\n",
      "[100, 1] out\n",
      "[100, 1] in, DenseLayerV2(weightParameter: [[-1.1251681],\n",
      " [ 3.2510045]], biasParameter: [2.6939971], gradientChain: (Function))\n",
      "[100, 2] out\n",
      "[100, 2] in, ReLUParameter(gradientChain: (Function))\n",
      "[100, 2] out\n",
      "[100, 2] in, DenseLayerV2(weightParameter: [[-1.1288714],\n",
      " [ 3.2810252]], biasParameter: [2.7240179], gradientChain: (Function))\n",
      "[100, 1] out\n",
      "[100, 1] in, ReLUParameter(gradientChain: (Function))\n",
      "[100, 1] out\n",
      "[100, 1] in, ReLUParameter(gradientChain: (Function))\n",
      "[100, 1] out\n",
      "[100, 1] in, DenseLayerV2(weightParameter: [[-1.1288714],\n",
      " [ 3.2810252]], biasParameter: [2.7240179], gradientChain: (Function))\n",
      "[100, 2] out\n",
      "[100, 2] in, ReLUParameter(gradientChain: (Function))\n",
      "[100, 2] out\n",
      "[100, 2] in, DenseLayerV2(weightParameter: [[-1.1535496],\n",
      " [ 3.3021283]], biasParameter: [2.745121], gradientChain: (Function))\n",
      "[100, 1] out\n",
      "[100, 1] in, DenseLayerV2(weightParameter: [[-1.1535496],\n",
      " [ 3.3021283]], biasParameter: [2.745121], gradientChain: (Function))\n",
      "[100, 2] out\n",
      "[100, 2] in, ReLUParameter(gradientChain: (Function))\n",
      "[100, 2] out\n",
      "[100, 2] in, DenseLayerV2(weightParameter: [[-1.1577384],\n",
      " [ 3.3303373]], biasParameter: [2.77333], gradientChain: (Function))\n",
      "[100, 1] out\n",
      "[100, 1] in, ReLUParameter(gradientChain: (Function))\n",
      "[100, 1] out\n",
      "[100, 1] in, ReLUParameter(gradientChain: (Function))\n",
      "[100, 1] out\n",
      "[100, 1] in, DenseLayerV2(weightParameter: [[-1.1577384],\n",
      " [ 3.3303373]], biasParameter: [2.77333], gradientChain: (Function))\n",
      "[100, 2] out\n",
      "[100, 2] in, ReLUParameter(gradientChain: (Function))\n",
      "[100, 2] out\n",
      "[100, 2] in, DenseLayerV2(weightParameter: [[-1.1819595],\n",
      " [ 3.3495069]], biasParameter: [2.7924995], gradientChain: (Function))\n",
      "[100, 1] out\n",
      "[100, 1] in, DenseLayerV2(weightParameter: [[-1.1819595],\n",
      " [ 3.3495069]], biasParameter: [2.7924995], gradientChain: (Function))\n",
      "[100, 2] out\n",
      "[100, 2] in, ReLUParameter(gradientChain: (Function))\n",
      "[100, 2] out\n",
      "[100, 2] in, DenseLayerV2(weightParameter: [[-1.1865721],\n",
      " [  3.376054]], biasParameter: [2.8190467], gradientChain: (Function))\n",
      "[100, 1] out\n",
      "[100, 1] in, ReLUParameter(gradientChain: (Function))\n",
      "[100, 1] out\n",
      "[100, 1] in, ReLUParameter(gradientChain: (Function))\n",
      "[100, 1] out\n",
      "[100, 1] in, DenseLayerV2(weightParameter: [[-1.1865721],\n",
      " [  3.376054]], biasParameter: [2.8190467], gradientChain: (Function))\n",
      "[100, 2] out\n",
      "[100, 2] in, ReLUParameter(gradientChain: (Function))\n",
      "[100, 2] out\n",
      "[100, 2] in, DenseLayerV2(weightParameter: [[-1.2103269],\n",
      " [  3.393434]], biasParameter: [2.8364267], gradientChain: (Function))\n",
      "[100, 1] out\n",
      "[100, 1] in, DenseLayerV2(weightParameter: [[-1.2103269],\n",
      " [  3.393434]], biasParameter: [2.8364267], gradientChain: (Function))\n",
      "[100, 2] out\n",
      "[100, 2] in, ReLUParameter(gradientChain: (Function))\n",
      "[100, 2] out\n",
      "[100, 2] in, DenseLayerV2(weightParameter: [[-1.215307],\n",
      " [ 3.418457]], biasParameter: [2.8614497], gradientChain: (Function))\n",
      "[100, 1] out\n",
      "[100, 1] in, ReLUParameter(gradientChain: (Function))\n",
      "[100, 1] out\n",
      "[100, 1] in, ReLUParameter(gradientChain: (Function))\n",
      "[100, 1] out\n",
      "[100, 1] in, DenseLayerV2(weightParameter: [[-1.215307],\n",
      " [ 3.418457]], biasParameter: [2.8614497], gradientChain: (Function))\n",
      "[100, 2] out\n",
      "[100, 2] in, ReLUParameter(gradientChain: (Function))\n",
      "[100, 2] out\n",
      "[100, 2] in, DenseLayerV2(weightParameter: [[-1.2385887],\n",
      " [ 3.4341798]], biasParameter: [2.8771725], gradientChain: (Function))\n",
      "[100, 1] out\n",
      "[100, 1] in, DenseLayerV2(weightParameter: [[-1.2385887],\n",
      " [ 3.4341798]], biasParameter: [2.8771725], gradientChain: (Function))\n",
      "[100, 2] out\n",
      "[100, 2] in, ReLUParameter(gradientChain: (Function))\n",
      "[100, 2] out\n",
      "[100, 2] in, DenseLayerV2(weightParameter: [[-1.2438853],\n",
      " [ 3.4578052]], biasParameter: [2.9007978], gradientChain: (Function))\n",
      "[100, 1] out\n",
      "[100, 1] in, ReLUParameter(gradientChain: (Function))\n",
      "[100, 1] out\n",
      "[100, 1] in, ReLUParameter(gradientChain: (Function))\n",
      "[100, 1] out\n",
      "[100, 1] in, DenseLayerV2(weightParameter: [[-1.2438853],\n",
      " [ 3.4578052]], biasParameter: [2.9007978], gradientChain: (Function))\n",
      "[100, 2] out\n",
      "[100, 2] in, ReLUParameter(gradientChain: (Function))\n",
      "[100, 2] out\n",
      "[100, 2] in, DenseLayerV2(weightParameter: [[-1.2666888],\n",
      " [ 3.4719925]], biasParameter: [2.9149852], gradientChain: (Function))\n",
      "[100, 1] out\n",
      "[100, 1] in, DenseLayerV2(weightParameter: [[-1.2666888],\n",
      " [ 3.4719925]], biasParameter: [2.9149852], gradientChain: (Function))\n",
      "[100, 2] out\n",
      "[100, 2] in, ReLUParameter(gradientChain: (Function))\n",
      "[100, 2] out\n"
     ]
    },
    {
     "name": "stdout",
     "output_type": "stream",
     "text": [
      "[100, 2] in, DenseLayerV2(weightParameter: [[-1.2722558],\n",
      " [ 3.4943361]], biasParameter: [2.9373288], gradientChain: (Function))\n",
      "[100, 1] out\n",
      "[100, 1] in, ReLUParameter(gradientChain: (Function))\n",
      "[100, 1] out\n",
      "[100, 1] in, ReLUParameter(gradientChain: (Function))\n",
      "[100, 1] out\n",
      "[100, 1] in, DenseLayerV2(weightParameter: [[-1.2722558],\n",
      " [ 3.4943361]], biasParameter: [2.9373288], gradientChain: (Function))\n",
      "[100, 2] out\n",
      "[100, 2] in, ReLUParameter(gradientChain: (Function))\n",
      "[100, 2] out\n",
      "[100, 2] in, DenseLayerV2(weightParameter: [[-1.2945778],\n",
      " [ 3.5071006]], biasParameter: [2.9500933], gradientChain: (Function))\n",
      "[100, 1] out\n",
      "[100, 1] in, DenseLayerV2(weightParameter: [[-1.2945778],\n",
      " [ 3.5071006]], biasParameter: [2.9500933], gradientChain: (Function))\n",
      "[100, 2] out\n",
      "[100, 2] in, ReLUParameter(gradientChain: (Function))\n",
      "[100, 2] out\n",
      "[100, 2] in, DenseLayerV2(weightParameter: [[-1.3003734],\n",
      " [  3.528269]], biasParameter: [2.9712617], gradientChain: (Function))\n",
      "[100, 1] out\n",
      "[100, 1] in, ReLUParameter(gradientChain: (Function))\n",
      "[100, 1] out\n",
      "[100, 1] in, ReLUParameter(gradientChain: (Function))\n",
      "[100, 1] out\n",
      "[100, 1] in, DenseLayerV2(weightParameter: [[-1.3003734],\n",
      " [  3.528269]], biasParameter: [2.9712617], gradientChain: (Function))\n",
      "[100, 2] out\n",
      "[100, 2] in, ReLUParameter(gradientChain: (Function))\n",
      "[100, 2] out\n",
      "[100, 2] in, DenseLayerV2(weightParameter: [[-1.3222121],\n",
      " [  3.539714]], biasParameter: [2.9827068], gradientChain: (Function))\n",
      "[100, 1] out\n",
      "[100, 1] in, DenseLayerV2(weightParameter: [[-1.3222121],\n",
      " [  3.539714]], biasParameter: [2.9827068], gradientChain: (Function))\n",
      "[100, 2] out\n",
      "[100, 2] in, ReLUParameter(gradientChain: (Function))\n",
      "[100, 2] out\n",
      "[100, 2] in, DenseLayerV2(weightParameter: [[-1.3281984],\n",
      " [  3.559805]], biasParameter: [3.0027976], gradientChain: (Function))\n",
      "[100, 1] out\n",
      "[100, 1] in, ReLUParameter(gradientChain: (Function))\n",
      "[100, 1] out\n",
      "[100, 1] in, ReLUParameter(gradientChain: (Function))\n",
      "[100, 1] out\n",
      "[100, 1] in, DenseLayerV2(weightParameter: [[-1.3281984],\n",
      " [  3.559805]], biasParameter: [3.0027976], gradientChain: (Function))\n",
      "[100, 2] out\n",
      "[100, 2] in, ReLUParameter(gradientChain: (Function))\n",
      "[100, 2] out\n",
      "[100, 2] in, DenseLayerV2(weightParameter: [[-1.3495532],\n",
      " [ 3.5700262]], biasParameter: [3.0130188], gradientChain: (Function))\n",
      "[100, 1] out\n",
      "[100, 1] in, DenseLayerV2(weightParameter: [[-1.3495532],\n",
      " [ 3.5700262]], biasParameter: [3.0130188], gradientChain: (Function))\n",
      "[100, 2] out\n",
      "[100, 2] in, ReLUParameter(gradientChain: (Function))\n",
      "[100, 2] out\n",
      "[100, 2] in, DenseLayerV2(weightParameter: [[-1.3556962],\n",
      " [  3.589129]], biasParameter: [3.0321217], gradientChain: (Function))\n",
      "[100, 1] out\n",
      "[100, 1] in, ReLUParameter(gradientChain: (Function))\n",
      "[100, 1] out\n",
      "[100, 1] in, ReLUParameter(gradientChain: (Function))\n",
      "[100, 1] out\n",
      "[100, 1] in, DenseLayerV2(weightParameter: [[-1.3556962],\n",
      " [  3.589129]], biasParameter: [3.0321217], gradientChain: (Function))\n",
      "[100, 2] out\n",
      "[100, 2] in, ReLUParameter(gradientChain: (Function))\n",
      "[100, 2] out\n",
      "[100, 2] in, DenseLayerV2(weightParameter: [[-1.3765678],\n",
      " [ 3.5982144]], biasParameter: [3.041207], gradientChain: (Function))\n",
      "[100, 1] out\n",
      "[100, 1] in, DenseLayerV2(weightParameter: [[-1.3765678],\n",
      " [ 3.5982144]], biasParameter: [3.041207], gradientChain: (Function))\n",
      "[100, 2] out\n",
      "[100, 2] in, ReLUParameter(gradientChain: (Function))\n",
      "[100, 2] out\n",
      "[100, 2] in, DenseLayerV2(weightParameter: [[-1.3828367],\n",
      " [ 3.6164117]], biasParameter: [3.0594044], gradientChain: (Function))\n",
      "[100, 1] out\n",
      "[100, 1] in, ReLUParameter(gradientChain: (Function))\n",
      "[100, 1] out\n",
      "[100, 1] in, ReLUParameter(gradientChain: (Function))\n",
      "[100, 1] out\n",
      "[100, 1] in, DenseLayerV2(weightParameter: [[-1.3828367],\n",
      " [ 3.6164117]], biasParameter: [3.0594044], gradientChain: (Function))\n",
      "[100, 2] out\n",
      "[100, 2] in, ReLUParameter(gradientChain: (Function))\n",
      "[100, 2] out\n",
      "[100, 2] in, DenseLayerV2(weightParameter: [[-1.403227],\n",
      " [3.6244426]], biasParameter: [3.0674353], gradientChain: (Function))\n",
      "[100, 1] out\n",
      "[100, 1] in, DenseLayerV2(weightParameter: [[-1.403227],\n",
      " [3.6244426]], biasParameter: [3.0674353], gradientChain: (Function))\n",
      "[100, 2] out\n",
      "[100, 2] in, ReLUParameter(gradientChain: (Function))\n",
      "[100, 2] out\n",
      "[100, 2] in, DenseLayerV2(weightParameter: [[-1.4095939],\n",
      " [ 3.6418097]], biasParameter: [3.0848024], gradientChain: (Function))\n",
      "[100, 1] out\n",
      "[100, 1] in, ReLUParameter(gradientChain: (Function))\n",
      "[100, 1] out\n",
      "[100, 1] in, ReLUParameter(gradientChain: (Function))\n",
      "[100, 1] out\n",
      "[100, 1] in, DenseLayerV2(weightParameter: [[-1.4095939],\n",
      " [ 3.6418097]], biasParameter: [3.0848024], gradientChain: (Function))\n",
      "[100, 2] out\n",
      "[100, 2] in, ReLUParameter(gradientChain: (Function))\n",
      "[100, 2] out\n",
      "[100, 2] in, DenseLayerV2(weightParameter: [[-1.4295056],\n",
      " [ 3.6488607]], biasParameter: [3.0918534], gradientChain: (Function))\n",
      "[100, 1] out\n",
      "[100, 1] in, DenseLayerV2(weightParameter: [[-1.4295056],\n",
      " [ 3.6488607]], biasParameter: [3.0918534], gradientChain: (Function))\n",
      "[100, 2] out\n",
      "[100, 2] in, ReLUParameter(gradientChain: (Function))\n",
      "[100, 2] out\n",
      "[100, 2] in, DenseLayerV2(weightParameter: [[-1.4359456],\n",
      " [  3.665467]], biasParameter: [3.1084597], gradientChain: (Function))\n",
      "[100, 1] out\n",
      "[100, 1] in, ReLUParameter(gradientChain: (Function))\n",
      "[100, 1] out\n",
      "[100, 1] in, ReLUParameter(gradientChain: (Function))\n",
      "[100, 1] out\n",
      "[100, 1] in, DenseLayerV2(weightParameter: [[-1.4359456],\n",
      " [  3.665467]], biasParameter: [3.1084597], gradientChain: (Function))\n",
      "[100, 2] out\n",
      "[100, 2] in, ReLUParameter(gradientChain: (Function))\n",
      "[100, 2] out\n",
      "[100, 2] in, DenseLayerV2(weightParameter: [[-1.4553822],\n",
      " [ 3.6716075]], biasParameter: [3.1146002], gradientChain: (Function))\n",
      "[100, 1] out\n",
      "[100, 1] in, DenseLayerV2(weightParameter: [[-1.4553822],\n",
      " [ 3.6716075]], biasParameter: [3.1146002], gradientChain: (Function))\n",
      "[100, 2] out\n",
      "[100, 2] in, ReLUParameter(gradientChain: (Function))\n",
      "[100, 2] out\n",
      "[100, 2] in, DenseLayerV2(weightParameter: [[-1.4618728],\n",
      " [ 3.6875165]], biasParameter: [3.1305091], gradientChain: (Function))\n",
      "[100, 1] out\n",
      "[100, 1] in, ReLUParameter(gradientChain: (Function))\n",
      "[100, 1] out\n",
      "[100, 1] in, ReLUParameter(gradientChain: (Function))\n",
      "[100, 1] out\n",
      "[100, 1] in, DenseLayerV2(weightParameter: [[-1.4618728],\n",
      " [ 3.6875165]], biasParameter: [3.1305091], gradientChain: (Function))\n",
      "[100, 2] out\n",
      "[100, 2] in, ReLUParameter(gradientChain: (Function))\n",
      "[100, 2] out\n",
      "[100, 2] in, DenseLayerV2(weightParameter: [[-1.4808388],\n",
      " [ 3.6928098]], biasParameter: [3.1358025], gradientChain: (Function))\n",
      "[100, 1] out\n",
      "[100, 1] in, DenseLayerV2(weightParameter: [[-1.4808388],\n",
      " [ 3.6928098]], biasParameter: [3.1358025], gradientChain: (Function))\n",
      "[100, 2] out\n",
      "[100, 2] in, ReLUParameter(gradientChain: (Function))\n",
      "[100, 2] out\n",
      "[100, 2] in, DenseLayerV2(weightParameter: [[-1.4873599],\n",
      " [ 3.7080798]], biasParameter: [3.1510725], gradientChain: (Function))\n",
      "[100, 1] out\n",
      "[100, 1] in, ReLUParameter(gradientChain: (Function))\n",
      "[100, 1] out\n",
      "[100, 1] in, ReLUParameter(gradientChain: (Function))\n",
      "[100, 1] out\n",
      "[100, 1] in, DenseLayerV2(weightParameter: [[-1.4873599],\n",
      " [ 3.7080798]], biasParameter: [3.1510725], gradientChain: (Function))\n",
      "[100, 2] out\n",
      "[100, 2] in, ReLUParameter(gradientChain: (Function))\n",
      "[100, 2] out\n",
      "[100, 2] in, DenseLayerV2(weightParameter: [[-1.5058601],\n",
      " [ 3.7125852]], biasParameter: [3.155578], gradientChain: (Function))\n",
      "[100, 1] out\n",
      "[100, 1] in, DenseLayerV2(weightParameter: [[-1.5058601],\n",
      " [ 3.7125852]], biasParameter: [3.155578], gradientChain: (Function))\n",
      "[100, 2] out\n",
      "[100, 2] in, ReLUParameter(gradientChain: (Function))\n",
      "[100, 2] out\n",
      "[100, 2] in, DenseLayerV2(weightParameter: [[-1.5123937],\n",
      " [ 3.7272696]], biasParameter: [3.1702623], gradientChain: (Function))\n",
      "[100, 1] out\n",
      "[100, 1] in, ReLUParameter(gradientChain: (Function))\n",
      "[100, 1] out\n",
      "[100, 1] in, ReLUParameter(gradientChain: (Function))\n",
      "[100, 1] out\n",
      "[100, 1] in, DenseLayerV2(weightParameter: [[-1.5123937],\n",
      " [ 3.7272696]], biasParameter: [3.1702623], gradientChain: (Function))\n",
      "[100, 2] out\n",
      "[100, 2] in, ReLUParameter(gradientChain: (Function))\n",
      "[100, 2] out\n",
      "[100, 2] in, DenseLayerV2(weightParameter: [[-1.5304338],\n",
      " [ 3.7310412]], biasParameter: [3.1740339], gradientChain: (Function))\n",
      "[100, 1] out\n",
      "[100, 1] in, DenseLayerV2(weightParameter: [[-1.5304338],\n",
      " [ 3.7310412]], biasParameter: [3.1740339], gradientChain: (Function))\n",
      "[100, 2] out\n",
      "[100, 2] in, ReLUParameter(gradientChain: (Function))\n",
      "[100, 2] out\n",
      "[100, 2] in, DenseLayerV2(weightParameter: [[-1.5369638],\n",
      " [ 3.7451892]], biasParameter: [3.1881819], gradientChain: (Function))\n",
      "[100, 1] out\n",
      "[100, 1] in, ReLUParameter(gradientChain: (Function))\n",
      "[100, 1] out\n",
      "[100, 1] in, ReLUParameter(gradientChain: (Function))\n",
      "[100, 1] out\n",
      "[100, 1] in, DenseLayerV2(weightParameter: [[-1.5369638],\n",
      " [ 3.7451892]], biasParameter: [3.1881819], gradientChain: (Function))\n",
      "[100, 2] out\n",
      "[100, 2] in, ReLUParameter(gradientChain: (Function))\n",
      "[100, 2] out\n",
      "[100, 2] in, DenseLayerV2(weightParameter: [[-1.5545498],\n",
      " [ 3.7482772]], biasParameter: [3.1912699], gradientChain: (Function))\n",
      "[100, 1] out\n",
      "[100, 1] in, DenseLayerV2(weightParameter: [[-1.5545498],\n",
      " [ 3.7482772]], biasParameter: [3.1912699], gradientChain: (Function))\n",
      "[100, 2] out\n",
      "[100, 2] in, ReLUParameter(gradientChain: (Function))\n",
      "[100, 2] out\n",
      "[100, 2] in, DenseLayerV2(weightParameter: [[-1.561062],\n",
      " [3.7619338]], biasParameter: [3.2049265], gradientChain: (Function))\n",
      "[100, 1] out\n",
      "[100, 1] in, ReLUParameter(gradientChain: (Function))\n",
      "[100, 1] out\n",
      "[100, 1] in, ReLUParameter(gradientChain: (Function))\n",
      "[100, 1] out\n",
      "[100, 1] in, DenseLayerV2(weightParameter: [[-1.561062],\n",
      " [3.7619338]], biasParameter: [3.2049265], gradientChain: (Function))\n",
      "[100, 2] out\n",
      "[100, 2] in, ReLUParameter(gradientChain: (Function))\n",
      "[100, 2] out\n",
      "[100, 2] in, DenseLayerV2(weightParameter: [[-1.5782003],\n",
      " [ 3.7643845]], biasParameter: [3.2073772], gradientChain: (Function))\n",
      "[100, 1] out\n",
      "[100, 1] in, DenseLayerV2(weightParameter: [[-1.5782003],\n",
      " [ 3.7643845]], biasParameter: [3.2073772], gradientChain: (Function))\n",
      "[100, 2] out\n",
      "[100, 2] in, ReLUParameter(gradientChain: (Function))\n",
      "[100, 2] out\n",
      "[100, 2] in, DenseLayerV2(weightParameter: [[-1.5846819],\n",
      " [ 3.7775912]], biasParameter: [3.220584], gradientChain: (Function))\n",
      "[100, 1] out\n",
      "[100, 1] in, ReLUParameter(gradientChain: (Function))\n",
      "[100, 1] out\n",
      "[100, 1] in, ReLUParameter(gradientChain: (Function))\n",
      "[100, 1] out\n",
      "[100, 1] in, DenseLayerV2(weightParameter: [[-1.5846819],\n",
      " [ 3.7775912]], biasParameter: [3.220584], gradientChain: (Function))\n",
      "[100, 2] out\n",
      "[100, 2] in, ReLUParameter(gradientChain: (Function))\n",
      "[100, 2] out\n",
      "[100, 2] in, DenseLayerV2(weightParameter: [[-1.6013794],\n",
      " [ 3.7794476]], biasParameter: [3.2224402], gradientChain: (Function))\n",
      "[100, 1] out\n",
      "[100, 1] in, DenseLayerV2(weightParameter: [[-1.6013794],\n",
      " [ 3.7794476]], biasParameter: [3.2224402], gradientChain: (Function))\n",
      "[100, 2] out\n",
      "[100, 2] in, ReLUParameter(gradientChain: (Function))\n",
      "[100, 2] out\n",
      "[100, 2] in, DenseLayerV2(weightParameter: [[-1.6078191],\n",
      " [  3.792242]], biasParameter: [3.2352347], gradientChain: (Function))\n",
      "[100, 1] out\n",
      "[100, 1] in, ReLUParameter(gradientChain: (Function))\n",
      "[100, 1] out\n",
      "[100, 1] in, ReLUParameter(gradientChain: (Function))\n",
      "[100, 1] out\n",
      "[100, 1] in, DenseLayerV2(weightParameter: [[-1.6078191],\n",
      " [  3.792242]], biasParameter: [3.2352347], gradientChain: (Function))\n",
      "[100, 2] out\n",
      "[100, 2] in, ReLUParameter(gradientChain: (Function))\n",
      "[100, 2] out\n",
      "[100, 2] in, DenseLayerV2(weightParameter: [[-1.624083],\n",
      " [3.7935436]], biasParameter: [3.2365363], gradientChain: (Function))\n",
      "[100, 1] out\n",
      "[100, 1] in, DenseLayerV2(weightParameter: [[-1.624083],\n",
      " [3.7935436]], biasParameter: [3.2365363], gradientChain: (Function))\n",
      "[100, 2] out\n",
      "[100, 2] in, ReLUParameter(gradientChain: (Function))\n",
      "[100, 2] out\n",
      "[100, 2] in, DenseLayerV2(weightParameter: [[-1.6304709],\n",
      " [ 3.8059607]], biasParameter: [3.2489533], gradientChain: (Function))\n",
      "[100, 1] out\n",
      "[100, 1] in, ReLUParameter(gradientChain: (Function))\n",
      "[100, 1] out\n",
      "[100, 1] in, ReLUParameter(gradientChain: (Function))\n",
      "[100, 1] out\n",
      "[100, 1] in, DenseLayerV2(weightParameter: [[-1.6304709],\n",
      " [ 3.8059607]], biasParameter: [3.2489533], gradientChain: (Function))\n",
      "[100, 2] out\n"
     ]
    },
    {
     "name": "stdout",
     "output_type": "stream",
     "text": [
      "[100, 2] in, ReLUParameter(gradientChain: (Function))\n",
      "[100, 2] out\n",
      "[100, 2] in, DenseLayerV2(weightParameter: [[-1.6463085],\n",
      " [  3.806744]], biasParameter: [3.2497368], gradientChain: (Function))\n",
      "[100, 1] out\n",
      "[100, 1] in, DenseLayerV2(weightParameter: [[-1.6463085],\n",
      " [  3.806744]], biasParameter: [3.2497368], gradientChain: (Function))\n",
      "[100, 2] out\n",
      "[100, 2] in, ReLUParameter(gradientChain: (Function))\n",
      "[100, 2] out\n",
      "[100, 2] in, DenseLayerV2(weightParameter: [[-1.6526357],\n",
      " [ 3.8188157]], biasParameter: [3.2618084], gradientChain: (Function))\n",
      "[100, 1] out\n",
      "[100, 1] in, ReLUParameter(gradientChain: (Function))\n",
      "[100, 1] out\n",
      "[100, 1] in, ReLUParameter(gradientChain: (Function))\n",
      "[100, 1] out\n",
      "[100, 1] in, DenseLayerV2(weightParameter: [[-1.6526357],\n",
      " [ 3.8188157]], biasParameter: [3.2618084], gradientChain: (Function))\n",
      "[100, 2] out\n",
      "[100, 2] in, ReLUParameter(gradientChain: (Function))\n",
      "[100, 2] out\n",
      "[100, 2] in, DenseLayerV2(weightParameter: [[-1.6680548],\n",
      " [  3.819115]], biasParameter: [3.2621076], gradientChain: (Function))\n",
      "[100, 1] out\n",
      "[100, 1] in, DenseLayerV2(weightParameter: [[-1.6680548],\n",
      " [  3.819115]], biasParameter: [3.2621076], gradientChain: (Function))\n",
      "[100, 2] out\n",
      "[100, 2] in, ReLUParameter(gradientChain: (Function))\n",
      "[100, 2] out\n",
      "[100, 2] in, DenseLayerV2(weightParameter: [[-1.6743138],\n",
      " [ 3.8308704]], biasParameter: [3.273863], gradientChain: (Function))\n",
      "[100, 1] out\n",
      "[100, 1] in, ReLUParameter(gradientChain: (Function))\n",
      "[100, 1] out\n",
      "[100, 1] in, ReLUParameter(gradientChain: (Function))\n",
      "[100, 1] out\n",
      "[100, 1] in, DenseLayerV2(weightParameter: [[-1.6743138],\n",
      " [ 3.8308704]], biasParameter: [3.273863], gradientChain: (Function))\n",
      "[100, 2] out\n",
      "[100, 2] in, ReLUParameter(gradientChain: (Function))\n",
      "[100, 2] out\n",
      "[100, 2] in, DenseLayerV2(weightParameter: [[-1.6893221],\n",
      " [ 3.8307166]], biasParameter: [3.2737093], gradientChain: (Function))\n",
      "[100, 1] out\n",
      "[100, 1] in, DenseLayerV2(weightParameter: [[-1.6893221],\n",
      " [ 3.8307166]], biasParameter: [3.2737093], gradientChain: (Function))\n",
      "[100, 2] out\n",
      "[100, 2] in, ReLUParameter(gradientChain: (Function))\n",
      "[100, 2] out\n",
      "[100, 2] in, DenseLayerV2(weightParameter: [[-1.6955061],\n",
      " [ 3.8421826]], biasParameter: [3.2851753], gradientChain: (Function))\n",
      "[100, 1] out\n",
      "[100, 1] in, ReLUParameter(gradientChain: (Function))\n",
      "[100, 1] out\n",
      "[100, 1] in, ReLUParameter(gradientChain: (Function))\n",
      "[100, 1] out\n",
      "[100, 1] in, DenseLayerV2(weightParameter: [[-1.6955061],\n",
      " [ 3.8421826]], biasParameter: [3.2851753], gradientChain: (Function))\n",
      "[100, 2] out\n",
      "[100, 2] in, ReLUParameter(gradientChain: (Function))\n",
      "[100, 2] out\n",
      "[100, 2] in, DenseLayerV2(weightParameter: [[-1.7101116],\n",
      " [ 3.8416052]], biasParameter: [3.2845979], gradientChain: (Function))\n",
      "[100, 1] out\n",
      "[100, 1] in, DenseLayerV2(weightParameter: [[-1.7101116],\n",
      " [ 3.8416052]], biasParameter: [3.2845979], gradientChain: (Function))\n",
      "[100, 2] out\n",
      "[100, 2] in, ReLUParameter(gradientChain: (Function))\n",
      "[100, 2] out\n",
      "[100, 2] in, DenseLayerV2(weightParameter: [[-1.716215],\n",
      " [3.8528066]], biasParameter: [3.2957993], gradientChain: (Function))\n",
      "[100, 1] out\n",
      "[100, 1] in, ReLUParameter(gradientChain: (Function))\n",
      "[100, 1] out\n",
      "[100, 1] in, ReLUParameter(gradientChain: (Function))\n",
      "[100, 1] out\n",
      "[100, 1] in, DenseLayerV2(weightParameter: [[-1.716215],\n",
      " [3.8528066]], biasParameter: [3.2957993], gradientChain: (Function))\n",
      "[100, 2] out\n",
      "[100, 2] in, ReLUParameter(gradientChain: (Function))\n",
      "[100, 2] out\n",
      "[100, 2] in, DenseLayerV2(weightParameter: [[-1.7304256],\n",
      " [ 3.8518322]], biasParameter: [3.2948248], gradientChain: (Function))\n",
      "[100, 1] out\n",
      "[100, 1] in, DenseLayerV2(weightParameter: [[-1.7304256],\n",
      " [ 3.8518322]], biasParameter: [3.2948248], gradientChain: (Function))\n",
      "[100, 2] out\n",
      "[100, 2] in, ReLUParameter(gradientChain: (Function))\n",
      "[100, 2] out\n",
      "[100, 2] in, DenseLayerV2(weightParameter: [[-1.7364434],\n",
      " [ 3.8627913]], biasParameter: [3.305784], gradientChain: (Function))\n",
      "[100, 1] out\n",
      "[100, 1] in, ReLUParameter(gradientChain: (Function))\n",
      "[100, 1] out\n",
      "[100, 1] in, ReLUParameter(gradientChain: (Function))\n",
      "[100, 1] out\n",
      "[100, 1] in, DenseLayerV2(weightParameter: [[-1.7364434],\n",
      " [ 3.8627913]], biasParameter: [3.305784], gradientChain: (Function))\n",
      "[100, 2] out\n",
      "[100, 2] in, ReLUParameter(gradientChain: (Function))\n",
      "[100, 2] out\n",
      "[100, 2] in, DenseLayerV2(weightParameter: [[-1.7502673],\n",
      " [ 3.8614447]], biasParameter: [3.3044374], gradientChain: (Function))\n",
      "[100, 1] out\n",
      "[100, 1] in, DenseLayerV2(weightParameter: [[-1.7502673],\n",
      " [ 3.8614447]], biasParameter: [3.3044374], gradientChain: (Function))\n",
      "[100, 2] out\n",
      "[100, 2] in, ReLUParameter(gradientChain: (Function))\n",
      "[100, 2] out\n",
      "[100, 2] in, DenseLayerV2(weightParameter: [[-1.7561953],\n",
      " [ 3.8721824]], biasParameter: [3.315175], gradientChain: (Function))\n",
      "[100, 1] out\n",
      "[100, 1] in, ReLUParameter(gradientChain: (Function))\n",
      "[100, 1] out\n",
      "[100, 1] in, ReLUParameter(gradientChain: (Function))\n",
      "[100, 1] out\n",
      "[100, 1] in, DenseLayerV2(weightParameter: [[-1.7561953],\n",
      " [ 3.8721824]], biasParameter: [3.315175], gradientChain: (Function))\n",
      "[100, 2] out\n",
      "[100, 2] in, ReLUParameter(gradientChain: (Function))\n",
      "[100, 2] out\n",
      "[100, 2] in, DenseLayerV2(weightParameter: [[-1.7696406],\n",
      " [ 3.8704867]], biasParameter: [3.3134794], gradientChain: (Function))\n",
      "[100, 1] out\n",
      "[100, 1] in, DenseLayerV2(weightParameter: [[-1.7696406],\n",
      " [ 3.8704867]], biasParameter: [3.3134794], gradientChain: (Function))\n",
      "[100, 2] out\n",
      "[100, 2] in, ReLUParameter(gradientChain: (Function))\n",
      "[100, 2] out\n",
      "[100, 2] in, DenseLayerV2(weightParameter: [[-1.7754753],\n",
      " [ 3.8810217]], biasParameter: [3.3240144], gradientChain: (Function))\n",
      "[100, 1] out\n",
      "[100, 1] in, ReLUParameter(gradientChain: (Function))\n",
      "[100, 1] out\n",
      "[100, 1] in, ReLUParameter(gradientChain: (Function))\n",
      "[100, 1] out\n",
      "[100, 1] in, DenseLayerV2(weightParameter: [[-1.7754753],\n",
      " [ 3.8810217]], biasParameter: [3.3240144], gradientChain: (Function))\n",
      "[100, 2] out\n",
      "[100, 2] in, ReLUParameter(gradientChain: (Function))\n",
      "[100, 2] out\n",
      "[100, 2] in, DenseLayerV2(weightParameter: [[-1.7885501],\n",
      " [ 3.8789988]], biasParameter: [3.3219914], gradientChain: (Function))\n",
      "[100, 1] out\n",
      "[100, 1] in, DenseLayerV2(weightParameter: [[-1.7885501],\n",
      " [ 3.8789988]], biasParameter: [3.3219914], gradientChain: (Function))\n",
      "[100, 2] out\n",
      "[100, 2] in, ReLUParameter(gradientChain: (Function))\n",
      "[100, 2] out\n",
      "[100, 2] in, DenseLayerV2(weightParameter: [[-1.7942886],\n",
      " [ 3.8893487]], biasParameter: [3.3323414], gradientChain: (Function))\n",
      "[100, 1] out\n",
      "[100, 1] in, ReLUParameter(gradientChain: (Function))\n",
      "[100, 1] out\n",
      "[100, 1] in, ReLUParameter(gradientChain: (Function))\n",
      "[100, 1] out\n",
      "[100, 1] in, DenseLayerV2(weightParameter: [[-1.7942886],\n",
      " [ 3.8893487]], biasParameter: [3.3323414], gradientChain: (Function))\n",
      "[100, 2] out\n",
      "[100, 2] in, ReLUParameter(gradientChain: (Function))\n",
      "[100, 2] out\n",
      "[100, 2] in, DenseLayerV2(weightParameter: [[-1.8070012],\n",
      " [  3.887018]], biasParameter: [3.3300107], gradientChain: (Function))\n",
      "[100, 1] out\n",
      "[100, 1] in, DenseLayerV2(weightParameter: [[-1.8070012],\n",
      " [  3.887018]], biasParameter: [3.3300107], gradientChain: (Function))\n",
      "[100, 2] out\n",
      "[100, 2] in, ReLUParameter(gradientChain: (Function))\n",
      "[100, 2] out\n",
      "[100, 2] in, DenseLayerV2(weightParameter: [[-1.8126411],\n",
      " [ 3.8971987]], biasParameter: [3.3401914], gradientChain: (Function))\n",
      "[100, 1] out\n",
      "[100, 1] in, ReLUParameter(gradientChain: (Function))\n",
      "[100, 1] out\n",
      "[100, 1] in, ReLUParameter(gradientChain: (Function))\n",
      "[100, 1] out\n",
      "[100, 1] in, DenseLayerV2(weightParameter: [[-1.8126411],\n",
      " [ 3.8971987]], biasParameter: [3.3401914], gradientChain: (Function))\n",
      "[100, 2] out\n",
      "[100, 2] in, ReLUParameter(gradientChain: (Function))\n",
      "[100, 2] out\n",
      "[100, 2] in, DenseLayerV2(weightParameter: [[-1.8249996],\n",
      " [ 3.8945787]], biasParameter: [3.3375714], gradientChain: (Function))\n",
      "[100, 1] out\n",
      "[100, 1] in, DenseLayerV2(weightParameter: [[-1.8249996],\n",
      " [ 3.8945787]], biasParameter: [3.3375714], gradientChain: (Function))\n",
      "[100, 2] out\n",
      "[100, 2] in, ReLUParameter(gradientChain: (Function))\n",
      "[100, 2] out\n"
     ]
    }
   ],
   "source": [
    "let taughtLinearModel = linearTeacher.teachModel(model: linearModel, \n",
    "                                                 numberOfEpochs: 100)"
   ]
  },
  {
   "cell_type": "code",
   "execution_count": 36,
   "metadata": {},
   "outputs": [
    {
     "data": {
      "image/png": "[encoded data removed]",
      "text/plain": [
       "<Figure size 432x288 with 1 Axes>"
      ]
     },
     "metadata": {
      "needs_background": "light"
     },
     "output_type": "display_data"
    }
   ],
   "source": [
    "showYHat(yHat: taughtLinearModel.apply(inputTensor: A))"
   ]
  },
  {
   "cell_type": "code",
   "execution_count": 37,
   "metadata": {},
   "outputs": [],
   "source": [
    "func plotLoss(lossArray: [Float]){\n",
    "    plotter.figure(figsize: [12, 8])\n",
    "\n",
    "    let lossAxes = plotter.subplot(2, 1, 2)\n",
    "    lossAxes.set_ylabel(\"Loss\")\n",
    "    lossAxes.set_xlabel(\"Epoch\")\n",
    "    lossAxes.plot(lossArray)\n",
    "\n",
    "    plotter.show()\n",
    "}"
   ]
  },
  {
   "cell_type": "code",
   "execution_count": 38,
   "metadata": {},
   "outputs": [
    {
     "data": {
      "image/png": "[encoded data removed]",
      "text/plain": [
       "<Figure size 864x576 with 1 Axes>"
      ]
     },
     "metadata": {
      "needs_background": "light"
     },
     "output_type": "display_data"
    }
   ],
   "source": [
    "plotLoss(lossArray: simpleTrainingDelegate.lossCount)"
   ]
  },
  {
   "cell_type": "code",
   "execution_count": 39,
   "metadata": {},
   "outputs": [
    {
     "data": {
      "image/png": "[encoded data removed]",
      "text/plain": [
       "<Figure size 864x576 with 1 Axes>"
      ]
     },
     "metadata": {
      "needs_background": "light"
     },
     "output_type": "display_data"
    }
   ],
   "source": [
    "plotLoss(lossArray: simpleValidationDelegate.lossCount)"
   ]
  },
  {
   "cell_type": "markdown",
   "metadata": {},
   "source": [
    "----"
   ]
  },
  {
   "cell_type": "markdown",
   "metadata": {},
   "source": [
    "# Car Data!\n",
    "----"
   ]
  },
  {
   "cell_type": "code",
   "execution_count": 40,
   "metadata": {},
   "outputs": [],
   "source": [
    "//export\n",
    "let carDataYCSV = \"/home/ubuntu/.machine-learning/data/car_stuff/pakistan_car_labels.csv\"\n",
    "let carDataXCSV = \"/home/ubuntu/.machine-learning/data/car_stuff/pakistan_car_x_data.csv\"\n",
    "\n",
    "public let numpy = Python.import(\"numpy\")\n",
    "\n",
    "func createDataSet(featureTensor: TensorFloat, \n",
    "                   labelTensor: TensorFloat, \n",
    "                   batchSize: Int) -> Dataset<SupervisedLearningGroup> {\n",
    "    return Dataset(featuresTensor: featureTensor, labelsTensor: labelTensor)\n",
    "                    .batched(batchSize)\n",
    "                    .shuffled(sampleCount: 64, \n",
    "                              randomSeed: 69, \n",
    "                              reshuffleForEachIterator: true)\n",
    "}\n",
    "\n",
    "public func getUsedCarDataBunch(validationSize: Double = 0.2,\n",
    "                             batchSize: Int = 1028\n",
    "                            ) -> DataBunch<SupervisedLearningGroup> {\n",
    "    let usedCarFeaturesArray = numpy.loadtxt(carDataXCSV, \n",
    "                                delimiter: \",\", \n",
    "                                skiprows: 1, \n",
    "                                usecols: Array(1...8), \n",
    "                                dtype: Float.numpyScalarTypes.first!)\n",
    "    let categoricalVariableSet: Set = [0,1,2,3,4,5,6,7]\n",
    "    let continousVariableSet: Set = [-1]\n",
    "    let usedCarFeatureTensor = reScaleFeatures(featureTensor: TensorFloat(numpy: usedCarFeaturesArray)!, \n",
    "                                               catVars: categoricalVariableSet, \n",
    "                                               contVars: continousVariableSet)\n",
    "    \n",
    "    let usedCarPrices = numpy.loadtxt(carDataYCSV, \n",
    "                                delimiter: \",\", \n",
    "                                skiprows: 0, \n",
    "                                usecols: [1], \n",
    "                                dtype: Float.numpyScalarTypes.first!)\n",
    "    let usedCarLabelsTensor = TensorFloat(numpy: usedCarPrices)!\n",
    "    \n",
    "    let numberOfUsedCars = usedCarFeatureTensor.shape[0]\n",
    "    let numberOfUsedCarFeatures = usedCarFeatureTensor.shape[1]\n",
    "    \n",
    "    let validationDatasetSize = Int32(floor(validationSize * Double(numberOfUsedCars)))\n",
    "    let trainingDataSetSize = Int32(numberOfUsedCars) - validationDatasetSize\n",
    "    \n",
    "    \n",
    "    let splitFeatures = usedCarFeatureTensor\n",
    "                                .split(sizes: Tensor<Int32>([validationDatasetSize, trainingDataSetSize]), \n",
    "                                       alongAxis: 0)\n",
    "    let splitLabels = usedCarLabelsTensor\n",
    "                            .split(sizes: Tensor<Int32>([validationDatasetSize, trainingDataSetSize]), \n",
    "                                   alongAxis: 0)\n",
    "    \n",
    "    let validationDataSet = createDataSet(featureTensor: splitFeatures[0],\n",
    "                                        labelTensor: splitLabels[0], batchSize: batchSize)\n",
    "    let trainingDataSet = createDataSet(featureTensor: splitFeatures[1],\n",
    "                                        labelTensor: splitLabels[1], batchSize: batchSize)\n",
    "    return DataBunch(trainingDataset: trainingDataSet, \n",
    "                     validationDataset: validationDataSet)\n",
    "}"
   ]
  },
  {
   "cell_type": "code",
   "execution_count": 41,
   "metadata": {},
   "outputs": [],
   "source": [
    "let usedCarDataBunch = getUsedCarDataBunch()"
   ]
  },
  {
   "cell_type": "markdown",
   "metadata": {},
   "source": [
    "# Car Data Test"
   ]
  },
  {
   "cell_type": "code",
   "execution_count": 42,
   "metadata": {},
   "outputs": [],
   "source": [
    "let meanSquaredErrorLossy = MeanSquaredErrorLossFunction()\n",
    "let protoTrainingDelegate = TrainingDelegate(lossFunction: meanSquaredErrorLossy)\n",
    "let protoValidationDelegate = ValidationDelegate(lossFunction: meanSquaredErrorLossy)"
   ]
  },
  {
   "cell_type": "code",
   "execution_count": 43,
   "metadata": {},
   "outputs": [],
   "source": [
    "let protoModelTeacher = Teacher(dataBunch: usedCarDataBunch, \n",
    "                                trainingDelegate: protoTrainingDelegate, \n",
    "                                validationDelegate: protoValidationDelegate)"
   ]
  },
  {
   "cell_type": "code",
   "execution_count": 44,
   "metadata": {},
   "outputs": [
    {
     "data": {
      "text/plain": [
       "▿ SequentialModel\n",
       "  ▿ sequentialParameter : SequentialParameter\n",
       "    ▿ parameters : 4 elements\n",
       "      ▿ 0 : DenseLayerV2\n",
       "        - weightParameter : [[-0.027482858,  -0.18008205,  -0.03510199,   0.16740844],\n",
       " [ -0.32443875,   0.25774997,  -0.13700935,  -0.28965533],\n",
       " [ -0.16174002,   -0.4783181,   -0.5389028,  -0.40418413],\n",
       " [   0.4501813,   0.59132284,   0.38714743,   -0.2321292],\n",
       " [ -0.42091176,   0.06727389,  -0.45487866,   -0.3209551],\n",
       " [ 0.011207035,   -0.2541939,  -0.09026255,    0.5659383],\n",
       " [ -0.19866987,   -0.2808279,  -0.56903833,  -0.07222449],\n",
       " [  0.46627745,  0.112968616,  -0.20283696,   0.25422427]]\n",
       "        - biasParameter : [0.0, 0.0, 0.0, 0.0]\n",
       "        - gradientChain : (Function)\n",
       "      ▿ 1 : ReLUParameter\n",
       "        - gradientChain : (Function)\n",
       "      ▿ 2 : DenseLayerV2\n",
       "        - weightParameter : [[ 0.67029905],\n",
       " [  0.7802581],\n",
       " [-0.67801714],\n",
       " [ 0.53055274]]\n",
       "        - biasParameter : [0.0]\n",
       "        - gradientChain : (Function)\n",
       "      ▿ 3 : ReLUParameter\n",
       "        - gradientChain : (Function)\n"
      ]
     },
     "execution_count": 44,
     "metadata": {},
     "output_type": "execute_result"
    }
   ],
   "source": [
    "let firstValidationBatch = usedCarDataBunch.validationDataset.first!\n",
    "let simpleUntrainedModel = SequentialModel(layerSizes: [\n",
    "    firstValidationBatch.features.shape[1],\n",
    "    firstValidationBatch.features.shape[1]/2,\n",
    "    1\n",
    "])\n",
    "simpleUntrainedModel"
   ]
  },
  {
   "cell_type": "code",
   "execution_count": 45,
   "metadata": {},
   "outputs": [
    {
     "data": {
      "text/plain": [
       "1.6359748e+12\n"
      ]
     },
     "execution_count": 45,
     "metadata": {},
     "output_type": "execute_result"
    }
   ],
   "source": [
    "let predictions = simpleUntrainedModel.apply(inputTensor: firstValidationBatch.features)\n",
    "meanSquaredErrorLossy.calculateLoss(expectedTensor: firstValidationBatch.labels, \n",
    "                                    actualTensor: predictions)"
   ]
  },
  {
   "cell_type": "code",
   "execution_count": 46,
   "metadata": {},
   "outputs": [
    {
     "data": {
      "text/plain": [
       "1.6359745e+12\n"
      ]
     },
     "execution_count": 46,
     "metadata": {},
     "output_type": "execute_result"
    }
   ],
   "source": [
    "let testPreds = testSequentialModel.apply(inputTensor: firstValidationBatch.features)\n",
    "meanSquaredErrorLossy.calculateLoss(expectedTensor: firstValidationBatch.labels, \n",
    "                                    actualTensor: testPreds)"
   ]
  },
  {
   "cell_type": "code",
   "execution_count": 47,
   "metadata": {},
   "outputs": [
    {
     "name": "stdout",
     "output_type": "stream",
     "text": [
      "[1028, 8] in, DenseLayerV2(weightParameter: [[-0.027482858,  -0.18008205,  -0.03510199,   0.16740844],\r\n",
      " [ -0.32443875,   0.25774997,  -0.13700935,  -0.28965533],\r\n",
      " [ -0.16174002,   -0.4783181,   -0.5389028,  -0.40418413],\r\n",
      " [   0.4501813,   0.59132284,   0.38714743,   -0.2321292],\r\n",
      " [ -0.42091176,   0.06727389,  -0.45487866,   -0.3209551],\r\n",
      " [ 0.011207035,   -0.2541939,  -0.09026255,    0.5659383],\r\n",
      " [ -0.19866987,   -0.2808279,  -0.56903833,  -0.07222449],\r\n",
      " [  0.46627745,  0.112968616,  -0.20283696,   0.25422427]], biasParameter: [0.0, 0.0, 0.0, 0.0], gradientChain: (Function))\r\n",
      "[1028, 4] out\r\n",
      "[1028, 4] in, ReLUParameter(gradientChain: (Function))\r\n",
      "[1028, 4] out\r\n",
      "[1028, 4] in, DenseLayerV2(weightParameter: [[ 0.67029905],\r\n",
      " [  0.7802581],\r\n",
      " [-0.67801714],\r\n",
      " [ 0.53055274]], biasParameter: [0.0], gradientChain: (Function))\r\n",
      "[1028, 1] out\r\n",
      "[1028, 1] in, ReLUParameter(gradientChain: (Function))\r\n",
      "[1028, 1] out\r\n",
      "[1028, 1] in, ReLUParameter(gradientChain: (Function))\r\n",
      "[1028, 1] out\r\n",
      "[1028, 1] in, DenseLayerV2(weightParameter: [[ 0.67029905],\r\n",
      " [  0.7802581],\r\n",
      " [-0.67801714],\r\n",
      " [ 0.53055274]], biasParameter: [0.0], gradientChain: (Function))\r\n",
      "[1028, 4] out\r\n",
      "[1028, 4] in, ReLUParameter(gradientChain: (Function))\r\n",
      "[1028, 4] out\r\n",
      "[1028, 4] in, DenseLayerV2(weightParameter: [[-0.027482858,  -0.18008205,  -0.03510199,   0.16740844],\r\n",
      " [ -0.32443875,   0.25774997,  -0.13700935,  -0.28965533],\r\n",
      " [ -0.16174002,   -0.4783181,   -0.5389028,  -0.40418413],\r\n",
      " [   0.4501813,   0.59132284,   0.38714743,   -0.2321292],\r\n",
      " [ -0.42091176,   0.06727389,  -0.45487866,   -0.3209551],\r\n",
      " [ 0.011207035,   -0.2541939,  -0.09026255,    0.5659383],\r\n",
      " [ -0.19866987,   -0.2808279,  -0.56903833,  -0.07222449],\r\n",
      " [  0.46627745,  0.112968616,  -0.20283696,   0.25422427]], biasParameter: [0.0, 0.0, 0.0, 0.0], gradientChain: (Function))\r\n",
      "[1028, 8] out\r\n",
      "[1028, 8] in, ReLUParameter(gradientChain: (Function))\r\n",
      "[1028, 8] out\r\n",
      "[1028, 8] in, DenseLayerV2(weightParameter: [[  18.881458],\r\n",
      " [   79.67951],\r\n",
      " [-0.67801714],\r\n",
      " [  3.5547261]], biasParameter: [23714.15], gradientChain: (Function))\r\n",
      "Fatal error: Matrix size-incompatible: In[0]: [1028,8], In[1]: [4,1]: file /swift-base/tensorflow-swift-apis/Sources/TensorFlow/Bindings/EagerExecution.swift, line 299\r\n",
      "Current stack trace:\r\n",
      "0    libswiftCore.so                    0x00007f443f26d8b0 swift_reportError + 50\r\n",
      "1    libswiftCore.so                    0x00007f443f2dcaa0 _swift_stdlib_reportFatalErrorInFile + 115\r\n",
      "2    libswiftCore.so                    0x00007f443f204ace <unavailable> + 3738318\r\n",
      "3    libswiftCore.so                    0x00007f443f204c47 <unavailable> + 3738695\r\n",
      "4    libswiftCore.so                    0x00007f443efd2c4d <unavailable> + 1436749\r\n",
      "5    libswiftCore.so                    0x00007f443f1d9a78 <unavailable> + 3562104\r\n",
      "6    libswiftCore.so                    0x00007f443efd20a9 <unavailable> + 1433769\r\n",
      "7    libswiftTensorFlow.so              0x00007f443b39df90 <unavailable> + 2670480\r\n",
      "8    libswiftTensorFlow.so              0x00007f443b203110 checkOk(_:file:line:) + 461\r\n",
      "9    libswiftTensorFlow.so              0x00007f443b20a240 TFE_Op.evaluateUnsafe() + 506\r\n",
      "10   libswiftTensorFlow.so              0x00007f443b20aab0 TFE_Op.execute<A>(_:) + 132\r\n",
      "11   libswiftTensorFlow.so              0x00007f443b213744 <unavailable> + 1054532\r\n",
      "12   libswiftTensorFlow.so              0x00007f443b2a8b20 static Raw.matMul<A>(_:_:transposeA:transposeB:) + 1221\r\n",
      "13   libswiftTensorFlow.so              0x00007f443b412030 matmul<A>(_:transposed:_:transposed:) + 1427\r\n",
      "14   libjupyterInstalledPackages.so     0x00007f443c5c3e20 linearCombinationAndGradient(inputTensor:weightParameter:biasParameter:) + 220\r\n"
     ]
    },
    {
     "ename": "",
     "evalue": "",
     "output_type": "error",
     "traceback": [
      "Current stack trace:",
      "\tframe #9: 0x00007f443c5c3efc libjupyterInstalledPackages.so`linearCombinationAndGradient(inputTensor=\n[[    0.26086956,            0.0,            0.0, ...,            0.0,\n       0.9925779,    0.008000099],\n [    0.17391305,            0.0,            0.2, ...,            0.0,\n      0.99703115,    0.008000099],\n [           0.0,            0.0,            0.2, ...,            0.0,\n      0.99208313,    0.010000099],\n ...,\n [    0.08695652,            0.0,            0.2, ...,            0.0,\n      0.99307275,   0.0122000985],\n [    0.08695652,            0.0,            0.2, ...,            0.0,\n      0.99307275,    0.015403198],\n [           0.0,            0.0,            0.6, ...,            0.0,\n      0.99703115,   0.0067000994]], weightParameter=\n[[  18.881458],\n [   79.67951],\n [-0.67801714],\n [  3.5547261]], biasParameter=[23714.15]) at convolution_model.swift:120:20",
      "\tframe #10: 0x00007f443fc90b19 $__lldb_expr78`protocol witness for ModelParameterV2.forwardPass(inputTensor:) in conformance DenseLayerV2 at <Cell 10>:31:11",
      "\tframe #12: 0x00007f443fc962f7 $__lldb_expr66`closure #2 in SequentialParameter.forwardPass($0=<unavailable>, $1=<unavailable>) at <Cell 8>:14:16",
      "\tframe #13: 0x00007f443fc971e3 $__lldb_expr66`closure #1 in SequentialParameter.runThroughLayers(nextParameter=(payload_data_0 = 0x000000001a05faa0 -> 0x00007f443fc94bb8 , payload_data_1 = 0x0000000019bd2000 -> 0x00007f443c652fb0 , payload_data_2 = 0x00007ffcb236dd60 -> 0x00007f443fc8ee20 protocol witness table for __lldb_expr_89.SequentialModel : __lldb_expr_53.TeachableModel in __lldb_expr_89, instance_type = DenseLayerV2, witness_table_ModelParameterV2 = 0x00007f443fc94be0 protocol witness table for __lldb_expr_77.DenseLayerV2 : __lldb_expr_59.ModelParameterV2 in __lldb_expr_77), paramActivator=0x00007f443fc962b0 $__lldb_expr66`closure #2 (TensorFlow.Tensor<Swift.Float>, __lldb_expr_59.ModelParameterV2) -> (TensorFlow.Tensor<Swift.Float>, __lldb_expr_59.ModelParameterV2) in __lldb_expr_65.SequentialParameter.forwardPass(inputTensor: TensorFlow.Tensor<Swift.Float>) -> (TensorFlow.Tensor<Swift.Float>, __lldb_expr_59.ModelParameterV2) at <Cell 8>:13) at <Cell 8>:41:46",
      "\tframe #16: 0x00007f443fc96416 $__lldb_expr66`specialized SequentialParameter.runThroughLayers(initialValue=\n[[    0.26086956,            0.0,            0.0, ...,            0.0,\n       0.9925779,    0.008000099],\n [    0.17391305,            0.0,            0.2, ...,            0.0,\n      0.99703115,    0.008000099],\n [           0.0,            0.0,            0.2, ...,            0.0,\n      0.99208313,    0.010000099],\n ...,\n [    0.08695652,            0.0,            0.2, ...,            0.0,\n      0.99307275,   0.0122000985],\n [    0.08695652,            0.0,            0.2, ...,            0.0,\n      0.99307275,    0.015403198],\n [           0.0,            0.0,            0.6, ...,            0.0,\n      0.99703115,   0.0067000994]], paramActivator=0x00007f443fc962b0 $__lldb_expr66`closure #2 (TensorFlow.Tensor<Swift.Float>, __lldb_expr_59.ModelParameterV2) -> (TensorFlow.Tensor<Swift.Float>, __lldb_expr_59.ModelParameterV2) in __lldb_expr_65.SequentialParameter.forwardPass(inputTensor: TensorFlow.Tensor<Swift.Float>) -> (TensorFlow.Tensor<Swift.Float>, __lldb_expr_59.ModelParameterV2) at <Cell 8>:13) at <Cell 8>:35",
      "\tframe #17: 0x00007f443fc97ae4 $__lldb_expr66`protocol witness for ModelParameterV2.forwardPass(inputTensor:) in conformance SequentialParameter [inlined] __lldb_expr_65.SequentialParameter.forwardPass(inputTensor=<unavailable>, self=SequentialParameter @ rbx) -> (TensorFlow.Tensor<Swift.Float>, __lldb_expr_59.ModelParameterV2) at <Cell 8>:13:16",
      "\tframe #19: 0x00007f443fc2d961 $__lldb_expr90`protocol witness for TeachableModel.forwardPass(inputTensor:) in conformance SequentialModel at <Cell 12>:27:58",
      "\tframe #21: 0x00007f43e403df7d $__lldb_expr156`TrainingDelegate.processBatch(model=<unavailable>, xDataPoints=<unavailable>, yValidationPoints=\n[[ 2100000.0],\n [ 1225000.0],\n [  650000.0],\n ...,\n [  790000.0],\n [  830000.0],\n [ 2075000.0]], self=0x0000000019fba360) at <Cell 22>:38:51",
      "\tframe #23: 0x00007f43e40502dd $__lldb_expr132`Teacher.teachModel(model:numberOfEpochs:) [inlined] closure #1 (currentModel=SequentialModel @ 0x000000001a136fb0, dataGroup=(features = \nexpression produced error: error: Execution was interrupted, reason: signal SIGSEGV: invalid address (fault address: 0x0).\nThe process has been returned to the state before expression evaluation., labels = \n[[ 2100000.0],\n [ 1225000.0],\n [  650000.0],\n ...,\n [  790000.0],\n [  830000.0],\n [ 2075000.0]]), teachingDelegate=<unavailable>) -> __lldb_expr_53.TeachableModel in __lldb_expr_131.Teacher.processDataSet(model: __lldb_expr_53.TeachableModel, epoch: Swift.Int, dataSet: TensorFlow.Dataset<__lldb_expr_113.SupervisedLearningGroup>, teachingDelegate: __lldb_expr_125.TeachingDelegate) -> __lldb_expr_53.TeachableModel at <Cell 18>:51:37",
      "\tframe #26: 0x00007f43e4050232 $__lldb_expr132`Teacher.teachModel(model:numberOfEpochs:) [inlined] __lldb_expr_131.Teacher.processDataSet(model=SequentialModel @ 0x0000000019f78ad0, epoch=1, dataSet=TensorFlow.Dataset<SupervisedLearningGroup> @ 0x000055d04c195ce0) -> __lldb_expr_53.TeachableModel at <Cell 18>:49",
      "\tframe #27: 0x00007f43e4050232 $__lldb_expr132`Teacher.teachModel(model:numberOfEpochs:) [inlined] __lldb_expr_131.Teacher.trainModel(modelToTeach=SequentialModel @ 0x0000000019f78ad0, currentEpoch=1, self=Teacher @ 0x00007f43e4002760) -> __lldb_expr_53.TeachableModel at <Cell 18>:26",
      "\tframe #28: 0x00007f43e4050232 $__lldb_expr132`Teacher.teachModel(model:numberOfEpochs:) [inlined] closure #1 (currentModel=<unavailable>, epoch=<unavailable>, self=<unavailable>, currentModel=SequentialModel @ 0x0000000019f78ad0, epoch=1, self=Teacher @ 0x00007f43e4002760) -> () in __lldb_expr_131.Teacher.teachModel(model: __lldb_expr_53.TeachableModel, numberOfEpochs: Swift.Int) -> __lldb_expr_53.TeachableModel at <Cell 18>:15",
      "\tframe #31: 0x00007f43e4050232 $__lldb_expr132`Teacher.teachModel(model=TeachableModel @ 0x000000001992e8a0, numberOfEpochs=100, self=Teacher @ 0x00007f43e4002760) at <Cell 18>:13",
      "\tframe #32: 0x00007f4388001543 $__lldb_expr354`closure #1 in  at <Cell 47>:1:55",
      "\tframe #33: 0x00007f443c5c19f0 libjupyterInstalledPackages.so`withTime<T>(f=0x00007f43880014b0 $__lldb_expr354`closure #1 () -> __lldb_expr_53.TeachableModel in __lldb_expr_353 at <Cell 47>:1) at convolution_model.swift:46:17",
      "\tframe #34: 0x00007f438800149a $__lldb_expr354`main at <Cell 47>:1:26"
     ]
    }
   ],
   "source": [
    "let simpleTrainedModel = withTime { protoModelTeacher.teachModel(model: simpleUntrainedModel, \n",
    "                                                      numberOfEpochs: 100)\n",
    "                                  }"
   ]
  },
  {
   "cell_type": "code",
   "execution_count": null,
   "metadata": {},
   "outputs": [],
   "source": [
    "let predictions = simpleTrainedModel.apply(inputTensor: firstValidationBatch.features)\n",
    "meanSquaredErrorLossy.calculateLoss(expectedTensor: firstValidationBatch.labels, \n",
    "                                    actualTensor: predictions)"
   ]
  },
  {
   "cell_type": "code",
   "execution_count": null,
   "metadata": {},
   "outputs": [],
   "source": [
    "simpleTrainedModel"
   ]
  },
  {
   "cell_type": "code",
   "execution_count": null,
   "metadata": {},
   "outputs": [],
   "source": [
    "plotLoss(lossArray: protoTrainingDelegate.lossCount)"
   ]
  },
  {
   "cell_type": "code",
   "execution_count": null,
   "metadata": {},
   "outputs": [],
   "source": [
    "plotLoss(lossArray: protoValidationDelegate.lossCount)"
   ]
  },
  {
   "cell_type": "markdown",
   "metadata": {
    "heading_collapsed": true
   },
   "source": [
    "# Tensor Flow Stuff"
   ]
  },
  {
   "cell_type": "code",
   "execution_count": 70,
   "metadata": {
    "hidden": true
   },
   "outputs": [],
   "source": [
    "let inputSize = firstValidationBatch.features.shape[1]\n",
    "let hiddenSize = inputSize - 2\n",
    "\n",
    "\n",
    "struct UsedCarModel: Layer {\n",
    "    var layer1 = Dense<Float>(inputSize: inputSize, outputSize: 1)\n",
    "    \n",
    "    @differentiable\n",
    "    func callAsFunction(_ input: Tensor<Float>) -> Tensor<Float> {\n",
    "        return layer1(input)\n",
    "    }\n",
    "}"
   ]
  },
  {
   "cell_type": "code",
   "execution_count": 71,
   "metadata": {
    "hidden": true
   },
   "outputs": [],
   "source": [
    "var model = UsedCarModel()"
   ]
  },
  {
   "cell_type": "code",
   "execution_count": 72,
   "metadata": {
    "hidden": true
   },
   "outputs": [
    {
     "data": {
      "text/plain": [
       "[[0.24138351],\n",
       " [ 0.8589846],\n",
       " [0.95328826],\n",
       " [0.30817246],\n",
       " [0.30817246]]\n"
      ]
     },
     "execution_count": 72,
     "metadata": {},
     "output_type": "execute_result"
    }
   ],
   "source": [
    "let firstTrainPredictions = model(firstValidationBatch.features)\n",
    "firstTrainPredictions[0..<5]"
   ]
  },
  {
   "cell_type": "code",
   "execution_count": 73,
   "metadata": {
    "hidden": true
   },
   "outputs": [
    {
     "data": {
      "text/plain": [
       "1.6359745e+12\n"
      ]
     },
     "execution_count": 73,
     "metadata": {},
     "output_type": "execute_result"
    }
   ],
   "source": [
    "let libLoss = meanSquaredError(predicted: firstTrainPredictions, expected:firstValidationBatch.labels)\n",
    "libLoss"
   ]
  },
  {
   "cell_type": "code",
   "execution_count": 74,
   "metadata": {
    "hidden": true
   },
   "outputs": [
    {
     "data": {
      "text/plain": [
       "1.6359745e+12\n"
      ]
     },
     "execution_count": 74,
     "metadata": {},
     "output_type": "execute_result"
    }
   ],
   "source": [
    "let (myLoss, myGrad) = meanSquaredErrorAndGradient(yHat: firstTrainPredictions, y: firstValidationBatch.labels)\n",
    "myLoss"
   ]
  },
  {
   "cell_type": "code",
   "execution_count": 75,
   "metadata": {
    "hidden": true
   },
   "outputs": [],
   "source": [
    "let optimizer = SGD(for: model, learningRate: 0.01)"
   ]
  },
  {
   "cell_type": "code",
   "execution_count": 76,
   "metadata": {
    "hidden": true
   },
   "outputs": [
    {
     "data": {
      "text/plain": [
       "1.6359745e+12\n"
      ]
     },
     "execution_count": 76,
     "metadata": {},
     "output_type": "execute_result"
    }
   ],
   "source": [
    "let (libLoss2, libGrads) = model.valueWithGradient {\n",
    "    model -> TensorFloat in\n",
    "    let libPreds = model(firstValidationBatch.features)\n",
    "    return meanSquaredError(predicted: libPreds, expected: firstValidationBatch.labels)\n",
    "}\n",
    "libLoss2"
   ]
  },
  {
   "cell_type": "code",
   "execution_count": 77,
   "metadata": {
    "hidden": true
   },
   "outputs": [],
   "source": [
    "optimizer.update(&model.allDifferentiableVariables, along: libGrads)"
   ]
  },
  {
   "cell_type": "code",
   "execution_count": 78,
   "metadata": {
    "hidden": true
   },
   "outputs": [
    {
     "data": {
      "text/plain": [
       "1.5735052e+12\n"
      ]
     },
     "execution_count": 78,
     "metadata": {},
     "output_type": "execute_result"
    }
   ],
   "source": [
    "let libLossEnhanced = meanSquaredError(predicted: model(firstValidationBatch.features), \n",
    "                                       expected:firstValidationBatch.labels)\n",
    "libLossEnhanced"
   ]
  },
  {
   "cell_type": "code",
   "execution_count": 79,
   "metadata": {
    "hidden": true
   },
   "outputs": [],
   "source": [
    "func accuracy(expected: TensorFloat, actual: TensorFloat) -> Float {\n",
    "    return (actual - expected).mean().scalarized()\n",
    "}"
   ]
  },
  {
   "cell_type": "code",
   "execution_count": 90,
   "metadata": {
    "hidden": true
   },
   "outputs": [],
   "source": [
    "let epochCount = 100\n",
    "var trainingLoss: [Float] = []"
   ]
  },
  {
   "cell_type": "code",
   "execution_count": 91,
   "metadata": {
    "hidden": true
   },
   "outputs": [],
   "source": [
    "var model3 = UsedCarModel()"
   ]
  },
  {
   "cell_type": "code",
   "execution_count": 92,
   "metadata": {
    "hidden": true
   },
   "outputs": [],
   "source": [
    "let optimizer = SGD(for: model3, learningRate: 1e-1)"
   ]
  },
  {
   "cell_type": "code",
   "execution_count": 94,
   "metadata": {
    "hidden": true
   },
   "outputs": [
    {
     "name": "stdout",
     "output_type": "stream",
     "text": [
      "elapsed time: 9.290753867 s\r\n"
     ]
    }
   ],
   "source": [
    "withTime { \n",
    "    for epoch in 1...100 {\n",
    "        var epochLoss: Float = 0\n",
    "        var epochAccuracy: Float = 0\n",
    "        var batchCount: Int = 0\n",
    "\n",
    "        for dataGroup in usedCarDataBunch.trainingDataset {\n",
    "            let (loss, libraryGradients) = model3.valueWithGradient {\n",
    "                model -> TensorFloat in\n",
    "                let libPreds = model(dataGroup.features)\n",
    "                return  meanSquaredError(predicted: libPreds, expected: dataGroup.labels)\n",
    "            }\n",
    "\n",
    "            optimizer.update(&model3.allDifferentiableVariables, along: libraryGradients)\n",
    "\n",
    "            let preds = model(dataGroup.features)\n",
    "            let batchAccuracy = accuracy(expected: dataGroup.labels, \n",
    "                                      actual: preds)\n",
    "            let batchLoss = loss.scalarized()\n",
    "            epochAccuracy += batchAccuracy\n",
    "            epochLoss += batchLoss\n",
    "\n",
    "            batchCount += 1\n",
    "        }\n",
    "        trainingLoss.append(epochLoss / Float(batchCount))\n",
    "    }\n",
    "}"
   ]
  },
  {
   "cell_type": "code",
   "execution_count": 84,
   "metadata": {
    "hidden": true
   },
   "outputs": [
    {
     "data": {
      "image/png": "[encoded data removed]",
      "text/plain": [
       "<Figure size 864x576 with 1 Axes>"
      ]
     },
     "metadata": {
      "needs_background": "light"
     },
     "output_type": "display_data"
    }
   ],
   "source": [
    "plotLoss(lossArray: trainingLoss)"
   ]
  },
  {
   "cell_type": "code",
   "execution_count": 88,
   "metadata": {
    "hidden": true
   },
   "outputs": [
    {
     "name": "stdout",
     "output_type": "stream",
     "text": [
      "7.729757e+11 7.433934e+11\r\n"
     ]
    }
   ],
   "source": [
    "let firstValidationBatch = usedCarDataBunch.validationDataset.first!\n",
    "let myFinalLoss = meanSquaredError(predicted: simpleTrainedModel.apply(inputTensor: firstValidationBatch.features), \n",
    "                                   expected: firstValidationBatch.labels)\n",
    "let tfFinalLoss = meanSquaredError(predicted: model3(firstValidationBatch.features), \n",
    "                                   expected: firstValidationBatch.labels)\n",
    "\n",
    "print(myFinalLoss, tfFinalLoss)"
   ]
  },
  {
   "cell_type": "markdown",
   "metadata": {},
   "source": [
    "# 😠"
   ]
  },
  {
   "cell_type": "markdown",
   "metadata": {},
   "source": [
    "# Tensorflow simple"
   ]
  },
  {
   "cell_type": "code",
   "execution_count": 95,
   "metadata": {},
   "outputs": [],
   "source": [
    "struct SimpleModelTF: Layer {\n",
    "    var layer1 = Dense<Float>(inputSize: 2, outputSize: 1)\n",
    "    \n",
    "    @differentiable\n",
    "    func callAsFunction(_ input: Tensor<Float>) -> Tensor<Float> {\n",
    "        return layer1(input)\n",
    "    }\n",
    "}"
   ]
  },
  {
   "cell_type": "code",
   "execution_count": 96,
   "metadata": {},
   "outputs": [],
   "source": [
    "var tfSimpleModel = SimpleModelTF()"
   ]
  },
  {
   "cell_type": "code",
   "execution_count": 97,
   "metadata": {},
   "outputs": [],
   "source": [
    "let optimizerTF = SGD(for: tfSimpleModel, learningRate: 1e-2)"
   ]
  },
  {
   "cell_type": "code",
   "execution_count": 98,
   "metadata": {},
   "outputs": [
    {
     "data": {
      "image/png": "[encoded data removed]",
      "text/plain": [
       "<Figure size 432x288 with 1 Axes>"
      ]
     },
     "metadata": {
      "needs_background": "light"
     },
     "output_type": "display_data"
    }
   ],
   "source": [
    "showYHat(yHat: tfSimpleModel(A))"
   ]
  },
  {
   "cell_type": "code",
   "execution_count": 99,
   "metadata": {},
   "outputs": [],
   "source": [
    "var simpleTrainingAccuracy: [Float] = []\n",
    "var simpleTrainingLoss: [Float] = []"
   ]
  },
  {
   "cell_type": "code",
   "execution_count": 100,
   "metadata": {},
   "outputs": [],
   "source": [
    "for epoch in 1...50 {\n",
    "    var epochLoss: Float = 0\n",
    "    var epochAccuracy: Float = 0\n",
    "    var batchCount: Int = 0\n",
    "    \n",
    "    for dataGroup in linearDataBunch.trainingDataset {\n",
    "        let (loss, libraryGradients) = tfSimpleModel.valueWithGradient {\n",
    "            model -> TensorFloat in\n",
    "            let libPreds = model(dataGroup.features)            \n",
    "            return  meanSquaredError(predicted: libPreds, expected: dataGroup.labels)\n",
    "        }\n",
    "        \n",
    "        optimizerTF.update(&tfSimpleModel.allDifferentiableVariables, along: libraryGradients)\n",
    "        \n",
    "        let preds = tfSimpleModel(dataGroup.features)\n",
    "        let batchAccuracy = accuracy(expected: dataGroup.labels, \n",
    "                                  actual: preds)\n",
    "        let batchLoss = loss.scalarized()\n",
    "        \n",
    "        simpleTrainingAccuracy.append(batchAccuracy)\n",
    "        simpleTrainingLoss.append(batchLoss)\n",
    "    }\n",
    "}"
   ]
  },
  {
   "cell_type": "code",
   "execution_count": 101,
   "metadata": {},
   "outputs": [
    {
     "data": {
      "image/png": "[encoded data removed]",
      "text/plain": [
       "<Figure size 864x576 with 1 Axes>"
      ]
     },
     "metadata": {
      "needs_background": "light"
     },
     "output_type": "display_data"
    }
   ],
   "source": [
    "plotLoss(lossArray: simpleTrainingLoss)"
   ]
  },
  {
   "cell_type": "code",
   "execution_count": 102,
   "metadata": {},
   "outputs": [
    {
     "data": {
      "image/png": "[encoded data removed]",
      "text/plain": [
       "<Figure size 432x288 with 1 Axes>"
      ]
     },
     "metadata": {
      "needs_background": "light"
     },
     "output_type": "display_data"
    }
   ],
   "source": [
    "showYHat(yHat: tfSimpleModel(A))"
   ]
  },
  {
   "cell_type": "code",
   "execution_count": null,
   "metadata": {},
   "outputs": [],
   "source": []
  }
 ],
 "metadata": {
  "kernelspec": {
   "display_name": "Swift",
   "language": "swift",
   "name": "swift"
  },
  "language_info": {
   "file_extension": ".swift",
   "mimetype": "text/x-swift",
   "name": "swift",
   "version": ""
  }
 },
 "nbformat": 4,
 "nbformat_minor": 2
}
