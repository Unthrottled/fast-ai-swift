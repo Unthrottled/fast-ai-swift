{
 "cells": [
  {
   "cell_type": "code",
   "execution_count": 1,
   "metadata": {
    "colab": {},
    "colab_type": "code",
    "id": "kZRlD4utdPuX"
   },
   "outputs": [
    {
     "name": "stdout",
     "output_type": "stream",
     "text": [
      "Installing packages:\n",
      "\t.package(path: \"/home/ubuntu/workspace/fast-ai-swift/SchwiftyNotebook_matrix_multiplication\")\n",
      "\t\tSchwiftyNotebook_matrix_multiplication\n",
      "With SwiftPM flags: []\n",
      "Working in: /tmp/tmpgi9v4elm/swift-install\n",
      "warning: /home/ubuntu/swift/usr/bin/swiftc: /home/ubuntu/anaconda3/envs/swift-env/lib/libuuid.so.1: no version information available (required by /home/ubuntu/swift/usr/bin/swiftc)\n",
      "/home/ubuntu/swift/usr/bin/swift: /home/ubuntu/anaconda3/envs/swift-env/lib/libuuid.so.1: no version information available (required by /home/ubuntu/swift/usr/bin/swift)\n",
      "warning: /home/ubuntu/swift/usr/bin/swiftc: /home/ubuntu/anaconda3/envs/swift-env/lib/libuuid.so.1: no version information available (required by /home/ubuntu/swift/usr/bin/swiftc)\n",
      "/home/ubuntu/swift/usr/bin/swift: /home/ubuntu/anaconda3/envs/swift-env/lib/libuuid.so.1: no version information available (required by /home/ubuntu/swift/usr/bin/swift)\n",
      "warning: /home/ubuntu/swift/usr/bin/swiftc: /home/ubuntu/anaconda3/envs/swift-env/lib/libuuid.so.1: no version information available (required by /home/ubuntu/swift/usr/bin/swiftc)\n",
      "/home/ubuntu/swift/usr/bin/swift: /home/ubuntu/anaconda3/envs/swift-env/lib/libuuid.so.1: no version information available (required by /home/ubuntu/swift/usr/bin/swift)\n",
      "warning: /home/ubuntu/swift/usr/bin/swiftc: /home/ubuntu/anaconda3/envs/swift-env/lib/libuuid.so.1: no version information available (required by /home/ubuntu/swift/usr/bin/swiftc)\n",
      "/home/ubuntu/swift/usr/bin/swift: /home/ubuntu/anaconda3/envs/swift-env/lib/libuuid.so.1: no version information available (required by /home/ubuntu/swift/usr/bin/swift)\n",
      "warning: /home/ubuntu/swift/usr/bin/swiftc: /home/ubuntu/anaconda3/envs/swift-env/lib/libuuid.so.1: no version information available (required by /home/ubuntu/swift/usr/bin/swiftc)\n",
      "/home/ubuntu/swift/usr/bin/swift: /home/ubuntu/anaconda3/envs/swift-env/lib/libuuid.so.1: no version information available (required by /home/ubuntu/swift/usr/bin/swift)\n",
      "warning: /home/ubuntu/swift/usr/bin/swiftc: /home/ubuntu/anaconda3/envs/swift-env/lib/libuuid.so.1: no version information available (required by /home/ubuntu/swift/usr/bin/swiftc)\n",
      "/home/ubuntu/swift/usr/bin/swift: /home/ubuntu/anaconda3/envs/swift-env/lib/libuuid.so.1: no version information available (required by /home/ubuntu/swift/usr/bin/swift)\n",
      "/home/ubuntu/swift/usr/bin/swiftc: /home/ubuntu/anaconda3/envs/swift-env/lib/libuuid.so.1: no version information available (required by /home/ubuntu/swift/usr/bin/swiftc)\n",
      "/home/ubuntu/swift/usr/bin/swiftc: /home/ubuntu/anaconda3/envs/swift-env/lib/libuuid.so.1: no version information available (required by /home/ubuntu/swift/usr/bin/swiftc)[1/2] Compiling jupyterInstalledPackages jupyterInstalledPackages.swift\n",
      "/home/ubuntu/swift/usr/bin/swift: /home/ubuntu/anaconda3/envs/swift-env/lib/libuuid.so.1: no version information available (required by /home/ubuntu/swift/usr/bin/swift)\n",
      "[2/3] Merging module jupyterInstalledPackages\n",
      "/home/ubuntu/swift/usr/bin/swift: /home/ubuntu/anaconda3/envs/swift-env/lib/libuuid.so.1: no version information available (required by /home/ubuntu/swift/usr/bin/swift)\n",
      "Initializing Swift...\n",
      "Installation complete!\n"
     ]
    }
   ],
   "source": [
    "%install-location $cwd/swift-install\n",
    "%install '.package(path: \"$cwd/SchwiftyNotebook_matrix_multiplication\")' SchwiftyNotebook_matrix_multiplication"
   ]
  },
  {
   "cell_type": "code",
   "execution_count": 2,
   "metadata": {},
   "outputs": [],
   "source": [
    "//export\n",
    "import Path\n",
    "import TensorFlow\n",
    "import SchwiftyNotebook_matrix_multiplication"
   ]
  },
  {
   "cell_type": "code",
   "execution_count": 3,
   "metadata": {},
   "outputs": [],
   "source": [
    "let thingo = Tensor([-2, -1, 0, 1, 2])"
   ]
  },
  {
   "cell_type": "code",
   "execution_count": 4,
   "metadata": {},
   "outputs": [
    {
     "data": {
      "text/plain": [
       "[0.0, 0.0, 0.0, 1.0, 2.0]\n"
      ]
     },
     "execution_count": 4,
     "metadata": {},
     "output_type": "execute_result"
    }
   ],
   "source": [
    "max(0, thingo)"
   ]
  },
  {
   "cell_type": "code",
   "execution_count": 5,
   "metadata": {},
   "outputs": [
    {
     "data": {
      "text/plain": [
       "[0.0, 0.0, 0.0, 1.0, 2.0]\n"
      ]
     },
     "execution_count": 5,
     "metadata": {},
     "output_type": "execute_result"
    }
   ],
   "source": [
    "thingo.replacing(with: Tensor(zeros: thingo.shape), where: thingo .< 0)"
   ]
  },
  {
   "cell_type": "code",
   "execution_count": 6,
   "metadata": {},
   "outputs": [
    {
     "name": "stdout",
     "output_type": "stream",
     "text": [
      "average: 0.176349 ms,   min: 0.16486 ms,   max: 0.187838 ms\r\n"
     ]
    }
   ],
   "source": [
    "time(repeating: 2){ relu(thingo) }"
   ]
  },
  {
   "cell_type": "code",
   "execution_count": 7,
   "metadata": {},
   "outputs": [],
   "source": [
    "//export\n",
    "public func reLU<T>(tensor: Tensor<T>) -> Tensor<T> where T : FloatingPoint, T: TensorFlowScalar {\n",
    "    return max(tensor, 0)\n",
    "}"
   ]
  },
  {
   "cell_type": "code",
   "execution_count": 8,
   "metadata": {},
   "outputs": [],
   "source": [
    "//export\n",
    "public func linearCombination<T>(inputs: Tensor<T>, weights: Tensor<T>, bias: Tensor<T>) -> Tensor<T> where T: FloatingPoint, T: TensorFlowScalar {\n",
    "    return matmul(inputs, weights) + bias\n",
    "}"
   ]
  },
  {
   "cell_type": "markdown",
   "metadata": {},
   "source": [
    "# Normalization"
   ]
  },
  {
   "cell_type": "code",
   "execution_count": 9,
   "metadata": {},
   "outputs": [],
   "source": [
    "let (xTrainingData, yTrainingData, xValidationData, yValidationData) = loadMNISTData(path: mnistPath)"
   ]
  },
  {
   "cell_type": "code",
   "execution_count": 10,
   "metadata": {},
   "outputs": [],
   "source": [
    "let xTrainingDataNormalized = normalizeTensor(tensor: xTrainingData)\n",
    "                                        .reshaped(to: [xTrainingData.shape[0], 784])\n",
    "let xValidationDataNormalized = normalizeTensor(tensor: xValidationData)\n",
    "                                        .reshaped(to: [xValidationData.shape[0], 784])"
   ]
  },
  {
   "cell_type": "code",
   "execution_count": 11,
   "metadata": {},
   "outputs": [],
   "source": [
    "// export\n",
    "public typealias TensorFloat=Tensor<Float>\n",
    "public func assertNearZero(_ tensor: TensorFloat, _ threshold: Float = 1e-3){\n",
    "    assert(tensor < threshold, \"Expected \\(tensor) to be less than \\(threshold)\")\n",
    "}"
   ]
  },
  {
   "cell_type": "code",
   "execution_count": 12,
   "metadata": {},
   "outputs": [],
   "source": [
    "assertNearZero(xTrainingDataNormalized.mean())\n",
    "assertNearZero(xValidationDataNormalized.mean())\n",
    "assertNearZero(1 - xTrainingDataNormalized.standardDeviation())\n",
    "assertNearZero(1 - xValidationDataNormalized.standardDeviation())"
   ]
  },
  {
   "cell_type": "code",
   "execution_count": 13,
   "metadata": {},
   "outputs": [
    {
     "name": "stdout",
     "output_type": "stream",
     "text": [
      "60000 784 10\r\n"
     ]
    }
   ],
   "source": [
    "let (numberOfImages, numberOfPixels) = (xTrainingDataNormalized.shape[0], xTrainingDataNormalized.shape[1])\n",
    "let numberOfClasses = 10\n",
    "let layerOutput = 50\n",
    "print(numberOfImages, numberOfPixels, numberOfClasses)"
   ]
  },
  {
   "cell_type": "markdown",
   "metadata": {},
   "source": [
    "# Initialization"
   ]
  },
  {
   "cell_type": "markdown",
   "metadata": {},
   "source": [
    "## From Hand"
   ]
  },
  {
   "cell_type": "code",
   "execution_count": 14,
   "metadata": {},
   "outputs": [],
   "source": [
    "let parameterLayerOne = TensorFloat(randomNormal: [numberOfPixels, layerOutput]) / sqrt(Float(numberOfPixels))\n",
    "let parameterLayerTwo = TensorFloat(randomNormal: [layerOutput, 1]) / sqrt(Float(layerOutput))"
   ]
  },
  {
   "cell_type": "code",
   "execution_count": 15,
   "metadata": {},
   "outputs": [],
   "source": [
    "assertNearZero(parameterLayerOne.mean())\n",
    "assertNearZero(parameterLayerOne.standardDeviation() - 1 / sqrt(Float(numberOfPixels)))"
   ]
  },
  {
   "cell_type": "code",
   "execution_count": 16,
   "metadata": {},
   "outputs": [],
   "source": [
    "let biasLayerOne = TensorFloat(zeros: [layerOutput])\n",
    "let biasLayerTwo = TensorFloat(zeros: [1])"
   ]
  },
  {
   "cell_type": "code",
   "execution_count": 17,
   "metadata": {},
   "outputs": [],
   "source": [
    "assertNearZero(biasLayerOne.mean())\n",
    "assertNearZero(biasLayerOne.standardDeviation() - 1 / sqrt(Float(numberOfImages)))"
   ]
  },
  {
   "cell_type": "code",
   "execution_count": 18,
   "metadata": {},
   "outputs": [
    {
     "name": "stdout",
     "output_type": "stream",
     "text": [
      "[10000, 784] [784, 50] [50]\r\n"
     ]
    }
   ],
   "source": [
    "print(xValidationDataNormalized.shape, parameterLayerOne.shape, biasLayerOne.shape)"
   ]
  },
  {
   "cell_type": "markdown",
   "metadata": {},
   "source": [
    "### Side Adventure: Timing"
   ]
  },
  {
   "cell_type": "code",
   "execution_count": 19,
   "metadata": {},
   "outputs": [],
   "source": [
    "//export\n",
    "import Dispatch\n",
    "\n",
    "func getTimeUnit(_ nanoSeconds: Double) -> String {\n",
    "    let powerOfTen = floor(log10(nanoSeconds))\n",
    "    switch powerOfTen {\n",
    "        case 1..<3:\n",
    "            return \"\\(nanoSeconds) ns\"\n",
    "        case 3..<6:\n",
    "            return \"\\(nanoSeconds/1e3) µs\"\n",
    "        case 6..<9: \n",
    "            return \"\\(nanoSeconds/1e6) ms\"\n",
    "        default: \n",
    "            return \"\\(nanoSeconds/1e9) s\"\n",
    "    }\n",
    "}\n",
    "\n",
    "// ⏰Time how long it takes to run the specified function, optionally taking\n",
    "// the average across a number of repetitions.\n",
    "public func withTime<T>(_ f: () -> T) -> T {\n",
    "    let start = DispatchTime.now()\n",
    "    let value = f()\n",
    "    let end = DispatchTime.now()\n",
    "    let nanoSeconds = Double(end.uptimeNanoseconds - start.uptimeNanoseconds)\n",
    "    print(\"elapsed time: \\(getTimeUnit(nanoSeconds))\")\n",
    "    return value\n",
    "}"
   ]
  },
  {
   "cell_type": "code",
   "execution_count": 20,
   "metadata": {},
   "outputs": [
    {
     "name": "stdout",
     "output_type": "stream",
     "text": [
      "yeet\r\n",
      "elapsed time: 34.518 µs\r\n"
     ]
    }
   ],
   "source": [
    "withTime{\n",
    "    print(\"yeet\")\n",
    "}"
   ]
  },
  {
   "cell_type": "code",
   "execution_count": 21,
   "metadata": {},
   "outputs": [
    {
     "name": "stdout",
     "output_type": "stream",
     "text": [
      "average: 0.0533349 ms,   min: 0.050066 ms,   max: 0.073459 ms\r\n"
     ]
    }
   ],
   "source": [
    "let linearWomboCombo = time(repeating: 10) {\n",
    "    withDevice(.gpu){\n",
    "        linearCombination(inputs: xValidationDataNormalized, \n",
    "                                         weights: parameterLayerOne, \n",
    "                                         bias: biasLayerOne)\n",
    "    }\n",
    "}"
   ]
  },
  {
   "cell_type": "code",
   "execution_count": 22,
   "metadata": {},
   "outputs": [
    {
     "name": "stdout",
     "output_type": "stream",
     "text": [
      "average: 25.3595758 ms,   min: 12.700534 ms,   max: 31.077796 ms\r\n"
     ]
    }
   ],
   "source": [
    "let cpuLinearWomboCombo = time(repeating: 10) {\n",
    "    withDevice(.cpu){\n",
    "        linearCombination(inputs: xValidationDataNormalized, \n",
    "                                         weights: parameterLayerOne, \n",
    "                                         bias: biasLayerOne)\n",
    "    }\n",
    "}"
   ]
  },
  {
   "cell_type": "code",
   "execution_count": 23,
   "metadata": {},
   "outputs": [
    {
     "name": "stdout",
     "output_type": "stream",
     "text": [
      "average: 0.04435490000000001 ms,   min: 0.041731 ms,   max: 0.056036 ms\r\n"
     ]
    }
   ],
   "source": [
    "let defaultLinearWomboCombo = time(repeating: 10) {\n",
    "    linearCombination(inputs: xValidationDataNormalized, \n",
    "                                     weights: parameterLayerOne, \n",
    "                                     bias: biasLayerOne)\n",
    "}"
   ]
  },
  {
   "cell_type": "code",
   "execution_count": 24,
   "metadata": {},
   "outputs": [
    {
     "name": "stdout",
     "output_type": "stream",
     "text": [
      "elapsed time: 209.535 µs\r\n"
     ]
    }
   ],
   "source": [
    "let thing = withTime { linearCombination(inputs: xValidationDataNormalized, \n",
    "                                         weights: parameterLayerOne, \n",
    "                                         bias: biasLayerOne) }"
   ]
  },
  {
   "cell_type": "markdown",
   "metadata": {},
   "source": [
    "---"
   ]
  },
  {
   "cell_type": "code",
   "execution_count": 25,
   "metadata": {},
   "outputs": [
    {
     "name": "stdout",
     "output_type": "stream",
     "text": [
      "elapsed time: 174.83 µs\r\n"
     ]
    }
   ],
   "source": [
    "let linearWomboCombo = withTime { linearCombination(inputs: xValidationDataNormalized, \n",
    "                                         weights: parameterLayerOne, \n",
    "                                         bias: biasLayerOne) }"
   ]
  },
  {
   "cell_type": "code",
   "execution_count": 26,
   "metadata": {},
   "outputs": [
    {
     "data": {
      "text/plain": [
       "▿ 2 elements\n",
       "  - .0 : -0.06561868\n",
       "  - .1 : 0.96149504\n"
      ]
     },
     "execution_count": 26,
     "metadata": {},
     "output_type": "execute_result"
    }
   ],
   "source": [
    "(linearWomboCombo.mean(), linearWomboCombo.standardDeviation())"
   ]
  },
  {
   "cell_type": "code",
   "execution_count": 27,
   "metadata": {},
   "outputs": [
    {
     "data": {
      "text/plain": [
       "('inline', 'module://ipykernel.pylab.backend_inline')\n"
      ]
     },
     "execution_count": 27,
     "metadata": {},
     "output_type": "execute_result"
    }
   ],
   "source": [
    "import Python\n",
    "%include \"EnableIPythonDisplay.swift\"\n",
    "IPythonDisplay.shell.enable_matplotlib(\"inline\")"
   ]
  },
  {
   "cell_type": "code",
   "execution_count": 28,
   "metadata": {},
   "outputs": [],
   "source": [
    "public let plotter = Python.import(\"matplotlib.pyplot\")"
   ]
  },
  {
   "cell_type": "code",
   "execution_count": 29,
   "metadata": {},
   "outputs": [
    {
     "data": {
      "text/plain": [
       "▿ [10000, 50]\n",
       "  ▿ dimensions : 2 elements\n",
       "    - 0 : 10000\n",
       "    - 1 : 50\n"
      ]
     },
     "execution_count": 29,
     "metadata": {},
     "output_type": "execute_result"
    }
   ],
   "source": [
    "linearWomboCombo.shape"
   ]
  },
  {
   "cell_type": "code",
   "execution_count": 30,
   "metadata": {},
   "outputs": [
    {
     "name": "stdout",
     "output_type": "stream",
     "text": [
      "elapsed time: 354.005892 ms\r\n"
     ]
    }
   ],
   "source": [
    "let activations = withTime { reLU(tensor: linearWomboCombo) }"
   ]
  },
  {
   "cell_type": "code",
   "execution_count": 31,
   "metadata": {},
   "outputs": [
    {
     "name": "stdout",
     "output_type": "stream",
     "text": [
      "0.34844923 0.5346086\r\n"
     ]
    }
   ],
   "source": [
    "print(activations.mean(), activations.standardDeviation()) //relu zeros out all of the stuff below zero (so only ~half remain)"
   ]
  },
  {
   "cell_type": "markdown",
   "metadata": {},
   "source": [
    "### Kaiming Initialization"
   ]
  },
  {
   "cell_type": "code",
   "execution_count": 32,
   "metadata": {},
   "outputs": [],
   "source": [
    "let kaimingInitParamOne = TensorFloat(randomNormal: [numberOfPixels, layerOutput]) * (2.0/sqrt(Float(numberOfPixels)))"
   ]
  },
  {
   "cell_type": "code",
   "execution_count": 33,
   "metadata": {},
   "outputs": [
    {
     "data": {
      "text/plain": [
       "▿ 2 elements\n",
       "  - .0 : 0.00064951915\n",
       "  - .1 : 0.07152131\n"
      ]
     },
     "execution_count": 33,
     "metadata": {},
     "output_type": "execute_result"
    }
   ],
   "source": [
    "(kaimingInitParamOne.mean(), kaimingInitParamOne.standardDeviation())"
   ]
  },
  {
   "cell_type": "code",
   "execution_count": 34,
   "metadata": {},
   "outputs": [
    {
     "name": "stdout",
     "output_type": "stream",
     "text": [
      "elapsed time: 203.256 µs\r\n"
     ]
    }
   ],
   "source": [
    "let kaimingWomboCombo = withTime{ linearCombination(inputs: xValidationDataNormalized, \n",
    "                                          weights: kaimingInitParamOne, \n",
    "                                          bias: biasLayerOne ) }"
   ]
  },
  {
   "cell_type": "code",
   "execution_count": 35,
   "metadata": {},
   "outputs": [
    {
     "data": {
      "text/plain": [
       "▿ 2 elements\n",
       "  - .0 : -0.10742528\n",
       "  - .1 : 2.00039\n"
      ]
     },
     "execution_count": 35,
     "metadata": {},
     "output_type": "execute_result"
    }
   ],
   "source": [
    "(kaimingWomboCombo.mean(), kaimingWomboCombo.standardDeviation())"
   ]
  },
  {
   "cell_type": "code",
   "execution_count": 36,
   "metadata": {},
   "outputs": [],
   "source": [
    "let kaimingActivations = reLU(tensor: kaimingWomboCombo)"
   ]
  },
  {
   "cell_type": "code",
   "execution_count": 37,
   "metadata": {},
   "outputs": [
    {
     "data": {
      "text/plain": [
       "▿ 2 elements\n",
       "  - .0 : 0.74013937\n",
       "  - .1 : 1.1588957\n"
      ]
     },
     "execution_count": 37,
     "metadata": {},
     "output_type": "execute_result"
    }
   ],
   "source": [
    "(kaimingActivations.mean(), kaimingActivations.standardDeviation())"
   ]
  },
  {
   "cell_type": "markdown",
   "metadata": {},
   "source": [
    "### Basic Model"
   ]
  },
  {
   "cell_type": "code",
   "execution_count": 38,
   "metadata": {},
   "outputs": [],
   "source": [
    "let kaimingParamOne = TensorFloat(randomNormal: [numberOfPixels, layerOutput]) * (2.0/sqrt(Float(numberOfPixels)))\n",
    "let kaimingParamTwo = TensorFloat(randomNormal: [layerOutput, 1]) * (2.0/sqrt(Float(layerOutput)))\n",
    "let biasLayerOne = TensorFloat(zeros: [layerOutput])\n",
    "let biasLayerTwo = TensorFloat(zeros: [1])"
   ]
  },
  {
   "cell_type": "code",
   "execution_count": 39,
   "metadata": {},
   "outputs": [],
   "source": [
    "func basicBitch(_ inputTensor: TensorFloat) -> TensorFloat {\n",
    "    let firstParams = withTime { linearCombination(inputs: inputTensor, \n",
    "                                                          weights: kaimingParamOne, \n",
    "                                                          bias: biasLayerOne) }\n",
    "    let firstActivations = withTime { reLU(tensor: firstParams)}\n",
    "    return withTime{ linearCombination(inputs: firstActivations, \n",
    "                             weights: kaimingParamTwo, \n",
    "                             bias: biasLayerTwo) }\n",
    "}"
   ]
  },
  {
   "cell_type": "code",
   "execution_count": 40,
   "metadata": {},
   "outputs": [
    {
     "name": "stdout",
     "output_type": "stream",
     "text": [
      "elapsed time: 181.359 µs\n",
      "elapsed time: 353.554372 ms\n",
      "elapsed time: 135.511 µs\n"
     ]
    }
   ],
   "source": [
    "let prediction = basicBitch(xValidationDataNormalized)"
   ]
  },
  {
   "cell_type": "markdown",
   "metadata": {},
   "source": [
    "🤔 Why is reLU so sloooow???\n",
    "\n",
    "Turns out its just slow the first time..."
   ]
  },
  {
   "cell_type": "code",
   "execution_count": 41,
   "metadata": {},
   "outputs": [
    {
     "name": "stdout",
     "output_type": "stream",
     "text": [
      "elapsed time: 353.918928 ms\r\n",
      "elapsed time: 179.576 µs\r\n",
      "elapsed time: 133.164 µs\r\n",
      "elapsed time: 121.189 µs\r\n",
      "elapsed time: 120.1 µs\r\n",
      "elapsed time: 121.394 µs\r\n",
      "elapsed time: 117.264 µs\r\n",
      "elapsed time: 118.779 µs\r\n",
      "elapsed time: 118.9 µs\r\n",
      "elapsed time: 120.086 µs\r\n"
     ]
    }
   ],
   "source": [
    "for i in 1...10 {\n",
    " withTime { relu(kaimingWomboCombo)}   \n",
    "}"
   ]
  },
  {
   "cell_type": "markdown",
   "metadata": {},
   "source": [
    "### Calculating Loss"
   ]
  },
  {
   "cell_type": "code",
   "execution_count": 42,
   "metadata": {},
   "outputs": [
    {
     "data": {
      "text/plain": [
       "▿ 2 elements\n",
       "  ▿ .0 : [10000, 1]\n",
       "    ▿ dimensions : 2 elements\n",
       "      - 0 : 10000\n",
       "      - 1 : 1\n",
       "  ▿ .1 : [10000]\n",
       "    ▿ dimensions : 1 element\n",
       "      - 0 : 10000\n"
      ]
     },
     "execution_count": 42,
     "metadata": {},
     "output_type": "execute_result"
    }
   ],
   "source": [
    "(prediction.shape, yValidationData.shape)"
   ]
  },
  {
   "cell_type": "code",
   "execution_count": 43,
   "metadata": {},
   "outputs": [
    {
     "data": {
      "text/plain": [
       "▿ [10000]\n",
       "  ▿ dimensions : 1 element\n",
       "    - 0 : 10000\n"
      ]
     },
     "execution_count": 43,
     "metadata": {},
     "output_type": "execute_result"
    }
   ],
   "source": [
    "prediction.squeezingShape(at: -1).shape"
   ]
  },
  {
   "cell_type": "code",
   "execution_count": 44,
   "metadata": {},
   "outputs": [
    {
     "data": {
      "text/plain": [
       "113.33705\n"
      ]
     },
     "execution_count": 44,
     "metadata": {},
     "output_type": "execute_result"
    }
   ],
   "source": [
    "(prediction.squeezingShape(at: -1) - TensorFloat(yValidationData)).squared().mean()"
   ]
  },
  {
   "cell_type": "code",
   "execution_count": 45,
   "metadata": {},
   "outputs": [],
   "source": [
    "func _meanSquaredError(_ y: TensorFloat, _ yHat: TensorFloat) -> TensorFloat {\n",
    "    return (y - yHat.squeezingShape(at: [1])).squared().mean()\n",
    "}"
   ]
  },
  {
   "cell_type": "code",
   "execution_count": 46,
   "metadata": {},
   "outputs": [
    {
     "name": "stdout",
     "output_type": "stream",
     "text": [
      "elapsed time: 201.489 µs\n",
      "elapsed time: 353.772111 ms\n",
      "elapsed time: 121.437 µs\n"
     ]
    }
   ],
   "source": [
    "let trainingPredictions = basicBitch(xTrainingDataNormalized)"
   ]
  },
  {
   "cell_type": "code",
   "execution_count": 47,
   "metadata": {},
   "outputs": [
    {
     "data": {
      "text/plain": [
       "▿ 2 elements\n",
       "  ▿ .0 : [60000]\n",
       "    ▿ dimensions : 1 element\n",
       "      - 0 : 60000\n",
       "  ▿ .1 : [60000]\n",
       "    ▿ dimensions : 1 element\n",
       "      - 0 : 60000\n"
      ]
     },
     "execution_count": 47,
     "metadata": {},
     "output_type": "execute_result"
    }
   ],
   "source": [
    "(yTrainingData.shape, trainingPredictions.squeezingShape(at: [1]).shape)"
   ]
  },
  {
   "cell_type": "code",
   "execution_count": 48,
   "metadata": {},
   "outputs": [
    {
     "name": "stdout",
     "output_type": "stream",
     "text": [
      "113.33705\r\n"
     ]
    },
    {
     "data": {
      "text/plain": [
       "113.677086\n"
      ]
     },
     "execution_count": 48,
     "metadata": {},
     "output_type": "execute_result"
    }
   ],
   "source": [
    "print(_meanSquaredError(TensorFloat(yValidationData), prediction))\n",
    "_meanSquaredError(TensorFloat(yTrainingData), trainingPredictions)"
   ]
  },
  {
   "cell_type": "markdown",
   "metadata": {},
   "source": [
    "# Auto Diff"
   ]
  },
  {
   "cell_type": "code",
   "execution_count": 49,
   "metadata": {},
   "outputs": [
    {
     "name": "stdout",
     "output_type": "stream",
     "text": [
      "1.0 0.0\r\n",
      "0.9950041652780258 0.09983341664682815\r\n",
      "0.9800665778412416 0.19866933079506122\r\n",
      "0.955336489125606 0.2955202066613396\r\n",
      "0.9210609940028851 0.3894183423086505\r\n",
      "0.8775825618903728 0.479425538604203\r\n",
      "0.8253356149096782 0.5646424733950355\r\n",
      "0.7648421872844884 0.6442176872376911\r\n",
      "0.6967067093471654 0.7173560908995228\r\n",
      "0.6216099682706644 0.7833269096274834\r\n",
      "0.5403023058681398 0.8414709848078965\r\n"
     ]
    }
   ],
   "source": [
    "for x in stride(from: 0.0, \n",
    "                through: 1, by: 0.1){\n",
    "    print(cos(x), sin(x))\n",
    "}"
   ]
  },
  {
   "cell_type": "markdown",
   "metadata": {},
   "source": [
    "**Note:** `in` is the arrow if the closure"
   ]
  },
  {
   "cell_type": "code",
   "execution_count": 50,
   "metadata": {},
   "outputs": [],
   "source": [
    "let mathyBoiGradientFunction = gradient { (x: Double) in x * 9 }"
   ]
  },
  {
   "cell_type": "code",
   "execution_count": 51,
   "metadata": {},
   "outputs": [
    {
     "data": {
      "text/plain": [
       "9.0\n"
      ]
     },
     "execution_count": 51,
     "metadata": {},
     "output_type": "execute_result"
    }
   ],
   "source": [
    "mathyBoiGradientFunction(69)"
   ]
  },
  {
   "cell_type": "markdown",
   "metadata": {},
   "source": [
    "The derivative of $9x$ with respect to $x$ is just 9"
   ]
  },
  {
   "cell_type": "code",
   "execution_count": 52,
   "metadata": {},
   "outputs": [
    {
     "name": "stdout",
     "output_type": "stream",
     "text": [
      "-0.0 1.0\r\n",
      "-0.09983341664682815 0.9950041652780258\r\n",
      "-0.19866933079506122 0.9800665778412416\r\n",
      "-0.2955202066613396 0.955336489125606\r\n",
      "-0.3894183423086505 0.9210609940028851\r\n",
      "-0.479425538604203 0.8775825618903728\r\n",
      "-0.5646424733950355 0.8253356149096782\r\n",
      "-0.6442176872376911 0.7648421872844884\r\n",
      "-0.7173560908995228 0.6967067093471654\r\n",
      "-0.7833269096274834 0.6216099682706644\r\n",
      "-0.8414709848078965 0.5403023058681398\r\n"
     ]
    }
   ],
   "source": [
    "let sineGraident = gradient { (x: Double) in sin(x)}\n",
    "let cosineGraident = gradient { (x: Double) in cos(x)}\n",
    "\n",
    "for x in stride(from: 0.0, \n",
    "                through: 1, by: 0.1){\n",
    "    print(cosineGraident(x), sineGraident(x))\n",
    "}"
   ]
  },
  {
   "cell_type": "markdown",
   "metadata": {},
   "source": [
    "The derivative of sin is cosine and the derivitive of cosine is -sine. 2cool4Me"
   ]
  },
  {
   "cell_type": "markdown",
   "metadata": {},
   "source": [
    "### Basics Of Mean Squared Error"
   ]
  },
  {
   "cell_type": "code",
   "execution_count": 53,
   "metadata": {},
   "outputs": [],
   "source": [
    "func tracer(functionName: String = #function) { //I'm already tracer\n",
    "    print(functionName)\n",
    "}"
   ]
  },
  {
   "cell_type": "code",
   "execution_count": 54,
   "metadata": {},
   "outputs": [
    {
     "name": "stdout",
     "output_type": "stream",
     "text": [
      "__lldb_expr_425\r\n"
     ]
    }
   ],
   "source": [
    "let closureDude = {\n",
    "    tracer()\n",
    "}\n",
    "\n",
    "closureDude()"
   ]
  },
  {
   "cell_type": "code",
   "execution_count": 55,
   "metadata": {},
   "outputs": [
    {
     "name": "stdout",
     "output_type": "stream",
     "text": [
      "imAlreadyTracer()\r\n",
      "maybe I'll be tracer\r\n"
     ]
    }
   ],
   "source": [
    "func imAlreadyTracer() {\n",
    "    tracer()\n",
    "    print(\"maybe I'll be tracer\")\n",
    "}\n",
    "\n",
    "imAlreadyTracer()"
   ]
  },
  {
   "cell_type": "code",
   "execution_count": 56,
   "metadata": {},
   "outputs": [
    {
     "data": {
      "text/plain": [
       "▿ [2, 3]\n",
       "  ▿ dimensions : 2 elements\n",
       "    - 0 : 2\n",
       "    - 1 : 3\n"
      ]
     },
     "execution_count": 56,
     "metadata": {},
     "output_type": "execute_result"
    }
   ],
   "source": [
    "let a = TensorFloat([[1, 2, 3],[4,5,6]])\n",
    "a.shape"
   ]
  },
  {
   "cell_type": "code",
   "execution_count": 57,
   "metadata": {},
   "outputs": [
    {
     "data": {
      "text/plain": [
       "21.0\n"
      ]
     },
     "execution_count": 57,
     "metadata": {},
     "output_type": "execute_result"
    }
   ],
   "source": [
    "a.sum(squeezingAxes: [0, 1])"
   ]
  },
  {
   "cell_type": "code",
   "execution_count": 58,
   "metadata": {},
   "outputs": [],
   "source": [
    "func squareTensor(_ x: TensorFloat) -> TensorFloat {\n",
    "    tracer()\n",
    "    return x * x\n",
    "}\n",
    "\n",
    "func 𝛁squareTensor(_ x: TensorFloat) -> TensorFloat {\n",
    "    tracer()\n",
    "    return 2 * x\n",
    "}\n",
    "\n",
    "func meanOfTensor(_ x: TensorFloat) -> TensorFloat {\n",
    "    tracer()\n",
    "    return x.sum(squeezingAxes: [0, 1]) / Float(x.shape[0])\n",
    "}\n",
    "\n",
    "// The derivative of the mean with respect to x is just 1/n because the mean is just sum(weights)/n\n",
    "// cus the deriviative of x/2 with respect to x is just 1/2\n",
    "func 𝛁meanOfTensor(_ x: TensorFloat) -> TensorFloat {\n",
    "    tracer()\n",
    "    return TensorFloat(ones: [1]) / Float(x.shape[0])\n",
    "}\n"
   ]
  },
  {
   "cell_type": "code",
   "execution_count": 59,
   "metadata": {},
   "outputs": [
    {
     "name": "stdout",
     "output_type": "stream",
     "text": [
      "meanOfTensor(_:)\r\n"
     ]
    },
    {
     "data": {
      "text/plain": [
       "▿ 2 elements\n",
       "  - .0 : -5.4451227\n",
       "  - .1 : -5.4451227\n"
      ]
     },
     "execution_count": 59,
     "metadata": {},
     "output_type": "execute_result"
    }
   ],
   "source": [
    "(prediction.mean(), meanOfTensor(prediction))"
   ]
  },
  {
   "cell_type": "code",
   "execution_count": 60,
   "metadata": {},
   "outputs": [],
   "source": [
    "//export\n",
    "public func assertEquals(_ a: TensorFloat, _ b: TensorFloat) {\n",
    "    // Check shapes match so broadcasting doesn't hide shape errors.\n",
    "    assert(a.shape == b.shape)\n",
    "    assertNearZero(a-b)\n",
    "}"
   ]
  },
  {
   "cell_type": "code",
   "execution_count": 61,
   "metadata": {},
   "outputs": [
    {
     "name": "stdout",
     "output_type": "stream",
     "text": [
      "squareTensor(_:)\n",
      "𝛁meanOfTensor(_:)\n",
      "𝛁squareTensor(_:)\n"
     ]
    }
   ],
   "source": [
    "func meanSquareError(_ x: TensorFloat) -> TensorFloat {\n",
    "    return meanOfTensor(squareTensor(x))\n",
    "}\n",
    "\n",
    "func 𝛁meanSquareError(_ x: TensorFloat) -> TensorFloat {\n",
    "    return 𝛁meanOfTensor(squareTensor(x)) * 𝛁squareTensor(x)\n",
    "}\n",
    "\n",
    "let myGradientSquareError = 𝛁meanSquareError(prediction)\n",
    "let fancyPantsLibraryGradient = gradient { (x: TensorFloat) in x.squared().mean()}(prediction\n",
    "                                                                                  )\n",
    "\n",
    "assertEquals(fancyPantsLibraryGradient, myGradientSquareError)"
   ]
  },
  {
   "cell_type": "code",
   "execution_count": 62,
   "metadata": {},
   "outputs": [],
   "source": [
    "func square𝛁_Chain(x: TensorFloat, ddx: TensorFloat) -> TensorFloat {\n",
    "    tracer()\n",
    "    return 2 * x * ddx\n",
    "}\n",
    "\n",
    "func mean𝛁_Chain(x: TensorFloat, ddx: TensorFloat) -> TensorFloat {\n",
    "    tracer()\n",
    "    return (TensorFloat(ones: [1]) / Float(x.shape[0])) * ddx\n",
    "}"
   ]
  },
  {
   "cell_type": "code",
   "execution_count": 63,
   "metadata": {},
   "outputs": [],
   "source": [
    "func squareWomboCombo(_ x: TensorFloat) -> (value: TensorFloat, chain: (TensorFloat) -> TensorFloat){\n",
    "    tracer()\n",
    "    return (value: x * x, chain: { ddx in square𝛁_Chain(x: x, ddx: ddx) })\n",
    "}\n",
    "\n",
    "func meanWomboCombo(_ x: TensorFloat) -> (value: TensorFloat, chain: (TensorFloat) -> TensorFloat){\n",
    "    tracer() // x is already squared at this point, no need to calculate things done to it.\n",
    "    return (value: x.sum(squeezingAxes: [0, 1]) / Float(x.shape[0]), \n",
    "            chain: { ddx in mean𝛁_Chain(x: x, ddx: ddx )})\n",
    "}"
   ]
  },
  {
   "cell_type": "code",
   "execution_count": 64,
   "metadata": {},
   "outputs": [],
   "source": [
    "func meanSquaredErrorWithGradinent(_ x: TensorFloat) -> (value: TensorFloat, chain: (TensorFloat) -> TensorFloat) {\n",
    "    tracer()\n",
    "    let (squared, squaredChain) = squareWomboCombo(x)\n",
    "    let (mean, meanChain) = meanWomboCombo(squared)\n",
    "    \n",
    "    return (value: mean, chain: { first in squaredChain(meanChain(first)) })\n",
    "}"
   ]
  },
  {
   "cell_type": "code",
   "execution_count": 65,
   "metadata": {},
   "outputs": [
    {
     "name": "stdout",
     "output_type": "stream",
     "text": [
      "meanSquaredErrorWithGradinent(_:)\r\n",
      "squareWomboCombo(_:)\r\n",
      "meanWomboCombo(_:)\r\n"
     ]
    }
   ],
   "source": [
    "let (meanSquaredErr, mseGradient) = meanSquaredErrorWithGradinent(prediction)"
   ]
  },
  {
   "cell_type": "code",
   "execution_count": 66,
   "metadata": {},
   "outputs": [],
   "source": [
    "assertEquals(prediction.squared().mean(), meanSquaredErr)"
   ]
  },
  {
   "cell_type": "code",
   "execution_count": 67,
   "metadata": {},
   "outputs": [
    {
     "name": "stdout",
     "output_type": "stream",
     "text": [
      "mean𝛁_Chain(x:ddx:)\r\n",
      "square𝛁_Chain(x:ddx:)\r\n"
     ]
    }
   ],
   "source": [
    "assertEquals(fancyPantsLibraryGradient, mseGradient(TensorFloat(ones: [1]))) // start of chain's ddx is just 1"
   ]
  },
  {
   "cell_type": "markdown",
   "metadata": {},
   "source": [
    "\\o/"
   ]
  },
  {
   "cell_type": "code",
   "execution_count": 68,
   "metadata": {},
   "outputs": [],
   "source": [
    "func reLUAndGradient(_ inputTensor: TensorFloat) -> (value: TensorFloat,\n",
    "                                                    chain: (TensorFloat) -> TensorFloat) {\n",
    "    tracer()\n",
    "    return (value: max(0.0, inputTensor), \n",
    "            chain: { \n",
    "                ddxWomboCombo in max(0.0, ddxWomboCombo) })\n",
    "}"
   ]
  },
  {
   "cell_type": "markdown",
   "metadata": {},
   "source": [
    "womboCombo = inputs * parameters + bias\n",
    "\n",
    "_Partial Derivatives below_\n",
    "\n",
    "```python\n",
    "\n",
    "dWC/dparameters = inputs # params\n",
    "\n",
    "dWC/dinput = parameters # input\n",
    "\n",
    "dWC/dbias = 1 # bias\n",
    "\n",
    "```\n",
    "\n",
    "\n",
    "meanSquaredError(womboCombo(reLU(womboCombo())))\n",
    "\n",
    "'meanSquaredError(womboCombo(reLU(womboCombo()))) * 'womboCombo(reLU(womboCombo())) * 'reLU(womboCombo()) * 'womboCombo()"
   ]
  },
  {
   "cell_type": "code",
   "execution_count": 69,
   "metadata": {},
   "outputs": [
    {
     "data": {
      "text/plain": [
       "▿ 4 elements\n",
       "  ▿ input : [10000, 50]\n",
       "    ▿ dimensions : 2 elements\n",
       "      - 0 : 10000\n",
       "      - 1 : 50\n",
       "  ▿ parameters : [50, 1]\n",
       "    ▿ dimensions : 2 elements\n",
       "      - 0 : 50\n",
       "      - 1 : 1\n",
       "  ▿ bias : [1]\n",
       "    ▿ dimensions : 1 element\n",
       "      - 0 : 1\n",
       "  ▿ ddx : [10000, 1]\n",
       "    ▿ dimensions : 2 elements\n",
       "      - 0 : 10000\n",
       "      - 1 : 1\n"
      ]
     },
     "execution_count": 69,
     "metadata": {},
     "output_type": "execute_result"
    }
   ],
   "source": [
    "(input: matmul(xValidationDataNormalized, kaimingInitParamOne).shape, \n",
    " parameters: kaimingParamTwo.shape,\n",
    " bias: biasLayerTwo.shape,\n",
    " ddx: myGradientSquareError.shape)"
   ]
  },
  {
   "cell_type": "code",
   "execution_count": 70,
   "metadata": {},
   "outputs": [
    {
     "data": {
      "text/plain": [
       "▿ 2 elements\n",
       "  ▿ .0 : [10000, 1]\n",
       "    ▿ dimensions : 2 elements\n",
       "      - 0 : 10000\n",
       "      - 1 : 1\n",
       "  ▿ .1 : [10000]\n",
       "    ▿ dimensions : 1 element\n",
       "      - 0 : 10000\n"
      ]
     },
     "execution_count": 70,
     "metadata": {},
     "output_type": "execute_result"
    }
   ],
   "source": [
    "let firstCombo = linearCombination(inputs: xValidationDataNormalized, weights: kaimingParamOne, bias: biasLayerOne)\n",
    "let activations = reLU(tensor: firstCombo)\n",
    "let lastCombo = linearCombination(inputs: activations, weights: kaimingParamTwo, bias: biasLayerTwo) \n",
    "\n",
    "(lastCombo.shape, yValidationData.shape)"
   ]
  },
  {
   "cell_type": "code",
   "execution_count": 71,
   "metadata": {},
   "outputs": [
    {
     "data": {
      "text/plain": [
       "▿ [10000, 1]\n",
       "  ▿ dimensions : 2 elements\n",
       "    - 0 : 10000\n",
       "    - 1 : 1\n"
      ]
     },
     "execution_count": 71,
     "metadata": {},
     "output_type": "execute_result"
    }
   ],
   "source": [
    "yValidationData.expandingShape(at: 1).shape"
   ]
  },
  {
   "cell_type": "code",
   "execution_count": 72,
   "metadata": {},
   "outputs": [
    {
     "data": {
      "text/plain": [
       "▿ [10000, 1]\n",
       "  ▿ dimensions : 2 elements\n",
       "    - 0 : 10000\n",
       "    - 1 : 1\n"
      ]
     },
     "execution_count": 72,
     "metadata": {},
     "output_type": "execute_result"
    }
   ],
   "source": [
    "let error = lastCombo - TensorFloat(yValidationData).expandingShape(at: 1)\n",
    "error.shape"
   ]
  },
  {
   "cell_type": "code",
   "execution_count": 73,
   "metadata": {},
   "outputs": [
    {
     "name": "stdout",
     "output_type": "stream",
     "text": [
      "meanSquaredErrorWithGradinent(_:)\r\n",
      "squareWomboCombo(_:)\r\n",
      "meanWomboCombo(_:)\r\n"
     ]
    }
   ],
   "source": [
    "let (loss, mseGradientChain) = meanSquaredErrorWithGradinent(error)"
   ]
  },
  {
   "cell_type": "code",
   "execution_count": 74,
   "metadata": {},
   "outputs": [
    {
     "name": "stdout",
     "output_type": "stream",
     "text": [
      "mean𝛁_Chain(x:ddx:)\n",
      "square𝛁_Chain(x:ddx:)\n"
     ]
    },
    {
     "data": {
      "text/plain": [
       "▿ [10000, 1]\n",
       "  ▿ dimensions : 2 elements\n",
       "    - 0 : 10000\n",
       "    - 1 : 1\n"
      ]
     },
     "execution_count": 74,
     "metadata": {},
     "output_type": "execute_result"
    }
   ],
   "source": [
    "let ddxMSE = mseGradientChain(TensorFloat(1)) // start of the ddx chain is just 1\n",
    "ddxMSE.shape"
   ]
  },
  {
   "cell_type": "code",
   "execution_count": 75,
   "metadata": {},
   "outputs": [
    {
     "data": {
      "text/plain": [
       "▿ 2 elements\n",
       "  ▿ inputs : [10000, 50]\n",
       "    ▿ dimensions : 2 elements\n",
       "      - 0 : 10000\n",
       "      - 1 : 50\n",
       "  ▿ ddx : [10000, 1]\n",
       "    ▿ dimensions : 2 elements\n",
       "      - 0 : 10000\n",
       "      - 1 : 1\n"
      ]
     },
     "execution_count": 75,
     "metadata": {},
     "output_type": "execute_result"
    }
   ],
   "source": [
    "(inputs: activations.shape, ddx: ddxMSE.shape)"
   ]
  },
  {
   "cell_type": "code",
   "execution_count": 76,
   "metadata": {},
   "outputs": [
    {
     "name": "stdout",
     "output_type": "stream",
     "text": [
      "elapsed time: 354.141575 ms\r\n",
      "elapsed time: 543.798 µs\r\n"
     ]
    },
    {
     "data": {
      "text/plain": [
       "▿ [50, 1]\n",
       "  ▿ dimensions : 2 elements\n",
       "    - 0 : 50\n",
       "    - 1 : 1\n"
      ]
     },
     "execution_count": 76,
     "metadata": {},
     "output_type": "execute_result"
    }
   ],
   "source": [
    "// the partial derivative of wombo combo with repect to the parameters is just the activations (or inputs)\n",
    "let _ddxParameters = withTime { matmul(activations.transposed(), ddxMSE) }\n",
    "let ddxParameters = withTime { matmul(activations.transposed(), ddxMSE) }\n",
    "ddxParameters.shape"
   ]
  },
  {
   "cell_type": "markdown",
   "metadata": {},
   "source": [
    "**Squirrel**: Looks like the notbook hase some spinup time, after that it becomes heckin fast."
   ]
  },
  {
   "cell_type": "code",
   "execution_count": 77,
   "metadata": {},
   "outputs": [
    {
     "data": {
      "text/plain": [
       "▿ 2 elements\n",
       "  ▿ parameters : [50, 1]\n",
       "    ▿ dimensions : 2 elements\n",
       "      - 0 : 50\n",
       "      - 1 : 1\n",
       "  ▿ ddx : [10000, 1]\n",
       "    ▿ dimensions : 2 elements\n",
       "      - 0 : 10000\n",
       "      - 1 : 1\n"
      ]
     },
     "execution_count": 77,
     "metadata": {},
     "output_type": "execute_result"
    }
   ],
   "source": [
    "(parameters: kaimingParamTwo.shape, ddx: ddxMSE.shape)"
   ]
  },
  {
   "cell_type": "code",
   "execution_count": 78,
   "metadata": {},
   "outputs": [
    {
     "data": {
      "text/plain": [
       "▿ [10000, 50]\n",
       "  ▿ dimensions : 2 elements\n",
       "    - 0 : 10000\n",
       "    - 1 : 50\n"
      ]
     },
     "execution_count": 78,
     "metadata": {},
     "output_type": "execute_result"
    }
   ],
   "source": [
    "let ddxActivations = matmul(ddxMSE, kaimingParamTwo.transposed()) // the partial derivative of wombo combo with respects to activations is the parameters.\n",
    "ddxActivations.shape"
   ]
  },
  {
   "cell_type": "code",
   "execution_count": 79,
   "metadata": {},
   "outputs": [
    {
     "data": {
      "text/plain": [
       "▿ [50]\n",
       "  ▿ dimensions : 1 element\n",
       "    - 0 : 50\n"
      ]
     },
     "execution_count": 79,
     "metadata": {},
     "output_type": "execute_result"
    }
   ],
   "source": [
    "let activationsGradient = ddxActivations.sum(squeezingAxes: [0])\n",
    "activationsGradient.shape"
   ]
  },
  {
   "cell_type": "code",
   "execution_count": 80,
   "metadata": {},
   "outputs": [],
   "source": [
    "// These two should match :D (this is the gradient learny bit)\n",
    "assert(activationsGradient.expandingShape(at: 1).shape == kaimingParamTwo.shape)"
   ]
  },
  {
   "cell_type": "code",
   "execution_count": 81,
   "metadata": {},
   "outputs": [
    {
     "data": {
      "text/plain": [
       "▿ 2 elements\n",
       "  ▿ bias : [1]\n",
       "    ▿ dimensions : 1 element\n",
       "      - 0 : 1\n",
       "  ▿ ddx : [10000, 1]\n",
       "    ▿ dimensions : 2 elements\n",
       "      - 0 : 10000\n",
       "      - 1 : 1\n"
      ]
     },
     "execution_count": 81,
     "metadata": {},
     "output_type": "execute_result"
    }
   ],
   "source": [
    "(bias: biasLayerTwo.shape, ddx: ddxMSE.shape)"
   ]
  },
  {
   "cell_type": "code",
   "execution_count": 82,
   "metadata": {},
   "outputs": [
    {
     "data": {
      "text/plain": [
       "▿ [1]\n",
       "  ▿ dimensions : 1 element\n",
       "    - 0 : 1\n"
      ]
     },
     "execution_count": 82,
     "metadata": {},
     "output_type": "execute_result"
    }
   ],
   "source": [
    "let ddxBias = ddxMSE.unbroadcasted(to: biasLayerTwo.shape) // reduces and sums the tensor apparently :|\n",
    "ddxBias.shape"
   ]
  },
  {
   "cell_type": "markdown",
   "metadata": {},
   "source": [
    "//Fundi to derive\n",
    "\n",
    "womboCombo = inputs * parameters + bias\n",
    "\n",
    "_Partial Derivatives below_\n",
    "\n",
    "```python\n",
    "\n",
    "dWC/di = parameters # input\n",
    "\n",
    "dWC/dp = inputs # params\n",
    "\n",
    "dWC/db = 1 # bias\n",
    "\n",
    "```"
   ]
  },
  {
   "cell_type": "code",
   "execution_count": 83,
   "metadata": {},
   "outputs": [],
   "source": [
    "func womboComboPlusGradient(input: TensorFloat, \n",
    "                          parameter: TensorFloat,\n",
    "                          bias: TensorFloat) -> (value: TensorFloat,\n",
    "                                                 // Three Parameters in 3 Partial Derivatives out :D\n",
    "                                                 chain: (TensorFloat) -> (TensorFloat, TensorFloat, TensorFloat)) {\n",
    "    return (value: linearCombination(inputs: input, \n",
    "                                     weights: parameter, \n",
    "                                     bias: bias),\n",
    "           chain: { (ddx: TensorFloat) in (\n",
    "                           matmul(ddx, parameter.transposed()),\n",
    "                           matmul(input.transposed(), ddx),\n",
    "                            ddx.unbroadcasted(to: bias.shape)) })\n",
    "}"
   ]
  },
  {
   "cell_type": "code",
   "execution_count": 84,
   "metadata": {},
   "outputs": [],
   "source": [
    "let (lastCombination, lastCombinationGradientChain) = womboComboPlusGradient(input: activations, \n",
    "                                                                            parameter: kaimingParamTwo, \n",
    "                                                                            bias: biasLayerTwo)"
   ]
  },
  {
   "cell_type": "code",
   "execution_count": 85,
   "metadata": {},
   "outputs": [],
   "source": [
    "assertEquals(lastCombo, lastCombination)"
   ]
  },
  {
   "cell_type": "code",
   "execution_count": 86,
   "metadata": {},
   "outputs": [],
   "source": [
    "let (inputPartial, parameterPartial, biasPartial) = lastCombinationGradientChain(ddxMSE)"
   ]
  },
  {
   "cell_type": "code",
   "execution_count": 87,
   "metadata": {},
   "outputs": [],
   "source": [
    "assertEquals(inputPartial, ddxActivations)\n",
    "assertEquals(parameterPartial, ddxParameters)\n",
    "assertEquals(biasPartial, ddxBias)"
   ]
  },
  {
   "cell_type": "code",
   "execution_count": 88,
   "metadata": {},
   "outputs": [
    {
     "name": "stdout",
     "output_type": "stream",
     "text": [
      "reLUAndGradient(_:)\n",
      "meanSquaredErrorWithGradinent(_:)\n",
      "squareWomboCombo(_:)\n",
      "meanWomboCombo(_:)\n",
      "mean𝛁_Chain(x:ddx:)\n",
      "square𝛁_Chain(x:ddx:)\n"
     ]
    }
   ],
   "source": [
    "// Model\n",
    "let (parameterOutputOne, wcGradientChainOne) = womboComboPlusGradient(input: xValidationDataNormalized, \n",
    "                                                                     parameter: kaimingParamOne, \n",
    "                                                                     bias: biasLayerOne)\n",
    "let (firstLayerActivations, reLUGradientChain) = reLUAndGradient(parameterOutputOne)\n",
    "let (predictions, wcGradientChainTwo) = womboComboPlusGradient(input: firstLayerActivations, \n",
    "                                                                     parameter: kaimingParamTwo, \n",
    "                                                                     bias: biasLayerTwo)\n",
    "\n",
    "let error =  TensorFloat(yValidationData).expandingShape(at: 1) - predictions\n",
    "\n",
    "let (loss, gradientLossChain) = meanSquaredErrorWithGradinent(error)\n",
    "        \n",
    "let (ddxMSE) = gradientLossChain(TensorFloat(1))\n",
    "\n",
    "let (ddxActivations,ddxKaimingParamTwo, ddxBiasLayerTwo) = wcGradientChainTwo(ddxMSE)\n",
    "\n",
    "let (ddxfirstActivations) = reLUGradientChain(ddxActivations)\n",
    "\n",
    "let (ddxInput, ddxKaimingParamOne, ddxBiasLayerOne) = wcGradientChainOne(ddxfirstActivations)"
   ]
  },
  {
   "cell_type": "code",
   "execution_count": 104,
   "metadata": {},
   "outputs": [],
   "source": [
    "func layerCombinationWithGradient(input: TensorFloat,\n",
    "                                  weightParameter: TensorFloat,\n",
    "                                  biasParameter: TensorFloat) -> (value: TensorFloat,\n",
    "                                                                  chain: (TensorFloat) -> (TensorFloat, TensorFloat, TensorFloat)) {\n",
    "    // shape (tensorName)\n",
    "    // m x n (input) * n x o (weightParameter) = m x o (ddx)\n",
    "    return (value: matmul(input, weightParameter) + biasParameter,\n",
    "            chain: { (ddx: TensorFloat) in (\n",
    "                //Derivative with respect to input = ddx * weightParameter\n",
    "                matmul(ddx, weightParameter.transposed()),\n",
    "                //Derivative with respect to weightParameter = ddx * input\n",
    "                matmul(input.transposed(), ddx),\n",
    "                //Derivative with respect to biasParameter = ddx * 1 (shape of bias parameter)\n",
    "                ddx.unbroadcasted(to: biasParameter.shape)\n",
    "            )})\n",
    "}"
   ]
  },
  {
   "cell_type": "code",
   "execution_count": 105,
   "metadata": {},
   "outputs": [
    {
     "data": {
      "text/plain": [
       "[-2.0,  0.0,  2.0]\n"
      ]
     },
     "execution_count": 105,
     "metadata": {},
     "output_type": "execute_result"
    }
   ],
   "source": [
    "var a = TensorFloat([1, 2, 3])\n",
    "let b = TensorFloat([3, 2, 1])\n",
    "\n",
    "a -= b\n",
    "a"
   ]
  },
  {
   "cell_type": "code",
   "execution_count": 254,
   "metadata": {},
   "outputs": [],
   "source": [
    "struct HyperParameters {\n",
    "    let learningRate: Float\n",
    "    \n",
    "    init(learningRate: Float){\n",
    "        self.learningRate = learningRate\n",
    "    }\n",
    "}\n",
    "\n",
    "\n",
    "class SimpleLayer {\n",
    "    private var gradientChain: (TensorFloat) -> (output: TensorFloat,\n",
    "                                                  weightGradient: TensorFloat,\n",
    "                                                  biasGradient: TensorFloat)\n",
    "    var weightParameter: TensorFloat\n",
    "    var biasParameter: TensorFloat\n",
    "    \n",
    "    init(inputSize: Int, outputSize: Int) {\n",
    "        self.weightParameter = TensorFloat(randomNormal: [inputSize, outputSize]) * (2/sqrt(Float(inputSize)))\n",
    "        self.biasParameter = TensorFloat(zeros: [outputSize])\n",
    "        self.gradientChain = { (input: TensorFloat) in (output: TensorFloat(zeros: [0]), \n",
    "                                weightGradient: TensorFloat(zeros: [0]),\n",
    "                                biasGradient: TensorFloat(zeros: [0])) }\n",
    "    }\n",
    "    \n",
    "    func forward(inputTensor: TensorFloat) -> TensorFloat {\n",
    "        let (womboComboValue, womboComboChain) = layerCombinationWithGradient(input: inputTensor, \n",
    "                                                                              weightParameter: self.weightParameter, \n",
    "                                                                              biasParameter: self.biasParameter)\n",
    "//         let (activations, activationChain) = reLUAndGradient(womboComboValue)\n",
    "        self.gradientChain = {(ddx: TensorFloat) in\n",
    "//                                  let ddxActivations = activationChain(ddx)\n",
    "                                 let (ddxInput, ddxWeightParameter, ddxBiasParameter) = \n",
    "                                      womboComboChain(ddx)\n",
    "                                 //ddxInput = m x o * o x n = m * n\n",
    "                                 return (output: ddxInput, \n",
    "                                         weightGradient: ddxInput,\n",
    "                                         biasGradient: ddxBiasParameter)\n",
    "                             }\n",
    "        return womboComboValue\n",
    "    }\n",
    "    \n",
    "    func backward(ddx: TensorFloat, hyperParameters: HyperParameters) -> TensorFloat {\n",
    "        let (ddxOutput, weightGradient, biasGradient) = self.gradientChain(ddx)\n",
    "        print(\"param/input\", ddxOutput.shape, weightGradient.shape)\n",
    "        let squishyBoi = weightGradient.sum(squeezingAxes: [0])\n",
    "        self.weightParameter = self.weightParameter - (hyperParameters.learningRate * squishyBoi.expandingShape(at: 1))\n",
    "        self.biasParameter -= hyperParameters.learningRate * biasGradient\n",
    "        return ddxOutput\n",
    "    }\n",
    "    \n",
    "}"
   ]
  },
  {
   "cell_type": "code",
   "execution_count": 255,
   "metadata": {},
   "outputs": [
    {
     "data": {
      "text/plain": [
       "[[-2.0,  0.0,  2.0],\n",
       " [ 0.0,  0.0,  0.0]]\n"
      ]
     },
     "execution_count": 255,
     "metadata": {},
     "output_type": "execute_result"
    }
   ],
   "source": [
    "let a = TensorFloat([[1, 2, 3], [3,2,1]])\n",
    "let b = TensorFloat([3, 2, 1])\n",
    "a - b"
   ]
  },
  {
   "cell_type": "code",
   "execution_count": 256,
   "metadata": {},
   "outputs": [
    {
     "data": {
      "text/plain": [
       "[-0.0003375158]\n"
      ]
     },
     "execution_count": 256,
     "metadata": {},
     "output_type": "execute_result"
    }
   ],
   "source": [
    "let n = 100\n",
    "let inputPoints2 = TensorFloat(randomNormal: [100, 1])\n",
    "inputPoints2[1]"
   ]
  },
  {
   "cell_type": "code",
   "execution_count": 257,
   "metadata": {},
   "outputs": [
    {
     "data": {
      "text/plain": [
       "[-0.0003375158,           1.0]\n"
      ]
     },
     "execution_count": 257,
     "metadata": {},
     "output_type": "execute_result"
    }
   ],
   "source": [
    "let A = inputPoints2.concatenated(with: TensorFloat(ones: [100, 1]), alongAxis: 1)\n",
    "A[1]"
   ]
  },
  {
   "cell_type": "code",
   "execution_count": 258,
   "metadata": {},
   "outputs": [
    {
     "data": {
      "text/plain": [
       "▿ [2, 1]\n",
       "  ▿ dimensions : 2 elements\n",
       "    - 0 : 2\n",
       "    - 1 : 1\n"
      ]
     },
     "execution_count": 258,
     "metadata": {},
     "output_type": "execute_result"
    }
   ],
   "source": [
    "let x = TensorFloat([2, 7])\n",
    "x.expandingShape(at: 1).shape"
   ]
  },
  {
   "cell_type": "code",
   "execution_count": 259,
   "metadata": {},
   "outputs": [
    {
     "data": {
      "text/plain": [
       "▿ [100, 1]\n",
       "  ▿ dimensions : 2 elements\n",
       "    - 0 : 100\n",
       "    - 1 : 1\n"
      ]
     },
     "execution_count": 259,
     "metadata": {},
     "output_type": "execute_result"
    }
   ],
   "source": [
    "let y = matmul(A, x.expandingShape(at: 1)) + (TensorFloat(randomNormal: [100, 1], seed: (69, 420)) * 2)\n",
    "y.shape"
   ]
  },
  {
   "cell_type": "code",
   "execution_count": 260,
   "metadata": {},
   "outputs": [
    {
     "data": {
      "image/png": "[encoded data removed]",
      "text/plain": [
       "<Figure size 432x288 with 1 Axes>"
      ]
     },
     "metadata": {
      "needs_background": "light"
     },
     "output_type": "display_data"
    },
    {
     "data": {
      "text/plain": [
       "None\n"
      ]
     },
     "execution_count": 260,
     "metadata": {},
     "output_type": "execute_result"
    }
   ],
   "source": [
    "plotter.scatter(x: A.slice(lowerBounds: [0, 0], upperBounds:[A.shape[0], 1] ).makeNumpyArray(), \n",
    "                y: y.makeNumpyArray())\n",
    "plotter.show()"
   ]
  },
  {
   "cell_type": "code",
   "execution_count": 261,
   "metadata": {},
   "outputs": [],
   "source": [
    "let simpleLayer = SimpleLayer(inputSize: 2, outputSize: 1)\n"
   ]
  },
  {
   "cell_type": "code",
   "execution_count": 262,
   "metadata": {},
   "outputs": [],
   "source": [
    "let yHat = simpleLayer.forward(inputTensor: A)"
   ]
  },
  {
   "cell_type": "code",
   "execution_count": 263,
   "metadata": {},
   "outputs": [
    {
     "data": {
      "image/png": "[encoded data removed]",
      "text/plain": [
       "<Figure size 432x288 with 1 Axes>"
      ]
     },
     "metadata": {
      "needs_background": "light"
     },
     "output_type": "display_data"
    },
    {
     "data": {
      "text/plain": [
       "None\n"
      ]
     },
     "execution_count": 263,
     "metadata": {},
     "output_type": "execute_result"
    }
   ],
   "source": [
    "plotter.scatter(x: A.slice(lowerBounds: [0, 0], upperBounds:[A.shape[0], 1] ).makeNumpyArray(), \n",
    "                y: y.makeNumpyArray())\n",
    "plotter.scatter(x: A.slice(lowerBounds: [0, 0], upperBounds:[A.shape[0], 1] ).makeNumpyArray(), \n",
    "                y: yHat.makeNumpyArray())\n",
    "plotter.show()"
   ]
  },
  {
   "cell_type": "code",
   "execution_count": 264,
   "metadata": {},
   "outputs": [
    {
     "name": "stdout",
     "output_type": "stream",
     "text": [
      "meanSquaredErrorWithGradinent(_:)\r\n",
      "squareWomboCombo(_:)\r\n",
      "meanWomboCombo(_:)\r\n"
     ]
    },
    {
     "data": {
      "text/plain": [
       "54.57464\n"
      ]
     },
     "execution_count": 264,
     "metadata": {},
     "output_type": "execute_result"
    }
   ],
   "source": [
    "let (mse, mseChain) = meanSquaredErrorWithGradinent(y - yHat)\n",
    "mse"
   ]
  },
  {
   "cell_type": "code",
   "execution_count": 265,
   "metadata": {},
   "outputs": [],
   "source": [
    "let hyperParams = HyperParameters(learningRate: 5e-2)"
   ]
  },
  {
   "cell_type": "code",
   "execution_count": 266,
   "metadata": {},
   "outputs": [
    {
     "name": "stdout",
     "output_type": "stream",
     "text": [
      "mean𝛁_Chain(x:ddx:)\r\n",
      "square𝛁_Chain(x:ddx:)\r\n"
     ]
    },
    {
     "data": {
      "text/plain": [
       "▿ [100, 1]\n",
       "  ▿ dimensions : 2 elements\n",
       "    - 0 : 100\n",
       "    - 1 : 1\n"
      ]
     },
     "execution_count": 266,
     "metadata": {},
     "output_type": "execute_result"
    }
   ],
   "source": [
    "let ddxMSE = mseChain(TensorFloat(ones: [1]))\n",
    "ddxMSE.shape"
   ]
  },
  {
   "cell_type": "code",
   "execution_count": 267,
   "metadata": {},
   "outputs": [
    {
     "name": "stdout",
     "output_type": "stream",
     "text": [
      "param/input [100, 2] [100, 2]\r\n"
     ]
    }
   ],
   "source": [
    "let (ddxLayerOne) = simpleLayer.backward(ddx: ddxMSE, hyperParameters: hyperParams)"
   ]
  },
  {
   "cell_type": "code",
   "execution_count": 268,
   "metadata": {},
   "outputs": [
    {
     "data": {
      "text/plain": [
       "▿ [100, 2]\n",
       "  ▿ dimensions : 2 elements\n",
       "    - 0 : 100\n",
       "    - 1 : 2\n"
      ]
     },
     "execution_count": 268,
     "metadata": {},
     "output_type": "execute_result"
    }
   ],
   "source": [
    "ddxLayerOne.shape"
   ]
  },
  {
   "cell_type": "code",
   "execution_count": 269,
   "metadata": {},
   "outputs": [],
   "source": [
    "let yHat = simpleLayer.forward(inputTensor: A)"
   ]
  },
  {
   "cell_type": "code",
   "execution_count": 270,
   "metadata": {},
   "outputs": [
    {
     "data": {
      "image/png": "[encoded data removed]",
      "text/plain": [
       "<Figure size 432x288 with 1 Axes>"
      ]
     },
     "metadata": {
      "needs_background": "light"
     },
     "output_type": "display_data"
    },
    {
     "data": {
      "text/plain": [
       "None\n"
      ]
     },
     "execution_count": 270,
     "metadata": {},
     "output_type": "execute_result"
    }
   ],
   "source": [
    "plotter.scatter(x: A.slice(lowerBounds: [0, 0], upperBounds:[A.shape[0], 1] ).makeNumpyArray(), \n",
    "                y: y.makeNumpyArray())\n",
    "plotter.scatter(x: A.slice(lowerBounds: [0, 0], upperBounds:[A.shape[0], 1] ).makeNumpyArray(), \n",
    "                y: yHat.makeNumpyArray())\n",
    "plotter.show()"
   ]
  },
  {
   "cell_type": "code",
   "execution_count": 271,
   "metadata": {},
   "outputs": [
    {
     "name": "stdout",
     "output_type": "stream",
     "text": [
      "meanSquaredErrorWithGradinent(_:)\r\n",
      "squareWomboCombo(_:)\r\n",
      "meanWomboCombo(_:)\r\n"
     ]
    },
    {
     "data": {
      "text/plain": [
       "61.845303\n"
      ]
     },
     "execution_count": 271,
     "metadata": {},
     "output_type": "execute_result"
    }
   ],
   "source": [
    "let (mse, mseChain) = meanSquaredErrorWithGradinent(y - yHat)\n",
    "mse"
   ]
  },
  {
   "cell_type": "code",
   "execution_count": 272,
   "metadata": {},
   "outputs": [],
   "source": [
    "let layerToTrain = SimpleLayer(inputSize: 2, outputSize: 1)"
   ]
  },
  {
   "cell_type": "code",
   "execution_count": 273,
   "metadata": {},
   "outputs": [],
   "source": [
    "let trainingHyperParameters = HyperParameters(learningRate: 1e-2)"
   ]
  },
  {
   "cell_type": "code",
   "execution_count": 274,
   "metadata": {},
   "outputs": [],
   "source": [
    "let initialYHat = layerToTrain.forward(inputTensor: A)"
   ]
  },
  {
   "cell_type": "code",
   "execution_count": 275,
   "metadata": {},
   "outputs": [
    {
     "name": "stdout",
     "output_type": "stream",
     "text": [
      "meanSquaredErrorWithGradinent(_:)\r\n",
      "squareWomboCombo(_:)\r\n",
      "meanWomboCombo(_:)\r\n"
     ]
    },
    {
     "data": {
      "image/png": "[encoded data removed]",
      "text/plain": [
       "<Figure size 432x288 with 1 Axes>"
      ]
     },
     "metadata": {
      "needs_background": "light"
     },
     "output_type": "display_data"
    },
    {
     "data": {
      "text/plain": [
       "27.992369\n"
      ]
     },
     "execution_count": 275,
     "metadata": {},
     "output_type": "execute_result"
    }
   ],
   "source": [
    "plotter.scatter(x: A.slice(lowerBounds: [0, 0], upperBounds:[A.shape[0], 1] ).makeNumpyArray(), \n",
    "                y: y.makeNumpyArray())\n",
    "plotter.scatter(x: A.slice(lowerBounds: [0, 0], upperBounds:[A.shape[0], 1] ).makeNumpyArray(), \n",
    "                y: initialYHat.makeNumpyArray())\n",
    "plotter.show()\n",
    "let (mse, mseChain) = meanSquaredErrorWithGradinent(y - initialYHat)\n",
    "mse"
   ]
  },
  {
   "cell_type": "code",
   "execution_count": 276,
   "metadata": {},
   "outputs": [
    {
     "name": "stdout",
     "output_type": "stream",
     "text": [
      "meanSquaredErrorWithGradinent(_:)\n",
      "squareWomboCombo(_:)\n",
      "meanWomboCombo(_:)\n",
      "Loss: 27.992369\n",
      "mean𝛁_Chain(x:ddx:)\n",
      "square𝛁_Chain(x:ddx:)\n",
      "param/input [100, 2] [100, 2]\n",
      "meanSquaredErrorWithGradinent(_:)\n",
      "squareWomboCombo(_:)\n",
      "meanWomboCombo(_:)\n",
      "Loss: 31.135103\n",
      "mean𝛁_Chain(x:ddx:)\n",
      "square𝛁_Chain(x:ddx:)\n",
      "param/input [100, 2] [100, 2]\n",
      "meanSquaredErrorWithGradinent(_:)\n",
      "squareWomboCombo(_:)\n",
      "meanWomboCombo(_:)\n",
      "Loss: 34.433544\n",
      "mean𝛁_Chain(x:ddx:)\n",
      "square𝛁_Chain(x:ddx:)\n",
      "param/input [100, 2] [100, 2]\n",
      "meanSquaredErrorWithGradinent(_:)\n",
      "squareWomboCombo(_:)\n",
      "meanWomboCombo(_:)\n",
      "Loss: 37.862293\n",
      "mean𝛁_Chain(x:ddx:)\n",
      "square𝛁_Chain(x:ddx:)\n",
      "param/input [100, 2] [100, 2]\n",
      "meanSquaredErrorWithGradinent(_:)\n",
      "squareWomboCombo(_:)\n",
      "meanWomboCombo(_:)\n",
      "Loss: 41.395668\n",
      "mean𝛁_Chain(x:ddx:)\n",
      "square𝛁_Chain(x:ddx:)\n",
      "param/input [100, 2] [100, 2]\n",
      "meanSquaredErrorWithGradinent(_:)\n",
      "squareWomboCombo(_:)\n",
      "meanWomboCombo(_:)\n",
      "Loss: 45.009228\n",
      "mean𝛁_Chain(x:ddx:)\n",
      "square𝛁_Chain(x:ddx:)\n",
      "param/input [100, 2] [100, 2]\n",
      "meanSquaredErrorWithGradinent(_:)\n",
      "squareWomboCombo(_:)\n",
      "meanWomboCombo(_:)\n",
      "Loss: 48.681015\n",
      "mean𝛁_Chain(x:ddx:)\n",
      "square𝛁_Chain(x:ddx:)\n",
      "param/input [100, 2] [100, 2]\n",
      "meanSquaredErrorWithGradinent(_:)\n",
      "squareWomboCombo(_:)\n",
      "meanWomboCombo(_:)\n",
      "Loss: 52.392513\n",
      "mean𝛁_Chain(x:ddx:)\n",
      "square𝛁_Chain(x:ddx:)\n",
      "param/input [100, 2] [100, 2]\n",
      "meanSquaredErrorWithGradinent(_:)\n",
      "squareWomboCombo(_:)\n",
      "meanWomboCombo(_:)\n",
      "Loss: 56.129276\n",
      "mean𝛁_Chain(x:ddx:)\n",
      "square𝛁_Chain(x:ddx:)\n",
      "param/input [100, 2] [100, 2]\n",
      "meanSquaredErrorWithGradinent(_:)\n",
      "squareWomboCombo(_:)\n",
      "meanWomboCombo(_:)\n",
      "Loss: 59.88122\n",
      "mean𝛁_Chain(x:ddx:)\n",
      "square𝛁_Chain(x:ddx:)\n",
      "param/input [100, 2] [100, 2]\n",
      "meanSquaredErrorWithGradinent(_:)\n",
      "squareWomboCombo(_:)\n",
      "meanWomboCombo(_:)\n",
      "Loss: 63.642567\n",
      "mean𝛁_Chain(x:ddx:)\n",
      "square𝛁_Chain(x:ddx:)\n",
      "param/input [100, 2] [100, 2]\n",
      "average: 2.0432176 ms,   min: 1.950131 ms,   max: 2.275225 ms\n"
     ]
    }
   ],
   "source": [
    "time(repeating: 10) {\n",
    "    let yHat = layerToTrain.forward(inputTensor: A)\n",
    "    let (loss, lossChain) = meanSquaredErrorWithGradinent(y - yHat)\n",
    "    print(\"Loss: \\(loss)\")\n",
    "    layerToTrain.backward(ddx: lossChain(TensorFloat([1])), \n",
    "                                         hyperParameters: trainingHyperParameters)\n",
    "}"
   ]
  },
  {
   "cell_type": "code",
   "execution_count": 277,
   "metadata": {},
   "outputs": [
    {
     "data": {
      "image/png": "[encoded data removed]",
      "text/plain": [
       "<Figure size 432x288 with 1 Axes>"
      ]
     },
     "metadata": {
      "needs_background": "light"
     },
     "output_type": "display_data"
    },
    {
     "name": "stdout",
     "output_type": "stream",
     "text": [
      "meanSquaredErrorWithGradinent(_:)\r\n",
      "squareWomboCombo(_:)\r\n",
      "meanWomboCombo(_:)\r\n"
     ]
    },
    {
     "data": {
      "text/plain": [
       "67.41159\n"
      ]
     },
     "execution_count": 277,
     "metadata": {},
     "output_type": "execute_result"
    }
   ],
   "source": [
    "let finalYHat = layerToTrain.forward(inputTensor: A)\n",
    "plotter.scatter(x: A.slice(lowerBounds: [0, 0], upperBounds:[A.shape[0], 1] ).makeNumpyArray(), \n",
    "                y: y.makeNumpyArray())\n",
    "plotter.scatter(x: A.slice(lowerBounds: [0, 0], upperBounds:[A.shape[0], 1] ).makeNumpyArray(), \n",
    "                y: finalYHat.makeNumpyArray())\n",
    "plotter.show()\n",
    "let (mse, mseChain) = meanSquaredErrorWithGradinent(y - finalYHat)\n",
    "mse"
   ]
  },
  {
   "cell_type": "code",
   "execution_count": null,
   "metadata": {},
   "outputs": [],
   "source": []
  },
  {
   "cell_type": "code",
   "execution_count": null,
   "metadata": {},
   "outputs": [],
   "source": []
  }
 ],
 "metadata": {
  "colab": {
   "collapsed_sections": [],
   "name": "blank_swift.ipynb",
   "provenance": [],
   "version": "0.3.2"
  },
  "kernelspec": {
   "display_name": "Swift",
   "language": "swift",
   "name": "swift"
  },
  "language_info": {
   "file_extension": ".swift",
   "mimetype": "text/x-swift",
   "name": "swift",
   "version": ""
  }
 },
 "nbformat": 4,
 "nbformat_minor": 1
}
