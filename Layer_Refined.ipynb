{
 "cells": [
  {
   "cell_type": "code",
   "execution_count": 1,
   "metadata": {},
   "outputs": [
    {
     "name": "stdout",
     "output_type": "stream",
     "text": [
      "Installing packages:\n",
      "\t.package(path: \"/home/ubuntu/workspace/fast-ai-swift/SchwiftyNotebook_batch_boi\")\n",
      "\t\tSchwiftyNotebook_batch_boi\n",
      "With SwiftPM flags: []\n",
      "Working in: /tmp/tmpqxsoc0k8/swift-install\n",
      "warning: /home/ubuntu/swift/usr/bin/swiftc: /home/ubuntu/anaconda3/envs/swift-env/lib/libuuid.so.1: no version information available (required by /home/ubuntu/swift/usr/bin/swiftc)\n",
      "/home/ubuntu/swift/usr/bin/swift: /home/ubuntu/anaconda3/envs/swift-env/lib/libuuid.so.1: no version information available (required by /home/ubuntu/swift/usr/bin/swift)\n",
      "warning: /home/ubuntu/swift/usr/bin/swiftc: /home/ubuntu/anaconda3/envs/swift-env/lib/libuuid.so.1: no version information available (required by /home/ubuntu/swift/usr/bin/swiftc)\n",
      "/home/ubuntu/swift/usr/bin/swift: /home/ubuntu/anaconda3/envs/swift-env/lib/libuuid.so.1: no version information available (required by /home/ubuntu/swift/usr/bin/swift)\n",
      "warning: /home/ubuntu/swift/usr/bin/swiftc: /home/ubuntu/anaconda3/envs/swift-env/lib/libuuid.so.1: no version information available (required by /home/ubuntu/swift/usr/bin/swiftc)\n",
      "/home/ubuntu/swift/usr/bin/swift: /home/ubuntu/anaconda3/envs/swift-env/lib/libuuid.so.1: no version information available (required by /home/ubuntu/swift/usr/bin/swift)\n",
      "warning: /home/ubuntu/swift/usr/bin/swiftc: /home/ubuntu/anaconda3/envs/swift-env/lib/libuuid.so.1: no version information available (required by /home/ubuntu/swift/usr/bin/swiftc)\n",
      "/home/ubuntu/swift/usr/bin/swift: /home/ubuntu/anaconda3/envs/swift-env/lib/libuuid.so.1: no version information available (required by /home/ubuntu/swift/usr/bin/swift)\n",
      "warning: /home/ubuntu/swift/usr/bin/swiftc: /home/ubuntu/anaconda3/envs/swift-env/lib/libuuid.so.1: no version information available (required by /home/ubuntu/swift/usr/bin/swiftc)\n",
      "/home/ubuntu/swift/usr/bin/swift: /home/ubuntu/anaconda3/envs/swift-env/lib/libuuid.so.1: no version information available (required by /home/ubuntu/swift/usr/bin/swift)\n",
      "warning: /home/ubuntu/swift/usr/bin/swiftc: /home/ubuntu/anaconda3/envs/swift-env/lib/libuuid.so.1: no version information available (required by /home/ubuntu/swift/usr/bin/swiftc)\n",
      "/home/ubuntu/swift/usr/bin/swift: /home/ubuntu/anaconda3/envs/swift-env/lib/libuuid.so.1: no version information available (required by /home/ubuntu/swift/usr/bin/swift)\n",
      "warning: /home/ubuntu/swift/usr/bin/swiftc: /home/ubuntu/anaconda3/envs/swift-env/lib/libuuid.so.1: no version information available (required by /home/ubuntu/swift/usr/bin/swiftc)\n",
      "/home/ubuntu/swift/usr/bin/swift: /home/ubuntu/anaconda3/envs/swift-env/lib/libuuid.so.1: no version information available (required by /home/ubuntu/swift/usr/bin/swift)\n",
      "warning: /home/ubuntu/swift/usr/bin/swiftc: /home/ubuntu/anaconda3/envs/swift-env/lib/libuuid.so.1: no version information available (required by /home/ubuntu/swift/usr/bin/swiftc)\n",
      "/home/ubuntu/swift/usr/bin/swift: /home/ubuntu/anaconda3/envs/swift-env/lib/libuuid.so.1: no version information available (required by /home/ubuntu/swift/usr/bin/swift)\n",
      "warning: /home/ubuntu/swift/usr/bin/swiftc: /home/ubuntu/anaconda3/envs/swift-env/lib/libuuid.so.1: no version information available (required by /home/ubuntu/swift/usr/bin/swiftc)\n",
      "/home/ubuntu/swift/usr/bin/swift: /home/ubuntu/anaconda3/envs/swift-env/lib/libuuid.so.1: no version information available (required by /home/ubuntu/swift/usr/bin/swift)\n",
      "/home/ubuntu/swift/usr/bin/swiftc: /home/ubuntu/anaconda3/envs/swift-env/lib/libuuid.so.1: no version information available (required by /home/ubuntu/swift/usr/bin/swiftc)\n",
      "/home/ubuntu/swift/usr/bin/swiftc: /home/ubuntu/anaconda3/envs/swift-env/lib/libuuid.so.1: no version information available (required by /home/ubuntu/swift/usr/bin/swiftc)[1/6] Compiling SchwiftyNotebook_batch_boi matrix_multiplication.swift\n",
      "/home/ubuntu/swift/usr/bin/swift: /home/ubuntu/anaconda3/envs/swift-env/lib/libuuid.so.1: no version information available (required by /home/ubuntu/swift/usr/bin/swift)\n",
      "[2/6] Compiling SchwiftyNotebook_batch_boi initial_setup.swift\n",
      "/home/ubuntu/swift/usr/bin/swift: /home/ubuntu/anaconda3/envs/swift-env/lib/libuuid.so.1: no version information available (required by /home/ubuntu/swift/usr/bin/swift)\n",
      "[3/6] Compiling SchwiftyNotebook_batch_boi auto_diffy.swift\n",
      "/home/ubuntu/swift/usr/bin/swift: /home/ubuntu/anaconda3/envs/swift-env/lib/libuuid.so.1: no version information available (required by /home/ubuntu/swift/usr/bin/swift)\n",
      "/home/ubuntu/workspace/fast-ai-swift/SchwiftyNotebook_batch_boi/Sources/SchwiftyNotebook_batch_boi/batch_boi.swift:123:9: warning: initialization of immutable value 'numberOfUsedCarFeatures' was never used; consider replacing with assignment to '_' or removing it\n",
      "    let numberOfUsedCarFeatures = usedCarFeatureTensor.shape[1]\n",
      "    ~~~~^~~~~~~~~~~~~~~~~~~~~~~\n",
      "    _\n",
      "[4/6] Compiling SchwiftyNotebook_batch_boi batch_boi.swift\n",
      "/home/ubuntu/swift/usr/bin/swift: /home/ubuntu/anaconda3/envs/swift-env/lib/libuuid.so.1: no version information available (required by /home/ubuntu/swift/usr/bin/swift)\n",
      "/home/ubuntu/workspace/fast-ai-swift/SchwiftyNotebook_batch_boi/Sources/SchwiftyNotebook_batch_boi/batch_boi.swift:123:9: warning: initialization of immutable value 'numberOfUsedCarFeatures' was never used; consider replacing with assignment to '_' or removing it\n",
      "    let numberOfUsedCarFeatures = usedCarFeatureTensor.shape[1]\n",
      "    ~~~~^~~~~~~~~~~~~~~~~~~~~~~\n",
      "    _\n",
      "[5/6] Compiling SchwiftyNotebook_batch_boi convolution_model.swift\n",
      "/home/ubuntu/swift/usr/bin/swift: /home/ubuntu/anaconda3/envs/swift-env/lib/libuuid.so.1: no version information available (required by /home/ubuntu/swift/usr/bin/swift)\n",
      "[6/7] Merging module SchwiftyNotebook_batch_boi\n",
      "/home/ubuntu/swift/usr/bin/swift: /home/ubuntu/anaconda3/envs/swift-env/lib/libuuid.so.1: no version information available (required by /home/ubuntu/swift/usr/bin/swift)\n",
      "/home/ubuntu/swift/usr/bin/swiftc: /home/ubuntu/anaconda3/envs/swift-env/lib/libuuid.so.1: no version information available (required by /home/ubuntu/swift/usr/bin/swiftc)[7/8] Compiling jupyterInstalledPackages jupyterInstalledPackages.swift\n",
      "/home/ubuntu/swift/usr/bin/swift: /home/ubuntu/anaconda3/envs/swift-env/lib/libuuid.so.1: no version information available (required by /home/ubuntu/swift/usr/bin/swift)\n",
      "[8/9] Merging module jupyterInstalledPackages\n",
      "/home/ubuntu/swift/usr/bin/swift: /home/ubuntu/anaconda3/envs/swift-env/lib/libuuid.so.1: no version information available (required by /home/ubuntu/swift/usr/bin/swift)\n",
      "/home/ubuntu/swift/usr/bin/swiftc: /home/ubuntu/anaconda3/envs/swift-env/lib/libuuid.so.1: no version information available (required by /home/ubuntu/swift/usr/bin/swiftc)\n",
      "/home/ubuntu/swift/usr/bin/swift-autolink-extract: /home/ubuntu/anaconda3/envs/swift-env/lib/libuuid.so.1: no version information available (required by /home/ubuntu/swift/usr/bin/swift-autolink-extract)\n",
      "[9/9] Linking libjupyterInstalledPackages.so\n",
      "Initializing Swift...\n",
      "Installation complete!\n"
     ]
    }
   ],
   "source": [
    "%install-location $cwd/swift-install\n",
    "%install '.package(path: \"$cwd/SchwiftyNotebook_batch_boi\")' SchwiftyNotebook_batch_boi"
   ]
  },
  {
   "cell_type": "code",
   "execution_count": 2,
   "metadata": {},
   "outputs": [],
   "source": [
    "//export\n",
    "import Path\n",
    "import TensorFlow\n",
    "import SchwiftyNotebook_batch_boi"
   ]
  },
  {
   "cell_type": "code",
   "execution_count": 3,
   "metadata": {},
   "outputs": [],
   "source": [
    "//export\n",
    "public typealias SingleValueAndGradientChain<T>=(value: T, gradientChain: (T) -> T )\n",
    "public typealias SingleInputDifferentiable<T> = (T) -> SingleValueAndGradientChain<T>"
   ]
  },
  {
   "cell_type": "code",
   "execution_count": 4,
   "metadata": {},
   "outputs": [],
   "source": [
    "//export\n",
    "public let identititySVGC: SingleInputDifferentiable<TensorFloat> = { x in (value: x, gradientChain: { y in y }) }"
   ]
  },
  {
   "cell_type": "code",
   "execution_count": 5,
   "metadata": {},
   "outputs": [],
   "source": [
    "//export\n",
    "public struct HyperParameter {\n",
    "    let learningRate: Float\n",
    "    \n",
    "    init(learningRate: Float){\n",
    "        self.learningRate = learningRate\n",
    "    }\n",
    "}"
   ]
  },
  {
   "cell_type": "code",
   "execution_count": 6,
   "metadata": {},
   "outputs": [],
   "source": [
    "//export\n",
    "public struct RuntimeError: Error {\n",
    "    let message: String\n",
    "\n",
    "    init(_ message: String) {\n",
    "        self.message = message\n",
    "    }\n",
    "\n",
    "    public var localizedDescription: String {\n",
    "        return message\n",
    "    }\n",
    "}"
   ]
  },
  {
   "cell_type": "code",
   "execution_count": 7,
   "metadata": {},
   "outputs": [],
   "source": [
    "//export\n",
    "public typealias ThreeInputGradient = (TensorFloat) -> (TensorFloat, TensorFloat, TensorFloat)\n",
    "\n",
    "public struct DenseLayer {\n",
    "    let activationFunction: SingleInputDifferentiable<TensorFloat>\n",
    "    let weightParameter: TensorFloat\n",
    "    let biasParameter: TensorFloat\n",
    "    private let gradientChain: ThreeInputGradient\n",
    "\n",
    "    private init(activationFunction: @escaping SingleInputDifferentiable<TensorFloat>,\n",
    "                 weightParameter: TensorFloat,\n",
    "                 biasParameter: TensorFloat,\n",
    "                 gradientChain: @escaping ThreeInputGradient) {\n",
    "        self.activationFunction = activationFunction\n",
    "        self.weightParameter = weightParameter\n",
    "        self.biasParameter = biasParameter\n",
    "        self.gradientChain = gradientChain\n",
    "    }\n",
    "\n",
    "    private init(denseLayer: DenseLayer,\n",
    "                 gradientChain: @escaping ThreeInputGradient) {\n",
    "        self.activationFunction = denseLayer.activationFunction\n",
    "        self.weightParameter = denseLayer.weightParameter\n",
    "        self.biasParameter = denseLayer.biasParameter\n",
    "        self.gradientChain = gradientChain\n",
    "    }\n",
    "\n",
    "    init(inputSize: Int,\n",
    "         outputSize: Int,\n",
    "         activationFunction: @escaping SingleInputDifferentiable<TensorFloat> = identititySVGC){\n",
    "        self.activationFunction = activationFunction\n",
    "        self.weightParameter = TensorFloat(kaimingUniform: TensorShape([inputSize, outputSize]))\n",
    "        self.biasParameter = TensorFloat(zeros: [outputSize])\n",
    "        self.gradientChain = { (x: TensorFloat)  in (TensorFloat([1]), TensorFloat([1]), TensorFloat([1]))}\n",
    "    }\n",
    "\n",
    "    func forwardPass(inputTensor: TensorFloat) -> (TensorFloat, DenseLayer) {\n",
    "        let (parameterOutput, parameterGradientChain) =\n",
    "          linearCombinationAndGradient(inputTensor: inputTensor,\n",
    "                                       weightParameter: self.weightParameter,\n",
    "                                       biasParameter: self.biasParameter)\n",
    "        let (activations, activationsGradientChain) = activationFunction(parameterOutput)\n",
    "\n",
    "        return (activations, DenseLayer(denseLayer: self,\n",
    "                                       gradientChain: {ddx in parameterGradientChain(activationsGradientChain(ddx))}))\n",
    "    }\n",
    "\n",
    "    public func callAsFunction(_ inputTensor: TensorFloat) -> TensorFloat {\n",
    "        let parameterOutput =\n",
    "          linearCombination(inputs: inputTensor,\n",
    "                                       weights: self.weightParameter,\n",
    "                                       bias: self.biasParameter)\n",
    "        let (activations, activationsGradientChain) = activationFunction(parameterOutput)\n",
    "        return activations\n",
    "    }\n",
    "\n",
    "    func backwardPass(ddx: TensorFloat, hyperParams: HyperParameter) -> (TensorFloat, DenseLayer) {\n",
    "        let (ddxInput, ddxParameter, ddxBias) = self.gradientChain(ddx)\n",
    "        return (ddxInput, DenseLayer(activationFunction: activationFunction,\n",
    "                                    weightParameter: self.weightParameter - hyperParams.learningRate * ddxParameter,\n",
    "                                    biasParameter: self.biasParameter - hyperParams.learningRate * ddxBias,\n",
    "                                    gradientChain: self.gradientChain))\n",
    "    }\n",
    "}"
   ]
  },
  {
   "cell_type": "code",
   "execution_count": 30,
   "metadata": {},
   "outputs": [],
   "source": [
    "let usedCarDataBunch = fetchUsedCarDataBunch(validationSize: 0.001, batchSize:1024)"
   ]
  },
  {
   "cell_type": "code",
   "execution_count": 31,
   "metadata": {},
   "outputs": [
    {
     "name": "stdout",
     "output_type": "stream",
     "text": [
      "[[0.82608694,        1.0,        1.0,        1.0,        1.0,        1.0,  0.9990104, 0.09999999]]\r\n"
     ]
    },
    {
     "data": {
      "text/plain": [
       "8\n"
      ]
     },
     "execution_count": 31,
     "metadata": {},
     "output_type": "execute_result"
    }
   ],
   "source": [
    "let firstBatch = usedCarDataBunch.trainingDataset.first!\n",
    "let numberFeatures = firstBatch.features.shape[1]\n",
    "print(firstBatch.features.max(alongAxes: 0))\n",
    "numberFeatures"
   ]
  },
  {
   "cell_type": "code",
   "execution_count": 32,
   "metadata": {},
   "outputs": [],
   "source": [
    "let carPriceLayer = DenseLayer(inputSize: numberFeatures, \n",
    "                               outputSize: 1, \n",
    "                               activationFunction: reLUAndGradient)"
   ]
  },
  {
   "cell_type": "code",
   "execution_count": 17,
   "metadata": {},
   "outputs": [],
   "source": [
    "let preds = carPriceLayer(firstBatch.features)"
   ]
  },
  {
   "cell_type": "code",
   "execution_count": 18,
   "metadata": {},
   "outputs": [
    {
     "data": {
      "text/plain": [
       "▿ 2 elements\n",
       "  ▿ .0 : [1024, 1]\n",
       "    ▿ dimensions : 2 elements\n",
       "      - 0 : 1024\n",
       "      - 1 : 1\n",
       "  ▿ .1 : [1024]\n",
       "    ▿ dimensions : 1 element\n",
       "      - 0 : 1024\n"
      ]
     },
     "execution_count": 18,
     "metadata": {},
     "output_type": "execute_result"
    }
   ],
   "source": [
    "(preds.shape, firstBatch.labels.shape)"
   ]
  },
  {
   "cell_type": "code",
   "execution_count": 19,
   "metadata": {},
   "outputs": [],
   "source": [
    "let (lossyBoi, gradientChain) = meanSquaredErrorAndGradient(yHat: preds, \n",
    "                                                            y: firstBatch.labels.expandingShape(at: 1))"
   ]
  },
  {
   "cell_type": "code",
   "execution_count": 20,
   "metadata": {},
   "outputs": [
    {
     "data": {
      "text/plain": [
       "8.737265e+12\n"
      ]
     },
     "execution_count": 20,
     "metadata": {},
     "output_type": "execute_result"
    }
   ],
   "source": [
    "lossyBoi"
   ]
  },
  {
   "cell_type": "code",
   "execution_count": 21,
   "metadata": {},
   "outputs": [
    {
     "name": "stdout",
     "output_type": "stream",
     "text": [
      "average: 2.734093 ms,   min: 2.695993 ms,   max: 2.772193 ms\r\n"
     ]
    }
   ],
   "source": [
    "var currentDenseLayer = carPriceLayer\n",
    "let trialsHyperParameter = HyperParameter(learningRate: 1e-2)\n",
    "timeTrials(trials: 2) { \n",
    "    let (alexYHat, alexLayer) = currentDenseLayer.forwardPass(inputTensor: firstBatch.features)\n",
    "    let (loss, lossGradientSupplier) = meanSquaredErrorAndGradient(yHat: alexYHat, \n",
    "                                                                   y:firstBatch.labels.expandingShape(at: 1))\n",
    "    let (ddxAlexLayer, enhancedLayer) = alexLayer.backwardPass(ddx: lossGradientSupplier(), \n",
    "                                                               hyperParams: trialsHyperParameter)\n",
    "    currentDenseLayer = enhancedLayer\n",
    "}"
   ]
  },
  {
   "cell_type": "code",
   "execution_count": 22,
   "metadata": {},
   "outputs": [
    {
     "data": {
      "text/plain": [
       "8.449959e+12\n"
      ]
     },
     "execution_count": 22,
     "metadata": {},
     "output_type": "execute_result"
    }
   ],
   "source": [
    "let (nextLoss, _) = meanSquaredErrorAndGradient(yHat: currentDenseLayer(firstBatch.features), \n",
    "                                                            y: firstBatch.labels.expandingShape(at: 1))\n",
    "nextLoss"
   ]
  },
  {
   "cell_type": "code",
   "execution_count": 23,
   "metadata": {},
   "outputs": [
    {
     "name": "stdout",
     "output_type": "stream",
     "text": [
      "First Loss: 1.2181415e+12\n",
      "average: 90.707683165 ms,   min: 83.770458 ms,   max: 95.742902 ms\n",
      "elapsed time: 18.233004417 s\n",
      "Post Loss: 4.4469322e+11\n"
     ]
    }
   ],
   "source": [
    "var currentDenseLayer = carPriceLayer\n",
    "let trialsHyperParameter = HyperParameter(learningRate: 1e-2)\n",
    "let firstValidation = usedCarDataBunch.validationDataset.first!\n",
    "let (trainingLoss, _) = meanSquaredErrorAndGradient(yHat: currentDenseLayer(firstValidation.features), \n",
    "                                                            y: firstValidation.labels.expandingShape(at: 1))\n",
    "print(\"First Loss: \\(trainingLoss)\")\n",
    "withTime {\n",
    "    timeTrials(trials: 200) { \n",
    "        for batch in usedCarDataBunch.trainingDataset {\n",
    "            let (alexYHat, alexLayer) = currentDenseLayer.forwardPass(inputTensor: batch.features)\n",
    "            let (loss, lossGradientSupplier) = meanSquaredErrorAndGradient(yHat: alexYHat, \n",
    "                                                                           y:batch.labels.expandingShape(at: 1))\n",
    "            let (ddxAlexLayer, enhancedLayer) = alexLayer.backwardPass(ddx: lossGradientSupplier(), \n",
    "                                                                       hyperParams: trialsHyperParameter)\n",
    "            currentDenseLayer = enhancedLayer   \n",
    "        }\n",
    "    }\n",
    "}\n",
    "let (postLoss, _) = meanSquaredErrorAndGradient(yHat: currentDenseLayer(firstValidation.features), \n",
    "                                                            y: firstValidation.labels.expandingShape(at: 1))\n",
    "print(\"Post Loss: \\(postLoss)\")\n",
    "assert(trainingLoss > postLoss)"
   ]
  },
  {
   "cell_type": "code",
   "execution_count": 25,
   "metadata": {},
   "outputs": [],
   "source": [
    "let predictedPrices = currentDenseLayer(firstValidation.features)\n",
    "let error = firstValidation.labels.expandingShape(at: 1) - predictedPrices"
   ]
  },
  {
   "cell_type": "code",
   "execution_count": 26,
   "metadata": {},
   "outputs": [
    {
     "data": {
      "text/plain": [
       "▿ 2 elements\n",
       "  - .0 : 350.84937\n",
       "  - .1 : 666853.1\n"
      ]
     },
     "execution_count": 26,
     "metadata": {},
     "output_type": "execute_result"
    }
   ],
   "source": [
    "(error.mean(), error.standardDeviation())"
   ]
  },
  {
   "cell_type": "code",
   "execution_count": 27,
   "metadata": {},
   "outputs": [
    {
     "data": {
      "text/plain": [
       "▿ 2 elements\n",
       "  - .0 : [1148750.5]\n",
       "  - .1 : 450000.0\n"
      ]
     },
     "execution_count": 27,
     "metadata": {},
     "output_type": "execute_result"
    }
   ],
   "source": [
    "(predictedPrices[6],  firstValidation.labels[6])"
   ]
  },
  {
   "cell_type": "code",
   "execution_count": 33,
   "metadata": {},
   "outputs": [
    {
     "name": "stdout",
     "output_type": "stream",
     "text": [
      "Training Loss: [2.3739564e+12]\n",
      "Validation Loss: [4.641585e+11]\n",
      "Training Loss: [2.2129082e+12]\n",
      "Validation Loss: [3.4123973e+11]\n",
      "Training Loss: [2.198596e+12]\n",
      "Validation Loss: [3.201808e+11]\n",
      "Training Loss: [2.1932645e+12]\n",
      "Validation Loss: [3.1377152e+11]\n",
      "Training Loss: [2.19018e+12]\n",
      "Validation Loss: [3.0992076e+11]\n",
      "Training Loss: [2.1879532e+12]\n",
      "Validation Loss: [3.0667804e+11]\n",
      "Training Loss: [2.1862121e+12]\n",
      "Validation Loss: [3.0377053e+11]\n",
      "Training Loss: [2.18491e+12]\n",
      "Validation Loss: [3.0116672e+11]\n",
      "Training Loss: [2.1839029e+12]\n",
      "Validation Loss: [2.9879216e+11]\n",
      "Training Loss: [2.1830917e+12]\n",
      "Validation Loss: [2.9652828e+11]\n",
      "Training Loss: [2.1823935e+12]\n",
      "Validation Loss: [2.9404388e+11]\n",
      "Training Loss: [2.1814592e+12]\n",
      "Validation Loss: [2.9130097e+11]\n",
      "Training Loss: [2.1805977e+12]\n",
      "Validation Loss: [2.8902153e+11]\n",
      "Training Loss: [2.1798666e+12]\n",
      "Validation Loss: [2.8716234e+11]\n",
      "Training Loss: [2.1792543e+12]\n",
      "Validation Loss: [2.8550863e+11]\n",
      "Training Loss: [2.1787401e+12]\n",
      "Validation Loss: [2.839932e+11]\n",
      "Training Loss: [2.1782996e+12]\n",
      "Validation Loss: [2.825528e+11]\n",
      "Training Loss: [2.1779271e+12]\n",
      "Validation Loss: [2.8120603e+11]\n",
      "Training Loss: [2.1776006e+12]\n",
      "Validation Loss: [2.7997936e+11]\n",
      "Training Loss: [2.1773181e+12]\n",
      "Validation Loss: [2.788266e+11]\n",
      "Training Loss: [2.1770585e+12]\n",
      "Validation Loss: [2.7765064e+11]\n",
      "average: 110.03682058 ms,   min: 102.193731 ms,   max: 118.334806 ms\n",
      "elapsed time: 22.469914274 s\n"
     ]
    }
   ],
   "source": [
    "var currentDenseLayer = carPriceLayer\n",
    "let trialsHyperParameter = HyperParameter(learningRate: 1e-1)\n",
    "withTime {\n",
    "    var trial = 0\n",
    "    timeTrials(trials: 200) { \n",
    "        var accumulatedTrainingLoss = TensorFloat([0])\n",
    "        var trainingItems = TensorFloat([0])\n",
    "        for batch in usedCarDataBunch.trainingDataset {\n",
    "            let (alexYHat, alexLayer) = currentDenseLayer.forwardPass(inputTensor: batch.features)\n",
    "            \n",
    "            let (loss, lossGradientSupplier) = meanSquaredErrorAndGradient(yHat: alexYHat, \n",
    "                                                                           y:batch.labels.expandingShape(at: 1))\n",
    "            accumulatedTrainingLoss += loss\n",
    "            trainingItems += 1\n",
    "            \n",
    "            let (ddxAlexLayer, enhancedLayer) = alexLayer.backwardPass(ddx: lossGradientSupplier(), \n",
    "                                                                       hyperParams: trialsHyperParameter)\n",
    "            currentDenseLayer = enhancedLayer   \n",
    "        }\n",
    "        \n",
    "        \n",
    "        var accumulatedValidationLoss = TensorFloat([0])\n",
    "        var validationItems = TensorFloat([0])\n",
    "        for validationBatch in usedCarDataBunch.validationDataset {\n",
    "            let (validationLoss, _) = meanSquaredErrorAndGradient(yHat: currentDenseLayer(validationBatch.features), \n",
    "                                                                  y: validationBatch.labels.expandingShape(at: 1))\n",
    "            \n",
    "            accumulatedValidationLoss += validationLoss\n",
    "            validationItems += 1\n",
    "        }\n",
    "        \n",
    "        if(trial % 10 == 0) {\n",
    "            print(\"Training Loss: \\(accumulatedTrainingLoss/trainingItems)\")\n",
    "            print(\"Validation Loss: \\(accumulatedValidationLoss/validationItems)\")   \n",
    "        }\n",
    "        trial += 1\n",
    "    }\n",
    "}"
   ]
  },
  {
   "cell_type": "code",
   "execution_count": 29,
   "metadata": {},
   "outputs": [
    {
     "name": "stdout",
     "output_type": "stream",
     "text": [
      "success\r\n"
     ]
    }
   ],
   "source": [
    "exportSchwiftyNotebook(notebookName: \"Layer_Refined\")"
   ]
  },
  {
   "cell_type": "code",
   "execution_count": null,
   "metadata": {},
   "outputs": [],
   "source": []
  }
 ],
 "metadata": {
  "kernelspec": {
   "display_name": "Swift",
   "language": "swift",
   "name": "swift"
  },
  "language_info": {
   "file_extension": ".swift",
   "mimetype": "text/x-swift",
   "name": "swift",
   "version": ""
  }
 },
 "nbformat": 4,
 "nbformat_minor": 2
}
