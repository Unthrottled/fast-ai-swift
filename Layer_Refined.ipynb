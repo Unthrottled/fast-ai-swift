{
 "cells": [
  {
   "cell_type": "code",
   "execution_count": 1,
   "metadata": {},
   "outputs": [
    {
     "name": "stdout",
     "output_type": "stream",
     "text": [
      "Installing packages:\n",
      "\t.package(path: \"/home/ubuntu/workspace/fast-ai-swift/SchwiftyNotebook_batch_boi\")\n",
      "\t\tSchwiftyNotebook_batch_boi\n",
      "With SwiftPM flags: []\n",
      "Working in: /tmp/tmp3v2v66e_/swift-install\n",
      "warning: /home/ubuntu/swift/usr/bin/swiftc: /home/ubuntu/anaconda3/envs/swift-env/lib/libuuid.so.1: no version information available (required by /home/ubuntu/swift/usr/bin/swiftc)\n",
      "/home/ubuntu/swift/usr/bin/swift: /home/ubuntu/anaconda3/envs/swift-env/lib/libuuid.so.1: no version information available (required by /home/ubuntu/swift/usr/bin/swift)\n",
      "warning: /home/ubuntu/swift/usr/bin/swiftc: /home/ubuntu/anaconda3/envs/swift-env/lib/libuuid.so.1: no version information available (required by /home/ubuntu/swift/usr/bin/swiftc)\n",
      "/home/ubuntu/swift/usr/bin/swift: /home/ubuntu/anaconda3/envs/swift-env/lib/libuuid.so.1: no version information available (required by /home/ubuntu/swift/usr/bin/swift)\n",
      "warning: /home/ubuntu/swift/usr/bin/swiftc: /home/ubuntu/anaconda3/envs/swift-env/lib/libuuid.so.1: no version information available (required by /home/ubuntu/swift/usr/bin/swiftc)\n",
      "/home/ubuntu/swift/usr/bin/swift: /home/ubuntu/anaconda3/envs/swift-env/lib/libuuid.so.1: no version information available (required by /home/ubuntu/swift/usr/bin/swift)\n",
      "warning: /home/ubuntu/swift/usr/bin/swiftc: /home/ubuntu/anaconda3/envs/swift-env/lib/libuuid.so.1: no version information available (required by /home/ubuntu/swift/usr/bin/swiftc)\n",
      "/home/ubuntu/swift/usr/bin/swift: /home/ubuntu/anaconda3/envs/swift-env/lib/libuuid.so.1: no version information available (required by /home/ubuntu/swift/usr/bin/swift)\n",
      "warning: /home/ubuntu/swift/usr/bin/swiftc: /home/ubuntu/anaconda3/envs/swift-env/lib/libuuid.so.1: no version information available (required by /home/ubuntu/swift/usr/bin/swiftc)\n",
      "/home/ubuntu/swift/usr/bin/swift: /home/ubuntu/anaconda3/envs/swift-env/lib/libuuid.so.1: no version information available (required by /home/ubuntu/swift/usr/bin/swift)\n",
      "warning: /home/ubuntu/swift/usr/bin/swiftc: /home/ubuntu/anaconda3/envs/swift-env/lib/libuuid.so.1: no version information available (required by /home/ubuntu/swift/usr/bin/swiftc)\n",
      "/home/ubuntu/swift/usr/bin/swift: /home/ubuntu/anaconda3/envs/swift-env/lib/libuuid.so.1: no version information available (required by /home/ubuntu/swift/usr/bin/swift)\n",
      "warning: /home/ubuntu/swift/usr/bin/swiftc: /home/ubuntu/anaconda3/envs/swift-env/lib/libuuid.so.1: no version information available (required by /home/ubuntu/swift/usr/bin/swiftc)\n",
      "/home/ubuntu/swift/usr/bin/swift: /home/ubuntu/anaconda3/envs/swift-env/lib/libuuid.so.1: no version information available (required by /home/ubuntu/swift/usr/bin/swift)\n",
      "warning: /home/ubuntu/swift/usr/bin/swiftc: /home/ubuntu/anaconda3/envs/swift-env/lib/libuuid.so.1: no version information available (required by /home/ubuntu/swift/usr/bin/swiftc)\n",
      "/home/ubuntu/swift/usr/bin/swift: /home/ubuntu/anaconda3/envs/swift-env/lib/libuuid.so.1: no version information available (required by /home/ubuntu/swift/usr/bin/swift)\n",
      "warning: /home/ubuntu/swift/usr/bin/swiftc: /home/ubuntu/anaconda3/envs/swift-env/lib/libuuid.so.1: no version information available (required by /home/ubuntu/swift/usr/bin/swiftc)\n",
      "/home/ubuntu/swift/usr/bin/swift: /home/ubuntu/anaconda3/envs/swift-env/lib/libuuid.so.1: no version information available (required by /home/ubuntu/swift/usr/bin/swift)\n",
      "/home/ubuntu/swift/usr/bin/swiftc: /home/ubuntu/anaconda3/envs/swift-env/lib/libuuid.so.1: no version information available (required by /home/ubuntu/swift/usr/bin/swiftc)\n",
      "/home/ubuntu/swift/usr/bin/swiftc: /home/ubuntu/anaconda3/envs/swift-env/lib/libuuid.so.1: no version information available (required by /home/ubuntu/swift/usr/bin/swiftc)[1/2] Compiling jupyterInstalledPackages jupyterInstalledPackages.swift\n",
      "/home/ubuntu/swift/usr/bin/swift: /home/ubuntu/anaconda3/envs/swift-env/lib/libuuid.so.1: no version information available (required by /home/ubuntu/swift/usr/bin/swift)\n",
      "[2/3] Merging module jupyterInstalledPackages\n",
      "/home/ubuntu/swift/usr/bin/swift: /home/ubuntu/anaconda3/envs/swift-env/lib/libuuid.so.1: no version information available (required by /home/ubuntu/swift/usr/bin/swift)\n",
      "Initializing Swift...\n",
      "Installation complete!\n"
     ]
    }
   ],
   "source": [
    "%install-location $cwd/swift-install\n",
    "%install '.package(path: \"$cwd/SchwiftyNotebook_batch_boi\")' SchwiftyNotebook_batch_boi"
   ]
  },
  {
   "cell_type": "code",
   "execution_count": 2,
   "metadata": {},
   "outputs": [],
   "source": [
    "//export\n",
    "import Path\n",
    "import TensorFlow\n",
    "import SchwiftyNotebook_batch_boi"
   ]
  },
  {
   "cell_type": "code",
   "execution_count": 3,
   "metadata": {},
   "outputs": [],
   "source": [
    "//export\n",
    "public typealias SingleValueAndGradientChain<T>=(value: T, gradientChain: (T) -> T )\n",
    "public typealias SingleInputDifferentiable<T> = (T) -> SingleValueAndGradientChain<T>"
   ]
  },
  {
   "cell_type": "code",
   "execution_count": 4,
   "metadata": {},
   "outputs": [],
   "source": [
    "//export\n",
    "public let identititySVGC: SingleInputDifferentiable<TensorFloat> = { x in (value: x, gradientChain: { y in y }) }"
   ]
  },
  {
   "cell_type": "code",
   "execution_count": 5,
   "metadata": {},
   "outputs": [],
   "source": [
    "//export\n",
    "public struct HyperParameter {\n",
    "    let learningRate: Float\n",
    "    \n",
    "    init(learningRate: Float){\n",
    "        self.learningRate = learningRate\n",
    "    }\n",
    "}"
   ]
  },
  {
   "cell_type": "code",
   "execution_count": 6,
   "metadata": {},
   "outputs": [],
   "source": [
    "//export\n",
    "public struct RuntimeError: Error {\n",
    "    let message: String\n",
    "\n",
    "    init(_ message: String) {\n",
    "        self.message = message\n",
    "    }\n",
    "\n",
    "    public var localizedDescription: String {\n",
    "        return message\n",
    "    }\n",
    "}"
   ]
  },
  {
   "cell_type": "code",
   "execution_count": 7,
   "metadata": {},
   "outputs": [],
   "source": [
    "//export\n",
    "public protocol ModelParameter  {\n",
    "    \n",
    "    func forwardPass(inputTensor: TensorFloat) -> (TensorFloat, ModelParameter)\n",
    "    \n",
    "    func apply(_ inputTensor: TensorFloat) -> TensorFloat \n",
    "    \n",
    "    func backwardPass(ddx: TensorFloat, hyperParameters: HyperParameter) -> (TensorFloat, ModelParameter)\n",
    "}"
   ]
  },
  {
   "cell_type": "code",
   "execution_count": 8,
   "metadata": {},
   "outputs": [],
   "source": [
    "public struct YeetCannon: ModelParameter {\n",
    "    public func backwardPass(ddx: TensorFloat, hyperParameters: HyperParameter) -> (TensorFloat, ModelParameter) {\n",
    "        return (ddx, self)\n",
    "    }\n",
    "    \n",
    "    public func apply(_ inputTensor: TensorFloat) -> TensorFloat {\n",
    "        let (a, _) = forwardPass(inputTensor: inputTensor)\n",
    "        return a\n",
    "    } \n",
    "    \n",
    "    public func forwardPass(inputTensor: TensorFloat) -> (TensorFloat, ModelParameter) {\n",
    "        return (inputTensor, self)\n",
    "    }\n",
    "}"
   ]
  },
  {
   "cell_type": "code",
   "execution_count": 10,
   "metadata": {},
   "outputs": [],
   "source": [
    "let yeetCannon: ModelParameter = YeetCannon()\n",
    "let result = yeetCannon.apply(TensorFloat([Float(0.0)]))"
   ]
  },
  {
   "cell_type": "code",
   "execution_count": 11,
   "metadata": {},
   "outputs": [],
   "source": [
    "//export\n",
    "public typealias ThreeInputGradient = (TensorFloat) -> (TensorFloat, TensorFloat, TensorFloat)\n",
    "\n",
    "public struct DenseLayer: ModelParameter {\n",
    "    let activationFunction: SingleInputDifferentiable<TensorFloat>\n",
    "    let weightParameter: TensorFloat\n",
    "    let biasParameter: TensorFloat\n",
    "    private let gradientChain: ThreeInputGradient\n",
    "\n",
    "    private init(activationFunction: @escaping SingleInputDifferentiable<TensorFloat>,\n",
    "                 weightParameter: TensorFloat,\n",
    "                 biasParameter: TensorFloat,\n",
    "                 gradientChain: @escaping ThreeInputGradient) {\n",
    "        self.activationFunction = activationFunction\n",
    "        self.weightParameter = weightParameter\n",
    "        self.biasParameter = biasParameter\n",
    "        self.gradientChain = gradientChain\n",
    "    }\n",
    "\n",
    "    private init(denseLayer: DenseLayer,\n",
    "                 gradientChain: @escaping ThreeInputGradient) {\n",
    "        self.activationFunction = denseLayer.activationFunction\n",
    "        self.weightParameter = denseLayer.weightParameter\n",
    "        self.biasParameter = denseLayer.biasParameter\n",
    "        self.gradientChain = gradientChain\n",
    "    }\n",
    "\n",
    "    init(inputSize: Int,\n",
    "         outputSize: Int,\n",
    "         activationFunction: @escaping SingleInputDifferentiable<TensorFloat> = identititySVGC){\n",
    "        self.activationFunction = activationFunction\n",
    "        self.weightParameter = TensorFloat(kaimingUniform: TensorShape([inputSize, outputSize]))\n",
    "        self.biasParameter = TensorFloat(zeros: [outputSize])\n",
    "        self.gradientChain = { (x: TensorFloat)  in (TensorFloat([1]), TensorFloat([1]), TensorFloat([1]))}\n",
    "    }\n",
    "\n",
    "    public func forwardPass(inputTensor: TensorFloat) -> (TensorFloat, ModelParameter) {\n",
    "        let (parameterOutput, parameterGradientChain) =\n",
    "          linearCombinationAndGradient(inputTensor: inputTensor,\n",
    "                                       weightParameter: self.weightParameter,\n",
    "                                       biasParameter: self.biasParameter)\n",
    "        let (activations, activationsGradientChain) = activationFunction(parameterOutput)\n",
    "\n",
    "        return (activations, DenseLayer(denseLayer: self,\n",
    "                                       gradientChain: {ddx in parameterGradientChain(activationsGradientChain(ddx))}))\n",
    "    }\n",
    "\n",
    "    public func apply(_ inputTensor: TensorFloat) -> TensorFloat {\n",
    "        let parameterOutput =\n",
    "          linearCombination(inputs: inputTensor,\n",
    "                                       weights: self.weightParameter,\n",
    "                                       bias: self.biasParameter)\n",
    "        let (activations, activationsGradientChain) = activationFunction(parameterOutput)\n",
    "        return activations\n",
    "    }\n",
    "\n",
    "    public func backwardPass(ddx: TensorFloat, hyperParameters: HyperParameter) -> (TensorFloat, ModelParameter) {\n",
    "        let (ddxInput, ddxParameter, ddxBias) = self.gradientChain(ddx)\n",
    "        return (ddxInput, DenseLayer(activationFunction: activationFunction,\n",
    "                                    weightParameter: self.weightParameter - hyperParameters.learningRate * ddxParameter,\n",
    "                                    biasParameter: self.biasParameter - hyperParameters.learningRate * ddxBias,\n",
    "                                    gradientChain: self.gradientChain))\n",
    "    }\n",
    "}"
   ]
  },
  {
   "cell_type": "code",
   "execution_count": 12,
   "metadata": {},
   "outputs": [],
   "source": [
    "let usedCarDataBunch = fetchUsedCarDataBunch(validationSize: 0.001, batchSize:1024)"
   ]
  },
  {
   "cell_type": "code",
   "execution_count": 13,
   "metadata": {},
   "outputs": [
    {
     "name": "stdout",
     "output_type": "stream",
     "text": [
      "[[0.82608694,        1.0,        1.0,        1.0,        1.0,        1.0,  0.9990104, 0.09999999]]\r\n"
     ]
    },
    {
     "data": {
      "text/plain": [
       "8\n"
      ]
     },
     "execution_count": 13,
     "metadata": {},
     "output_type": "execute_result"
    }
   ],
   "source": [
    "let firstBatch = usedCarDataBunch.trainingDataset.first!\n",
    "let numberFeatures = firstBatch.features.shape[1]\n",
    "print(firstBatch.features.max(alongAxes: 0))\n",
    "numberFeatures"
   ]
  },
  {
   "cell_type": "code",
   "execution_count": 14,
   "metadata": {},
   "outputs": [],
   "source": [
    "let carPriceLayer = DenseLayer(inputSize: numberFeatures, \n",
    "                               outputSize: 1, \n",
    "                               activationFunction: reLUAndGradient)"
   ]
  },
  {
   "cell_type": "code",
   "execution_count": 16,
   "metadata": {},
   "outputs": [],
   "source": [
    "let preds = carPriceLayer.apply(firstBatch.features)"
   ]
  },
  {
   "cell_type": "code",
   "execution_count": 17,
   "metadata": {},
   "outputs": [
    {
     "data": {
      "text/plain": [
       "▿ 2 elements\n",
       "  ▿ .0 : [373, 1]\n",
       "    ▿ dimensions : 2 elements\n",
       "      - 0 : 373\n",
       "      - 1 : 1\n",
       "  ▿ .1 : [373]\n",
       "    ▿ dimensions : 1 element\n",
       "      - 0 : 373\n"
      ]
     },
     "execution_count": 17,
     "metadata": {},
     "output_type": "execute_result"
    }
   ],
   "source": [
    "(preds.shape, firstBatch.labels.shape)"
   ]
  },
  {
   "cell_type": "code",
   "execution_count": 18,
   "metadata": {},
   "outputs": [],
   "source": [
    "let (lossyBoi, gradientChain) = meanSquaredErrorAndGradient(yHat: preds, \n",
    "                                                            y: firstBatch.labels.expandingShape(at: 1))"
   ]
  },
  {
   "cell_type": "code",
   "execution_count": 19,
   "metadata": {},
   "outputs": [
    {
     "data": {
      "text/plain": [
       "1.6948068e+12\n"
      ]
     },
     "execution_count": 19,
     "metadata": {},
     "output_type": "execute_result"
    }
   ],
   "source": [
    "lossyBoi"
   ]
  },
  {
   "cell_type": "code",
   "execution_count": 20,
   "metadata": {},
   "outputs": [
    {
     "name": "stdout",
     "output_type": "stream",
     "text": [
      "average: 2.211219 ms,   min: 2.162919 ms,   max: 2.259519 ms\r\n"
     ]
    }
   ],
   "source": [
    "var currentDenseLayer: ModelParameter = carPriceLayer\n",
    "let trialsHyperParameter = HyperParameter(learningRate: 1e-2)\n",
    "timeTrials(trials: 2) { \n",
    "    let (alexYHat, alexLayer) = currentDenseLayer.forwardPass(inputTensor: firstBatch.features)\n",
    "    let (loss, lossGradientSupplier) = meanSquaredErrorAndGradient(yHat: alexYHat, \n",
    "                                                                   y:firstBatch.labels.expandingShape(at: 1))\n",
    "    let (ddxAlexLayer, enhancedLayer) = alexLayer.backwardPass(ddx: lossGradientSupplier(), \n",
    "                                                               hyperParameters: trialsHyperParameter)\n",
    "    currentDenseLayer = enhancedLayer\n",
    "}"
   ]
  },
  {
   "cell_type": "code",
   "execution_count": 22,
   "metadata": {},
   "outputs": [
    {
     "data": {
      "text/plain": [
       "1.5106538e+12\n"
      ]
     },
     "execution_count": 22,
     "metadata": {},
     "output_type": "execute_result"
    }
   ],
   "source": [
    "let (nextLoss, _) = meanSquaredErrorAndGradient(yHat: currentDenseLayer.apply(firstBatch.features), \n",
    "                                                            y: firstBatch.labels.expandingShape(at: 1))\n",
    "nextLoss"
   ]
  },
  {
   "cell_type": "code",
   "execution_count": 27,
   "metadata": {},
   "outputs": [
    {
     "name": "stdout",
     "output_type": "stream",
     "text": [
      "First Loss: 9.61809e+11\n",
      "average: 99.59654681 ms,   min: 92.672819 ms,   max: 106.44483 ms\n",
      "elapsed time: 20.02681291 s\n",
      "Post Loss: 3.217901e+11\n"
     ]
    }
   ],
   "source": [
    "var currentDenseLayer: ModelParameter = carPriceLayer\n",
    "let trialsHyperParameter = HyperParameter(learningRate: 1e-2)\n",
    "let firstValidation = usedCarDataBunch.validationDataset.first!\n",
    "let (trainingLoss, _) = meanSquaredErrorAndGradient(yHat: currentDenseLayer.apply(firstValidation.features), \n",
    "                                                            y: firstValidation.labels.expandingShape(at: 1))\n",
    "print(\"First Loss: \\(trainingLoss)\")\n",
    "withTime {\n",
    "    timeTrials(trials: 200) { \n",
    "        for batch in usedCarDataBunch.trainingDataset {\n",
    "            let (alexYHat, alexLayer) = currentDenseLayer.forwardPass(inputTensor: batch.features)\n",
    "            let (loss, lossGradientSupplier) = meanSquaredErrorAndGradient(yHat: alexYHat, \n",
    "                                                                           y:batch.labels.expandingShape(at: 1))\n",
    "            let (ddxAlexLayer, enhancedLayer) = alexLayer.backwardPass(ddx: lossGradientSupplier(), \n",
    "                                                                       hyperParameters: trialsHyperParameter)\n",
    "            currentDenseLayer = enhancedLayer   \n",
    "        }\n",
    "    }\n",
    "}\n",
    "let (postLoss, _) = meanSquaredErrorAndGradient(yHat: currentDenseLayer.apply(firstValidation.features), \n",
    "                                                            y: firstValidation.labels.expandingShape(at: 1))\n",
    "print(\"Post Loss: \\(postLoss)\")\n",
    "assert(trainingLoss > postLoss)"
   ]
  },
  {
   "cell_type": "code",
   "execution_count": 29,
   "metadata": {},
   "outputs": [],
   "source": [
    "let predictedPrices = currentDenseLayer.apply(firstValidation.features)\n",
    "let error = firstValidation.labels.expandingShape(at: 1) - predictedPrices"
   ]
  },
  {
   "cell_type": "code",
   "execution_count": 30,
   "metadata": {},
   "outputs": [
    {
     "data": {
      "text/plain": [
       "▿ 2 elements\n",
       "  - .0 : -6264.8853\n",
       "  - .1 : 567230.94\n"
      ]
     },
     "execution_count": 30,
     "metadata": {},
     "output_type": "execute_result"
    }
   ],
   "source": [
    "(error.mean(), error.standardDeviation())"
   ]
  },
  {
   "cell_type": "code",
   "execution_count": 31,
   "metadata": {},
   "outputs": [
    {
     "data": {
      "text/plain": [
       "▿ 2 elements\n",
       "  - .0 : [1142368.2]\n",
       "  - .1 : 450000.0\n"
      ]
     },
     "execution_count": 31,
     "metadata": {},
     "output_type": "execute_result"
    }
   ],
   "source": [
    "(predictedPrices[6],  firstValidation.labels[6])"
   ]
  },
  {
   "cell_type": "code",
   "execution_count": 35,
   "metadata": {},
   "outputs": [
    {
     "name": "stdout",
     "output_type": "stream",
     "text": [
      "Training Loss: [2.3749777e+12]\n",
      "Validation Loss: [4.642062e+11]\n",
      "Training Loss: [2.21292e+12]\n",
      "Validation Loss: [3.41256e+11]\n",
      "Training Loss: [2.1985971e+12]\n",
      "Validation Loss: [3.2018547e+11]\n",
      "Training Loss: [2.1932633e+12]\n",
      "Validation Loss: [3.1377257e+11]\n",
      "Training Loss: [2.1901794e+12]\n",
      "Validation Loss: [3.099206e+11]\n",
      "Training Loss: [2.1879527e+12]\n",
      "Validation Loss: [3.066774e+11]\n",
      "Training Loss: [2.1862115e+12]\n",
      "Validation Loss: [3.0376975e+11]\n",
      "Training Loss: [2.1849094e+12]\n",
      "Validation Loss: [3.01166e+11]\n",
      "Training Loss: [2.1839024e+12]\n",
      "Validation Loss: [2.987915e+11]\n",
      "Training Loss: [2.1830916e+12]\n",
      "Validation Loss: [2.965277e+11]\n",
      "Training Loss: [2.1823934e+12]\n",
      "Validation Loss: [2.9404332e+11]\n",
      "Training Loss: [2.1814591e+12]\n",
      "Validation Loss: [2.913005e+11]\n",
      "Training Loss: [2.1805977e+12]\n",
      "Validation Loss: [2.8902113e+11]\n",
      "Training Loss: [2.1798663e+12]\n",
      "Validation Loss: [2.8716197e+11]\n",
      "Training Loss: [2.1792543e+12]\n",
      "Validation Loss: [2.855083e+11]\n",
      "Training Loss: [2.1787401e+12]\n",
      "Validation Loss: [2.839929e+11]\n",
      "Training Loss: [2.1782997e+12]\n",
      "Validation Loss: [2.8255257e+11]\n",
      "Training Loss: [2.1779271e+12]\n",
      "Validation Loss: [2.8120577e+11]\n",
      "Training Loss: [2.1776005e+12]\n",
      "Validation Loss: [2.7997913e+11]\n",
      "Training Loss: [2.1773181e+12]\n",
      "Validation Loss: [2.7882635e+11]\n",
      "Training Loss: [2.1770585e+12]\n",
      "Validation Loss: [2.776504e+11]\n",
      "average: 105.24391453 ms,   min: 98.221028 ms,   max: 114.634849 ms\n",
      "elapsed time: 21.509118421 s\n"
     ]
    }
   ],
   "source": [
    "var currentDenseLayer: ModelParameter = carPriceLayer\n",
    "let trialsHyperParameter = HyperParameter(learningRate: 1e-1)\n",
    "withTime {\n",
    "    var trial = 0\n",
    "    timeTrials(trials: 200) { \n",
    "        var accumulatedTrainingLoss = TensorFloat([0])\n",
    "        var trainingItems = TensorFloat([0])\n",
    "        for batch in usedCarDataBunch.trainingDataset {\n",
    "            let (alexYHat, alexLayer) = currentDenseLayer.forwardPass(inputTensor: batch.features)\n",
    "            \n",
    "            let (loss, lossGradientSupplier) = meanSquaredErrorAndGradient(yHat: alexYHat, \n",
    "                                                                           y:batch.labels.expandingShape(at: 1))\n",
    "            accumulatedTrainingLoss += loss\n",
    "            trainingItems += 1\n",
    "            \n",
    "            let (ddxAlexLayer, enhancedLayer) = alexLayer.backwardPass(ddx: lossGradientSupplier(), \n",
    "                                                                       hyperParameters: trialsHyperParameter)\n",
    "            currentDenseLayer = enhancedLayer   \n",
    "        }\n",
    "        \n",
    "        \n",
    "        var accumulatedValidationLoss = TensorFloat([0])\n",
    "        var validationItems = TensorFloat([0])\n",
    "        for validationBatch in usedCarDataBunch.validationDataset {\n",
    "            let (validationLoss, _) = meanSquaredErrorAndGradient(yHat: currentDenseLayer.apply(validationBatch.features), \n",
    "                                                                  y: validationBatch.labels.expandingShape(at: 1))\n",
    "            \n",
    "            accumulatedValidationLoss += validationLoss\n",
    "            validationItems += 1\n",
    "        }\n",
    "        \n",
    "        if(trial % 10 == 0) {\n",
    "            print(\"Training Loss: \\(accumulatedTrainingLoss/trainingItems)\")\n",
    "            print(\"Validation Loss: \\(accumulatedValidationLoss/validationItems)\")   \n",
    "        }\n",
    "        trial += 1\n",
    "    }\n",
    "}"
   ]
  },
  {
   "cell_type": "code",
   "execution_count": 36,
   "metadata": {},
   "outputs": [
    {
     "name": "stdout",
     "output_type": "stream",
     "text": [
      "success\r\n"
     ]
    }
   ],
   "source": [
    "exportSchwiftyNotebook(notebookName: \"Layer_Refined\")"
   ]
  },
  {
   "cell_type": "code",
   "execution_count": null,
   "metadata": {},
   "outputs": [],
   "source": []
  }
 ],
 "metadata": {
  "kernelspec": {
   "display_name": "Swift",
   "language": "swift",
   "name": "swift"
  },
  "language_info": {
   "file_extension": ".swift",
   "mimetype": "text/x-swift",
   "name": "swift",
   "version": ""
  }
 },
 "nbformat": 4,
 "nbformat_minor": 2
}
