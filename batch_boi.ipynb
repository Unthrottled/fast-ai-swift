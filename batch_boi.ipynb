{
 "cells": [
  {
   "cell_type": "code",
   "execution_count": 1,
   "metadata": {},
   "outputs": [
    {
     "name": "stdout",
     "output_type": "stream",
     "text": [
      "Installing packages:\n",
      "\t.package(path: \"/home/ubuntu/workspace/fast-ai-swift/SchwiftyNotebook_auto_diffy\")\n",
      "\t\tSchwiftyNotebook_auto_diffy\n",
      "With SwiftPM flags: []\n",
      "Working in: /tmp/tmp81k1ayqp/swift-install\n",
      "warning: /home/ubuntu/swift/usr/bin/swiftc: /home/ubuntu/anaconda3/envs/swift-env/lib/libuuid.so.1: no version information available (required by /home/ubuntu/swift/usr/bin/swiftc)\n",
      "/home/ubuntu/swift/usr/bin/swift: /home/ubuntu/anaconda3/envs/swift-env/lib/libuuid.so.1: no version information available (required by /home/ubuntu/swift/usr/bin/swift)\n",
      "warning: /home/ubuntu/swift/usr/bin/swiftc: /home/ubuntu/anaconda3/envs/swift-env/lib/libuuid.so.1: no version information available (required by /home/ubuntu/swift/usr/bin/swiftc)\n",
      "/home/ubuntu/swift/usr/bin/swift: /home/ubuntu/anaconda3/envs/swift-env/lib/libuuid.so.1: no version information available (required by /home/ubuntu/swift/usr/bin/swift)\n",
      "warning: /home/ubuntu/swift/usr/bin/swiftc: /home/ubuntu/anaconda3/envs/swift-env/lib/libuuid.so.1: no version information available (required by /home/ubuntu/swift/usr/bin/swiftc)\n",
      "/home/ubuntu/swift/usr/bin/swift: /home/ubuntu/anaconda3/envs/swift-env/lib/libuuid.so.1: no version information available (required by /home/ubuntu/swift/usr/bin/swift)\n",
      "warning: /home/ubuntu/swift/usr/bin/swiftc: /home/ubuntu/anaconda3/envs/swift-env/lib/libuuid.so.1: no version information available (required by /home/ubuntu/swift/usr/bin/swiftc)\n",
      "/home/ubuntu/swift/usr/bin/swift: /home/ubuntu/anaconda3/envs/swift-env/lib/libuuid.so.1: no version information available (required by /home/ubuntu/swift/usr/bin/swift)\n",
      "warning: /home/ubuntu/swift/usr/bin/swiftc: /home/ubuntu/anaconda3/envs/swift-env/lib/libuuid.so.1: no version information available (required by /home/ubuntu/swift/usr/bin/swiftc)\n",
      "/home/ubuntu/swift/usr/bin/swift: /home/ubuntu/anaconda3/envs/swift-env/lib/libuuid.so.1: no version information available (required by /home/ubuntu/swift/usr/bin/swift)\n",
      "warning: /home/ubuntu/swift/usr/bin/swiftc: /home/ubuntu/anaconda3/envs/swift-env/lib/libuuid.so.1: no version information available (required by /home/ubuntu/swift/usr/bin/swiftc)\n",
      "/home/ubuntu/swift/usr/bin/swift: /home/ubuntu/anaconda3/envs/swift-env/lib/libuuid.so.1: no version information available (required by /home/ubuntu/swift/usr/bin/swift)\n",
      "warning: /home/ubuntu/swift/usr/bin/swiftc: /home/ubuntu/anaconda3/envs/swift-env/lib/libuuid.so.1: no version information available (required by /home/ubuntu/swift/usr/bin/swiftc)\n",
      "/home/ubuntu/swift/usr/bin/swift: /home/ubuntu/anaconda3/envs/swift-env/lib/libuuid.so.1: no version information available (required by /home/ubuntu/swift/usr/bin/swift)\n",
      "warning: /home/ubuntu/swift/usr/bin/swiftc: /home/ubuntu/anaconda3/envs/swift-env/lib/libuuid.so.1: no version information available (required by /home/ubuntu/swift/usr/bin/swiftc)\n",
      "/home/ubuntu/swift/usr/bin/swift: /home/ubuntu/anaconda3/envs/swift-env/lib/libuuid.so.1: no version information available (required by /home/ubuntu/swift/usr/bin/swift)\n",
      "/home/ubuntu/swift/usr/bin/swiftc: /home/ubuntu/anaconda3/envs/swift-env/lib/libuuid.so.1: no version information available (required by /home/ubuntu/swift/usr/bin/swiftc)\n",
      "/home/ubuntu/swift/usr/bin/swiftc: /home/ubuntu/anaconda3/envs/swift-env/lib/libuuid.so.1: no version information available (required by /home/ubuntu/swift/usr/bin/swiftc)[1/2] Compiling jupyterInstalledPackages jupyterInstalledPackages.swift\n",
      "/home/ubuntu/swift/usr/bin/swift: /home/ubuntu/anaconda3/envs/swift-env/lib/libuuid.so.1: no version information available (required by /home/ubuntu/swift/usr/bin/swift)\n",
      "[2/3] Merging module jupyterInstalledPackages\n",
      "/home/ubuntu/swift/usr/bin/swift: /home/ubuntu/anaconda3/envs/swift-env/lib/libuuid.so.1: no version information available (required by /home/ubuntu/swift/usr/bin/swift)\n",
      "Initializing Swift...\n",
      "Installation complete!\n"
     ]
    }
   ],
   "source": [
    "%install-location $cwd/swift-install\n",
    "%install '.package(path: \"$cwd/SchwiftyNotebook_auto_diffy\")' SchwiftyNotebook_auto_diffy"
   ]
  },
  {
   "cell_type": "code",
   "execution_count": 2,
   "metadata": {},
   "outputs": [],
   "source": [
    "//export\n",
    "import TensorFlow\n",
    "import SchwiftyNotebook_auto_diffy"
   ]
  },
  {
   "cell_type": "code",
   "execution_count": 3,
   "metadata": {},
   "outputs": [],
   "source": [
    "import Python\n",
    "%include \"EnableIPythonDisplay.swift\"\n",
    "IPythonDisplay.shell.enable_matplotlib(\"inline\")\n",
    "\n",
    "public let plotter = Python.import(\"matplotlib.pyplot\")"
   ]
  },
  {
   "cell_type": "markdown",
   "metadata": {},
   "source": [
    "# Data Setup"
   ]
  },
  {
   "cell_type": "code",
   "execution_count": 6,
   "metadata": {},
   "outputs": [],
   "source": [
    "let carDataYCSV = \"/home/ubuntu/.machine-learning/data/car_stuff/craigslist_labels.csv\"\n",
    "let carDataXCSV = \"/home/ubuntu/.machine-learning/data/car_stuff/craigslist_x_data.csv\""
   ]
  },
  {
   "cell_type": "code",
   "execution_count": 9,
   "metadata": {},
   "outputs": [
    {
     "name": "stdout",
     "output_type": "stream",
     "text": [
      ",city,manufacturer,cylinders,fuel,paint_color,county_name,state_name,year,odometer,weather\r\n",
      "\r\n",
      "0,0,0,0,0,0,0,0,2010.0,43600.0,38.0\r\n",
      "\r\n",
      "1,0,1,1,0,1,1,0,1999.0,-1.0,38.0\r\n",
      "\r\n"
     ]
    }
   ],
   "source": [
    "let craigslistVehiclesFull = Python.open(carDataXCSV)\n",
    "print(Python.next(craigslistVehiclesFull))\n",
    "print(Python.next(craigslistVehiclesFull))\n",
    "print(Python.next(craigslistVehiclesFull))"
   ]
  },
  {
   "cell_type": "code",
   "execution_count": 11,
   "metadata": {},
   "outputs": [
    {
     "name": "stdout",
     "output_type": "stream",
     "text": [
      "0,11900\r\n",
      "\r\n",
      "1,1515\r\n",
      "\r\n",
      "2,17550\r\n",
      "\r\n"
     ]
    }
   ],
   "source": [
    "let craigslistVehiclesLabel = Python.open(carDataYCSV)\n",
    "print(Python.next(craigslistVehiclesLabel))\n",
    "print(Python.next(craigslistVehiclesLabel))\n",
    "print(Python.next(craigslistVehiclesLabel))"
   ]
  },
  {
   "cell_type": "code",
   "execution_count": 10,
   "metadata": {},
   "outputs": [],
   "source": [
    "public let numpy = Python.import(\"numpy\")\n",
    "public let pandas = Python.import(\"pandas\")"
   ]
  },
  {
   "cell_type": "code",
   "execution_count": 13,
   "metadata": {},
   "outputs": [
    {
     "data": {
      "text/plain": [
       "▿ 10 elements\n",
       "  - 0 : 1\n",
       "  - 1 : 2\n",
       "  - 2 : 3\n",
       "  - 3 : 4\n",
       "  - 4 : 5\n",
       "  - 5 : 6\n",
       "  - 6 : 7\n",
       "  - 7 : 8\n",
       "  - 8 : 9\n",
       "  - 9 : 10\n"
      ]
     },
     "execution_count": 13,
     "metadata": {},
     "output_type": "execute_result"
    }
   ],
   "source": [
    "Array(1...10)"
   ]
  },
  {
   "cell_type": "code",
   "execution_count": 17,
   "metadata": {},
   "outputs": [],
   "source": [
    "let carFeatures = numpy.loadtxt(carDataXCSV, \n",
    "                                delimiter: \",\", \n",
    "                                skiprows: 1, \n",
    "                                usecols: Array(1...10), \n",
    "                                dtype: Float.numpyScalarTypes.first!)"
   ]
  },
  {
   "cell_type": "code",
   "execution_count": 20,
   "metadata": {},
   "outputs": [],
   "source": [
    "let featuresTensor = Tensor<Float>(numpy: carFeatures) "
   ]
  },
  {
   "cell_type": "code",
   "execution_count": 23,
   "metadata": {},
   "outputs": [
    {
     "data": {
      "text/plain": [
       "▿ [1723065, 10]\n",
       "  ▿ dimensions : 2 elements\n",
       "    - 0 : 1723065\n",
       "    - 1 : 10\n"
      ]
     },
     "execution_count": 23,
     "metadata": {},
     "output_type": "execute_result"
    }
   ],
   "source": [
    "featuresTensor!.shape"
   ]
  },
  {
   "cell_type": "code",
   "execution_count": 24,
   "metadata": {},
   "outputs": [],
   "source": [
    "let carPrices = numpy.loadtxt(carDataYCSV, \n",
    "                                delimiter: \",\", \n",
    "                                skiprows: 0, \n",
    "                                usecols: [1], \n",
    "                                dtype: Float.numpyScalarTypes.first!)"
   ]
  },
  {
   "cell_type": "code",
   "execution_count": 25,
   "metadata": {},
   "outputs": [],
   "source": [
    "let featuresTensor = Tensor<Float>(numpy: carPrices) "
   ]
  },
  {
   "cell_type": "code",
   "execution_count": 26,
   "metadata": {},
   "outputs": [
    {
     "data": {
      "text/plain": [
       "▿ Optional<TensorShape>\n",
       "  ▿ some : [1723065]\n",
       "    ▿ dimensions : 1 element\n",
       "      - 0 : 1723065\n"
      ]
     },
     "execution_count": 26,
     "metadata": {},
     "output_type": "execute_result"
    }
   ],
   "source": [
    "featuresTensor?.shape"
   ]
  },
  {
   "cell_type": "code",
   "execution_count": 36,
   "metadata": {},
   "outputs": [],
   "source": [
    "let batchSize = 1028\n",
    "\n",
    "struct CarBatch {\n",
    "    let features: TensorFloat\n",
    "    let labels: TensorFloat\n",
    "}\n",
    "\n",
    "extension CarBatch: TensorGroup {\n",
    "    \n",
    "    public static var _typeList: [TensorDataType] = [\n",
    "        Float.tensorFlowDataType,\n",
    "        Float.tensorFlowDataType\n",
    "    ]\n",
    "    public static var _unknownShapeList: [TensorShape?] = [nil, nil]\n",
    "    public var _tensorHandles: [_AnyTensorHandle] {\n",
    "        fatalError(\"unimplemented\")\n",
    "    }\n",
    "    public func _unpackTensorHandles(into address: UnsafeMutablePointer<CTensorHandle>?) {\n",
    "        address!.advanced(by: 0).initialize(to: features.handle._cTensorHandle)\n",
    "        address!.advanced(by: 1).initialize(to: labels.handle._cTensorHandle)\n",
    "    }\n",
    "    public init(_owning tensorHandles: UnsafePointer<CTensorHandle>?) {\n",
    "        features = Tensor(handle: TensorHandle(_owning: tensorHandles!.advanced(by: 0).pointee))\n",
    "        labels = Tensor(handle: TensorHandle(_owning: tensorHandles!.advanced(by: 1).pointee))\n",
    "    }\n",
    "    public init<C: RandomAccessCollection>(_handles: C) where C.Element: _AnyTensorHandle {\n",
    "        fatalError(\"unimplemented\")\n",
    "    }\n",
    "}"
   ]
  },
  {
   "cell_type": "code",
   "execution_count": 37,
   "metadata": {},
   "outputs": [],
   "source": [
    "extension Dataset where Element == CarBatch {\n",
    "    init(featuresTensor: TensorFloat, labelsTensor: TensorFloat) {\n",
    "        self.init(elements: CarBatch(features: featuresTensor, \n",
    "                                     labels: labelsTensor))\n",
    "    }\n",
    "}"
   ]
  },
  {
   "cell_type": "code",
   "execution_count": null,
   "metadata": {},
   "outputs": [],
   "source": []
  }
 ],
 "metadata": {
  "kernelspec": {
   "display_name": "Swift",
   "language": "swift",
   "name": "swift"
  },
  "language_info": {
   "file_extension": ".swift",
   "mimetype": "text/x-swift",
   "name": "swift",
   "version": ""
  }
 },
 "nbformat": 4,
 "nbformat_minor": 2
}
